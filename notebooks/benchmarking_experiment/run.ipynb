{
 "cells": [
  {
   "cell_type": "code",
   "execution_count": 45,
   "metadata": {},
   "outputs": [],
   "source": [
    "from plotly import graph_objects as go\n",
    "import torch \n",
    "from mdgp.utils import sphere_meshgrid\n",
    "\n",
    "\n",
    "def base_trace(num_meshgrid=50): \n",
    "    meshgrid = sphere_meshgrid(num_meshgrid, num_meshgrid)\n",
    "    x_meshgrid, y_meshgrid, z_meshgrid = meshgrid.unbind(-1)\n",
    "    grey_sphere_trace = go.Surface(x=x_meshgrid, y=y_meshgrid, z=z_meshgrid, colorscale='Greys', showscale=False)\n",
    "    return grey_sphere_trace\n",
    "\n",
    "\n",
    "def observations_trace(x, y=None):\n",
    "    x_scatter, y_scatter, z_scatter = x.mul(1.02).unbind(-1)\n",
    "    if y is None:\n",
    "        color_scatter = torch.zeros(x.shape[0])\n",
    "    else: \n",
    "        color_scatter = y.squeeze(-1)\n",
    "    scatter_trace = go.Scatter3d(x=x_scatter, y=y_scatter, z=z_scatter, mode='markers', marker=dict(size=5, color=color_scatter, colorscale='Viridis'))\n",
    "    return scatter_trace\n",
    "\n",
    "\n",
    "def prediction_trace(prediction_function, num_meshgrid=50):\n",
    "    meshgrid = sphere_meshgrid(num_meshgrid, num_meshgrid)\n",
    "    x_meshgrid, y_meshgrid, z_meshgrid = meshgrid.unbind(-1)\n",
    "    y = prediction_function(meshgrid.view(-1, meshgrid.shape[-1])).view_as(x_meshgrid)\n",
    "    sphere_trace = go.Surface(x=x_meshgrid, y=y_meshgrid, z=z_meshgrid, surfacecolor=y, colorscale='Viridis', showscale=True)\n",
    "    return sphere_trace\n",
    "\n",
    "\n",
    "def target_trace(target_function, num_meshgrid=50):\n",
    "    # 1. Compute y by evaluating target function on meshgrid\n",
    "    meshgrid = sphere_meshgrid(num_meshgrid, num_meshgrid)\n",
    "    x_meshgrid, y_meshgrid, z_meshgrid = meshgrid.unbind(-1)\n",
    "    y = torch.zeros_like(x_meshgrid)\n",
    "    for i in range(num_meshgrid): \n",
    "        for j in range(num_meshgrid): \n",
    "            y[i, j] = target_function(meshgrid[i, j])\n",
    "    color_meshgrid = y.squeeze(-1)\n",
    "\n",
    "    # 2. Plot a sphere colored by y\n",
    "    sphere_trace = go.Surface(x=x_meshgrid, y=y_meshgrid, z=z_meshgrid, surfacecolor=color_meshgrid, colorscale='Viridis', showscale=True)\n",
    "    return sphere_trace\n",
    "\n",
    "\n",
    "def plot_traces(*traces): \n",
    "    fig = go.Figure()\n",
    "    fig.add_traces([trace for trace in traces if trace is not None])\n",
    "    return fig\n",
    "\n",
    "\n",
    "def plot_observations(x, y=None, num_meshgrid=50): \n",
    "    # 1. Plot a grey sphere with meshgrid\n",
    "    grey_sphere_trace = base_trace(num_meshgrid=num_meshgrid)\n",
    "\n",
    "    # 2. Plot a scatter plot of observations slightly above the sphere\n",
    "    scatter_trace = observations_trace(x, y=None)\n",
    "\n",
    "    # 3. Add all traces to figure\n",
    "    fig = plot_traces(grey_sphere_trace, scatter_trace)\n",
    "    return fig\n",
    "\n",
    "\n",
    "def plot_prediction(prediction_function, x=None, y=None, num_meshgrid=50):\n",
    "    # 1. Plot a sphere colored by prediction function \n",
    "    sphere_trace = prediction_trace(prediction_function, num_meshgrid=num_meshgrid)\n",
    "\n",
    "    # 2. (Optional) Plot observations slightly above the sphere\n",
    "    if x is not None and y is not None: \n",
    "        scatter_trace = observations_trace(x, y)\n",
    "    else: \n",
    "        scatter_trace = None\n",
    "\n",
    "    # 3. Add all traces to figure\n",
    "    fig = plot_traces(sphere_trace, scatter_trace)\n",
    "    return fig\n",
    "\n",
    "def plot_target(target_function, num_meshgrid=50): \n",
    "    # 1. Plot a sphere colored by target function\n",
    "    sphere_trace = target_trace(target_function, num_meshgrid=num_meshgrid)\n",
    "\n",
    "    # 2. Add all traces to figure\n",
    "    fig = plot_traces(sphere_trace)\n",
    "    return fig "
   ]
  },
  {
   "cell_type": "code",
   "execution_count": 46,
   "metadata": {},
   "outputs": [],
   "source": [
    "import geometric_kernels.torch\n",
    "import os \n",
    "from argparse import ArgumentParser\n",
    "from torch import set_default_dtype, float64\n",
    "from torch.optim import Adam  \n",
    "from gpytorch.mlls import DeepApproximateMLL, VariationalELBO, ExactMarginalLogLikelihood\n",
    "from mdgp.experiment_utils.data import get_data \n",
    "from mdgp.experiment_utils.model import create_model\n",
    "from mdgp.experiment_utils.logging import CSVLogger, finalize \n",
    "from mdgp.experiment_utils.training import fit, test_step\n",
    "from mdgp.experiment_utils import ExperimentConfigReader, set_experiment_seed, ExperimentConfig\n",
    "\n",
    "\n",
    "def run_experiment(experiment_config: ExperimentConfig, dir_path: str, model=None):\n",
    "    print(f\"Running experiment with the config: {os.path.join(dir_path, experiment_config.file_name)}\")\n",
    "    # 0. Unpack arguments\n",
    "    model_args, data_args, training_args = experiment_config.model_arguments, experiment_config.data_arguments, experiment_config.training_arguments\n",
    "\n",
    "    # 1. Get data \n",
    "    train_inputs, train_targets, val_inputs, val_targets, test_inputs, test_targets = get_data(data_args=data_args)\n",
    "\n",
    "    # 2. Create model, criterion, and optimizer \n",
    "    if model is None:\n",
    "        model = create_model(model_args=model_args, train_x=train_inputs, train_y=train_targets)\n",
    "    if model_args.model_name != 'exact':\n",
    "        mll = DeepApproximateMLL(\n",
    "            VariationalELBO(likelihood=model.likelihood, model=model, num_data=data_args.num_train)\n",
    "        )\n",
    "        optimizer = Adam(model.parameters(), maximize=True, lr=0.01) # Maximize because we are working with ELBO not negative ELBO \n",
    "    else: \n",
    "        mll = ExactMarginalLogLikelihood(model.likelihood, model)\n",
    "        optimizer = Adam(model.parameters(), maximize=True, lr=0.01)\n",
    "\n",
    "    \n",
    "    # 4. Train and validate model\n",
    "    print(\"Training...\")\n",
    "    train_csv_logger = CSVLogger(root_dir=os.path.join(dir_path, 'train')) \n",
    "    val_csv_logger = CSVLogger(root_dir=os.path.join(dir_path, 'val')) \n",
    "    train_loggers = [train_csv_logger]\n",
    "    val_loggers = [val_csv_logger]\n",
    "    model = fit(model=model, optimizer=optimizer, criterion=mll, train_loggers=train_loggers,\n",
    "                val_loggers=val_loggers, train_inputs=train_inputs, train_targets=train_targets,\n",
    "                val_inputs=val_inputs, val_targets=val_targets, training_args=training_args)\n",
    "    \n",
    "    with torch.no_grad():\n",
    "        def get_mean(x):\n",
    "            if model_args.model_name == 'exact':\n",
    "                model.eval()\n",
    "                return model(x).mean\n",
    "            else:\n",
    "                model.eval()\n",
    "                return model(x, mean=True)\n",
    "        plot_prediction(get_mean, num_meshgrid=100).show()\n",
    "\n",
    "    # make sure logger files are saved\n",
    "    finalize(loggers=[*val_loggers, *train_loggers])\n",
    "\n",
    "    # # 5. Test model \n",
    "    print(\"Testing...\")\n",
    "    test_csv_logger = CSVLogger(root_dir=os.path.join(dir_path, 'test'))\n",
    "    test_loggers = [test_csv_logger]\n",
    "    test_metrics = test_step(model=model, inputs=test_inputs, targets=test_targets, sample_hidden=training_args.sample_hidden, \n",
    "                             loggers=test_loggers, train_targets=train_targets)\n",
    "    # make sure logger files are saved\n",
    "    finalize(loggers=test_loggers)\n",
    "    print(test_metrics)\n",
    "    print(\"Done!\")"
   ]
  },
  {
   "cell_type": "code",
   "execution_count": 47,
   "metadata": {},
   "outputs": [],
   "source": [
    "experiment_config = ExperimentConfig()\n",
    "experiment_config.model_arguments.model_name = 'exact'\n",
    "# experiment_config.model_arguments.project_to_tangent = 'intrinsic'\n",
    "# experiment_config.model_arguments.parametrised_frame = [] \n",
    "# experiment_config.model_arguments.outputscale_mean = 0.0\n",
    "# experiment_config.model_arguments.outputscale_std = 0.01\n",
    "# experiment_config.model_arguments.prior_class = 'normal'\n",
    "experiment_config.data_arguments.target_name = 'singular'\n",
    "experiment_config.data_arguments.num_test = 2000\n",
    "experiment_config.data_arguments.num_train = 800\n",
    "# experiment_config.model_arguments.optimize_nu = False \n",
    "# experiment_config.model_arguments.parametrised_frame = True\n",
    "dir_path = './'"
   ]
  },
  {
   "cell_type": "code",
   "execution_count": 48,
   "metadata": {},
   "outputs": [
    {
     "name": "stdout",
     "output_type": "stream",
     "text": [
      "False\n",
      "In create_model got model_args.parametrised_frame=False\n"
     ]
    }
   ],
   "source": [
    "model_args = experiment_config.model_arguments\n",
    "\n",
    "\n",
    "train_inputs, train_targets, val_inputs, val_targets, test_inputs, test_targets = get_data(data_args=experiment_config.data_arguments)\n",
    "print(model_args.parametrised_frame)\n",
    "\n",
    "model = create_model(model_args=model_args, train_x=train_inputs, train_y=train_targets)"
   ]
  },
  {
   "cell_type": "code",
   "execution_count": 44,
   "metadata": {},
   "outputs": [
    {
     "data": {
      "text/plain": [
       "Parameter containing:\n",
       "tensor([0., 0., 0.])"
      ]
     },
     "execution_count": 44,
     "metadata": {},
     "output_type": "execute_result"
    }
   ],
   "source": [
    "# model.hidden_layers[0].project_to_tangent.frame.get_normal_vector.sequential[0].bias = torch.nn.Parameter(torch.tensor([0.0, 0.0, 0.0]))\n",
    "# model.hidden_layers[0].project_to_tangent.frame.get_normal_vector.sequential[0].bias.requires_grad = False\n",
    "model.hidden_layers[0].project_to_tangent.frame.get_normal_vector.sequential[0].bias"
   ]
  },
  {
   "cell_type": "code",
   "execution_count": 49,
   "metadata": {},
   "outputs": [
    {
     "name": "stderr",
     "output_type": "stream",
     "text": [
      "INFO: Global seed set to 0\n",
      "INFO: Global seed set to 0\n"
     ]
    },
    {
     "name": "stdout",
     "output_type": "stream",
     "text": [
      "Running experiment with the config: ./config.json\n",
      "Training...\n"
     ]
    },
    {
     "name": "stderr",
     "output_type": "stream",
     "text": [
      "Fitting:   0%|          | 0/1000 [00:00<?, ?it/s]/home/kacperwyrwal/miniconda3/envs/mdgp_requirements_test7/lib/python3.11/site-packages/lightning/fabric/loggers/csv_logs.py:195: UserWarning:\n",
      "\n",
      "Experiment logs directory ./train exists and is not empty. Previous log files in this directory will be deleted when the new ones are saved!\n",
      "\n",
      "/home/kacperwyrwal/miniconda3/envs/mdgp_requirements_test7/lib/python3.11/site-packages/lightning/fabric/loggers/csv_logs.py:195: UserWarning:\n",
      "\n",
      "Experiment logs directory ./val exists and is not empty. Previous log files in this directory will be deleted when the new ones are saved!\n",
      "\n",
      "Fitting: 100%|██████████| 1000/1000 [01:41<00:00,  9.89it/s, elbo=1.61, nlpd=-2.07, smse=0.017]  \n"
     ]
    },
    {
     "ename": "",
     "evalue": "",
     "output_type": "error",
     "traceback": [
      "\u001b[1;31mThe Kernel crashed while executing code in the the current cell or a previous cell. Please review the code in the cell(s) to identify a possible cause of the failure. Click <a href='https://aka.ms/vscodeJupyterKernelCrash'>here</a> for more info. View Jupyter <a href='command:jupyter.viewOutput'>log</a> for further details."
     ]
    }
   ],
   "source": [
    "\n",
    "\n",
    "\n",
    "\n",
    "\n",
    "set_experiment_seed(experiment_config.seed)\n",
    "run_experiment(experiment_config=experiment_config, dir_path=dir_path, model=model)\n"
   ]
  },
  {
   "cell_type": "code",
   "execution_count": null,
   "metadata": {},
   "outputs": [],
   "source": []
  }
 ],
 "metadata": {
  "kernelspec": {
   "display_name": "mdgp_requirements_test7",
   "language": "python",
   "name": "python3"
  },
  "language_info": {
   "codemirror_mode": {
    "name": "ipython",
    "version": 3
   },
   "file_extension": ".py",
   "mimetype": "text/x-python",
   "name": "python",
   "nbconvert_exporter": "python",
   "pygments_lexer": "ipython3",
   "version": "3.11.5"
  },
  "orig_nbformat": 4
 },
 "nbformat": 4,
 "nbformat_minor": 2
}
