{
 "cells": [
  {
   "cell_type": "code",
   "execution_count": 1,
   "metadata": {},
   "outputs": [
    {
     "name": "stderr",
     "output_type": "stream",
     "text": [
      "INFO: Using pytorch backend\n",
      "/home/kacperwyrwal/miniconda3/envs/mdgp_requirements_test7/lib/python3.11/site-packages/tqdm/auto.py:21: TqdmWarning: IProgress not found. Please update jupyter and ipywidgets. See https://ipywidgets.readthedocs.io/en/stable/user_install.html\n",
      "  from .autonotebook import tqdm as notebook_tqdm\n",
      "INFO: Created a temporary directory at /tmp/tmpdfhmrn1y\n",
      "INFO: Writing /tmp/tmpdfhmrn1y/_remote_module_non_scriptable.py\n"
     ]
    }
   ],
   "source": [
    "import os \n",
    "os.environ['GEOMSTATS_BACKEND'] = 'pytorch'\n",
    "\n",
    "import geomstats._backend as gs \n",
    "import gpytorch\n",
    "\n",
    "import geometric_kernels.torch \n",
    "from mdgp.experiments.experiment_utils.reproducibility import ExperimentConfig"
   ]
  },
  {
   "cell_type": "code",
   "execution_count": 2,
   "metadata": {},
   "outputs": [],
   "source": [
    "config = ExperimentConfig()"
   ]
  },
  {
   "cell_type": "code",
   "execution_count": 10,
   "metadata": {},
   "outputs": [
    {
     "name": "stderr",
     "output_type": "stream",
     "text": [
      "/home/kacperwyrwal/miniconda3/envs/mdgp_requirements_test7/lib/python3.11/site-packages/scipy/cluster/vq.py:602: UserWarning: One of the clusters is empty. Re-run kmeans with a different initialization.\n",
      "  warnings.warn(\"One of the clusters is empty. \"\n",
      "/home/kacperwyrwal/miniconda3/envs/mdgp_requirements_test7/lib/python3.11/site-packages/scipy/cluster/vq.py:602: UserWarning: One of the clusters is empty. Re-run kmeans with a different initialization.\n",
      "  warnings.warn(\"One of the clusters is empty. \"\n",
      "/home/kacperwyrwal/miniconda3/envs/mdgp_requirements_test7/lib/python3.11/site-packages/mdgp/samplers/rff_sampler.py:25: UserWarning: To copy construct from a tensor, it is recommended to use sourceTensor.clone().detach() or sourceTensor.clone().detach().requires_grad_(True), rather than torch.tensor(sourceTensor).\n",
      "  self._num_features = self.compute_features(torch.tensor(self.base_kernel.space.random_point()[None])).shape[-1]\n"
     ]
    },
    {
     "data": {
      "text/plain": [
       "GeometricHeadDeepGP(\n",
       "  (hidden_layers): ModuleList(\n",
       "    (0): GeometricDeepGPLayer(\n",
       "      (variational_strategy): VariationalStrategy(\n",
       "        (_variational_distribution): CholeskyVariationalDistribution()\n",
       "      )\n",
       "      (mean_module): LinearMean()\n",
       "      (covar_module): ScaleKernel(\n",
       "        (base_kernel): _GeometricMaternKernel(\n",
       "          (raw_lengthscale_constraint): Positive()\n",
       "          (raw_nu_constraint): Positive()\n",
       "        )\n",
       "        (outputscale_prior): GammaPrior()\n",
       "        (raw_outputscale_constraint): Positive()\n",
       "      )\n",
       "      (sampler): PosteriorSampler(\n",
       "        (rff_sampler): RFFSampler(\n",
       "          (covar_module): ScaleKernel(\n",
       "            (base_kernel): _GeometricMaternKernel(\n",
       "              (raw_lengthscale_constraint): Positive()\n",
       "              (raw_nu_constraint): Positive()\n",
       "            )\n",
       "            (outputscale_prior): GammaPrior()\n",
       "            (raw_outputscale_constraint): Positive()\n",
       "          )\n",
       "          (base_kernel): _GeometricMaternKernel(\n",
       "            (raw_lengthscale_constraint): Positive()\n",
       "            (raw_nu_constraint): Positive()\n",
       "          )\n",
       "          (mean_module): LinearMean()\n",
       "        )\n",
       "        (vi_sampler): VISampler(\n",
       "          (variational_distribution): CholeskyVariationalDistribution()\n",
       "        )\n",
       "      )\n",
       "    )\n",
       "  )\n",
       "  (output_layer): EuclideanDeepGPLayer(\n",
       "    (variational_strategy): VariationalStrategy(\n",
       "      (_variational_distribution): CholeskyVariationalDistribution()\n",
       "    )\n",
       "    (mean_module): ConstantMean()\n",
       "    (covar_module): ScaleKernel(\n",
       "      (base_kernel): _EuclideanMaternKernel(\n",
       "        (raw_lengthscale_constraint): Positive()\n",
       "      )\n",
       "      (raw_outputscale_constraint): Positive()\n",
       "    )\n",
       "    (sampler): PosteriorSampler(\n",
       "      (rff_sampler): RFFSampler(\n",
       "        (covar_module): ScaleKernel(\n",
       "          (base_kernel): _EuclideanMaternKernel(\n",
       "            (raw_lengthscale_constraint): Positive()\n",
       "          )\n",
       "          (raw_outputscale_constraint): Positive()\n",
       "        )\n",
       "        (base_kernel): _EuclideanMaternKernel(\n",
       "          (raw_lengthscale_constraint): Positive()\n",
       "        )\n",
       "        (mean_module): ConstantMean()\n",
       "      )\n",
       "      (vi_sampler): VISampler(\n",
       "        (variational_distribution): CholeskyVariationalDistribution()\n",
       "      )\n",
       "    )\n",
       "  )\n",
       "  (likelihood): GaussianLikelihood(\n",
       "    (noise_covar): HomoskedasticNoise(\n",
       "      (raw_noise_constraint): GreaterThan(1.000E-04)\n",
       "    )\n",
       "  )\n",
       ")"
      ]
     },
     "execution_count": 10,
     "metadata": {},
     "output_type": "execute_result"
    }
   ],
   "source": [
    "from mdgp.experiments.experiment_utils import ModelArguments, create_model\n",
    "from mdgp.utils import sphere_uniform_grid\n",
    "from mdgp.models import initialize_kmeans\n",
    "\n",
    "\n",
    "x = sphere_uniform_grid(100)\n",
    "\n",
    "kmeans = initialize_kmeans(x, 60)\n",
    "create_model(ModelArguments(model_name='geometric_head', nu=0.5), train_x=x)"
   ]
  },
  {
   "cell_type": "code",
   "execution_count": 3,
   "metadata": {},
   "outputs": [],
   "source": [
    "config.to_json(\"../../experiment_tree_configs/benchmarking/\")"
   ]
  },
  {
   "cell_type": "code",
   "execution_count": 12,
   "metadata": {},
   "outputs": [],
   "source": [
    "# config_name = \"../../experiment_tree_configs/benchmarking/geometric_head_single.json\"\n",
    "# config_name = \"../../experiment_tree_configs/benchmarking/euclidean_single.json\"\n",
    "config_name = \"../../experiment_tree_configs/benchmarking/residual_geometric_single.json\"\n",
    "\n",
    "experiment_config = ExperimentConfig.from_json(config_name)\n",
    "# experiment_config = ExperimentConfig.from_json(\"../../experiment_tree_configs/benchmarking/residual_geometric_single.json\")"
   ]
  },
  {
   "cell_type": "code",
   "execution_count": 13,
   "metadata": {},
   "outputs": [],
   "source": [
    "import os \n",
    "from torch import set_default_dtype, float64\n",
    "from torch.optim import Adam  \n",
    "from gpytorch.mlls import DeepApproximateMLL, VariationalELBO, ExactMarginalLogLikelihood\n",
    "from mdgp.experiments.experiment_utils.data import get_data \n",
    "from mdgp.experiments.experiment_utils.model import create_model\n",
    "from mdgp.experiments.experiment_utils.logging import CSVLogger, finalize \n",
    "from mdgp.experiments.experiment_utils.training import fit, test_step\n",
    "from mdgp.experiments.experiment_utils import set_experiment_seed\n",
    "set_default_dtype(float64)"
   ]
  },
  {
   "cell_type": "code",
   "execution_count": 14,
   "metadata": {},
   "outputs": [],
   "source": [
    "def run_experiment(experiment_config, dir_path):\n",
    "    print(f\"Running experiment with the config: {os.path.join(dir_path, experiment_config.file_name)}\")\n",
    "    # 0. Unpack arguments\n",
    "    model_args, data_args, training_args = experiment_config.model_arguments, experiment_config.data_arguments, experiment_config.training_arguments\n",
    "\n",
    "    # 1. Get data \n",
    "    train_inputs, train_targets, val_inputs, val_targets, test_inputs, test_targets = get_data(data_args=data_args)\n",
    "\n",
    "    # 2. Create model, criterion, and optimizer \n",
    "    model = create_model(model_args=model_args, train_x=train_inputs, train_y=train_targets)\n",
    "    print(model)\n",
    "    if model_args.model_name == 'exact':\n",
    "        mll = ExactMarginalLogLikelihood(likelihood=model.likelihood, model=model)\n",
    "    else:\n",
    "        mll = DeepApproximateMLL(\n",
    "            VariationalELBO(likelihood=model.likelihood, model=model, num_data=data_args.num_train)\n",
    "        )\n",
    "    optimizer = Adam(model.parameters(), maximize=True, lr=0.01) # Maximize because we are working with ELBO not negative ELBO \n",
    "    \n",
    "    # 4. Train and validate model\n",
    "    print(\"Training...\")\n",
    "    train_csv_logger = CSVLogger(root_dir=os.path.join(dir_path, 'train')) \n",
    "    val_csv_logger = CSVLogger(root_dir=os.path.join(dir_path, 'val')) \n",
    "    train_loggers = [train_csv_logger]\n",
    "    val_loggers = [val_csv_logger]\n",
    "    model = fit(model=model, optimizer=optimizer, criterion=mll, train_loggers=train_loggers, \n",
    "                val_loggers=val_loggers, train_inputs=train_inputs, train_targets=train_targets,\n",
    "                val_inputs=val_inputs, val_targets=val_targets, training_args=training_args)\n",
    "\n",
    "    # make sure logger files are saved\n",
    "    finalize(loggers=[*val_loggers, *train_loggers])\n",
    "\n",
    "    # # 5. Test model \n",
    "    print(\"Testing...\")\n",
    "    test_csv_logger = CSVLogger(root_dir=os.path.join(dir_path, 'test'))\n",
    "    test_loggers = [test_csv_logger]\n",
    "    test_metrics = test_step(model=model, inputs=test_inputs, targets=test_targets, sample_hidden=training_args.sample_hidden, \n",
    "                             loggers=test_loggers, train_targets=train_targets)\n",
    "    # make sure logger files are saved\n",
    "    finalize(loggers=test_loggers)\n",
    "    print(test_metrics)\n",
    "    print(\"Done!\")\n"
   ]
  },
  {
   "cell_type": "code",
   "execution_count": 15,
   "metadata": {},
   "outputs": [
    {
     "name": "stderr",
     "output_type": "stream",
     "text": [
      "INFO: Global seed set to 2\n",
      "INFO: Global seed set to 2\n",
      "/home/kacperwyrwal/miniconda3/envs/mdgp_requirements_test7/lib/python3.11/site-packages/mdgp/samplers/rff_sampler.py:25: UserWarning: To copy construct from a tensor, it is recommended to use sourceTensor.clone().detach() or sourceTensor.clone().detach().requires_grad_(True), rather than torch.tensor(sourceTensor).\n",
      "  self._num_features = self.compute_features(torch.tensor(self.base_kernel.space.random_point()[None])).shape[-1]\n"
     ]
    },
    {
     "name": "stdout",
     "output_type": "stream",
     "text": [
      "Running experiment with the config: ./residual_geometric_single.json\n",
      "ResidualGeometricDeepGP(\n",
      "  (hidden_layers): ModuleList(\n",
      "    (0-1): 2 x ManifoldToManifoldDeepGPLayer(\n",
      "      (gp): GeometricDeepGPLayer(\n",
      "        (variational_strategy): VariationalStrategy(\n",
      "          (_variational_distribution): CholeskyVariationalDistribution()\n",
      "        )\n",
      "        (mean_module): ZeroMean()\n",
      "        (covar_module): ScaleKernel(\n",
      "          (base_kernel): _GeometricMaternKernel(\n",
      "            (raw_lengthscale_constraint): Positive()\n",
      "            (raw_nu_constraint): Positive()\n",
      "          )\n",
      "          (outputscale_prior): GammaPrior()\n",
      "          (raw_outputscale_constraint): Positive()\n",
      "        )\n",
      "        (sampler): PosteriorSampler(\n",
      "          (rff_sampler): RFFSampler(\n",
      "            (covar_module): ScaleKernel(\n",
      "              (base_kernel): _GeometricMaternKernel(\n",
      "                (raw_lengthscale_constraint): Positive()\n",
      "                (raw_nu_constraint): Positive()\n",
      "              )\n",
      "              (outputscale_prior): GammaPrior()\n",
      "              (raw_outputscale_constraint): Positive()\n",
      "            )\n",
      "            (base_kernel): _GeometricMaternKernel(\n",
      "              (raw_lengthscale_constraint): Positive()\n",
      "              (raw_nu_constraint): Positive()\n",
      "            )\n",
      "            (mean_module): ZeroMean()\n",
      "          )\n",
      "          (vi_sampler): VISampler(\n",
      "            (variational_distribution): CholeskyVariationalDistribution()\n",
      "          )\n",
      "        )\n",
      "      )\n",
      "      (to_tangent): ToTangent()\n",
      "      (tangent_to_manifold): Exp()\n",
      "    )\n",
      "  )\n",
      "  (output_layer): GeometricDeepGPLayer(\n",
      "    (variational_strategy): VariationalStrategy(\n",
      "      (_variational_distribution): CholeskyVariationalDistribution()\n",
      "    )\n",
      "    (mean_module): ConstantMean()\n",
      "    (covar_module): ScaleKernel(\n",
      "      (base_kernel): _GeometricMaternKernel(\n",
      "        (raw_lengthscale_constraint): Positive()\n",
      "        (raw_nu_constraint): Positive()\n",
      "      )\n",
      "      (raw_outputscale_constraint): Positive()\n",
      "    )\n",
      "    (sampler): PosteriorSampler(\n",
      "      (rff_sampler): RFFSampler(\n",
      "        (covar_module): ScaleKernel(\n",
      "          (base_kernel): _GeometricMaternKernel(\n",
      "            (raw_lengthscale_constraint): Positive()\n",
      "            (raw_nu_constraint): Positive()\n",
      "          )\n",
      "          (raw_outputscale_constraint): Positive()\n",
      "        )\n",
      "        (base_kernel): _GeometricMaternKernel(\n",
      "          (raw_lengthscale_constraint): Positive()\n",
      "          (raw_nu_constraint): Positive()\n",
      "        )\n",
      "        (mean_module): ConstantMean()\n",
      "      )\n",
      "      (vi_sampler): VISampler(\n",
      "        (variational_distribution): CholeskyVariationalDistribution()\n",
      "      )\n",
      "    )\n",
      "  )\n",
      "  (likelihood): GaussianLikelihood(\n",
      "    (noise_covar): HomoskedasticNoise(\n",
      "      (raw_noise_constraint): GreaterThan(1.000E-04)\n",
      "    )\n",
      "  )\n",
      ")\n",
      "Training...\n"
     ]
    },
    {
     "name": "stderr",
     "output_type": "stream",
     "text": [
      "Fitting:   0%|          | 0/1000 [00:00<?, ?it/s]/home/kacperwyrwal/miniconda3/envs/mdgp_requirements_test7/lib/python3.11/site-packages/lightning/fabric/loggers/csv_logs.py:195: UserWarning: Experiment logs directory ./train exists and is not empty. Previous log files in this directory will be deleted when the new ones are saved!\n",
      "  rank_zero_warn(\n"
     ]
    },
    {
     "ename": "",
     "evalue": "",
     "output_type": "error",
     "traceback": [
      "\u001b[1;31mThe Kernel crashed while executing code in the the current cell or a previous cell. Please review the code in the cell(s) to identify a possible cause of the failure. Click <a href='https://aka.ms/vscodeJupyterKernelCrash'>here</a> for more info. View Jupyter <a href='command:jupyter.viewOutput'>log</a> for further details."
     ]
    }
   ],
   "source": [
    "set_experiment_seed(2)\n",
    "\n",
    "run_experiment(experiment_config=experiment_config, dir_path='./')"
   ]
  },
  {
   "cell_type": "code",
   "execution_count": 11,
   "metadata": {},
   "outputs": [],
   "source": [
    "experiment_config.model_arguments.output_dims = 2\n",
    "experiment_config.model_arguments.model_name = 'exact'"
   ]
  },
  {
   "cell_type": "code",
   "execution_count": 12,
   "metadata": {},
   "outputs": [
    {
     "ename": "TypeError",
     "evalue": "GeometricExactGP.__init__() got an unexpected keyword argument 'output_dims'",
     "output_type": "error",
     "traceback": [
      "\u001b[0;31m---------------------------------------------------------------------------\u001b[0m",
      "\u001b[0;31mTypeError\u001b[0m                                 Traceback (most recent call last)",
      "Cell \u001b[0;32mIn[12], line 5\u001b[0m\n\u001b[1;32m      1\u001b[0m \u001b[38;5;28;01mfrom\u001b[39;00m \u001b[38;5;21;01mmdgp\u001b[39;00m\u001b[38;5;21;01m.\u001b[39;00m\u001b[38;5;21;01mutils\u001b[39;00m \u001b[38;5;28;01mimport\u001b[39;00m sphere_uniform_grid\n\u001b[1;32m      4\u001b[0m x \u001b[38;5;241m=\u001b[39m sphere_uniform_grid(\u001b[38;5;241m13\u001b[39m)\n\u001b[0;32m----> 5\u001b[0m model \u001b[38;5;241m=\u001b[39m \u001b[43mcreate_model\u001b[49m\u001b[43m(\u001b[49m\u001b[43mexperiment_config\u001b[49m\u001b[38;5;241;43m.\u001b[39;49m\u001b[43mmodel_arguments\u001b[49m\u001b[43m,\u001b[49m\u001b[43m \u001b[49m\u001b[43mx\u001b[49m\u001b[43m)\u001b[49m\n",
      "File \u001b[0;32m~/miniconda3/envs/mdgp_requirements_test7/lib/python3.11/site-packages/mdgp/experiments/experiment_utils/model.py:107\u001b[0m, in \u001b[0;36mcreate_model\u001b[0;34m(model_args, train_x, train_y)\u001b[0m\n\u001b[1;32m    105\u001b[0m \u001b[38;5;28;01mif\u001b[39;00m model_name \u001b[38;5;241m==\u001b[39m \u001b[38;5;124m'\u001b[39m\u001b[38;5;124mexact\u001b[39m\u001b[38;5;124m'\u001b[39m: \n\u001b[1;32m    106\u001b[0m     \u001b[38;5;28;01mfrom\u001b[39;00m \u001b[38;5;21;01mmdgp\u001b[39;00m\u001b[38;5;21;01m.\u001b[39;00m\u001b[38;5;21;01mmodels\u001b[39;00m\u001b[38;5;21;01m.\u001b[39;00m\u001b[38;5;21;01mexact_gps\u001b[39;00m \u001b[38;5;28;01mimport\u001b[39;00m GeometricExactGP\n\u001b[0;32m--> 107\u001b[0m     \u001b[38;5;28;01mreturn\u001b[39;00m \u001b[43mGeometricExactGP\u001b[49m\u001b[43m(\u001b[49m\n\u001b[1;32m    108\u001b[0m \u001b[43m        \u001b[49m\u001b[43mtrain_x\u001b[49m\u001b[38;5;241;43m=\u001b[39;49m\u001b[43mtrain_x\u001b[49m\u001b[43m,\u001b[49m\u001b[43m \u001b[49m\n\u001b[1;32m    109\u001b[0m \u001b[43m        \u001b[49m\u001b[43mtrain_y\u001b[49m\u001b[38;5;241;43m=\u001b[39;49m\u001b[43mtrain_y\u001b[49m\u001b[43m,\u001b[49m\n\u001b[1;32m    110\u001b[0m \u001b[43m        \u001b[49m\u001b[43mspace\u001b[49m\u001b[38;5;241;43m=\u001b[39;49m\u001b[43mspace\u001b[49m\u001b[43m,\u001b[49m\n\u001b[1;32m    111\u001b[0m \u001b[43m        \u001b[49m\u001b[43mnu\u001b[49m\u001b[38;5;241;43m=\u001b[39;49m\u001b[43mmodel_args\u001b[49m\u001b[38;5;241;43m.\u001b[39;49m\u001b[43mnu\u001b[49m\u001b[43m,\u001b[49m\n\u001b[1;32m    112\u001b[0m \u001b[43m        \u001b[49m\u001b[43mtrainable_nu\u001b[49m\u001b[38;5;241;43m=\u001b[39;49m\u001b[43mmodel_args\u001b[49m\u001b[38;5;241;43m.\u001b[39;49m\u001b[43moptimize_nu\u001b[49m\u001b[43m,\u001b[49m\n\u001b[1;32m    113\u001b[0m \u001b[43m        \u001b[49m\u001b[43mnum_eigenfunctions\u001b[49m\u001b[38;5;241;43m=\u001b[39;49m\u001b[43mmodel_args\u001b[49m\u001b[38;5;241;43m.\u001b[39;49m\u001b[43mnum_eigenfunctions\u001b[49m\u001b[43m,\u001b[49m\n\u001b[1;32m    114\u001b[0m \u001b[43m        \u001b[49m\u001b[43mnormalize\u001b[49m\u001b[38;5;241;43m=\u001b[39;49m\u001b[38;5;28;43;01mTrue\u001b[39;49;00m\u001b[43m,\u001b[49m\u001b[43m \u001b[49m\n\u001b[1;32m    115\u001b[0m \u001b[43m        \u001b[49m\u001b[43mmatern_gabo\u001b[49m\u001b[38;5;241;43m=\u001b[39;49m\u001b[38;5;28;43;01mFalse\u001b[39;49;00m\u001b[43m,\u001b[49m\u001b[43m \u001b[49m\n\u001b[1;32m    116\u001b[0m \u001b[43m        \u001b[49m\u001b[43moutput_dims\u001b[49m\u001b[38;5;241;43m=\u001b[39;49m\u001b[43mmodel_args\u001b[49m\u001b[38;5;241;43m.\u001b[39;49m\u001b[43moutput_dims\u001b[49m\u001b[43m,\u001b[49m\n\u001b[1;32m    117\u001b[0m \u001b[43m    \u001b[49m\u001b[43m)\u001b[49m\n\u001b[1;32m    118\u001b[0m \u001b[38;5;28;01mraise\u001b[39;00m \u001b[38;5;167;01mValueError\u001b[39;00m(\u001b[38;5;124mf\u001b[39m\u001b[38;5;124m'\u001b[39m\u001b[38;5;124mUnknown model name: \u001b[39m\u001b[38;5;132;01m{\u001b[39;00mmodel_name\u001b[38;5;132;01m}\u001b[39;00m\u001b[38;5;124m. Must be one of [\u001b[39m\u001b[38;5;124m\"\u001b[39m\u001b[38;5;124mresidual_geometric\u001b[39m\u001b[38;5;124m\"\u001b[39m\u001b[38;5;124m, \u001b[39m\u001b[38;5;124m\"\u001b[39m\u001b[38;5;124mresidual_euclidean\u001b[39m\u001b[38;5;124m\"\u001b[39m\u001b[38;5;124m, \u001b[39m\u001b[38;5;124m\"\u001b[39m\u001b[38;5;124meuclidean\u001b[39m\u001b[38;5;124m\"\u001b[39m\u001b[38;5;124m, \u001b[39m\u001b[38;5;124m\"\u001b[39m\u001b[38;5;124mgeometric_head\u001b[39m\u001b[38;5;124m\"\u001b[39m\u001b[38;5;124m, \u001b[39m\u001b[38;5;124m\"\u001b[39m\u001b[38;5;124mexact\u001b[39m\u001b[38;5;124m\"\u001b[39m\u001b[38;5;124m]\u001b[39m\u001b[38;5;124m'\u001b[39m)\n",
      "\u001b[0;31mTypeError\u001b[0m: GeometricExactGP.__init__() got an unexpected keyword argument 'output_dims'"
     ]
    }
   ],
   "source": [
    "from mdgp.utils import sphere_uniform_grid\n",
    "\n",
    "\n",
    "x = sphere_uniform_grid(13)\n",
    "model = create_model(experiment_config.model_arguments, x)"
   ]
  },
  {
   "cell_type": "code",
   "execution_count": 10,
   "metadata": {},
   "outputs": [
    {
     "data": {
      "text/plain": [
       "MultitaskMultivariateNormal(mean shape: torch.Size([10, 13, 2]))"
      ]
     },
     "execution_count": 10,
     "metadata": {},
     "output_type": "execute_result"
    }
   ],
   "source": [
    "model(x)"
   ]
  }
 ],
 "metadata": {
  "kernelspec": {
   "display_name": "mdgp_requirements_test7",
   "language": "python",
   "name": "python3"
  },
  "language_info": {
   "codemirror_mode": {
    "name": "ipython",
    "version": 3
   },
   "file_extension": ".py",
   "mimetype": "text/x-python",
   "name": "python",
   "nbconvert_exporter": "python",
   "pygments_lexer": "ipython3",
   "version": "3.11.5"
  }
 },
 "nbformat": 4,
 "nbformat_minor": 2
}
