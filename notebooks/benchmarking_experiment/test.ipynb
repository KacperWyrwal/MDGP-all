{
 "cells": [
  {
   "cell_type": "code",
   "execution_count": 1,
   "metadata": {},
   "outputs": [
    {
     "name": "stderr",
     "output_type": "stream",
     "text": [
      "INFO: Using pytorch backend\n",
      "/home/kacperwyrwal/miniconda3/envs/mdgp_requirements_test7/lib/python3.11/site-packages/tqdm/auto.py:21: TqdmWarning: IProgress not found. Please update jupyter and ipywidgets. See https://ipywidgets.readthedocs.io/en/stable/user_install.html\n",
      "  from .autonotebook import tqdm as notebook_tqdm\n",
      "INFO: Created a temporary directory at /tmp/tmpavow73fm\n",
      "INFO: Writing /tmp/tmpavow73fm/_remote_module_non_scriptable.py\n"
     ]
    }
   ],
   "source": [
    "import os \n",
    "os.environ['GEOMSTATS_BACKEND'] = 'pytorch'\n",
    "\n",
    "import geomstats._backend as gs \n",
    "import gpytorch\n",
    "\n",
    "import geometric_kernels.torch \n",
    "from mdgp.experiments.experiment_utils.reproducibility import ExperimentConfig"
   ]
  },
  {
   "cell_type": "code",
   "execution_count": 2,
   "metadata": {},
   "outputs": [],
   "source": [
    "config = ExperimentConfig()"
   ]
  },
  {
   "cell_type": "code",
   "execution_count": 3,
   "metadata": {},
   "outputs": [],
   "source": [
    "config.to_json(\"../../experiment_tree_configs/benchmarking/\")"
   ]
  },
  {
   "cell_type": "code",
   "execution_count": 4,
   "metadata": {},
   "outputs": [],
   "source": [
    "config_name = \"../../experiment_tree_configs/benchmarking/geometric_head_single.json\"\n",
    "# config_name = \"../../experiment_tree_configs/benchmarking/euclidean_single.json\"\n",
    "# config_name = \"../../experiment_tree_configs/benchmarking/residual_geometric_single.json\"\n",
    "\n",
    "experiment_config = ExperimentConfig.from_json(config_name)\n",
    "# experiment_config = ExperimentConfig.from_json(\"../../experiment_tree_configs/benchmarking/residual_geometric_single.json\")"
   ]
  },
  {
   "cell_type": "code",
   "execution_count": 5,
   "metadata": {},
   "outputs": [],
   "source": [
    "import os \n",
    "from torch import set_default_dtype, float64\n",
    "from torch.optim import Adam  \n",
    "from gpytorch.mlls import DeepApproximateMLL, VariationalELBO, ExactMarginalLogLikelihood\n",
    "from mdgp.experiments.experiment_utils.data import get_data \n",
    "from mdgp.experiments.experiment_utils.model import create_model\n",
    "from mdgp.experiments.experiment_utils.logging import CSVLogger, finalize \n",
    "from mdgp.experiments.experiment_utils.training import fit, test_step\n",
    "from mdgp.experiments.experiment_utils import set_experiment_seed\n",
    "set_default_dtype(float64)"
   ]
  },
  {
   "cell_type": "code",
   "execution_count": 6,
   "metadata": {},
   "outputs": [],
   "source": [
    "def run_experiment(experiment_config, dir_path):\n",
    "    print(f\"Running experiment with the config: {os.path.join(dir_path, experiment_config.file_name)}\")\n",
    "    # 0. Unpack arguments\n",
    "    model_args, data_args, training_args = experiment_config.model_arguments, experiment_config.data_arguments, experiment_config.training_arguments\n",
    "\n",
    "    # 1. Get data \n",
    "    train_inputs, train_targets, val_inputs, val_targets, test_inputs, test_targets = get_data(data_args=data_args)\n",
    "\n",
    "    # 2. Create model, criterion, and optimizer \n",
    "    model = create_model(model_args=model_args, train_x=train_inputs, train_y=train_targets)\n",
    "    print(model)\n",
    "    if model_args.model_name == 'exact':\n",
    "        mll = ExactMarginalLogLikelihood(likelihood=model.likelihood, model=model)\n",
    "    else:\n",
    "        mll = DeepApproximateMLL(\n",
    "            VariationalELBO(likelihood=model.likelihood, model=model, num_data=data_args.num_train)\n",
    "        )\n",
    "    optimizer = Adam(model.parameters(), maximize=True, lr=0.01) # Maximize because we are working with ELBO not negative ELBO \n",
    "    \n",
    "    # 4. Train and validate model\n",
    "    print(\"Training...\")\n",
    "    train_csv_logger = CSVLogger(root_dir=os.path.join(dir_path, 'train')) \n",
    "    val_csv_logger = CSVLogger(root_dir=os.path.join(dir_path, 'val')) \n",
    "    train_loggers = [train_csv_logger]\n",
    "    val_loggers = [val_csv_logger]\n",
    "    model = fit(model=model, optimizer=optimizer, criterion=mll, train_loggers=train_loggers, \n",
    "                val_loggers=val_loggers, train_inputs=train_inputs, train_targets=train_targets,\n",
    "                val_inputs=val_inputs, val_targets=val_targets, training_args=training_args)\n",
    "\n",
    "    # make sure logger files are saved\n",
    "    finalize(loggers=[*val_loggers, *train_loggers])\n",
    "\n",
    "    # # 5. Test model \n",
    "    print(\"Testing...\")\n",
    "    test_csv_logger = CSVLogger(root_dir=os.path.join(dir_path, 'test'))\n",
    "    test_loggers = [test_csv_logger]\n",
    "    test_metrics = test_step(model=model, inputs=test_inputs, targets=test_targets, sample_hidden=training_args.sample_hidden, \n",
    "                             loggers=test_loggers, train_targets=train_targets)\n",
    "    # make sure logger files are saved\n",
    "    finalize(loggers=test_loggers)\n",
    "    print(test_metrics)\n",
    "    print(\"Done!\")\n"
   ]
  },
  {
   "cell_type": "code",
   "execution_count": 7,
   "metadata": {},
   "outputs": [
    {
     "name": "stderr",
     "output_type": "stream",
     "text": [
      "INFO: Global seed set to 1\n",
      "INFO: Global seed set to 1\n",
      "/home/kacperwyrwal/miniconda3/envs/mdgp_requirements_test7/lib/python3.11/site-packages/mdgp/samplers/rff_sampler.py:25: UserWarning: To copy construct from a tensor, it is recommended to use sourceTensor.clone().detach() or sourceTensor.clone().detach().requires_grad_(True), rather than torch.tensor(sourceTensor).\n",
      "  self._num_features = self.compute_features(torch.tensor(self.base_kernel.space.random_point()[None])).shape[-1]\n"
     ]
    },
    {
     "name": "stdout",
     "output_type": "stream",
     "text": [
      "Running experiment with the config: ./geometric_head_single.json\n",
      "GeometricHeadDeepGP(\n",
      "  (hidden_layers): ModuleList(\n",
      "    (0): GeometricDeepGPLayer(\n",
      "      (variational_strategy): VariationalStrategy(\n",
      "        (_variational_distribution): CholeskyVariationalDistribution()\n",
      "      )\n",
      "      (mean_module): LinearMean()\n",
      "      (covar_module): ScaleKernel(\n",
      "        (base_kernel): _GeometricMaternKernel(\n",
      "          (raw_lengthscale_constraint): Positive()\n",
      "          (raw_nu_constraint): Positive()\n",
      "        )\n",
      "        (outputscale_prior): GammaPrior()\n",
      "        (raw_outputscale_constraint): Positive()\n",
      "      )\n",
      "      (sampler): PosteriorSampler(\n",
      "        (rff_sampler): RFFSampler(\n",
      "          (covar_module): ScaleKernel(\n",
      "            (base_kernel): _GeometricMaternKernel(\n",
      "              (raw_lengthscale_constraint): Positive()\n",
      "              (raw_nu_constraint): Positive()\n",
      "            )\n",
      "            (outputscale_prior): GammaPrior()\n",
      "            (raw_outputscale_constraint): Positive()\n",
      "          )\n",
      "          (base_kernel): _GeometricMaternKernel(\n",
      "            (raw_lengthscale_constraint): Positive()\n",
      "            (raw_nu_constraint): Positive()\n",
      "          )\n",
      "          (mean_module): LinearMean()\n",
      "        )\n",
      "        (vi_sampler): VISampler(\n",
      "          (variational_distribution): CholeskyVariationalDistribution()\n",
      "        )\n",
      "      )\n",
      "    )\n",
      "    (1): EuclideanDeepGPLayer(\n",
      "      (variational_strategy): VariationalStrategy(\n",
      "        (_variational_distribution): CholeskyVariationalDistribution()\n",
      "      )\n",
      "      (mean_module): LinearMean()\n",
      "      (covar_module): ScaleKernel(\n",
      "        (base_kernel): _EuclideanMaternKernel(\n",
      "          (raw_lengthscale_constraint): Positive()\n",
      "        )\n",
      "        (outputscale_prior): GammaPrior()\n",
      "        (raw_outputscale_constraint): Positive()\n",
      "      )\n",
      "      (sampler): PosteriorSampler(\n",
      "        (rff_sampler): RFFSampler(\n",
      "          (covar_module): ScaleKernel(\n",
      "            (base_kernel): _EuclideanMaternKernel(\n",
      "              (raw_lengthscale_constraint): Positive()\n",
      "            )\n",
      "            (outputscale_prior): GammaPrior()\n",
      "            (raw_outputscale_constraint): Positive()\n",
      "          )\n",
      "          (base_kernel): _EuclideanMaternKernel(\n",
      "            (raw_lengthscale_constraint): Positive()\n",
      "          )\n",
      "          (mean_module): LinearMean()\n",
      "        )\n",
      "        (vi_sampler): VISampler(\n",
      "          (variational_distribution): CholeskyVariationalDistribution()\n",
      "        )\n",
      "      )\n",
      "    )\n",
      "  )\n",
      "  (output_layer): EuclideanDeepGPLayer(\n",
      "    (variational_strategy): VariationalStrategy(\n",
      "      (_variational_distribution): CholeskyVariationalDistribution()\n",
      "    )\n",
      "    (mean_module): ConstantMean()\n",
      "    (covar_module): ScaleKernel(\n",
      "      (base_kernel): _EuclideanMaternKernel(\n",
      "        (raw_lengthscale_constraint): Positive()\n",
      "      )\n",
      "      (raw_outputscale_constraint): Positive()\n",
      "    )\n",
      "    (sampler): PosteriorSampler(\n",
      "      (rff_sampler): RFFSampler(\n",
      "        (covar_module): ScaleKernel(\n",
      "          (base_kernel): _EuclideanMaternKernel(\n",
      "            (raw_lengthscale_constraint): Positive()\n",
      "          )\n",
      "          (raw_outputscale_constraint): Positive()\n",
      "        )\n",
      "        (base_kernel): _EuclideanMaternKernel(\n",
      "          (raw_lengthscale_constraint): Positive()\n",
      "        )\n",
      "        (mean_module): ConstantMean()\n",
      "      )\n",
      "      (vi_sampler): VISampler(\n",
      "        (variational_distribution): CholeskyVariationalDistribution()\n",
      "      )\n",
      "    )\n",
      "  )\n",
      "  (likelihood): GaussianLikelihood(\n",
      "    (noise_covar): HomoskedasticNoise(\n",
      "      (raw_noise_constraint): GreaterThan(1.000E-04)\n",
      "    )\n",
      "  )\n",
      ")\n",
      "Training...\n"
     ]
    },
    {
     "name": "stderr",
     "output_type": "stream",
     "text": [
      "Fitting:   0%|          | 0/1000 [00:00<?, ?it/s]/home/kacperwyrwal/miniconda3/envs/mdgp_requirements_test7/lib/python3.11/site-packages/lightning/fabric/loggers/csv_logs.py:195: UserWarning: Experiment logs directory ./train exists and is not empty. Previous log files in this directory will be deleted when the new ones are saved!\n",
      "  rank_zero_warn(\n",
      "/home/kacperwyrwal/miniconda3/envs/mdgp_requirements_test7/lib/python3.11/site-packages/lightning/fabric/loggers/csv_logs.py:195: UserWarning: Experiment logs directory ./val exists and is not empty. Previous log files in this directory will be deleted when the new ones are saved!\n",
      "  rank_zero_warn(\n",
      "Fitting: 100%|██████████| 1000/1000 [02:03<00:00,  8.11it/s, elbo=1.35, nlpd=-1.41, smse=0.0773]\n"
     ]
    },
    {
     "name": "stdout",
     "output_type": "stream",
     "text": [
      "Testing...\n",
      "{'expected_log_probability': tensor(1.4061), 'mean_absolute_error': tensor(0.0412), 'mean_squared_error': tensor(0.0033), 'standardized_mean_squared_error': tensor(0.0733), 'mean_standardized_log_loss': tensor(-1.3016), 'quantile_coverage_error': tensor(0.0021), 'negative_log_predictive_density': tensor(-1.4417)}\n",
      "Done!\n"
     ]
    },
    {
     "name": "stderr",
     "output_type": "stream",
     "text": [
      "/home/kacperwyrwal/miniconda3/envs/mdgp_requirements_test7/lib/python3.11/site-packages/lightning/fabric/loggers/csv_logs.py:195: UserWarning: Experiment logs directory ./test exists and is not empty. Previous log files in this directory will be deleted when the new ones are saved!\n",
      "  rank_zero_warn(\n"
     ]
    }
   ],
   "source": [
    "set_experiment_seed(1)\n",
    "\n",
    "run_experiment(experiment_config=experiment_config, dir_path='./')"
   ]
  },
  {
   "cell_type": "code",
   "execution_count": null,
   "metadata": {},
   "outputs": [],
   "source": []
  }
 ],
 "metadata": {
  "kernelspec": {
   "display_name": "mdgp_requirements_test7",
   "language": "python",
   "name": "python3"
  },
  "language_info": {
   "codemirror_mode": {
    "name": "ipython",
    "version": 3
   },
   "file_extension": ".py",
   "mimetype": "text/x-python",
   "name": "python",
   "nbconvert_exporter": "python",
   "pygments_lexer": "ipython3",
   "version": "3.11.5"
  }
 },
 "nbformat": 4,
 "nbformat_minor": 2
}
