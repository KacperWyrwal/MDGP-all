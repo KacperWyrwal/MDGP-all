{
 "cells": [
  {
   "cell_type": "code",
   "execution_count": 1,
   "metadata": {},
   "outputs": [
    {
     "name": "stderr",
     "output_type": "stream",
     "text": [
      "INFO: Using numpy backend\n",
      "/home/kacperwyrwal/miniconda3/envs/mdgp_requirements_test7/lib/python3.11/site-packages/tqdm/auto.py:21: TqdmWarning: IProgress not found. Please update jupyter and ipywidgets. See https://ipywidgets.readthedocs.io/en/stable/user_install.html\n",
      "  from .autonotebook import tqdm as notebook_tqdm\n",
      "INFO: Created a temporary directory at /tmp/tmp2uhd_3hb\n",
      "INFO: Writing /tmp/tmp2uhd_3hb/_remote_module_non_scriptable.py\n"
     ]
    }
   ],
   "source": [
    "from mdgp.bo_experiment import ExperimentConfig"
   ]
  },
  {
   "cell_type": "code",
   "execution_count": 5,
   "metadata": {},
   "outputs": [],
   "source": [
    "ExperimentConfig()\n",
    "ExperimentConfig().to_json('../../experiment_tree_configs/bo/')"
   ]
  },
  {
   "cell_type": "code",
   "execution_count": 2,
   "metadata": {},
   "outputs": [],
   "source": [
    "experiment_config = ExperimentConfig()\n",
    "\n",
    "model_args, data_args, fit_args, bo_args = experiment_config.model_arguments, experiment_config.data_arguments, experiment_config.fit_arguments, experiment_config.bo_arguments"
   ]
  },
  {
   "cell_type": "code",
   "execution_count": 3,
   "metadata": {},
   "outputs": [
    {
     "data": {
      "text/plain": [
       "(<function mdgp.bo_experiment.model.ModelArguments.mll_factory.<locals>.get_mll(model, y: torch.Tensor)>,\n",
       " <function mdgp.bo_experiment.model.ModelArguments.optimizer_factory.<locals>.get_optimizer(model, lr)>)"
      ]
     },
     "execution_count": 3,
     "metadata": {},
     "output_type": "execute_result"
    }
   ],
   "source": [
    "model_args.mll_factory, model_args.optimizer_factory"
   ]
  },
  {
   "cell_type": "code",
   "execution_count": 6,
   "metadata": {},
   "outputs": [
    {
     "data": {
      "text/plain": [
       "(<mdgp.bo_experiment.data.target_functions.Ackley at 0x7f1fa4492d90>,\n",
       " <geometric_kernels.spaces.hypersphere.Hypersphere at 0x7f1fa4493b90>)"
      ]
     },
     "execution_count": 6,
     "metadata": {},
     "output_type": "execute_result"
    }
   ],
   "source": [
    "data_args.target_function, data_args.space"
   ]
  },
  {
   "cell_type": "code",
   "execution_count": 7,
   "metadata": {},
   "outputs": [
    {
     "data": {
      "text/plain": [
       "(<pymanopt.manifolds.sphere.Sphere at 0x7f20ccd6c250>,\n",
       " <pymanopt.optimizers.steepest_descent.SteepestDescent at 0x7f20ccd8f6d0>)"
      ]
     },
     "execution_count": 7,
     "metadata": {},
     "output_type": "execute_result"
    }
   ],
   "source": [
    "bo_args.manifold, bo_args.optimizer"
   ]
  }
 ],
 "metadata": {
  "kernelspec": {
   "display_name": "mdgp_requirements_test7",
   "language": "python",
   "name": "python3"
  },
  "language_info": {
   "codemirror_mode": {
    "name": "ipython",
    "version": 3
   },
   "file_extension": ".py",
   "mimetype": "text/x-python",
   "name": "python",
   "nbconvert_exporter": "python",
   "pygments_lexer": "ipython3",
   "version": "3.11.5"
  },
  "orig_nbformat": 4
 },
 "nbformat": 4,
 "nbformat_minor": 2
}
