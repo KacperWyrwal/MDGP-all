{
 "cells": [
  {
   "cell_type": "code",
   "execution_count": 17,
   "metadata": {},
   "outputs": [
    {
     "name": "stdout",
     "output_type": "stream",
     "text": [
      "naive-geometric_manifold-smooth-num_hidden=3-outputscale=0.01\n",
      "naive-geometric_manifold-singular-num_hidden=1-outputscale=0.01\n",
      "naive-geometric_manifold-singular-num_hidden=1-outputscale=0.1\n",
      "parametrised-geometric_manifold-singular-num_hidden=4-outputscale=0.01\n",
      "naive-geometric_manifold-singular-num_hidden=5-outputscale=0.01\n",
      "intrinsic-geometric_manifold-singular-num_hidden=4-outputscale=0.01\n",
      "naive-geometric_manifold-singular-num_hidden=4-outputscale=0.0001\n",
      "naive-geometric_manifold-smooth-num_hidden=2-outputscale=0.01\n",
      "naive-geometric_manifold-singular-num_hidden=2-outputscale=0.0001\n",
      "parametrised-geometric_manifold-singular-num_hidden=1-outputscale=0.01\n",
      "intrinsic-geometric_manifold-singular-num_hidden=1-outputscale=0.01\n",
      "naive-geometric_manifold-singular-num_hidden=0-outputscale=0.01\n",
      "naive-geometric_manifold-singular-num_hidden=4-outputscale=0.01\n",
      "naive-geometric_manifold-singular-num_hidden=1-outputscale=0.0001\n",
      "naive-geometric_manifold-singular-num_hidden=0-outputscale=0.1\n",
      "naive-geometric_manifold-singular-num_hidden=5-outputscale=0.001\n",
      "parametrised-geometric_manifold-singular-num_hidden=2-outputscale=0.01\n",
      "naive-geometric_manifold-singular-num_hidden=5-outputscale=0.1\n",
      "intrinsic-geometric_manifold-singular-num_hidden=2-outputscale=0.01\n",
      "naive-geometric_manifold-singular-num_hidden=3-outputscale=0.01\n",
      "naive-geometric_manifold-smooth-num_hidden=1-outputscale=0.01\n",
      "naive-geometric_manifold-singular-num_hidden=0-outputscale=0.001\n",
      "naive-geometric_manifold-singular-num_hidden=0-outputscale=0.0001\n",
      "naive-geometric_manifold-singular-num_hidden=4-outputscale=0.001\n",
      "naive-geometric_manifold-singular-num_hidden=3-outputscale=0.0001\n",
      "naive-geometric_manifold-singular-num_hidden=1-outputscale=0.001\n",
      "naive-geometric_manifold-singular-num_hidden=2-outputscale=0.1\n",
      "naive-geometric_manifold-singular-num_hidden=2-outputscale=0.01\n",
      "intrinsic-geometric_manifold-singular-num_hidden=3-outputscale=0.01\n",
      "parametrised-geometric_manifold-singular-num_hidden=3-outputscale=0.01\n",
      "naive-geometric_manifold-singular-num_hidden=2-outputscale=0.001\n",
      "naive-geometric_manifold-singular-num_hidden=3-outputscale=0.1\n",
      "naive-geometric_manifold-smooth-num_hidden=0-outputscale=0.01\n",
      "naive-geometric_manifold-smooth-num_hidden=4-outputscale=0.01\n",
      "naive-geometric_manifold-singular-num_hidden=4-outputscale=0.1\n",
      "rotated-geometric_manifold-singular-num_hidden=1-outputscale=0.01\n",
      "naive-geometric_manifold-singular-num_hidden=3-outputscale=0.001\n"
     ]
    }
   ],
   "source": [
    "import pandas as pd \n",
    "import os \n",
    "import plotly.express as px \n",
    "import plotly.graph_objects as go\n",
    "\n",
    "\n",
    "def parse_experiment_name(filename): \n",
    "    print(filename)\n",
    "\n",
    "    sample, model, dataset, num_hidden, outputscale = filename.split('-')\n",
    "    num_hidden = num_hidden.split(\"=\")[1]\n",
    "    outputscale = outputscale.split(\"=\")[1]\n",
    "    return sample, model, dataset, num_hidden, outputscale\n",
    "\n",
    "\n",
    "root_dir = '../logs/csv/test/'\n",
    "\n",
    "dfs = []\n",
    "for experiment_name in os.listdir(root_dir): \n",
    "    # exclude performance vs depth experiments \n",
    "    if experiment_name.startswith('naive') : \n",
    "        parse_name = experiment_name\n",
    "    elif experiment_name.startswith('parametrised') or experiment_name.startswith('intrinsic') or experiment_name.startswith('rotated'): \n",
    "        parse_name = '-'.join([\n",
    "            experiment_name.split('-')[0], \"geometric_manifold\", *experiment_name.split('-')[1:]\n",
    "        ])\n",
    "    else: \n",
    "        continue\n",
    "\n",
    "    sample, model, dataset, num_hidden, outputscale = parse_experiment_name(parse_name)\n",
    "    experiment_path = os.path.join(root_dir, experiment_name)\n",
    "    for version in os.listdir(experiment_path):\n",
    "        experiment_df = pd.DataFrame.from_dict(dict(\n",
    "            sample=[sample], model=[model], dataset=[dataset], num_hidden=[num_hidden], outputscale=[outputscale], run=[version.split('_')[1]]\n",
    "        ))\n",
    "        file_path = os.path.join(experiment_path, version, 'metrics.csv')\n",
    "        if os.path.exists(file_path):\n",
    "            metrics_df = pd.read_csv(file_path)\n",
    "            df = pd.concat([experiment_df, metrics_df], axis=1)\n",
    "            dfs.append(df)\n",
    "\n",
    "data = pd.concat(dfs).fillna(method='ffill')\n",
    "data['num_hidden'] = data['num_hidden'].astype(int)\n",
    "data['outputscale']= data['outputscale'].astype(float)\n",
    "data['run'] = data['run'].astype(int)\n",
    "data = data[(data['num_hidden'] < 5) & (data['dataset'] == 'singular') & (data['outputscale'] == 0.01)]\n",
    "data = data[['sample', 'num_hidden', 'outputscale', 'run', 'test-negative_log_predictive_density', 'test-mean_squared_error']]"
   ]
  },
  {
   "cell_type": "code",
   "execution_count": 14,
   "metadata": {},
   "outputs": [],
   "source": [
    "df = data[data['num_hidden'] > 0].reset_index()\n",
    "df['sample'] = df['sample'].map({'naive': 'projected', 'intrinsic': 'coord. frame<br>fixed', 'parametrised': 'coord. frame<br>parametrised'})"
   ]
  },
  {
   "cell_type": "code",
   "execution_count": 41,
   "metadata": {},
   "outputs": [
    {
     "data": {
      "application/vnd.plotly.v1+json": {
       "config": {
        "plotlyServerURL": "https://plot.ly"
       },
       "data": [
        {
         "alignmentgroup": "True",
         "customdata": [
          [
           "projected",
           0.01,
           1,
           0.0020005129573194
          ],
          [
           "projected",
           0.01,
           0,
           0.0020026395192699
          ],
          [
           "projected",
           0.01,
           2,
           0.001942184487384
          ],
          [
           "projected",
           0.01,
           4,
           0.0020005129573194
          ],
          [
           "projected",
           0.01,
           3,
           0.0020026395192699
          ],
          [
           "projected",
           0.01,
           1,
           0.0031271178227951
          ],
          [
           "projected",
           0.01,
           0,
           0.0032430916546628
          ],
          [
           "projected",
           0.01,
           2,
           0.0032430916546628
          ],
          [
           "projected",
           0.01,
           4,
           0.0023367149451465
          ],
          [
           "projected",
           0.01,
           3,
           0.0032423170053072
          ],
          [
           "projected",
           0.01,
           1,
           0.0022625221440329
          ],
          [
           "projected",
           0.01,
           0,
           0.0025265664643709
          ],
          [
           "projected",
           0.01,
           2,
           0.0022924362460639
          ],
          [
           "projected",
           0.01,
           4,
           0.0022625221440329
          ],
          [
           "projected",
           0.01,
           3,
           0.0025265664643709
          ],
          [
           "projected",
           0.01,
           1,
           0.0032337347616824
          ],
          [
           "projected",
           0.01,
           0,
           0.0033196072511393
          ],
          [
           "projected",
           0.01,
           2,
           0.00304208257095
          ],
          [
           "projected",
           0.01,
           4,
           0.0032337347616824
          ],
          [
           "projected",
           0.01,
           3,
           0.0033196072511393
          ]
         ],
         "hovertemplate": "sample=%{customdata[0]}<br>num_hidden=%{x}<br>test-negative_log_predictive_density=%{y}<br>outputscale=%{customdata[1]}<br>run=%{customdata[2]}<br>test-mean_squared_error=%{customdata[3]}<extra></extra>",
         "legendgroup": "projected",
         "marker": {
          "color": "#636efa",
          "size": 4
         },
         "name": "projected",
         "notched": false,
         "offsetgroup": "projected",
         "opacity": 0.6,
         "orientation": "v",
         "showlegend": true,
         "type": "box",
         "x": [
          1,
          1,
          1,
          1,
          1,
          4,
          4,
          4,
          4,
          4,
          3,
          3,
          3,
          3,
          3,
          2,
          2,
          2,
          2,
          2
         ],
         "x0": " ",
         "xaxis": "x",
         "y": [
          -1.710016878451586,
          -1.6860843475607372,
          -1.7227505654651112,
          -1.710016878451586,
          -1.6860843475607372,
          -1.484359161382743,
          -1.460860608485478,
          -1.460860608485478,
          -1.6423837373356904,
          -1.4608800899689238,
          -1.6543010570807717,
          -1.6060926564470717,
          -1.6424234576647052,
          -1.6543010570807717,
          -1.6060926564470717,
          -1.4960716813255392,
          -1.4858016666044698,
          -1.5291296568362585,
          -1.4960716813255392,
          -1.4858016666044698
         ],
         "y0": " ",
         "yaxis": "y"
        },
        {
         "alignmentgroup": "True",
         "customdata": [
          [
           "coordinate<br>frame",
           0.01,
           1,
           0.0026231675907584
          ],
          [
           "coordinate<br>frame",
           0.01,
           0,
           0.0025313635002966
          ],
          [
           "coordinate<br>frame",
           0.01,
           2,
           0.0029612586692987
          ],
          [
           "coordinate<br>frame",
           0.01,
           4,
           0.0029192829200402
          ],
          [
           "coordinate<br>frame",
           0.01,
           3,
           0.0016003080726209
          ],
          [
           "coordinate<br>frame",
           0.01,
           1,
           0.0009998768894019
          ],
          [
           "coordinate<br>frame",
           0.01,
           0,
           0.0010820456053605
          ],
          [
           "coordinate<br>frame",
           0.01,
           2,
           0.0010518180160638
          ],
          [
           "coordinate<br>frame",
           0.01,
           4,
           0.0010950395320319
          ],
          [
           "coordinate<br>frame",
           0.01,
           3,
           0.0010531644053056
          ],
          [
           "coordinate<br>frame",
           0.01,
           1,
           0.0019949656881537
          ],
          [
           "coordinate<br>frame",
           0.01,
           0,
           0.0021102397712155
          ],
          [
           "coordinate<br>frame",
           0.01,
           2,
           0.0023280919917495
          ],
          [
           "coordinate<br>frame",
           0.01,
           4,
           0.0025010384522953
          ],
          [
           "coordinate<br>frame",
           0.01,
           3,
           0.0021511040258985
          ],
          [
           "coordinate<br>frame",
           0.01,
           1,
           0.0015639866614539
          ],
          [
           "coordinate<br>frame",
           0.01,
           0,
           0.0023065888229368
          ],
          [
           "coordinate<br>frame",
           0.01,
           2,
           0.0018392402638571
          ],
          [
           "coordinate<br>frame",
           0.01,
           4,
           0.0023329339042664
          ],
          [
           "coordinate<br>frame",
           0.01,
           3,
           0.0029580921648283
          ]
         ],
         "hovertemplate": "sample=%{customdata[0]}<br>num_hidden=%{x}<br>test-negative_log_predictive_density=%{y}<br>outputscale=%{customdata[1]}<br>run=%{customdata[2]}<br>test-mean_squared_error=%{customdata[3]}<extra></extra>",
         "legendgroup": "coordinate<br>frame",
         "marker": {
          "color": "#EF553B",
          "size": 4
         },
         "name": "coordinate<br>frame",
         "notched": false,
         "offsetgroup": "coordinate<br>frame",
         "opacity": 0.6,
         "orientation": "v",
         "showlegend": true,
         "type": "box",
         "x": [
          4,
          4,
          4,
          4,
          4,
          1,
          1,
          1,
          1,
          1,
          2,
          2,
          2,
          2,
          2,
          3,
          3,
          3,
          3,
          3
         ],
         "x0": " ",
         "xaxis": "x",
         "y": [
          -1.506535314219325,
          -1.506196572070396,
          -1.4363249976666577,
          -1.4135641599136437,
          -1.7829659024300668,
          -2.051859280615334,
          -2.007514182736845,
          -2.032483868499148,
          -1.9952399527841744,
          -2.029446451109693,
          -1.7063761352248306,
          -1.616094309492182,
          -1.5737134740736334,
          -1.5275946412367938,
          -1.6028597883411655,
          -1.7919551422687747,
          -1.5624641365587946,
          -1.7060984752126818,
          -1.5711143599659425,
          -1.4181997817360306
         ],
         "y0": " ",
         "yaxis": "y"
        },
        {
         "alignmentgroup": "True",
         "boxpoints": "all",
         "customdata": [
          [
           "projected",
           0.01,
           1,
           0.0020005129573194
          ],
          [
           "projected",
           0.01,
           0,
           0.0020026395192699
          ],
          [
           "projected",
           0.01,
           2,
           0.001942184487384
          ],
          [
           "projected",
           0.01,
           4,
           0.0020005129573194
          ],
          [
           "projected",
           0.01,
           3,
           0.0020026395192699
          ],
          [
           "projected",
           0.01,
           1,
           0.0031271178227951
          ],
          [
           "projected",
           0.01,
           0,
           0.0032430916546628
          ],
          [
           "projected",
           0.01,
           2,
           0.0032430916546628
          ],
          [
           "projected",
           0.01,
           4,
           0.0023367149451465
          ],
          [
           "projected",
           0.01,
           3,
           0.0032423170053072
          ],
          [
           "projected",
           0.01,
           1,
           0.0022625221440329
          ],
          [
           "projected",
           0.01,
           0,
           0.0025265664643709
          ],
          [
           "projected",
           0.01,
           2,
           0.0022924362460639
          ],
          [
           "projected",
           0.01,
           4,
           0.0022625221440329
          ],
          [
           "projected",
           0.01,
           3,
           0.0025265664643709
          ],
          [
           "projected",
           0.01,
           1,
           0.0032337347616824
          ],
          [
           "projected",
           0.01,
           0,
           0.0033196072511393
          ],
          [
           "projected",
           0.01,
           2,
           0.00304208257095
          ],
          [
           "projected",
           0.01,
           4,
           0.0032337347616824
          ],
          [
           "projected",
           0.01,
           3,
           0.0033196072511393
          ]
         ],
         "fillcolor": "rgba(255,255,255,0)",
         "hoveron": "points",
         "hovertemplate": "sample=%{customdata[0]}<br>num_hidden=%{x}<br>test-negative_log_predictive_density=%{y}<br>outputscale=%{customdata[1]}<br>run=%{customdata[2]}<br>test-mean_squared_error=%{customdata[3]}<extra></extra>",
         "legendgroup": "projected",
         "line": {
          "color": "rgba(255,255,255,0)"
         },
         "marker": {
          "color": "#636efa",
          "size": 4
         },
         "name": "projected",
         "offsetgroup": "projected",
         "orientation": "v",
         "pointpos": 0,
         "showlegend": false,
         "type": "box",
         "x": [
          1,
          1,
          1,
          1,
          1,
          4,
          4,
          4,
          4,
          4,
          3,
          3,
          3,
          3,
          3,
          2,
          2,
          2,
          2,
          2
         ],
         "x0": " ",
         "xaxis": "x",
         "y": [
          -1.710016878451586,
          -1.6860843475607372,
          -1.7227505654651112,
          -1.710016878451586,
          -1.6860843475607372,
          -1.484359161382743,
          -1.460860608485478,
          -1.460860608485478,
          -1.6423837373356904,
          -1.4608800899689238,
          -1.6543010570807717,
          -1.6060926564470717,
          -1.6424234576647052,
          -1.6543010570807717,
          -1.6060926564470717,
          -1.4960716813255392,
          -1.4858016666044698,
          -1.5291296568362585,
          -1.4960716813255392,
          -1.4858016666044698
         ],
         "y0": " ",
         "yaxis": "y"
        },
        {
         "alignmentgroup": "True",
         "boxpoints": "all",
         "customdata": [
          [
           "coordinate<br>frame",
           0.01,
           1,
           0.0026231675907584
          ],
          [
           "coordinate<br>frame",
           0.01,
           0,
           0.0025313635002966
          ],
          [
           "coordinate<br>frame",
           0.01,
           2,
           0.0029612586692987
          ],
          [
           "coordinate<br>frame",
           0.01,
           4,
           0.0029192829200402
          ],
          [
           "coordinate<br>frame",
           0.01,
           3,
           0.0016003080726209
          ],
          [
           "coordinate<br>frame",
           0.01,
           1,
           0.0009998768894019
          ],
          [
           "coordinate<br>frame",
           0.01,
           0,
           0.0010820456053605
          ],
          [
           "coordinate<br>frame",
           0.01,
           2,
           0.0010518180160638
          ],
          [
           "coordinate<br>frame",
           0.01,
           4,
           0.0010950395320319
          ],
          [
           "coordinate<br>frame",
           0.01,
           3,
           0.0010531644053056
          ],
          [
           "coordinate<br>frame",
           0.01,
           1,
           0.0019949656881537
          ],
          [
           "coordinate<br>frame",
           0.01,
           0,
           0.0021102397712155
          ],
          [
           "coordinate<br>frame",
           0.01,
           2,
           0.0023280919917495
          ],
          [
           "coordinate<br>frame",
           0.01,
           4,
           0.0025010384522953
          ],
          [
           "coordinate<br>frame",
           0.01,
           3,
           0.0021511040258985
          ],
          [
           "coordinate<br>frame",
           0.01,
           1,
           0.0015639866614539
          ],
          [
           "coordinate<br>frame",
           0.01,
           0,
           0.0023065888229368
          ],
          [
           "coordinate<br>frame",
           0.01,
           2,
           0.0018392402638571
          ],
          [
           "coordinate<br>frame",
           0.01,
           4,
           0.0023329339042664
          ],
          [
           "coordinate<br>frame",
           0.01,
           3,
           0.0029580921648283
          ]
         ],
         "fillcolor": "rgba(255,255,255,0)",
         "hoveron": "points",
         "hovertemplate": "sample=%{customdata[0]}<br>num_hidden=%{x}<br>test-negative_log_predictive_density=%{y}<br>outputscale=%{customdata[1]}<br>run=%{customdata[2]}<br>test-mean_squared_error=%{customdata[3]}<extra></extra>",
         "legendgroup": "coordinate<br>frame",
         "line": {
          "color": "rgba(255,255,255,0)"
         },
         "marker": {
          "color": "#EF553B",
          "size": 4
         },
         "name": "coordinate<br>frame",
         "offsetgroup": "coordinate<br>frame",
         "orientation": "v",
         "pointpos": 0,
         "showlegend": false,
         "type": "box",
         "x": [
          4,
          4,
          4,
          4,
          4,
          1,
          1,
          1,
          1,
          1,
          2,
          2,
          2,
          2,
          2,
          3,
          3,
          3,
          3,
          3
         ],
         "x0": " ",
         "xaxis": "x",
         "y": [
          -1.506535314219325,
          -1.506196572070396,
          -1.4363249976666577,
          -1.4135641599136437,
          -1.7829659024300668,
          -2.051859280615334,
          -2.007514182736845,
          -2.032483868499148,
          -1.9952399527841744,
          -2.029446451109693,
          -1.7063761352248306,
          -1.616094309492182,
          -1.5737134740736334,
          -1.5275946412367938,
          -1.6028597883411655,
          -1.7919551422687747,
          -1.5624641365587946,
          -1.7060984752126818,
          -1.5711143599659425,
          -1.4181997817360306
         ],
         "y0": " ",
         "yaxis": "y"
        },
        {
         "line": {
          "color": "Gray",
          "dash": "dash",
          "width": 1
         },
         "marker": {
          "size": 4
         },
         "mode": "lines",
         "name": "GP Mean",
         "showlegend": true,
         "type": "scatter",
         "x": [
          null
         ],
         "y": [
          null
         ]
        }
       ],
       "layout": {
        "boxmode": "group",
        "font": {
         "family": "Computer Modern",
         "size": 10
        },
        "height": 152,
        "legend": {
         "font": {
          "size": 10
         },
         "title": {
          "font": {
           "size": 10
          },
          "text": "GVF Construction"
         },
         "tracegroupgap": 0,
         "x": 1.05,
         "y": 0.55,
         "yanchor": "middle"
        },
        "margin": {
         "b": 10,
         "l": 10,
         "r": 10,
         "t": 20
        },
        "shapes": [
         {
          "layer": "below",
          "line": {
           "color": "Gray",
           "dash": "dash",
           "width": 1
          },
          "name": "mean",
          "opacity": 0.8,
          "type": "line",
          "x0": 0.5,
          "x1": 4.5,
          "y0": -1.5228708709143273,
          "y1": -1.5228708709143273
         }
        ],
        "template": {
         "data": {
          "bar": [
           {
            "error_x": {
             "color": "#2a3f5f"
            },
            "error_y": {
             "color": "#2a3f5f"
            },
            "marker": {
             "line": {
              "color": "#E5ECF6",
              "width": 0.5
             },
             "pattern": {
              "fillmode": "overlay",
              "size": 10,
              "solidity": 0.2
             }
            },
            "type": "bar"
           }
          ],
          "barpolar": [
           {
            "marker": {
             "line": {
              "color": "#E5ECF6",
              "width": 0.5
             },
             "pattern": {
              "fillmode": "overlay",
              "size": 10,
              "solidity": 0.2
             }
            },
            "type": "barpolar"
           }
          ],
          "carpet": [
           {
            "aaxis": {
             "endlinecolor": "#2a3f5f",
             "gridcolor": "white",
             "linecolor": "white",
             "minorgridcolor": "white",
             "startlinecolor": "#2a3f5f"
            },
            "baxis": {
             "endlinecolor": "#2a3f5f",
             "gridcolor": "white",
             "linecolor": "white",
             "minorgridcolor": "white",
             "startlinecolor": "#2a3f5f"
            },
            "type": "carpet"
           }
          ],
          "choropleth": [
           {
            "colorbar": {
             "outlinewidth": 0,
             "ticks": ""
            },
            "type": "choropleth"
           }
          ],
          "contour": [
           {
            "colorbar": {
             "outlinewidth": 0,
             "ticks": ""
            },
            "colorscale": [
             [
              0,
              "#0d0887"
             ],
             [
              0.1111111111111111,
              "#46039f"
             ],
             [
              0.2222222222222222,
              "#7201a8"
             ],
             [
              0.3333333333333333,
              "#9c179e"
             ],
             [
              0.4444444444444444,
              "#bd3786"
             ],
             [
              0.5555555555555556,
              "#d8576b"
             ],
             [
              0.6666666666666666,
              "#ed7953"
             ],
             [
              0.7777777777777778,
              "#fb9f3a"
             ],
             [
              0.8888888888888888,
              "#fdca26"
             ],
             [
              1,
              "#f0f921"
             ]
            ],
            "type": "contour"
           }
          ],
          "contourcarpet": [
           {
            "colorbar": {
             "outlinewidth": 0,
             "ticks": ""
            },
            "type": "contourcarpet"
           }
          ],
          "heatmap": [
           {
            "colorbar": {
             "outlinewidth": 0,
             "ticks": ""
            },
            "colorscale": [
             [
              0,
              "#0d0887"
             ],
             [
              0.1111111111111111,
              "#46039f"
             ],
             [
              0.2222222222222222,
              "#7201a8"
             ],
             [
              0.3333333333333333,
              "#9c179e"
             ],
             [
              0.4444444444444444,
              "#bd3786"
             ],
             [
              0.5555555555555556,
              "#d8576b"
             ],
             [
              0.6666666666666666,
              "#ed7953"
             ],
             [
              0.7777777777777778,
              "#fb9f3a"
             ],
             [
              0.8888888888888888,
              "#fdca26"
             ],
             [
              1,
              "#f0f921"
             ]
            ],
            "type": "heatmap"
           }
          ],
          "heatmapgl": [
           {
            "colorbar": {
             "outlinewidth": 0,
             "ticks": ""
            },
            "colorscale": [
             [
              0,
              "#0d0887"
             ],
             [
              0.1111111111111111,
              "#46039f"
             ],
             [
              0.2222222222222222,
              "#7201a8"
             ],
             [
              0.3333333333333333,
              "#9c179e"
             ],
             [
              0.4444444444444444,
              "#bd3786"
             ],
             [
              0.5555555555555556,
              "#d8576b"
             ],
             [
              0.6666666666666666,
              "#ed7953"
             ],
             [
              0.7777777777777778,
              "#fb9f3a"
             ],
             [
              0.8888888888888888,
              "#fdca26"
             ],
             [
              1,
              "#f0f921"
             ]
            ],
            "type": "heatmapgl"
           }
          ],
          "histogram": [
           {
            "marker": {
             "pattern": {
              "fillmode": "overlay",
              "size": 10,
              "solidity": 0.2
             }
            },
            "type": "histogram"
           }
          ],
          "histogram2d": [
           {
            "colorbar": {
             "outlinewidth": 0,
             "ticks": ""
            },
            "colorscale": [
             [
              0,
              "#0d0887"
             ],
             [
              0.1111111111111111,
              "#46039f"
             ],
             [
              0.2222222222222222,
              "#7201a8"
             ],
             [
              0.3333333333333333,
              "#9c179e"
             ],
             [
              0.4444444444444444,
              "#bd3786"
             ],
             [
              0.5555555555555556,
              "#d8576b"
             ],
             [
              0.6666666666666666,
              "#ed7953"
             ],
             [
              0.7777777777777778,
              "#fb9f3a"
             ],
             [
              0.8888888888888888,
              "#fdca26"
             ],
             [
              1,
              "#f0f921"
             ]
            ],
            "type": "histogram2d"
           }
          ],
          "histogram2dcontour": [
           {
            "colorbar": {
             "outlinewidth": 0,
             "ticks": ""
            },
            "colorscale": [
             [
              0,
              "#0d0887"
             ],
             [
              0.1111111111111111,
              "#46039f"
             ],
             [
              0.2222222222222222,
              "#7201a8"
             ],
             [
              0.3333333333333333,
              "#9c179e"
             ],
             [
              0.4444444444444444,
              "#bd3786"
             ],
             [
              0.5555555555555556,
              "#d8576b"
             ],
             [
              0.6666666666666666,
              "#ed7953"
             ],
             [
              0.7777777777777778,
              "#fb9f3a"
             ],
             [
              0.8888888888888888,
              "#fdca26"
             ],
             [
              1,
              "#f0f921"
             ]
            ],
            "type": "histogram2dcontour"
           }
          ],
          "mesh3d": [
           {
            "colorbar": {
             "outlinewidth": 0,
             "ticks": ""
            },
            "type": "mesh3d"
           }
          ],
          "parcoords": [
           {
            "line": {
             "colorbar": {
              "outlinewidth": 0,
              "ticks": ""
             }
            },
            "type": "parcoords"
           }
          ],
          "pie": [
           {
            "automargin": true,
            "type": "pie"
           }
          ],
          "scatter": [
           {
            "fillpattern": {
             "fillmode": "overlay",
             "size": 10,
             "solidity": 0.2
            },
            "type": "scatter"
           }
          ],
          "scatter3d": [
           {
            "line": {
             "colorbar": {
              "outlinewidth": 0,
              "ticks": ""
             }
            },
            "marker": {
             "colorbar": {
              "outlinewidth": 0,
              "ticks": ""
             }
            },
            "type": "scatter3d"
           }
          ],
          "scattercarpet": [
           {
            "marker": {
             "colorbar": {
              "outlinewidth": 0,
              "ticks": ""
             }
            },
            "type": "scattercarpet"
           }
          ],
          "scattergeo": [
           {
            "marker": {
             "colorbar": {
              "outlinewidth": 0,
              "ticks": ""
             }
            },
            "type": "scattergeo"
           }
          ],
          "scattergl": [
           {
            "marker": {
             "colorbar": {
              "outlinewidth": 0,
              "ticks": ""
             }
            },
            "type": "scattergl"
           }
          ],
          "scattermapbox": [
           {
            "marker": {
             "colorbar": {
              "outlinewidth": 0,
              "ticks": ""
             }
            },
            "type": "scattermapbox"
           }
          ],
          "scatterpolar": [
           {
            "marker": {
             "colorbar": {
              "outlinewidth": 0,
              "ticks": ""
             }
            },
            "type": "scatterpolar"
           }
          ],
          "scatterpolargl": [
           {
            "marker": {
             "colorbar": {
              "outlinewidth": 0,
              "ticks": ""
             }
            },
            "type": "scatterpolargl"
           }
          ],
          "scatterternary": [
           {
            "marker": {
             "colorbar": {
              "outlinewidth": 0,
              "ticks": ""
             }
            },
            "type": "scatterternary"
           }
          ],
          "surface": [
           {
            "colorbar": {
             "outlinewidth": 0,
             "ticks": ""
            },
            "colorscale": [
             [
              0,
              "#0d0887"
             ],
             [
              0.1111111111111111,
              "#46039f"
             ],
             [
              0.2222222222222222,
              "#7201a8"
             ],
             [
              0.3333333333333333,
              "#9c179e"
             ],
             [
              0.4444444444444444,
              "#bd3786"
             ],
             [
              0.5555555555555556,
              "#d8576b"
             ],
             [
              0.6666666666666666,
              "#ed7953"
             ],
             [
              0.7777777777777778,
              "#fb9f3a"
             ],
             [
              0.8888888888888888,
              "#fdca26"
             ],
             [
              1,
              "#f0f921"
             ]
            ],
            "type": "surface"
           }
          ],
          "table": [
           {
            "cells": {
             "fill": {
              "color": "#EBF0F8"
             },
             "line": {
              "color": "white"
             }
            },
            "header": {
             "fill": {
              "color": "#C8D4E3"
             },
             "line": {
              "color": "white"
             }
            },
            "type": "table"
           }
          ]
         },
         "layout": {
          "annotationdefaults": {
           "arrowcolor": "#2a3f5f",
           "arrowhead": 0,
           "arrowwidth": 1
          },
          "autotypenumbers": "strict",
          "coloraxis": {
           "colorbar": {
            "outlinewidth": 0,
            "ticks": ""
           }
          },
          "colorscale": {
           "diverging": [
            [
             0,
             "#8e0152"
            ],
            [
             0.1,
             "#c51b7d"
            ],
            [
             0.2,
             "#de77ae"
            ],
            [
             0.3,
             "#f1b6da"
            ],
            [
             0.4,
             "#fde0ef"
            ],
            [
             0.5,
             "#f7f7f7"
            ],
            [
             0.6,
             "#e6f5d0"
            ],
            [
             0.7,
             "#b8e186"
            ],
            [
             0.8,
             "#7fbc41"
            ],
            [
             0.9,
             "#4d9221"
            ],
            [
             1,
             "#276419"
            ]
           ],
           "sequential": [
            [
             0,
             "#0d0887"
            ],
            [
             0.1111111111111111,
             "#46039f"
            ],
            [
             0.2222222222222222,
             "#7201a8"
            ],
            [
             0.3333333333333333,
             "#9c179e"
            ],
            [
             0.4444444444444444,
             "#bd3786"
            ],
            [
             0.5555555555555556,
             "#d8576b"
            ],
            [
             0.6666666666666666,
             "#ed7953"
            ],
            [
             0.7777777777777778,
             "#fb9f3a"
            ],
            [
             0.8888888888888888,
             "#fdca26"
            ],
            [
             1,
             "#f0f921"
            ]
           ],
           "sequentialminus": [
            [
             0,
             "#0d0887"
            ],
            [
             0.1111111111111111,
             "#46039f"
            ],
            [
             0.2222222222222222,
             "#7201a8"
            ],
            [
             0.3333333333333333,
             "#9c179e"
            ],
            [
             0.4444444444444444,
             "#bd3786"
            ],
            [
             0.5555555555555556,
             "#d8576b"
            ],
            [
             0.6666666666666666,
             "#ed7953"
            ],
            [
             0.7777777777777778,
             "#fb9f3a"
            ],
            [
             0.8888888888888888,
             "#fdca26"
            ],
            [
             1,
             "#f0f921"
            ]
           ]
          },
          "colorway": [
           "#636efa",
           "#EF553B",
           "#00cc96",
           "#ab63fa",
           "#FFA15A",
           "#19d3f3",
           "#FF6692",
           "#B6E880",
           "#FF97FF",
           "#FECB52"
          ],
          "font": {
           "color": "#2a3f5f"
          },
          "geo": {
           "bgcolor": "white",
           "lakecolor": "white",
           "landcolor": "#E5ECF6",
           "showlakes": true,
           "showland": true,
           "subunitcolor": "white"
          },
          "hoverlabel": {
           "align": "left"
          },
          "hovermode": "closest",
          "mapbox": {
           "style": "light"
          },
          "paper_bgcolor": "white",
          "plot_bgcolor": "#E5ECF6",
          "polar": {
           "angularaxis": {
            "gridcolor": "white",
            "linecolor": "white",
            "ticks": ""
           },
           "bgcolor": "#E5ECF6",
           "radialaxis": {
            "gridcolor": "white",
            "linecolor": "white",
            "ticks": ""
           }
          },
          "scene": {
           "xaxis": {
            "backgroundcolor": "#E5ECF6",
            "gridcolor": "white",
            "gridwidth": 2,
            "linecolor": "white",
            "showbackground": true,
            "ticks": "",
            "zerolinecolor": "white"
           },
           "yaxis": {
            "backgroundcolor": "#E5ECF6",
            "gridcolor": "white",
            "gridwidth": 2,
            "linecolor": "white",
            "showbackground": true,
            "ticks": "",
            "zerolinecolor": "white"
           },
           "zaxis": {
            "backgroundcolor": "#E5ECF6",
            "gridcolor": "white",
            "gridwidth": 2,
            "linecolor": "white",
            "showbackground": true,
            "ticks": "",
            "zerolinecolor": "white"
           }
          },
          "shapedefaults": {
           "line": {
            "color": "#2a3f5f"
           }
          },
          "ternary": {
           "aaxis": {
            "gridcolor": "white",
            "linecolor": "white",
            "ticks": ""
           },
           "baxis": {
            "gridcolor": "white",
            "linecolor": "white",
            "ticks": ""
           },
           "bgcolor": "#E5ECF6",
           "caxis": {
            "gridcolor": "white",
            "linecolor": "white",
            "ticks": ""
           }
          },
          "title": {
           "x": 0.05
          },
          "xaxis": {
           "automargin": true,
           "gridcolor": "white",
           "linecolor": "white",
           "ticks": "",
           "title": {
            "standoff": 15
           },
           "zerolinecolor": "white",
           "zerolinewidth": 2
          },
          "yaxis": {
           "automargin": true,
           "gridcolor": "white",
           "linecolor": "white",
           "ticks": "",
           "title": {
            "standoff": 15
           },
           "zerolinecolor": "white",
           "zerolinewidth": 2
          }
         }
        },
        "title": {
         "font": {
          "size": 12
         },
         "text": "NLPD by GVF Construction vs Number of Hidden Layers"
        },
        "width": 380,
        "xaxis": {
         "anchor": "y",
         "domain": [
          0,
          1
         ],
         "tickfont": {
          "size": 10
         },
         "title": {
          "font": {
           "size": 10
          },
          "standoff": 5,
          "text": "Number of Hidden Layers"
         }
        },
        "yaxis": {
         "anchor": "x",
         "domain": [
          0,
          1
         ],
         "tickfont": {
          "size": 10
         },
         "title": {
          "font": {
           "size": 10
          },
          "standoff": 5,
          "text": "NLPD"
         }
        }
       }
      }
     },
     "metadata": {},
     "output_type": "display_data"
    }
   ],
   "source": [
    "df = data[data['num_hidden'] > 0]\n",
    "df = df[df['sample'].isin({'naive', 'intrinsic'})]\n",
    "df['sample'] = df['sample'].map({'naive': 'projected', 'intrinsic': 'coordinate<br>frame'})\n",
    "fig = px.box(df, y=\"test-negative_log_predictive_density\", x=\"num_hidden\", color=\"sample\", hover_data=df.columns)\n",
    "\n",
    "# Add each box trace to the new figure\n",
    "for trace in fig.data:\n",
    "    trace.opacity = 0.6\n",
    "\n",
    "# Overlay a scatter plot on top of the box plot\n",
    "scatter_fig = px.strip(df, y=\"test-negative_log_predictive_density\", x=\"num_hidden\", color=\"sample\", hover_data=df.columns)\n",
    "for trace in scatter_fig.data:\n",
    "    trace.showlegend=False\n",
    "    fig.add_trace(trace)\n",
    "\n",
    "\n",
    "mean = data['test-negative_log_predictive_density'][data['num_hidden'] == 0].mean()\n",
    "fig.add_shape(\n",
    "    type='line',\n",
    "    y0=mean, y1=mean,\n",
    "    x0=.5, x1=4.5,\n",
    "    line=dict(\n",
    "        color='Gray',\n",
    "        width=1,\n",
    "        dash=\"dash\",\n",
    "    ), \n",
    "    layer='below',\n",
    "    name='mean',\n",
    "    opacity=0.8,\n",
    ")\n",
    "fig.add_trace(go.Scatter(\n",
    "    x=[None],\n",
    "    y=[None],\n",
    "    mode='lines',\n",
    "    line=dict(\n",
    "        color=\"Gray\", \n",
    "        width=1, \n",
    "        dash=\"dash\",\n",
    "    ),\n",
    "    showlegend=True,\n",
    "    name='GP Mean',\n",
    "))\n",
    "\n",
    "\n",
    "fig.update_layout(\n",
    "    font_family=\"Computer Modern\",\n",
    "    title=dict(\n",
    "        text=\"NLPD by GVF Construction vs Number of Hidden Layers\",\n",
    "        # xanchor='center', \n",
    "        # y=0.96\n",
    "    ),\n",
    "    legend=dict(\n",
    "        title=\"GVF Construction\", \n",
    "        x=1.05, \n",
    "        y=0.55,\n",
    "        yanchor='middle',\n",
    "    ),\n",
    "    xaxis_title=dict(\n",
    "        text=\"Number of Hidden Layers\",\n",
    "    ),\n",
    "    yaxis_title=dict(\n",
    "        text=\"NLPD\", \n",
    "    ),\n",
    ")\n",
    "\n",
    "# Max width 453\n",
    "width = 380\n",
    "ratio = 0.4\n",
    "height = width * ratio\n",
    "fig.update_layout(\n",
    "    width=width,\n",
    "    height=height,\n",
    "    title_font_size=12,\n",
    "    xaxis_title_font_size=10,\n",
    "    xaxis_tickfont_size=10,\n",
    "    yaxis_title_font_size=10,\n",
    "    yaxis_tickfont_size=10,\n",
    "    legend_font_size=10, \n",
    "    legend_title_font_size=10,\n",
    "    font_size=10,\n",
    "    xaxis_title_standoff=5,  # Adjust this value for the x-axis title\n",
    "    yaxis_title_standoff=5,   # Adjust this value for the y-axis title\n",
    "    margin=dict(b=10, l=10, r=10, t=20),\n",
    "\n",
    ")\n",
    "fig.update_traces({'marker':{'size': 4}})\n",
    "\n",
    "fig.show()\n",
    "fig.write_image('../report_plots/nlpd_by_gvf_construction.pdf', scale=6, height=height, width=width)"
   ]
  },
  {
   "cell_type": "code",
   "execution_count": 62,
   "metadata": {},
   "outputs": [
    {
     "data": {
      "application/vnd.plotly.v1+json": {
       "config": {
        "plotlyServerURL": "https://plot.ly"
       },
       "data": [
        {
         "alignmentgroup": "True",
         "customdata": [
          [
           "projected",
           1
          ],
          [
           "projected",
           0
          ],
          [
           "projected",
           2
          ],
          [
           "projected",
           4
          ],
          [
           "projected",
           3
          ]
         ],
         "hovertemplate": "sample=%{customdata[0]}<br>test-negative_log_predictive_density=%{y}<br>run=%{customdata[1]}<extra></extra>",
         "legendgroup": "projected",
         "marker": {
          "color": "#636efa",
          "size": 4
         },
         "name": "projected",
         "notched": false,
         "offsetgroup": "projected",
         "opacity": 0.6,
         "orientation": "v",
         "showlegend": true,
         "type": "box",
         "x0": " ",
         "xaxis": "x",
         "y": [
          -1.710016878451586,
          -1.6860843475607372,
          -1.7227505654651112,
          -1.710016878451586,
          -1.6860843475607372
         ],
         "y0": " ",
         "yaxis": "y"
        },
        {
         "alignmentgroup": "True",
         "customdata": [
          [
           "parametrised",
           8
          ],
          [
           "parametrised",
           6
          ],
          [
           "parametrised",
           1
          ],
          [
           "parametrised",
           0
          ],
          [
           "parametrised",
           7
          ],
          [
           "parametrised",
           9
          ],
          [
           "parametrised",
           2
          ],
          [
           "parametrised",
           5
          ],
          [
           "parametrised",
           4
          ],
          [
           "parametrised",
           3
          ]
         ],
         "hovertemplate": "sample=%{customdata[0]}<br>test-negative_log_predictive_density=%{y}<br>run=%{customdata[1]}<extra></extra>",
         "legendgroup": "parametrised",
         "marker": {
          "color": "#EF553B",
          "size": 4
         },
         "name": "parametrised",
         "notched": false,
         "offsetgroup": "parametrised",
         "opacity": 0.6,
         "orientation": "v",
         "showlegend": true,
         "type": "box",
         "x0": " ",
         "xaxis": "x",
         "y": [
          -1.7903371638394774,
          -1.7903371638394774,
          -1.982748477111085,
          -1.9773257393569597,
          -1.6168684276151422,
          -1.6168684276151422,
          -1.9596634767264127,
          -1.7903371638394774,
          -2.0294604333785324,
          -2.029243111875375
         ],
         "y0": " ",
         "yaxis": "y"
        },
        {
         "alignmentgroup": "True",
         "customdata": [
          [
           "fixed",
           1
          ],
          [
           "fixed",
           0
          ],
          [
           "fixed",
           2
          ],
          [
           "fixed",
           4
          ],
          [
           "fixed",
           3
          ]
         ],
         "hovertemplate": "sample=%{customdata[0]}<br>test-negative_log_predictive_density=%{y}<br>run=%{customdata[1]}<extra></extra>",
         "legendgroup": "fixed",
         "marker": {
          "color": "#00cc96",
          "size": 4
         },
         "name": "fixed",
         "notched": false,
         "offsetgroup": "fixed",
         "opacity": 0.6,
         "orientation": "v",
         "showlegend": true,
         "type": "box",
         "x0": " ",
         "xaxis": "x",
         "y": [
          -2.051859280615334,
          -2.007514182736845,
          -2.032483868499148,
          -1.9952399527841744,
          -2.029446451109693
         ],
         "y0": " ",
         "yaxis": "y"
        },
        {
         "alignmentgroup": "True",
         "customdata": [
          [
           "fixed rotated",
           1
          ],
          [
           "fixed rotated",
           0
          ],
          [
           "fixed rotated",
           2
          ],
          [
           "fixed rotated",
           5
          ],
          [
           "fixed rotated",
           4
          ],
          [
           "fixed rotated",
           3
          ]
         ],
         "hovertemplate": "sample=%{customdata[0]}<br>test-negative_log_predictive_density=%{y}<br>run=%{customdata[1]}<extra></extra>",
         "legendgroup": "fixed rotated",
         "marker": {
          "color": "#ab63fa",
          "size": 4
         },
         "name": "fixed rotated",
         "notched": false,
         "offsetgroup": "fixed rotated",
         "opacity": 0.6,
         "orientation": "v",
         "showlegend": true,
         "type": "box",
         "x0": " ",
         "xaxis": "x",
         "y": [
          -1.6881832239926442,
          -1.6850042082495489,
          -1.6688769814970434,
          -1.6881832239926442,
          -1.6881832239926442,
          -1.6381795624786832
         ],
         "y0": " ",
         "yaxis": "y"
        },
        {
         "alignmentgroup": "True",
         "boxpoints": "all",
         "customdata": [
          [
           "projected",
           1
          ],
          [
           "projected",
           0
          ],
          [
           "projected",
           2
          ],
          [
           "projected",
           4
          ],
          [
           "projected",
           3
          ]
         ],
         "fillcolor": "rgba(255,255,255,0)",
         "hoveron": "points",
         "hovertemplate": "sample=%{customdata[0]}<br>test-negative_log_predictive_density=%{y}<br>run=%{customdata[1]}<extra></extra>",
         "legendgroup": "projected",
         "line": {
          "color": "rgba(255,255,255,0)"
         },
         "marker": {
          "color": "#636efa",
          "size": 4
         },
         "name": "projected",
         "offsetgroup": "projected",
         "orientation": "v",
         "pointpos": 0,
         "showlegend": false,
         "type": "box",
         "x0": " ",
         "xaxis": "x",
         "y": [
          -1.710016878451586,
          -1.6860843475607372,
          -1.7227505654651112,
          -1.710016878451586,
          -1.6860843475607372
         ],
         "y0": " ",
         "yaxis": "y"
        },
        {
         "alignmentgroup": "True",
         "boxpoints": "all",
         "customdata": [
          [
           "parametrised",
           8
          ],
          [
           "parametrised",
           6
          ],
          [
           "parametrised",
           1
          ],
          [
           "parametrised",
           0
          ],
          [
           "parametrised",
           7
          ],
          [
           "parametrised",
           9
          ],
          [
           "parametrised",
           2
          ],
          [
           "parametrised",
           5
          ],
          [
           "parametrised",
           4
          ],
          [
           "parametrised",
           3
          ]
         ],
         "fillcolor": "rgba(255,255,255,0)",
         "hoveron": "points",
         "hovertemplate": "sample=%{customdata[0]}<br>test-negative_log_predictive_density=%{y}<br>run=%{customdata[1]}<extra></extra>",
         "legendgroup": "parametrised",
         "line": {
          "color": "rgba(255,255,255,0)"
         },
         "marker": {
          "color": "#EF553B",
          "size": 4
         },
         "name": "parametrised",
         "offsetgroup": "parametrised",
         "orientation": "v",
         "pointpos": 0,
         "showlegend": false,
         "type": "box",
         "x0": " ",
         "xaxis": "x",
         "y": [
          -1.7903371638394774,
          -1.7903371638394774,
          -1.982748477111085,
          -1.9773257393569597,
          -1.6168684276151422,
          -1.6168684276151422,
          -1.9596634767264127,
          -1.7903371638394774,
          -2.0294604333785324,
          -2.029243111875375
         ],
         "y0": " ",
         "yaxis": "y"
        },
        {
         "alignmentgroup": "True",
         "boxpoints": "all",
         "customdata": [
          [
           "fixed",
           1
          ],
          [
           "fixed",
           0
          ],
          [
           "fixed",
           2
          ],
          [
           "fixed",
           4
          ],
          [
           "fixed",
           3
          ]
         ],
         "fillcolor": "rgba(255,255,255,0)",
         "hoveron": "points",
         "hovertemplate": "sample=%{customdata[0]}<br>test-negative_log_predictive_density=%{y}<br>run=%{customdata[1]}<extra></extra>",
         "legendgroup": "fixed",
         "line": {
          "color": "rgba(255,255,255,0)"
         },
         "marker": {
          "color": "#00cc96",
          "size": 4
         },
         "name": "fixed",
         "offsetgroup": "fixed",
         "orientation": "v",
         "pointpos": 0,
         "showlegend": false,
         "type": "box",
         "x0": " ",
         "xaxis": "x",
         "y": [
          -2.051859280615334,
          -2.007514182736845,
          -2.032483868499148,
          -1.9952399527841744,
          -2.029446451109693
         ],
         "y0": " ",
         "yaxis": "y"
        },
        {
         "alignmentgroup": "True",
         "boxpoints": "all",
         "customdata": [
          [
           "fixed rotated",
           1
          ],
          [
           "fixed rotated",
           0
          ],
          [
           "fixed rotated",
           2
          ],
          [
           "fixed rotated",
           5
          ],
          [
           "fixed rotated",
           4
          ],
          [
           "fixed rotated",
           3
          ]
         ],
         "fillcolor": "rgba(255,255,255,0)",
         "hoveron": "points",
         "hovertemplate": "sample=%{customdata[0]}<br>test-negative_log_predictive_density=%{y}<br>run=%{customdata[1]}<extra></extra>",
         "legendgroup": "fixed rotated",
         "line": {
          "color": "rgba(255,255,255,0)"
         },
         "marker": {
          "color": "#ab63fa",
          "size": 4
         },
         "name": "fixed rotated",
         "offsetgroup": "fixed rotated",
         "orientation": "v",
         "pointpos": 0,
         "showlegend": false,
         "type": "box",
         "x0": " ",
         "xaxis": "x",
         "y": [
          -1.6881832239926442,
          -1.6850042082495489,
          -1.6688769814970434,
          -1.6881832239926442,
          -1.6881832239926442,
          -1.6381795624786832
         ],
         "y0": " ",
         "yaxis": "y"
        },
        {
         "line": {
          "color": "Gray",
          "dash": "dash",
          "width": 1
         },
         "marker": {
          "size": 4
         },
         "mode": "lines",
         "name": "GP Mean",
         "showlegend": true,
         "type": "scatter",
         "x": [
          null
         ],
         "y": [
          null
         ]
        }
       ],
       "layout": {
        "boxmode": "group",
        "font": {
         "family": "Computer Modern",
         "size": 10
        },
        "height": 196,
        "legend": {
         "font": {
          "size": 10
         },
         "title": {
          "font": {
           "size": 10
          },
          "text": "Coordinate Frame"
         },
         "tracegroupgap": 0,
         "x": 1.05,
         "y": 0.55,
         "yanchor": "middle"
        },
        "margin": {
         "b": 10,
         "l": 10,
         "r": 10,
         "t": 20
        },
        "shapes": [
         {
          "layer": "below",
          "line": {
           "color": "Gray",
           "dash": "dash",
           "width": 1
          },
          "name": "mean",
          "opacity": 0.8,
          "type": "line",
          "x0": -0.5,
          "x1": 0.5,
          "y0": -1.5228708709143273,
          "y1": -1.5228708709143273
         }
        ],
        "template": {
         "data": {
          "bar": [
           {
            "error_x": {
             "color": "#2a3f5f"
            },
            "error_y": {
             "color": "#2a3f5f"
            },
            "marker": {
             "line": {
              "color": "#E5ECF6",
              "width": 0.5
             },
             "pattern": {
              "fillmode": "overlay",
              "size": 10,
              "solidity": 0.2
             }
            },
            "type": "bar"
           }
          ],
          "barpolar": [
           {
            "marker": {
             "line": {
              "color": "#E5ECF6",
              "width": 0.5
             },
             "pattern": {
              "fillmode": "overlay",
              "size": 10,
              "solidity": 0.2
             }
            },
            "type": "barpolar"
           }
          ],
          "carpet": [
           {
            "aaxis": {
             "endlinecolor": "#2a3f5f",
             "gridcolor": "white",
             "linecolor": "white",
             "minorgridcolor": "white",
             "startlinecolor": "#2a3f5f"
            },
            "baxis": {
             "endlinecolor": "#2a3f5f",
             "gridcolor": "white",
             "linecolor": "white",
             "minorgridcolor": "white",
             "startlinecolor": "#2a3f5f"
            },
            "type": "carpet"
           }
          ],
          "choropleth": [
           {
            "colorbar": {
             "outlinewidth": 0,
             "ticks": ""
            },
            "type": "choropleth"
           }
          ],
          "contour": [
           {
            "colorbar": {
             "outlinewidth": 0,
             "ticks": ""
            },
            "colorscale": [
             [
              0,
              "#0d0887"
             ],
             [
              0.1111111111111111,
              "#46039f"
             ],
             [
              0.2222222222222222,
              "#7201a8"
             ],
             [
              0.3333333333333333,
              "#9c179e"
             ],
             [
              0.4444444444444444,
              "#bd3786"
             ],
             [
              0.5555555555555556,
              "#d8576b"
             ],
             [
              0.6666666666666666,
              "#ed7953"
             ],
             [
              0.7777777777777778,
              "#fb9f3a"
             ],
             [
              0.8888888888888888,
              "#fdca26"
             ],
             [
              1,
              "#f0f921"
             ]
            ],
            "type": "contour"
           }
          ],
          "contourcarpet": [
           {
            "colorbar": {
             "outlinewidth": 0,
             "ticks": ""
            },
            "type": "contourcarpet"
           }
          ],
          "heatmap": [
           {
            "colorbar": {
             "outlinewidth": 0,
             "ticks": ""
            },
            "colorscale": [
             [
              0,
              "#0d0887"
             ],
             [
              0.1111111111111111,
              "#46039f"
             ],
             [
              0.2222222222222222,
              "#7201a8"
             ],
             [
              0.3333333333333333,
              "#9c179e"
             ],
             [
              0.4444444444444444,
              "#bd3786"
             ],
             [
              0.5555555555555556,
              "#d8576b"
             ],
             [
              0.6666666666666666,
              "#ed7953"
             ],
             [
              0.7777777777777778,
              "#fb9f3a"
             ],
             [
              0.8888888888888888,
              "#fdca26"
             ],
             [
              1,
              "#f0f921"
             ]
            ],
            "type": "heatmap"
           }
          ],
          "heatmapgl": [
           {
            "colorbar": {
             "outlinewidth": 0,
             "ticks": ""
            },
            "colorscale": [
             [
              0,
              "#0d0887"
             ],
             [
              0.1111111111111111,
              "#46039f"
             ],
             [
              0.2222222222222222,
              "#7201a8"
             ],
             [
              0.3333333333333333,
              "#9c179e"
             ],
             [
              0.4444444444444444,
              "#bd3786"
             ],
             [
              0.5555555555555556,
              "#d8576b"
             ],
             [
              0.6666666666666666,
              "#ed7953"
             ],
             [
              0.7777777777777778,
              "#fb9f3a"
             ],
             [
              0.8888888888888888,
              "#fdca26"
             ],
             [
              1,
              "#f0f921"
             ]
            ],
            "type": "heatmapgl"
           }
          ],
          "histogram": [
           {
            "marker": {
             "pattern": {
              "fillmode": "overlay",
              "size": 10,
              "solidity": 0.2
             }
            },
            "type": "histogram"
           }
          ],
          "histogram2d": [
           {
            "colorbar": {
             "outlinewidth": 0,
             "ticks": ""
            },
            "colorscale": [
             [
              0,
              "#0d0887"
             ],
             [
              0.1111111111111111,
              "#46039f"
             ],
             [
              0.2222222222222222,
              "#7201a8"
             ],
             [
              0.3333333333333333,
              "#9c179e"
             ],
             [
              0.4444444444444444,
              "#bd3786"
             ],
             [
              0.5555555555555556,
              "#d8576b"
             ],
             [
              0.6666666666666666,
              "#ed7953"
             ],
             [
              0.7777777777777778,
              "#fb9f3a"
             ],
             [
              0.8888888888888888,
              "#fdca26"
             ],
             [
              1,
              "#f0f921"
             ]
            ],
            "type": "histogram2d"
           }
          ],
          "histogram2dcontour": [
           {
            "colorbar": {
             "outlinewidth": 0,
             "ticks": ""
            },
            "colorscale": [
             [
              0,
              "#0d0887"
             ],
             [
              0.1111111111111111,
              "#46039f"
             ],
             [
              0.2222222222222222,
              "#7201a8"
             ],
             [
              0.3333333333333333,
              "#9c179e"
             ],
             [
              0.4444444444444444,
              "#bd3786"
             ],
             [
              0.5555555555555556,
              "#d8576b"
             ],
             [
              0.6666666666666666,
              "#ed7953"
             ],
             [
              0.7777777777777778,
              "#fb9f3a"
             ],
             [
              0.8888888888888888,
              "#fdca26"
             ],
             [
              1,
              "#f0f921"
             ]
            ],
            "type": "histogram2dcontour"
           }
          ],
          "mesh3d": [
           {
            "colorbar": {
             "outlinewidth": 0,
             "ticks": ""
            },
            "type": "mesh3d"
           }
          ],
          "parcoords": [
           {
            "line": {
             "colorbar": {
              "outlinewidth": 0,
              "ticks": ""
             }
            },
            "type": "parcoords"
           }
          ],
          "pie": [
           {
            "automargin": true,
            "type": "pie"
           }
          ],
          "scatter": [
           {
            "fillpattern": {
             "fillmode": "overlay",
             "size": 10,
             "solidity": 0.2
            },
            "type": "scatter"
           }
          ],
          "scatter3d": [
           {
            "line": {
             "colorbar": {
              "outlinewidth": 0,
              "ticks": ""
             }
            },
            "marker": {
             "colorbar": {
              "outlinewidth": 0,
              "ticks": ""
             }
            },
            "type": "scatter3d"
           }
          ],
          "scattercarpet": [
           {
            "marker": {
             "colorbar": {
              "outlinewidth": 0,
              "ticks": ""
             }
            },
            "type": "scattercarpet"
           }
          ],
          "scattergeo": [
           {
            "marker": {
             "colorbar": {
              "outlinewidth": 0,
              "ticks": ""
             }
            },
            "type": "scattergeo"
           }
          ],
          "scattergl": [
           {
            "marker": {
             "colorbar": {
              "outlinewidth": 0,
              "ticks": ""
             }
            },
            "type": "scattergl"
           }
          ],
          "scattermapbox": [
           {
            "marker": {
             "colorbar": {
              "outlinewidth": 0,
              "ticks": ""
             }
            },
            "type": "scattermapbox"
           }
          ],
          "scatterpolar": [
           {
            "marker": {
             "colorbar": {
              "outlinewidth": 0,
              "ticks": ""
             }
            },
            "type": "scatterpolar"
           }
          ],
          "scatterpolargl": [
           {
            "marker": {
             "colorbar": {
              "outlinewidth": 0,
              "ticks": ""
             }
            },
            "type": "scatterpolargl"
           }
          ],
          "scatterternary": [
           {
            "marker": {
             "colorbar": {
              "outlinewidth": 0,
              "ticks": ""
             }
            },
            "type": "scatterternary"
           }
          ],
          "surface": [
           {
            "colorbar": {
             "outlinewidth": 0,
             "ticks": ""
            },
            "colorscale": [
             [
              0,
              "#0d0887"
             ],
             [
              0.1111111111111111,
              "#46039f"
             ],
             [
              0.2222222222222222,
              "#7201a8"
             ],
             [
              0.3333333333333333,
              "#9c179e"
             ],
             [
              0.4444444444444444,
              "#bd3786"
             ],
             [
              0.5555555555555556,
              "#d8576b"
             ],
             [
              0.6666666666666666,
              "#ed7953"
             ],
             [
              0.7777777777777778,
              "#fb9f3a"
             ],
             [
              0.8888888888888888,
              "#fdca26"
             ],
             [
              1,
              "#f0f921"
             ]
            ],
            "type": "surface"
           }
          ],
          "table": [
           {
            "cells": {
             "fill": {
              "color": "#EBF0F8"
             },
             "line": {
              "color": "white"
             }
            },
            "header": {
             "fill": {
              "color": "#C8D4E3"
             },
             "line": {
              "color": "white"
             }
            },
            "type": "table"
           }
          ]
         },
         "layout": {
          "annotationdefaults": {
           "arrowcolor": "#2a3f5f",
           "arrowhead": 0,
           "arrowwidth": 1
          },
          "autotypenumbers": "strict",
          "coloraxis": {
           "colorbar": {
            "outlinewidth": 0,
            "ticks": ""
           }
          },
          "colorscale": {
           "diverging": [
            [
             0,
             "#8e0152"
            ],
            [
             0.1,
             "#c51b7d"
            ],
            [
             0.2,
             "#de77ae"
            ],
            [
             0.3,
             "#f1b6da"
            ],
            [
             0.4,
             "#fde0ef"
            ],
            [
             0.5,
             "#f7f7f7"
            ],
            [
             0.6,
             "#e6f5d0"
            ],
            [
             0.7,
             "#b8e186"
            ],
            [
             0.8,
             "#7fbc41"
            ],
            [
             0.9,
             "#4d9221"
            ],
            [
             1,
             "#276419"
            ]
           ],
           "sequential": [
            [
             0,
             "#0d0887"
            ],
            [
             0.1111111111111111,
             "#46039f"
            ],
            [
             0.2222222222222222,
             "#7201a8"
            ],
            [
             0.3333333333333333,
             "#9c179e"
            ],
            [
             0.4444444444444444,
             "#bd3786"
            ],
            [
             0.5555555555555556,
             "#d8576b"
            ],
            [
             0.6666666666666666,
             "#ed7953"
            ],
            [
             0.7777777777777778,
             "#fb9f3a"
            ],
            [
             0.8888888888888888,
             "#fdca26"
            ],
            [
             1,
             "#f0f921"
            ]
           ],
           "sequentialminus": [
            [
             0,
             "#0d0887"
            ],
            [
             0.1111111111111111,
             "#46039f"
            ],
            [
             0.2222222222222222,
             "#7201a8"
            ],
            [
             0.3333333333333333,
             "#9c179e"
            ],
            [
             0.4444444444444444,
             "#bd3786"
            ],
            [
             0.5555555555555556,
             "#d8576b"
            ],
            [
             0.6666666666666666,
             "#ed7953"
            ],
            [
             0.7777777777777778,
             "#fb9f3a"
            ],
            [
             0.8888888888888888,
             "#fdca26"
            ],
            [
             1,
             "#f0f921"
            ]
           ]
          },
          "colorway": [
           "#636efa",
           "#EF553B",
           "#00cc96",
           "#ab63fa",
           "#FFA15A",
           "#19d3f3",
           "#FF6692",
           "#B6E880",
           "#FF97FF",
           "#FECB52"
          ],
          "font": {
           "color": "#2a3f5f"
          },
          "geo": {
           "bgcolor": "white",
           "lakecolor": "white",
           "landcolor": "#E5ECF6",
           "showlakes": true,
           "showland": true,
           "subunitcolor": "white"
          },
          "hoverlabel": {
           "align": "left"
          },
          "hovermode": "closest",
          "mapbox": {
           "style": "light"
          },
          "paper_bgcolor": "white",
          "plot_bgcolor": "#E5ECF6",
          "polar": {
           "angularaxis": {
            "gridcolor": "white",
            "linecolor": "white",
            "ticks": ""
           },
           "bgcolor": "#E5ECF6",
           "radialaxis": {
            "gridcolor": "white",
            "linecolor": "white",
            "ticks": ""
           }
          },
          "scene": {
           "xaxis": {
            "backgroundcolor": "#E5ECF6",
            "gridcolor": "white",
            "gridwidth": 2,
            "linecolor": "white",
            "showbackground": true,
            "ticks": "",
            "zerolinecolor": "white"
           },
           "yaxis": {
            "backgroundcolor": "#E5ECF6",
            "gridcolor": "white",
            "gridwidth": 2,
            "linecolor": "white",
            "showbackground": true,
            "ticks": "",
            "zerolinecolor": "white"
           },
           "zaxis": {
            "backgroundcolor": "#E5ECF6",
            "gridcolor": "white",
            "gridwidth": 2,
            "linecolor": "white",
            "showbackground": true,
            "ticks": "",
            "zerolinecolor": "white"
           }
          },
          "shapedefaults": {
           "line": {
            "color": "#2a3f5f"
           }
          },
          "ternary": {
           "aaxis": {
            "gridcolor": "white",
            "linecolor": "white",
            "ticks": ""
           },
           "baxis": {
            "gridcolor": "white",
            "linecolor": "white",
            "ticks": ""
           },
           "bgcolor": "#E5ECF6",
           "caxis": {
            "gridcolor": "white",
            "linecolor": "white",
            "ticks": ""
           }
          },
          "title": {
           "x": 0.05
          },
          "xaxis": {
           "automargin": true,
           "gridcolor": "white",
           "linecolor": "white",
           "ticks": "",
           "title": {
            "standoff": 15
           },
           "zerolinecolor": "white",
           "zerolinewidth": 2
          },
          "yaxis": {
           "automargin": true,
           "gridcolor": "white",
           "linecolor": "white",
           "ticks": "",
           "title": {
            "standoff": 15
           },
           "zerolinecolor": "white",
           "zerolinewidth": 2
          }
         }
        },
        "title": {
         "font": {
          "size": 12
         },
         "text": "NLPD by GVF Construction for One Hidden Layer"
        },
        "width": 280,
        "xaxis": {
         "anchor": "y",
         "domain": [
          0,
          1
         ],
         "tickfont": {
          "size": 10
         },
         "title": {
          "font": {
           "size": 10
          },
          "standoff": 5
         }
        },
        "yaxis": {
         "anchor": "x",
         "domain": [
          0,
          1
         ],
         "tickfont": {
          "size": 10
         },
         "title": {
          "font": {
           "size": 10
          },
          "standoff": 5,
          "text": "NLPD"
         }
        }
       }
      }
     },
     "metadata": {},
     "output_type": "display_data"
    }
   ],
   "source": [
    "df = data[data['num_hidden'] == 1]\n",
    "df = df[df['sample'].isin({'rotated', 'intrinsic', 'parametrised', 'naive'})]\n",
    "df['sample'] = df['sample'].map({'naive': 'projected', 'intrinsic': 'fixed', 'rotated': 'fixed rotated', 'parametrised': 'parametrised'})\n",
    "df = df[['sample', 'run', 'test-negative_log_predictive_density']]\n",
    "\n",
    "fig = px.box(df, y=\"test-negative_log_predictive_density\", color=\"sample\", hover_data=df.columns)\n",
    "\n",
    "# Add each box trace to the new figure\n",
    "for trace in fig.data:\n",
    "    trace.opacity = 0.6\n",
    "\n",
    "# Overlay a scatter plot on top of the box plot\n",
    "scatter_fig = px.strip(df, y=\"test-negative_log_predictive_density\", color=\"sample\", hover_data=df.columns)\n",
    "for trace in scatter_fig.data:\n",
    "    trace.showlegend=False\n",
    "    fig.add_trace(trace)\n",
    "\n",
    "\n",
    "mean = data['test-negative_log_predictive_density'][data['num_hidden'] == 0].mean()\n",
    "fig.add_shape(\n",
    "    type='line',\n",
    "    y0=mean, y1=mean,\n",
    "    x0=-.5, x1=0.5,\n",
    "    line=dict(\n",
    "        color='Gray',\n",
    "        width=1,\n",
    "        dash=\"dash\",\n",
    "    ), \n",
    "    layer='below',\n",
    "    name='mean',\n",
    "    opacity=0.8,\n",
    ")\n",
    "fig.add_trace(go.Scatter(\n",
    "    x=[None],\n",
    "    y=[None],\n",
    "    mode='lines',\n",
    "    line=dict(\n",
    "        color=\"Gray\", \n",
    "        width=1, \n",
    "        dash=\"dash\",\n",
    "    ),\n",
    "    showlegend=True,\n",
    "    name='GP Mean',\n",
    "))\n",
    "\n",
    "\n",
    "fig.update_layout(\n",
    "    font_family=\"Computer Modern\",\n",
    "    title=dict(\n",
    "        text=\"NLPD by GVF Construction for One Hidden Layer\",\n",
    "        # xanchor='center', \n",
    "        # y=0.96\n",
    "    ),\n",
    "    legend=dict(\n",
    "        title=\"Coordinate Frame\", \n",
    "        x=1.05, \n",
    "        y=0.55,\n",
    "        yanchor='middle',\n",
    "    ),\n",
    "    yaxis_title=dict(\n",
    "        text=\"NLPD\", \n",
    "    ),\n",
    ")\n",
    "\n",
    "# Max width 453\n",
    "width = 280\n",
    "ratio = 0.7\n",
    "height = width * ratio\n",
    "fig.update_layout(\n",
    "    width=width,\n",
    "    height=height,\n",
    "    title_font_size=12,\n",
    "    xaxis_title_font_size=10,\n",
    "    xaxis_tickfont_size=10,\n",
    "    yaxis_title_font_size=10,\n",
    "    yaxis_tickfont_size=10,\n",
    "    legend_font_size=10, \n",
    "    legend_title_font_size=10,\n",
    "    font_size=10,\n",
    "    xaxis_title_standoff=5,  # Adjust this value for the x-axis title\n",
    "    yaxis_title_standoff=5,   # Adjust this value for the y-axis title\n",
    "    margin=dict(b=10, l=10, r=10, t=20),\n",
    "    legend_tracegroupgap=0,\n",
    ")\n",
    "fig.update_traces({'marker':{'size': 4}})\n",
    "\n",
    "fig.show()\n",
    "fig.write_image('../report_plots/nlpd_by_gvf_construction_one_hidden.pdf', scale=6, height=height, width=width)"
   ]
  }
 ],
 "metadata": {
  "kernelspec": {
   "display_name": "mdgp",
   "language": "python",
   "name": "python3"
  },
  "language_info": {
   "codemirror_mode": {
    "name": "ipython",
    "version": 3
   },
   "file_extension": ".py",
   "mimetype": "text/x-python",
   "name": "python",
   "nbconvert_exporter": "python",
   "pygments_lexer": "ipython3",
   "version": "3.10.12"
  },
  "orig_nbformat": 4
 },
 "nbformat": 4,
 "nbformat_minor": 2
}
