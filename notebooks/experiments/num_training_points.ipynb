{
 "cells": [
  {
   "cell_type": "markdown",
   "metadata": {},
   "source": [
    "# Validation metrics "
   ]
  },
  {
   "cell_type": "code",
   "execution_count": 152,
   "metadata": {},
   "outputs": [],
   "source": [
    "import pandas as pd \n",
    "import os \n",
    "\n",
    "\n",
    "def parse_experiment_name(filename): \n",
    "    num_train, model, dataset, num_hidden, outputscale = filename.split('-')\n",
    "    num_hidden = num_hidden.split(\"=\")[1]\n",
    "    outputscale = outputscale.split(\"=\")[1]\n",
    "    num_train = num_train.split(\"=\")[1]\n",
    "    return num_train, model, dataset, num_hidden, outputscale\n",
    "\n",
    "\n",
    "root_dir = '../logs/csv/test/'\n",
    "\n",
    "dfs = []\n",
    "for experiment_name in os.listdir(root_dir): \n",
    "    # exclude performance vs depth experiments \n",
    "    if experiment_name.startswith('naive'): \n",
    "        parse_name = 'num_train=400-' + '-'.join(experiment_name.split('-')[1:])\n",
    "    elif experiment_name.startswith('num_train=200') or experiment_name.startswith('num_train=100'): \n",
    "        if experiment_name.endswith(\"'naive'\"): \n",
    "            parse_name = '-'.join(experiment_name.split('-')[:-1])\n",
    "        else: \n",
    "            parse_name = experiment_name\n",
    "    else: \n",
    "        continue \n",
    "\n",
    "    num_train, model, dataset, num_hidden, outputscale = parse_experiment_name(parse_name)\n",
    "    experiment_path = os.path.join(root_dir, experiment_name)\n",
    "    for version in os.listdir(experiment_path):\n",
    "        experiment_df = pd.DataFrame.from_dict(dict(\n",
    "            num_train=[num_train], model=[model], dataset=[dataset], num_hidden=[num_hidden], outputscale=[outputscale], run=[version.split('_')[1]]\n",
    "        ))\n",
    "        file_path = os.path.join(experiment_path, version, 'metrics.csv')\n",
    "        if os.path.exists(file_path):\n",
    "            metrics_df = pd.read_csv(file_path)\n",
    "            df = pd.concat([experiment_df, metrics_df], axis=1)\n",
    "            dfs.append(df)\n",
    "\n",
    "data = pd.concat(dfs).fillna(method='ffill')\n",
    "data['num_hidden'] = data['num_hidden'].astype(int)\n",
    "data_smooth = data[data['dataset'] == 'smooth']\n",
    "data = data[(data['num_hidden'] < 5) & (data['dataset'] == 'singular')]"
   ]
  },
  {
   "cell_type": "code",
   "execution_count": 202,
   "metadata": {},
   "outputs": [
    {
     "data": {
      "application/vnd.plotly.v1+json": {
       "config": {
        "plotlyServerURL": "https://plot.ly"
       },
       "data": [
        {
         "alignmentgroup": "True",
         "customdata": [
          [
           "400",
           "geometric_manifold",
           "smooth",
           "0.01",
           "1",
           2.40853855453384,
           0.0146474683898929,
           0.0003408820040595,
           0.0085331464486892,
           -2.262141905048661,
           0.0454,
           0
          ],
          [
           "400",
           "geometric_manifold",
           "smooth",
           "0.01",
           "0",
           2.406034602747979,
           0.0143795983776219,
           0.0003337934859967,
           0.0083990135699462,
           -2.2540987278031457,
           0.044,
           0
          ],
          [
           "400",
           "geometric_manifold",
           "smooth",
           "0.01",
           "2",
           2.3346980803621307,
           0.0149580259316874,
           0.0003574107735275,
           0.0089525153361862,
           -2.180310922042918,
           0.0475,
           0
          ],
          [
           "400",
           "geometric_manifold",
           "smooth",
           "0.01",
           "4",
           2.2035550346191246,
           0.0168355514895848,
           0.0004519305024637,
           0.011339156715576,
           -2.041724439487628,
           0.04865,
           0
          ],
          [
           "400",
           "geometric_manifold",
           "smooth",
           "0.01",
           "3",
           2.432251654247158,
           0.0139715697785699,
           0.0003163722862343,
           0.007927585753864,
           -2.2860755033096978,
           0.043,
           0
          ],
          [
           "400",
           "geometric_manifold",
           "smooth",
           "0.01",
           "1",
           2.841652577180782,
           0.0083858995792526,
           0.0001095571367546,
           0.002754976227973,
           -2.674612541258051,
           0.0498,
           0
          ],
          [
           "400",
           "geometric_manifold",
           "smooth",
           "0.01",
           "0",
           2.8215611557582223,
           0.0087438287366006,
           0.0001199231513357,
           0.002999120742526,
           -2.658446388365029,
           0.04945,
           0
          ],
          [
           "400",
           "geometric_manifold",
           "smooth",
           "0.01",
           "2",
           2.8074390330110317,
           0.0083663668241074,
           0.0001099423344119,
           0.002765037275693,
           -2.6375767239304557,
           0.04995,
           0
          ],
          [
           "400",
           "geometric_manifold",
           "smooth",
           "0.01",
           "4",
           2.7086756408360184,
           0.008812674347623,
           0.0001210654273441,
           0.0030352891402844,
           -2.5368651945124747,
           0.05,
           0
          ],
          [
           "400",
           "geometric_manifold",
           "smooth",
           "0.01",
           "3",
           2.79113972017006,
           0.0084664133160702,
           0.0001127978479848,
           0.0028261879611382,
           -2.623205485522154,
           0.05,
           0
          ],
          [
           "400",
           "geometric_manifold",
           "smooth",
           "0.01",
           "1",
           2.872548631989193,
           0.0083597792670701,
           0.0001085863003959,
           0.0027259265632717,
           -2.7061919086819257,
           0.0495000000000001,
           0
          ],
          [
           "400",
           "geometric_manifold",
           "smooth",
           "0.01",
           "0",
           2.7192829405159697,
           0.0086194785304694,
           0.0001145409309601,
           0.0028653440070168,
           -2.546669263602237,
           0.0495000000000001,
           0
          ],
          [
           "400",
           "geometric_manifold",
           "smooth",
           "0.01",
           "2",
           2.8795855084229167,
           0.0083887694877852,
           0.0001119897233973,
           0.0028165071165794,
           -2.71374235542462,
           0.04895,
           0
          ],
          [
           "400",
           "geometric_manifold",
           "smooth",
           "0.01",
           "4",
           2.8397087332976536,
           0.0083250364348847,
           0.0001077166089259,
           0.0027096617060922,
           -2.669460958477055,
           0.04945,
           0
          ],
          [
           "400",
           "geometric_manifold",
           "smooth",
           "0.01",
           "3",
           2.775926411617154,
           0.0084563029378945,
           0.0001122896562529,
           0.0028052161076139,
           -2.606269713287369,
           0.04985,
           0
          ],
          [
           "400",
           "geometric_manifold",
           "smooth",
           "0.01",
           "1",
           2.3658109348701384,
           0.0169372048086562,
           0.0004542368366807,
           0.0113737827117916,
           -2.196689934707699,
           0.03305,
           0
          ],
          [
           "400",
           "geometric_manifold",
           "smooth",
           "0.01",
           "0",
           1.2010510537041388,
           0.0516170674258312,
           0.005096141866483,
           0.1276622368145762,
           -1.045528833484892,
           0.0106,
           0
          ],
          [
           "400",
           "geometric_manifold",
           "smooth",
           "0.01",
           "2",
           2.320002452986204,
           0.0179330918532997,
           0.0005013579351579,
           0.012586070434521,
           -2.1524228344107543,
           0.03565,
           0
          ],
          [
           "400",
           "geometric_manifold",
           "smooth",
           "0.01",
           "4",
           2.137754686800822,
           0.021311802860972,
           0.0007019242095773,
           0.017603037707231,
           -1.96481506802432,
           0.0397,
           0
          ],
          [
           "400",
           "geometric_manifold",
           "smooth",
           "0.01",
           "3",
           1.4173720479074203,
           0.0419351718084345,
           0.0031354387222242,
           0.0786523233383078,
           -1.2414680386912011,
           0.01875,
           0
          ]
         ],
         "hovertemplate": "outputscale=%{customdata[3]}<br>num_hidden=%{x}<br>test-negative_log_predictive_density=%{y}<br>num_train=%{customdata[0]}<br>model=%{customdata[1]}<br>dataset=%{customdata[2]}<br>run=%{customdata[4]}<br>test-expected_log_probability=%{customdata[5]}<br>test-mean_absolute_error=%{customdata[6]}<br>test-mean_squared_error=%{customdata[7]}<br>test-standardized_mean_squared_error=%{customdata[8]}<br>test-mean_standardized_log_loss=%{customdata[9]}<br>test-quantile_coverage_error=%{customdata[10]}<br>step=%{customdata[11]}<extra></extra>",
         "legendgroup": "0.01",
         "marker": {
          "color": "#636efa"
         },
         "name": "0.01",
         "notched": false,
         "offsetgroup": "0.01",
         "opacity": 0.6,
         "orientation": "v",
         "showlegend": false,
         "type": "box",
         "x": [
          3,
          3,
          3,
          3,
          3,
          2,
          2,
          2,
          2,
          2,
          1,
          1,
          1,
          1,
          1,
          4,
          4,
          4,
          4,
          4
         ],
         "x0": " ",
         "xaxis": "x",
         "y": [
          -2.5449252863313867,
          -2.5369283715749096,
          -2.456745963154149,
          -2.3187180021170666,
          -2.561936733413112,
          -2.907302875888369,
          -2.8900744625894723,
          -2.8664294302382944,
          -2.772872202682989,
          -2.8520011076875584,
          -2.931481928931158,
          -2.777424690395533,
          -2.945813466065703,
          -2.899182859850915,
          -2.8326803260730777,
          -2.427347296245474,
          -1.258378118283162,
          -2.387985873585077,
          -2.203132431821221,
          -1.48088051891459
         ],
         "y0": " ",
         "yaxis": "y"
        },
        {
         "alignmentgroup": "True",
         "boxpoints": "all",
         "customdata": [
          [
           "400",
           "geometric_manifold",
           "smooth",
           "0.01",
           "1",
           2.40853855453384,
           0.0146474683898929,
           0.0003408820040595,
           0.0085331464486892,
           -2.262141905048661,
           0.0454,
           0
          ],
          [
           "400",
           "geometric_manifold",
           "smooth",
           "0.01",
           "0",
           2.406034602747979,
           0.0143795983776219,
           0.0003337934859967,
           0.0083990135699462,
           -2.2540987278031457,
           0.044,
           0
          ],
          [
           "400",
           "geometric_manifold",
           "smooth",
           "0.01",
           "2",
           2.3346980803621307,
           0.0149580259316874,
           0.0003574107735275,
           0.0089525153361862,
           -2.180310922042918,
           0.0475,
           0
          ],
          [
           "400",
           "geometric_manifold",
           "smooth",
           "0.01",
           "4",
           2.2035550346191246,
           0.0168355514895848,
           0.0004519305024637,
           0.011339156715576,
           -2.041724439487628,
           0.04865,
           0
          ],
          [
           "400",
           "geometric_manifold",
           "smooth",
           "0.01",
           "3",
           2.432251654247158,
           0.0139715697785699,
           0.0003163722862343,
           0.007927585753864,
           -2.2860755033096978,
           0.043,
           0
          ],
          [
           "400",
           "geometric_manifold",
           "smooth",
           "0.01",
           "1",
           2.841652577180782,
           0.0083858995792526,
           0.0001095571367546,
           0.002754976227973,
           -2.674612541258051,
           0.0498,
           0
          ],
          [
           "400",
           "geometric_manifold",
           "smooth",
           "0.01",
           "0",
           2.8215611557582223,
           0.0087438287366006,
           0.0001199231513357,
           0.002999120742526,
           -2.658446388365029,
           0.04945,
           0
          ],
          [
           "400",
           "geometric_manifold",
           "smooth",
           "0.01",
           "2",
           2.8074390330110317,
           0.0083663668241074,
           0.0001099423344119,
           0.002765037275693,
           -2.6375767239304557,
           0.04995,
           0
          ],
          [
           "400",
           "geometric_manifold",
           "smooth",
           "0.01",
           "4",
           2.7086756408360184,
           0.008812674347623,
           0.0001210654273441,
           0.0030352891402844,
           -2.5368651945124747,
           0.05,
           0
          ],
          [
           "400",
           "geometric_manifold",
           "smooth",
           "0.01",
           "3",
           2.79113972017006,
           0.0084664133160702,
           0.0001127978479848,
           0.0028261879611382,
           -2.623205485522154,
           0.05,
           0
          ],
          [
           "400",
           "geometric_manifold",
           "smooth",
           "0.01",
           "1",
           2.872548631989193,
           0.0083597792670701,
           0.0001085863003959,
           0.0027259265632717,
           -2.7061919086819257,
           0.0495000000000001,
           0
          ],
          [
           "400",
           "geometric_manifold",
           "smooth",
           "0.01",
           "0",
           2.7192829405159697,
           0.0086194785304694,
           0.0001145409309601,
           0.0028653440070168,
           -2.546669263602237,
           0.0495000000000001,
           0
          ],
          [
           "400",
           "geometric_manifold",
           "smooth",
           "0.01",
           "2",
           2.8795855084229167,
           0.0083887694877852,
           0.0001119897233973,
           0.0028165071165794,
           -2.71374235542462,
           0.04895,
           0
          ],
          [
           "400",
           "geometric_manifold",
           "smooth",
           "0.01",
           "4",
           2.8397087332976536,
           0.0083250364348847,
           0.0001077166089259,
           0.0027096617060922,
           -2.669460958477055,
           0.04945,
           0
          ],
          [
           "400",
           "geometric_manifold",
           "smooth",
           "0.01",
           "3",
           2.775926411617154,
           0.0084563029378945,
           0.0001122896562529,
           0.0028052161076139,
           -2.606269713287369,
           0.04985,
           0
          ],
          [
           "400",
           "geometric_manifold",
           "smooth",
           "0.01",
           "1",
           2.3658109348701384,
           0.0169372048086562,
           0.0004542368366807,
           0.0113737827117916,
           -2.196689934707699,
           0.03305,
           0
          ],
          [
           "400",
           "geometric_manifold",
           "smooth",
           "0.01",
           "0",
           1.2010510537041388,
           0.0516170674258312,
           0.005096141866483,
           0.1276622368145762,
           -1.045528833484892,
           0.0106,
           0
          ],
          [
           "400",
           "geometric_manifold",
           "smooth",
           "0.01",
           "2",
           2.320002452986204,
           0.0179330918532997,
           0.0005013579351579,
           0.012586070434521,
           -2.1524228344107543,
           0.03565,
           0
          ],
          [
           "400",
           "geometric_manifold",
           "smooth",
           "0.01",
           "4",
           2.137754686800822,
           0.021311802860972,
           0.0007019242095773,
           0.017603037707231,
           -1.96481506802432,
           0.0397,
           0
          ],
          [
           "400",
           "geometric_manifold",
           "smooth",
           "0.01",
           "3",
           1.4173720479074203,
           0.0419351718084345,
           0.0031354387222242,
           0.0786523233383078,
           -1.2414680386912011,
           0.01875,
           0
          ]
         ],
         "fillcolor": "rgba(255,255,255,0)",
         "hoveron": "points",
         "hovertemplate": "outputscale=%{customdata[3]}<br>num_hidden=%{x}<br>test-negative_log_predictive_density=%{y}<br>num_train=%{customdata[0]}<br>model=%{customdata[1]}<br>dataset=%{customdata[2]}<br>run=%{customdata[4]}<br>test-expected_log_probability=%{customdata[5]}<br>test-mean_absolute_error=%{customdata[6]}<br>test-mean_squared_error=%{customdata[7]}<br>test-standardized_mean_squared_error=%{customdata[8]}<br>test-mean_standardized_log_loss=%{customdata[9]}<br>test-quantile_coverage_error=%{customdata[10]}<br>step=%{customdata[11]}<extra></extra>",
         "legendgroup": "0.01",
         "line": {
          "color": "rgba(255,255,255,0)"
         },
         "marker": {
          "color": "#636efa"
         },
         "name": "0.01",
         "offsetgroup": "0.01",
         "orientation": "v",
         "pointpos": 0,
         "showlegend": false,
         "type": "box",
         "x": [
          3,
          3,
          3,
          3,
          3,
          2,
          2,
          2,
          2,
          2,
          1,
          1,
          1,
          1,
          1,
          4,
          4,
          4,
          4,
          4
         ],
         "x0": " ",
         "xaxis": "x",
         "y": [
          -2.5449252863313867,
          -2.5369283715749096,
          -2.456745963154149,
          -2.3187180021170666,
          -2.561936733413112,
          -2.907302875888369,
          -2.8900744625894723,
          -2.8664294302382944,
          -2.772872202682989,
          -2.8520011076875584,
          -2.931481928931158,
          -2.777424690395533,
          -2.945813466065703,
          -2.899182859850915,
          -2.8326803260730777,
          -2.427347296245474,
          -1.258378118283162,
          -2.387985873585077,
          -2.203132431821221,
          -1.48088051891459
         ],
         "y0": " ",
         "yaxis": "y"
        },
        {
         "line": {
          "color": "Gray",
          "dash": "dash",
          "width": 2
         },
         "mode": "lines",
         "name": "GP Mean",
         "showlegend": true,
         "type": "scatter",
         "x": [
          null
         ],
         "y": [
          null
         ]
        }
       ],
       "layout": {
        "font": {
         "family": "Serif",
         "size": 14
        },
        "height": 350,
        "legend": {
         "bgcolor": "rgba(255,255,255,0.3)",
         "orientation": "h",
         "x": 0,
         "xanchor": "left",
         "y": 1,
         "yanchor": "top"
        },
        "shapes": [
         {
          "layer": "below",
          "line": {
           "color": "Gray",
           "dash": "dash",
           "width": 2
          },
          "name": "mean",
          "opacity": 0.8,
          "type": "line",
          "x0": 0.5,
          "x1": 4.5,
          "y0": -2.928177953375691,
          "y1": -2.928177953375691
         }
        ],
        "template": {
         "data": {
          "bar": [
           {
            "error_x": {
             "color": "#2a3f5f"
            },
            "error_y": {
             "color": "#2a3f5f"
            },
            "marker": {
             "line": {
              "color": "#E5ECF6",
              "width": 0.5
             },
             "pattern": {
              "fillmode": "overlay",
              "size": 10,
              "solidity": 0.2
             }
            },
            "type": "bar"
           }
          ],
          "barpolar": [
           {
            "marker": {
             "line": {
              "color": "#E5ECF6",
              "width": 0.5
             },
             "pattern": {
              "fillmode": "overlay",
              "size": 10,
              "solidity": 0.2
             }
            },
            "type": "barpolar"
           }
          ],
          "carpet": [
           {
            "aaxis": {
             "endlinecolor": "#2a3f5f",
             "gridcolor": "white",
             "linecolor": "white",
             "minorgridcolor": "white",
             "startlinecolor": "#2a3f5f"
            },
            "baxis": {
             "endlinecolor": "#2a3f5f",
             "gridcolor": "white",
             "linecolor": "white",
             "minorgridcolor": "white",
             "startlinecolor": "#2a3f5f"
            },
            "type": "carpet"
           }
          ],
          "choropleth": [
           {
            "colorbar": {
             "outlinewidth": 0,
             "ticks": ""
            },
            "type": "choropleth"
           }
          ],
          "contour": [
           {
            "colorbar": {
             "outlinewidth": 0,
             "ticks": ""
            },
            "colorscale": [
             [
              0,
              "#0d0887"
             ],
             [
              0.1111111111111111,
              "#46039f"
             ],
             [
              0.2222222222222222,
              "#7201a8"
             ],
             [
              0.3333333333333333,
              "#9c179e"
             ],
             [
              0.4444444444444444,
              "#bd3786"
             ],
             [
              0.5555555555555556,
              "#d8576b"
             ],
             [
              0.6666666666666666,
              "#ed7953"
             ],
             [
              0.7777777777777778,
              "#fb9f3a"
             ],
             [
              0.8888888888888888,
              "#fdca26"
             ],
             [
              1,
              "#f0f921"
             ]
            ],
            "type": "contour"
           }
          ],
          "contourcarpet": [
           {
            "colorbar": {
             "outlinewidth": 0,
             "ticks": ""
            },
            "type": "contourcarpet"
           }
          ],
          "heatmap": [
           {
            "colorbar": {
             "outlinewidth": 0,
             "ticks": ""
            },
            "colorscale": [
             [
              0,
              "#0d0887"
             ],
             [
              0.1111111111111111,
              "#46039f"
             ],
             [
              0.2222222222222222,
              "#7201a8"
             ],
             [
              0.3333333333333333,
              "#9c179e"
             ],
             [
              0.4444444444444444,
              "#bd3786"
             ],
             [
              0.5555555555555556,
              "#d8576b"
             ],
             [
              0.6666666666666666,
              "#ed7953"
             ],
             [
              0.7777777777777778,
              "#fb9f3a"
             ],
             [
              0.8888888888888888,
              "#fdca26"
             ],
             [
              1,
              "#f0f921"
             ]
            ],
            "type": "heatmap"
           }
          ],
          "heatmapgl": [
           {
            "colorbar": {
             "outlinewidth": 0,
             "ticks": ""
            },
            "colorscale": [
             [
              0,
              "#0d0887"
             ],
             [
              0.1111111111111111,
              "#46039f"
             ],
             [
              0.2222222222222222,
              "#7201a8"
             ],
             [
              0.3333333333333333,
              "#9c179e"
             ],
             [
              0.4444444444444444,
              "#bd3786"
             ],
             [
              0.5555555555555556,
              "#d8576b"
             ],
             [
              0.6666666666666666,
              "#ed7953"
             ],
             [
              0.7777777777777778,
              "#fb9f3a"
             ],
             [
              0.8888888888888888,
              "#fdca26"
             ],
             [
              1,
              "#f0f921"
             ]
            ],
            "type": "heatmapgl"
           }
          ],
          "histogram": [
           {
            "marker": {
             "pattern": {
              "fillmode": "overlay",
              "size": 10,
              "solidity": 0.2
             }
            },
            "type": "histogram"
           }
          ],
          "histogram2d": [
           {
            "colorbar": {
             "outlinewidth": 0,
             "ticks": ""
            },
            "colorscale": [
             [
              0,
              "#0d0887"
             ],
             [
              0.1111111111111111,
              "#46039f"
             ],
             [
              0.2222222222222222,
              "#7201a8"
             ],
             [
              0.3333333333333333,
              "#9c179e"
             ],
             [
              0.4444444444444444,
              "#bd3786"
             ],
             [
              0.5555555555555556,
              "#d8576b"
             ],
             [
              0.6666666666666666,
              "#ed7953"
             ],
             [
              0.7777777777777778,
              "#fb9f3a"
             ],
             [
              0.8888888888888888,
              "#fdca26"
             ],
             [
              1,
              "#f0f921"
             ]
            ],
            "type": "histogram2d"
           }
          ],
          "histogram2dcontour": [
           {
            "colorbar": {
             "outlinewidth": 0,
             "ticks": ""
            },
            "colorscale": [
             [
              0,
              "#0d0887"
             ],
             [
              0.1111111111111111,
              "#46039f"
             ],
             [
              0.2222222222222222,
              "#7201a8"
             ],
             [
              0.3333333333333333,
              "#9c179e"
             ],
             [
              0.4444444444444444,
              "#bd3786"
             ],
             [
              0.5555555555555556,
              "#d8576b"
             ],
             [
              0.6666666666666666,
              "#ed7953"
             ],
             [
              0.7777777777777778,
              "#fb9f3a"
             ],
             [
              0.8888888888888888,
              "#fdca26"
             ],
             [
              1,
              "#f0f921"
             ]
            ],
            "type": "histogram2dcontour"
           }
          ],
          "mesh3d": [
           {
            "colorbar": {
             "outlinewidth": 0,
             "ticks": ""
            },
            "type": "mesh3d"
           }
          ],
          "parcoords": [
           {
            "line": {
             "colorbar": {
              "outlinewidth": 0,
              "ticks": ""
             }
            },
            "type": "parcoords"
           }
          ],
          "pie": [
           {
            "automargin": true,
            "type": "pie"
           }
          ],
          "scatter": [
           {
            "fillpattern": {
             "fillmode": "overlay",
             "size": 10,
             "solidity": 0.2
            },
            "type": "scatter"
           }
          ],
          "scatter3d": [
           {
            "line": {
             "colorbar": {
              "outlinewidth": 0,
              "ticks": ""
             }
            },
            "marker": {
             "colorbar": {
              "outlinewidth": 0,
              "ticks": ""
             }
            },
            "type": "scatter3d"
           }
          ],
          "scattercarpet": [
           {
            "marker": {
             "colorbar": {
              "outlinewidth": 0,
              "ticks": ""
             }
            },
            "type": "scattercarpet"
           }
          ],
          "scattergeo": [
           {
            "marker": {
             "colorbar": {
              "outlinewidth": 0,
              "ticks": ""
             }
            },
            "type": "scattergeo"
           }
          ],
          "scattergl": [
           {
            "marker": {
             "colorbar": {
              "outlinewidth": 0,
              "ticks": ""
             }
            },
            "type": "scattergl"
           }
          ],
          "scattermapbox": [
           {
            "marker": {
             "colorbar": {
              "outlinewidth": 0,
              "ticks": ""
             }
            },
            "type": "scattermapbox"
           }
          ],
          "scatterpolar": [
           {
            "marker": {
             "colorbar": {
              "outlinewidth": 0,
              "ticks": ""
             }
            },
            "type": "scatterpolar"
           }
          ],
          "scatterpolargl": [
           {
            "marker": {
             "colorbar": {
              "outlinewidth": 0,
              "ticks": ""
             }
            },
            "type": "scatterpolargl"
           }
          ],
          "scatterternary": [
           {
            "marker": {
             "colorbar": {
              "outlinewidth": 0,
              "ticks": ""
             }
            },
            "type": "scatterternary"
           }
          ],
          "surface": [
           {
            "colorbar": {
             "outlinewidth": 0,
             "ticks": ""
            },
            "colorscale": [
             [
              0,
              "#0d0887"
             ],
             [
              0.1111111111111111,
              "#46039f"
             ],
             [
              0.2222222222222222,
              "#7201a8"
             ],
             [
              0.3333333333333333,
              "#9c179e"
             ],
             [
              0.4444444444444444,
              "#bd3786"
             ],
             [
              0.5555555555555556,
              "#d8576b"
             ],
             [
              0.6666666666666666,
              "#ed7953"
             ],
             [
              0.7777777777777778,
              "#fb9f3a"
             ],
             [
              0.8888888888888888,
              "#fdca26"
             ],
             [
              1,
              "#f0f921"
             ]
            ],
            "type": "surface"
           }
          ],
          "table": [
           {
            "cells": {
             "fill": {
              "color": "#EBF0F8"
             },
             "line": {
              "color": "white"
             }
            },
            "header": {
             "fill": {
              "color": "#C8D4E3"
             },
             "line": {
              "color": "white"
             }
            },
            "type": "table"
           }
          ]
         },
         "layout": {
          "annotationdefaults": {
           "arrowcolor": "#2a3f5f",
           "arrowhead": 0,
           "arrowwidth": 1
          },
          "autotypenumbers": "strict",
          "coloraxis": {
           "colorbar": {
            "outlinewidth": 0,
            "ticks": ""
           }
          },
          "colorscale": {
           "diverging": [
            [
             0,
             "#8e0152"
            ],
            [
             0.1,
             "#c51b7d"
            ],
            [
             0.2,
             "#de77ae"
            ],
            [
             0.3,
             "#f1b6da"
            ],
            [
             0.4,
             "#fde0ef"
            ],
            [
             0.5,
             "#f7f7f7"
            ],
            [
             0.6,
             "#e6f5d0"
            ],
            [
             0.7,
             "#b8e186"
            ],
            [
             0.8,
             "#7fbc41"
            ],
            [
             0.9,
             "#4d9221"
            ],
            [
             1,
             "#276419"
            ]
           ],
           "sequential": [
            [
             0,
             "#0d0887"
            ],
            [
             0.1111111111111111,
             "#46039f"
            ],
            [
             0.2222222222222222,
             "#7201a8"
            ],
            [
             0.3333333333333333,
             "#9c179e"
            ],
            [
             0.4444444444444444,
             "#bd3786"
            ],
            [
             0.5555555555555556,
             "#d8576b"
            ],
            [
             0.6666666666666666,
             "#ed7953"
            ],
            [
             0.7777777777777778,
             "#fb9f3a"
            ],
            [
             0.8888888888888888,
             "#fdca26"
            ],
            [
             1,
             "#f0f921"
            ]
           ],
           "sequentialminus": [
            [
             0,
             "#0d0887"
            ],
            [
             0.1111111111111111,
             "#46039f"
            ],
            [
             0.2222222222222222,
             "#7201a8"
            ],
            [
             0.3333333333333333,
             "#9c179e"
            ],
            [
             0.4444444444444444,
             "#bd3786"
            ],
            [
             0.5555555555555556,
             "#d8576b"
            ],
            [
             0.6666666666666666,
             "#ed7953"
            ],
            [
             0.7777777777777778,
             "#fb9f3a"
            ],
            [
             0.8888888888888888,
             "#fdca26"
            ],
            [
             1,
             "#f0f921"
            ]
           ]
          },
          "colorway": [
           "#636efa",
           "#EF553B",
           "#00cc96",
           "#ab63fa",
           "#FFA15A",
           "#19d3f3",
           "#FF6692",
           "#B6E880",
           "#FF97FF",
           "#FECB52"
          ],
          "font": {
           "color": "#2a3f5f"
          },
          "geo": {
           "bgcolor": "white",
           "lakecolor": "white",
           "landcolor": "#E5ECF6",
           "showlakes": true,
           "showland": true,
           "subunitcolor": "white"
          },
          "hoverlabel": {
           "align": "left"
          },
          "hovermode": "closest",
          "mapbox": {
           "style": "light"
          },
          "paper_bgcolor": "white",
          "plot_bgcolor": "#E5ECF6",
          "polar": {
           "angularaxis": {
            "gridcolor": "white",
            "linecolor": "white",
            "ticks": ""
           },
           "bgcolor": "#E5ECF6",
           "radialaxis": {
            "gridcolor": "white",
            "linecolor": "white",
            "ticks": ""
           }
          },
          "scene": {
           "xaxis": {
            "backgroundcolor": "#E5ECF6",
            "gridcolor": "white",
            "gridwidth": 2,
            "linecolor": "white",
            "showbackground": true,
            "ticks": "",
            "zerolinecolor": "white"
           },
           "yaxis": {
            "backgroundcolor": "#E5ECF6",
            "gridcolor": "white",
            "gridwidth": 2,
            "linecolor": "white",
            "showbackground": true,
            "ticks": "",
            "zerolinecolor": "white"
           },
           "zaxis": {
            "backgroundcolor": "#E5ECF6",
            "gridcolor": "white",
            "gridwidth": 2,
            "linecolor": "white",
            "showbackground": true,
            "ticks": "",
            "zerolinecolor": "white"
           }
          },
          "shapedefaults": {
           "line": {
            "color": "#2a3f5f"
           }
          },
          "ternary": {
           "aaxis": {
            "gridcolor": "white",
            "linecolor": "white",
            "ticks": ""
           },
           "baxis": {
            "gridcolor": "white",
            "linecolor": "white",
            "ticks": ""
           },
           "bgcolor": "#E5ECF6",
           "caxis": {
            "gridcolor": "white",
            "linecolor": "white",
            "ticks": ""
           }
          },
          "title": {
           "x": 0.05
          },
          "xaxis": {
           "automargin": true,
           "gridcolor": "white",
           "linecolor": "white",
           "ticks": "",
           "title": {
            "standoff": 15
           },
           "zerolinecolor": "white",
           "zerolinewidth": 2
          },
          "yaxis": {
           "automargin": true,
           "gridcolor": "white",
           "linecolor": "white",
           "ticks": "",
           "title": {
            "standoff": 15
           },
           "zerolinecolor": "white",
           "zerolinewidth": 2
          }
         }
        },
        "title": {
         "font": {
          "size": 18
         },
         "text": "Negative Log Predictive Density vs Number of Hidden Layers<br>with Smooth Target Function",
         "x": 0.5,
         "y": 0.85
        },
        "width": 500,
        "xaxis": {
         "title": {
          "font": {
           "size": 16
          },
          "text": "Number of Hidden Layers"
         }
        },
        "yaxis": {
         "title": {
          "font": {
           "size": 16
          },
          "text": "Negative Log Predictive Density"
         }
        }
       }
      }
     },
     "metadata": {},
     "output_type": "display_data"
    }
   ],
   "source": [
    "import plotly.express as px \n",
    "import plotly.graph_objects as go\n",
    "\n",
    "# Create a box plot\n",
    "df = data_smooth[data_smooth['num_hidden'] > 0]\n",
    "\n",
    "box_fig = px.box(df, y=\"test-negative_log_predictive_density\", x=\"num_hidden\", color=\"outputscale\", hover_data=df.columns)\n",
    "\n",
    "# Create an empty figure\n",
    "fig = go.Figure()\n",
    "\n",
    "# Add each box trace to the new figure\n",
    "for trace in box_fig.data:\n",
    "    trace.showlegend=False\n",
    "    trace.opacity = 0.6\n",
    "    fig.add_trace(trace)\n",
    "\n",
    "# Overlay a scatter plot on top of the box plot\n",
    "scatter_fig = px.strip(df, y=\"test-negative_log_predictive_density\", x=\"num_hidden\", color=\"outputscale\", hover_data=df.columns)\n",
    "for trace in scatter_fig.data:\n",
    "    trace.showlegend=False\n",
    "    fig.add_trace(trace)\n",
    "\n",
    "mean = data_smooth['test-negative_log_predictive_density'][data_smooth['num_hidden'] == 0].mean()\n",
    "fig.add_shape(\n",
    "    type='line',\n",
    "    y0=mean, y1=mean,\n",
    "    x0=.5, x1=4.5,\n",
    "    line=dict(\n",
    "        color='Gray',\n",
    "        width=2,\n",
    "        dash=\"dash\",\n",
    "    ), \n",
    "    layer='below',\n",
    "    name='mean',\n",
    "    opacity=0.8,\n",
    ")\n",
    "fig.add_trace(go.Scatter(\n",
    "    x=[None],\n",
    "    y=[None],\n",
    "    mode='lines',\n",
    "    line=dict(color=\"Gray\", width=2, dash=\"dash\"),\n",
    "    showlegend=True,\n",
    "    name='GP Mean',\n",
    "))\n",
    "\n",
    "fig.update_layout(\n",
    "    font_family=\"Serif\",\n",
    "    title=dict(\n",
    "        text=\"Negative Log Predictive Density vs Number of Hidden Layers<br>with Smooth Target Function\", \n",
    "        font_size=18,\n",
    "        y=0.85, \n",
    "        x=0.5,\n",
    "    ),\n",
    "    legend=dict(\n",
    "        x=0.0, \n",
    "        y=1.00,\n",
    "        yanchor='top',\n",
    "        xanchor='left',\n",
    "        orientation='h',\n",
    "        bgcolor='rgba(255,255,255,0.3)'\n",
    "    ),\n",
    "    xaxis_title=dict(\n",
    "        text=\"Number of Hidden Layers\",\n",
    "        font_size=16,\n",
    "    ),\n",
    "    yaxis_title=dict(\n",
    "        text=\"Negative Log Predictive Density\", \n",
    "        font_size=16, \n",
    "    ),\n",
    "    font_size=14, \n",
    "    width=500, \n",
    "    height=350, \n",
    ")\n",
    "\n",
    "fig.show()\n",
    "fig.write_image('../report_plots/nlpd_vs_num_hidden_smooth.jpg', scale=6, height=350, width=500)\n",
    "fig.write_image('../report_plots/nlpd_vs_num_hidden_smooth.svg', scale=6, height=350, width=500)"
   ]
  },
  {
   "cell_type": "code",
   "execution_count": 37,
   "metadata": {},
   "outputs": [
    {
     "data": {
      "application/vnd.plotly.v1+json": {
       "config": {
        "plotlyServerURL": "https://plot.ly"
       },
       "data": [
        {
         "alignmentgroup": "True",
         "customdata": [
          [
           "100",
           "geometric_manifold",
           "singular",
           "0.0001",
           "1",
           1.092560472927543,
           0.0435911177536438,
           0.0045196347211058,
           0.1011239039421135,
           -1.0810773657123751,
           0.01485,
           0
          ],
          [
           "100",
           "geometric_manifold",
           "singular",
           "0.0001",
           "0",
           1.0779359357401463,
           0.0445715747597841,
           0.0046883381280834,
           0.1047695276285531,
           -1.0633191504524355,
           0.01415,
           0
          ],
          [
           "100",
           "geometric_manifold",
           "singular",
           "0.0001",
           "2",
           1.095894412482598,
           0.043355776947182,
           0.0045186311131701,
           0.1008042181240876,
           -1.092964436132697,
           0.01035,
           0
          ],
          [
           "100",
           "geometric_manifold",
           "singular",
           "0.0001",
           "4",
           1.072647677928297,
           0.0445482489122148,
           0.0047232223289986,
           0.1053922186159814,
           -1.0527562599614997,
           0.01495,
           0
          ],
          [
           "100",
           "geometric_manifold",
           "singular",
           "0.0001",
           "3",
           1.0653642081098906,
           0.0453467647945418,
           0.0047544979968481,
           0.1056604999883285,
           -1.0461475676001064,
           0.0166,
           0
          ],
          [
           "100",
           "geometric_manifold",
           "singular",
           "0.0001",
           "1",
           0.5694275934398576,
           0.0924996442648158,
           0.0150283929504445,
           0.3349725705211837,
           -0.5464916600135916,
           0.00565,
           0
          ],
          [
           "100",
           "geometric_manifold",
           "singular",
           "0.0001",
           "0",
           0.5468057435122234,
           0.0917836815171897,
           0.0149111807530019,
           0.3329008479296363,
           -0.555773636830083,
           0.00535,
           0
          ],
          [
           "100",
           "geometric_manifold",
           "singular",
           "0.0001",
           "2",
           0.5601505597400587,
           0.0903342584044724,
           0.0145653228650121,
           0.3247127402719083,
           -0.5665238998345583,
           0.00305,
           0
          ],
          [
           "100",
           "geometric_manifold",
           "singular",
           "0.0001",
           "4",
           0.5561118608461323,
           0.089269724076851,
           0.0145347999914785,
           0.3235049837356128,
           -0.5735165755936358,
           0.00215,
           0
          ],
          [
           "100",
           "geometric_manifold",
           "singular",
           "0.0001",
           "3",
           0.5383143443125189,
           0.0910318114544313,
           0.0148667455682069,
           0.3315975264373218,
           -0.5612130684184812,
           0.0006999999999999,
           0
          ],
          [
           "100",
           "geometric_manifold",
           "singular",
           "0.0001",
           "1",
           0.407834581865166,
           0.1258406349696021,
           0.0242623415465392,
           0.5422213762028045,
           -0.2996090758725295,
           0.001,
           0
          ],
          [
           "100",
           "geometric_manifold",
           "singular",
           "0.0001",
           "0",
           0.4578968850618499,
           0.1143538619846659,
           0.0216816558694302,
           0.4855607037504607,
           -0.3654477625756159,
           0.0012499999999999,
           0
          ],
          [
           "100",
           "geometric_manifold",
           "singular",
           "0.0001",
           "2",
           0.4262276804249448,
           0.118746200550067,
           0.0230077101358468,
           0.5135858585036461,
           -0.3287184839959937,
           0.0056499999999999,
           0
          ],
          [
           "100",
           "geometric_manifold",
           "singular",
           "0.0001",
           "4",
           0.4330149007869091,
           0.1124118830442007,
           0.0223242087058403,
           0.4991732735992029,
           -0.3642775122037985,
           0.0051499999999999,
           0
          ],
          [
           "100",
           "geometric_manifold",
           "singular",
           "0.0001",
           "3",
           0.4519992794081785,
           0.1063532460297314,
           0.0207641151389373,
           0.4625555618017906,
           -0.4016232634172201,
           0.0238499999999999,
           0
          ],
          [
           "100",
           "geometric_manifold",
           "singular",
           "0.0001",
           "1",
           0.3331389066719082,
           0.1291898276993179,
           0.0266685410541911,
           0.5948559172728636,
           -0.2831798905967331,
           0.0032999999999999,
           0
          ],
          [
           "100",
           "geometric_manifold",
           "singular",
           "0.0001",
           "0",
           0.3329532979110001,
           0.1292202935072679,
           0.026674503857128,
           0.5945686833413993,
           -0.2837687482189269,
           0.0037499999999999,
           0
          ],
          [
           "100",
           "geometric_manifold",
           "singular",
           "0.0001",
           "2",
           0.3076114415993365,
           0.1327704064478834,
           0.0283748859065035,
           0.6301779590024239,
           -0.252059419575942,
           0.0093499999999999,
           0
          ],
          [
           "100",
           "geometric_manifold",
           "singular",
           "0.0001",
           "4",
           0.340335804739263,
           0.1289896435503325,
           0.0265547901022988,
           0.5929378160448933,
           -0.2835608018912799,
           0.00235,
           0
          ],
          [
           "100",
           "geometric_manifold",
           "singular",
           "0.0001",
           "3",
           0.3349318793858932,
           0.1289081941326604,
           0.0265768494533683,
           0.5965986309392998,
           -0.2833778300292983,
           0.0020499999999999,
           0
          ]
         ],
         "hovertemplate": "outputscale=%{customdata[3]}<br>num_hidden=%{x}<br>test-negative_log_predictive_density=%{y}<br>num_train=%{customdata[0]}<br>model=%{customdata[1]}<br>dataset=%{customdata[2]}<br>run=%{customdata[4]}<br>test-expected_log_probability=%{customdata[5]}<br>test-mean_absolute_error=%{customdata[6]}<br>test-mean_squared_error=%{customdata[7]}<br>test-standardized_mean_squared_error=%{customdata[8]}<br>test-mean_standardized_log_loss=%{customdata[9]}<br>test-quantile_coverage_error=%{customdata[10]}<br>step=%{customdata[11]}<extra></extra>",
         "legendgroup": "0.0001",
         "marker": {
          "color": "#636efa"
         },
         "name": "0.0001",
         "notched": false,
         "offsetgroup": "0.0001",
         "opacity": 0.6,
         "orientation": "v",
         "showlegend": true,
         "type": "box",
         "x": [
          1,
          1,
          1,
          1,
          1,
          2,
          2,
          2,
          2,
          2,
          4,
          4,
          4,
          4,
          4,
          3,
          3,
          3,
          3,
          3
         ],
         "x0": " ",
         "xaxis": "x",
         "y": [
          -1.3809334321585407,
          -1.3660365919591937,
          -1.3998437883492565,
          -1.3496172300981184,
          -1.3432668069705336,
          -0.7437627173701602,
          -0.751233008883974,
          -0.7564700211040754,
          -0.7592810685349175,
          -0.7557274248044001,
          -0.4418421906761393,
          -0.5136085719580172,
          -0.481737445618846,
          -0.5069093659826969,
          -0.5491291663428,
          -0.4218588760286922,
          -0.4223284980607399,
          -0.3926066900790875,
          -0.4230695644313231,
          -0.4252881049458173
         ],
         "y0": " ",
         "yaxis": "y"
        },
        {
         "alignmentgroup": "True",
         "customdata": [
          [
           "100",
           "geometric_manifold",
           "singular",
           "0.001",
           "1",
           0.3719133510163832,
           0.1301420044323267,
           0.025735435361401,
           0.5751424755137704,
           -0.2629454197648939,
           0.0157,
           0
          ],
          [
           "100",
           "geometric_manifold",
           "singular",
           "0.001",
           "0",
           0.3660518364464882,
           0.1302651775848301,
           0.0259062971261702,
           0.5801715487001828,
           -0.2566704120921318,
           0.0175,
           0
          ],
          [
           "100",
           "geometric_manifold",
           "singular",
           "0.001",
           "2",
           0.450260990358604,
           0.112585885587042,
           0.0217684086330502,
           0.485921752753853,
           -0.3822010479237103,
           0.0067499999999999,
           0
          ],
          [
           "100",
           "geometric_manifold",
           "singular",
           "0.001",
           "4",
           0.4181829842743512,
           0.1020637409569971,
           0.0205073388590016,
           0.4585477409722436,
           -0.4573997914088654,
           0.00385,
           0
          ],
          [
           "100",
           "geometric_manifold",
           "singular",
           "0.001",
           "3",
           0.3719556483025023,
           0.1296185304874395,
           0.0257620317731826,
           0.5738925545473504,
           -0.2638582270812578,
           0.01,
           0
          ],
          [
           "100",
           "geometric_manifold",
           "singular",
           "0.001",
           "1",
           0.3487961741354474,
           0.1285099168619865,
           0.0263038615330289,
           0.5867215476187176,
           -0.2846485618018469,
           0.006,
           0
          ],
          [
           "100",
           "geometric_manifold",
           "singular",
           "0.001",
           "0",
           0.4279717817643921,
           0.1225418663005648,
           0.0228347607519561,
           0.5089816743143798,
           -0.3430368933426527,
           0.0057,
           0
          ],
          [
           "100",
           "geometric_manifold",
           "singular",
           "0.001",
           "2",
           0.4371117721632788,
           0.119496665285115,
           0.022359614874231,
           0.4965847796516992,
           -0.3470094101608914,
           0.00335,
           0
          ],
          [
           "100",
           "geometric_manifold",
           "singular",
           "0.001",
           "4",
           0.3485707410384751,
           0.1285961834986557,
           0.0263500236007264,
           0.5883656163862359,
           -0.2834317043911381,
           0.0038,
           0
          ],
          [
           "100",
           "geometric_manifold",
           "singular",
           "0.001",
           "3",
           0.3443171598011592,
           0.1283117848491842,
           0.0262824561387336,
           0.5899900730371708,
           -0.2865627353037243,
           0.0026499999999999,
           0
          ],
          [
           "100",
           "geometric_manifold",
           "singular",
           "0.001",
           "1",
           0.5173106871270607,
           0.1026453622742052,
           0.0182238023332402,
           0.4061960538538397,
           -0.4360955016208875,
           0.0093,
           0
          ],
          [
           "100",
           "geometric_manifold",
           "singular",
           "0.001",
           "0",
           0.5180902600325608,
           0.1020727486778912,
           0.0181265172161767,
           0.4046851185853638,
           -0.4346378041743474,
           0.00985,
           0
          ],
          [
           "100",
           "geometric_manifold",
           "singular",
           "0.001",
           "2",
           0.5723511822053916,
           0.0932952163127978,
           0.0150464543888933,
           0.3354388695172771,
           -0.5388148876335015,
           0.01215,
           0
          ],
          [
           "100",
           "geometric_manifold",
           "singular",
           "0.001",
           "4",
           0.558517873236788,
           0.0905419060317103,
           0.0147068674984145,
           0.3273347368842897,
           -0.5658476386834489,
           0.00235,
           0
          ],
          [
           "100",
           "geometric_manifold",
           "singular",
           "0.001",
           "3",
           0.5205876855701634,
           0.1018782124969476,
           0.0180040010054788,
           0.4015729045742914,
           -0.443913701032662,
           0.0042,
           0
          ],
          [
           "100",
           "geometric_manifold",
           "singular",
           "0.001",
           "1",
           1.0819654267859518,
           0.0444073878036385,
           0.0046450419068912,
           0.1039298086206034,
           -1.0656080376083443,
           0.01595,
           0
          ],
          [
           "100",
           "geometric_manifold",
           "singular",
           "0.001",
           "0",
           1.032841112339359,
           0.0480747491894249,
           0.0051993329848638,
           0.116188646365918,
           -1.0009949217066532,
           0.01815,
           0
          ],
          [
           "100",
           "geometric_manifold",
           "singular",
           "0.001",
           "2",
           1.027426960710866,
           0.0486195127611559,
           0.00525491189001,
           0.117229592572737,
           -0.9947485579755928,
           0.01955,
           0
          ],
          [
           "100",
           "geometric_manifold",
           "singular",
           "0.001",
           "4",
           1.0562717821981975,
           0.0458662871698423,
           0.0049115578916799,
           0.1095946680059694,
           -1.030408089169796,
           0.01725,
           0
          ],
          [
           "100",
           "geometric_manifold",
           "singular",
           "0.001",
           "3",
           1.0224352700391577,
           0.0484990632779576,
           0.0052355884674587,
           0.1163519041487734,
           -0.9891693442950162,
           0.02,
           0
          ]
         ],
         "hovertemplate": "outputscale=%{customdata[3]}<br>num_hidden=%{x}<br>test-negative_log_predictive_density=%{y}<br>num_train=%{customdata[0]}<br>model=%{customdata[1]}<br>dataset=%{customdata[2]}<br>run=%{customdata[4]}<br>test-expected_log_probability=%{customdata[5]}<br>test-mean_absolute_error=%{customdata[6]}<br>test-mean_squared_error=%{customdata[7]}<br>test-standardized_mean_squared_error=%{customdata[8]}<br>test-mean_standardized_log_loss=%{customdata[9]}<br>test-quantile_coverage_error=%{customdata[10]}<br>step=%{customdata[11]}<extra></extra>",
         "legendgroup": "0.001",
         "marker": {
          "color": "#EF553B"
         },
         "name": "0.001",
         "notched": false,
         "offsetgroup": "0.001",
         "opacity": 0.6,
         "orientation": "v",
         "showlegend": true,
         "type": "box",
         "x": [
          4,
          4,
          4,
          4,
          4,
          3,
          3,
          3,
          3,
          3,
          2,
          2,
          2,
          2,
          2,
          1,
          1,
          1,
          1,
          1
         ],
         "x0": " ",
         "xaxis": "x",
         "y": [
          -0.4114452577316151,
          -0.4079369576045074,
          -0.5266341518059338,
          -0.6098942407849748,
          -0.4121783055721731,
          -0.4248363546219396,
          -0.4823694232576536,
          -0.5004448629063519,
          -0.4239546871172598,
          -0.4287681468464012,
          -0.6412355571824714,
          -0.6374813925246433,
          -0.7382884164513923,
          -0.7563679722662364,
          -0.6466346633037446,
          -1.366567739858963,
          -1.3052774125493296,
          -1.3025453271869658,
          -1.3289618283919342,
          -1.2891006442505488
         ],
         "y0": " ",
         "yaxis": "y"
        },
        {
         "alignmentgroup": "True",
         "customdata": [
          [
           "100",
           "geometric_manifold",
           "singular",
           "0.01",
           "1",
           0.4362797318425672,
           0.1251865209854123,
           0.0234172484237594,
           0.523335006345458,
           -0.3220476967282431,
           0.00905,
           0
          ],
          [
           "100",
           "geometric_manifold",
           "singular",
           "0.01",
           "0",
           0.4399648547409542,
           0.124063621208812,
           0.0231252721083481,
           0.5178904907895989,
           -0.3252098522790677,
           0.0138,
           0
          ],
          [
           "100",
           "geometric_manifold",
           "singular",
           "0.01",
           "2",
           0.4278888862553702,
           0.1188750677002636,
           0.0235664921720349,
           0.526059179406841,
           -0.3206049521032444,
           0.0022499999999999,
           0
          ],
          [
           "100",
           "geometric_manifold",
           "singular",
           "0.01",
           "4",
           0.5879524692017735,
           0.0900371860059916,
           0.0159041890924186,
           0.3556204942272556,
           -0.5703231889840075,
           0.0092,
           0
          ],
          [
           "100",
           "geometric_manifold",
           "singular",
           "0.01",
           "3",
           0.4552251627934587,
           0.119208757247247,
           0.0223808571827054,
           0.4985712079942613,
           -0.3426287858619304,
           0.01125,
           0
          ],
          [
           "100",
           "geometric_manifold",
           "singular",
           "0.01",
           "1",
           0.4604240561412551,
           0.1142136272076372,
           0.0214936507436374,
           0.4790787320521724,
           -0.3501769089474474,
           0.0182,
           0
          ],
          [
           "100",
           "geometric_manifold",
           "singular",
           "0.01",
           "0",
           0.4700029874376716,
           0.1127307355459771,
           0.0210043845032951,
           0.4689351921362335,
           -0.3609377372301158,
           0.0145,
           0
          ],
          [
           "100",
           "geometric_manifold",
           "singular",
           "0.01",
           "2",
           0.465645249127727,
           0.1133103343002405,
           0.0210911581604627,
           0.4701967697704282,
           -0.3567291804947698,
           0.01945,
           0
          ],
          [
           "100",
           "geometric_manifold",
           "singular",
           "0.01",
           "4",
           0.4700093580331974,
           0.1135290729281124,
           0.0212682407518911,
           0.4753861242028604,
           -0.3596725049443246,
           0.00955,
           0
          ],
          [
           "100",
           "geometric_manifold",
           "singular",
           "0.01",
           "3",
           0.4701257861688698,
           0.1133506572462636,
           0.0210700823140285,
           0.469960768825163,
           -0.3622148249756562,
           0.01365,
           0
          ],
          [
           "100",
           "geometric_manifold",
           "singular",
           "0.01",
           "1",
           1.0005791251046223,
           0.0509300070097912,
           0.0055463899048958,
           0.1240968871552871,
           -0.9562949764513088,
           0.02465,
           0
          ],
          [
           "100",
           "geometric_manifold",
           "singular",
           "0.01",
           "0",
           0.9088334073162352,
           0.0592330387780907,
           0.006743082116645,
           0.1506865564771548,
           -0.8445555141351893,
           0.03185,
           0
          ],
          [
           "100",
           "geometric_manifold",
           "singular",
           "0.01",
           "2",
           0.9914095967378436,
           0.0520850311416381,
           0.0056953157574367,
           0.1270543749908844,
           -0.9480577328856308,
           0.02415,
           0
          ],
          [
           "100",
           "geometric_manifold",
           "singular",
           "0.01",
           "4",
           0.9586901165532604,
           0.0540546097878789,
           0.0059838796703062,
           0.1340089908893253,
           -0.9020579545960926,
           0.0292,
           0
          ],
          [
           "100",
           "geometric_manifold",
           "singular",
           "0.01",
           "3",
           0.9396218683655584,
           0.0558910091337062,
           0.0062504151243403,
           0.1389046725038515,
           -0.8859971668712152,
           0.02945,
           0
          ],
          [
           "100",
           "geometric_manifold",
           "singular",
           "0.01",
           "1",
           0.3846105811846042,
           0.1254748866932354,
           0.0251086243879144,
           0.560061150753703,
           -0.2981354200491411,
           0.00735,
           0
          ],
          [
           "100",
           "geometric_manifold",
           "singular",
           "0.01",
           "0",
           0.390068319087009,
           0.1255991955906059,
           0.0249654739040796,
           0.5564747905958191,
           -0.2988829379534514,
           0.0095,
           0
          ],
          [
           "100",
           "geometric_manifold",
           "singular",
           "0.01",
           "2",
           0.3957499035701667,
           0.120702543232354,
           0.0241359370680701,
           0.5360351266357435,
           -0.3095323367679392,
           0.01205,
           0
          ],
          [
           "100",
           "geometric_manifold",
           "singular",
           "0.01",
           "4",
           0.3826544314316535,
           0.1262994047634328,
           0.0253176695693175,
           0.5639624282433331,
           -0.2959201395669336,
           0.0044499999999999,
           0
          ],
          [
           "100",
           "geometric_manifold",
           "singular",
           "0.01",
           "3",
           0.3949864098495767,
           0.1246655995889269,
           0.0247420844514333,
           0.5554117216267274,
           -0.29817975544041,
           0.01255,
           0
          ]
         ],
         "hovertemplate": "outputscale=%{customdata[3]}<br>num_hidden=%{x}<br>test-negative_log_predictive_density=%{y}<br>num_train=%{customdata[0]}<br>model=%{customdata[1]}<br>dataset=%{customdata[2]}<br>run=%{customdata[4]}<br>test-expected_log_probability=%{customdata[5]}<br>test-mean_absolute_error=%{customdata[6]}<br>test-mean_squared_error=%{customdata[7]}<br>test-standardized_mean_squared_error=%{customdata[8]}<br>test-mean_standardized_log_loss=%{customdata[9]}<br>test-quantile_coverage_error=%{customdata[10]}<br>step=%{customdata[11]}<extra></extra>",
         "legendgroup": "0.01",
         "marker": {
          "color": "#00cc96"
         },
         "name": "0.01",
         "notched": false,
         "offsetgroup": "0.01",
         "opacity": 0.6,
         "orientation": "v",
         "showlegend": true,
         "type": "box",
         "x": [
          4,
          4,
          4,
          4,
          4,
          2,
          2,
          2,
          2,
          2,
          1,
          1,
          1,
          1,
          1,
          3,
          3,
          3,
          3,
          3
         ],
         "x0": " ",
         "xaxis": "x",
         "y": [
          -0.4697320590526006,
          -0.4739926375725325,
          -0.4742640230444919,
          -0.7464638581449605,
          -0.4929118911580055,
          -0.5316989218595214,
          -0.5494348497264857,
          -0.5438534431505252,
          -0.5447535178127526,
          -0.5498351453716079,
          -1.2587365780042106,
          -1.1405307533211375,
          -1.2546049549299394,
          -1.2021509667131711,
          -1.18366388301292,
          -0.4425742649674878,
          -0.4471895614873254,
          -0.4714981171955972,
          -0.4398064577215751,
          -0.4459772993897056
         ],
         "y0": " ",
         "yaxis": "y"
        },
        {
         "alignmentgroup": "True",
         "customdata": [
          [
           "100",
           "geometric_manifold",
           "singular",
           "0.1",
           "1",
           0.8464706059297874,
           0.0687353412880933,
           0.008080304642852,
           0.1807915906812167,
           -0.7689441654495038,
           0.03475,
           0
          ],
          [
           "100",
           "geometric_manifold",
           "singular",
           "0.1",
           "0",
           0.8486259543148601,
           0.0689248717040758,
           0.0081054643629463,
           0.1811314903737757,
           -0.7740593293201679,
           0.03365,
           0
          ],
          [
           "100",
           "geometric_manifold",
           "singular",
           "0.1",
           "2",
           0.8169111020602818,
           0.0718272134016152,
           0.0087325663019043,
           0.1948111045653906,
           -0.7371808048641736,
           0.03475,
           0
          ],
          [
           "100",
           "geometric_manifold",
           "singular",
           "0.1",
           "4",
           0.840439759364428,
           0.0677878581827876,
           0.0081996417088561,
           0.1829637419874984,
           -0.7683045088332924,
           0.0314,
           0
          ],
          [
           "100",
           "geometric_manifold",
           "singular",
           "0.1",
           "3",
           0.7559157248581331,
           0.077839697407049,
           0.0097998187655154,
           0.2177840334028497,
           -0.6686633680295785,
           0.03805,
           0
          ],
          [
           "100",
           "geometric_manifold",
           "singular",
           "0.1",
           "1",
           0.4379613993926978,
           0.1142355073944447,
           0.0228256273908802,
           0.5091376949095165,
           -0.3277402418011451,
           0.0033,
           0
          ],
          [
           "100",
           "geometric_manifold",
           "singular",
           "0.1",
           "0",
           0.4669879163245354,
           0.117219829481736,
           0.0209139697576946,
           0.4661676756529996,
           -0.3551770618919015,
           0.03565,
           0
          ],
          [
           "100",
           "geometric_manifold",
           "singular",
           "0.1",
           "2",
           0.4293138889315763,
           0.1136472681349936,
           0.0230412822867602,
           0.5117239340490604,
           -0.3215852213735764,
           0.00475,
           0
          ],
          [
           "100",
           "geometric_manifold",
           "singular",
           "0.1",
           "4",
           0.4315171711941623,
           0.1153271873694865,
           0.0231538904649721,
           0.5169996521288562,
           -0.3240747929898841,
           0.00275,
           0
          ],
          [
           "100",
           "geometric_manifold",
           "singular",
           "0.1",
           "3",
           0.4360670870753309,
           0.11457044594508,
           0.0228625443192987,
           0.513219697640044,
           -0.3243153399704056,
           0.00245,
           0
          ],
          [
           "100",
           "geometric_manifold",
           "singular",
           "0.1",
           "1",
           0.6276951983056389,
           0.1001281878403569,
           0.0156162141569191,
           0.3489953809693266,
           -0.527091754941104,
           0.0031,
           0
          ],
          [
           "100",
           "geometric_manifold",
           "singular",
           "0.1",
           "0",
           0.6811702371171809,
           0.0912338190664726,
           0.0133053766633339,
           0.2979739229890826,
           -0.5698860464930229,
           0.0345,
           0
          ],
          [
           "100",
           "geometric_manifold",
           "singular",
           "0.1",
           "2",
           0.4426232391098939,
           0.1167531382884509,
           0.0225725250157122,
           0.5038715096087462,
           -0.326361584558822,
           0.0137,
           0
          ],
          [
           "100",
           "geometric_manifold",
           "singular",
           "0.1",
           "4",
           0.608477590409694,
           0.0968762624229098,
           0.0161877120404646,
           0.3619601177266364,
           -0.4981098030746477,
           0.0204,
           0
          ],
          [
           "100",
           "geometric_manifold",
           "singular",
           "0.1",
           "3",
           0.3499122383168139,
           0.1291387458539979,
           0.0278678252887932,
           0.6208026441964518,
           -0.2341821248318773,
           0.00825,
           0
          ],
          [
           "100",
           "geometric_manifold",
           "singular",
           "0.1",
           "1",
           0.3476676488219822,
           0.1290889353241557,
           0.0269161058529352,
           0.59994153704314,
           -0.2441231684688505,
           0.0228,
           0
          ],
          [
           "100",
           "geometric_manifold",
           "singular",
           "0.1",
           "0",
           0.4931555684881696,
           0.1090418054808807,
           0.0193023045383939,
           0.4309352595389718,
           -0.3775132043486186,
           0.0316,
           0
          ],
          [
           "100",
           "geometric_manifold",
           "singular",
           "0.1",
           "2",
           0.3858199667526206,
           0.1277239300983196,
           0.0250664934631525,
           0.5588211024817094,
           -0.2849573790056451,
           0.0231,
           0
          ],
          [
           "100",
           "geometric_manifold",
           "singular",
           "0.1",
           "4",
           0.4393157393181947,
           0.116071808399311,
           0.0214619122454121,
           0.4776835990834233,
           -0.3260263965090627,
           0.03405,
           0
          ],
          [
           "100",
           "geometric_manifold",
           "singular",
           "0.1",
           "3",
           0.2814125953247935,
           0.1423621645300087,
           0.0309099257381497,
           0.6894350125323297,
           -0.1659016269769242,
           0.03855,
           0
          ]
         ],
         "hovertemplate": "outputscale=%{customdata[3]}<br>num_hidden=%{x}<br>test-negative_log_predictive_density=%{y}<br>num_train=%{customdata[0]}<br>model=%{customdata[1]}<br>dataset=%{customdata[2]}<br>run=%{customdata[4]}<br>test-expected_log_probability=%{customdata[5]}<br>test-mean_absolute_error=%{customdata[6]}<br>test-mean_squared_error=%{customdata[7]}<br>test-standardized_mean_squared_error=%{customdata[8]}<br>test-mean_standardized_log_loss=%{customdata[9]}<br>test-quantile_coverage_error=%{customdata[10]}<br>step=%{customdata[11]}<extra></extra>",
         "legendgroup": "0.1",
         "marker": {
          "color": "#ab63fa"
         },
         "name": "0.1",
         "notched": false,
         "offsetgroup": "0.1",
         "opacity": 0.6,
         "orientation": "v",
         "showlegend": true,
         "type": "box",
         "x": [
          1,
          1,
          1,
          1,
          1,
          3,
          3,
          3,
          3,
          3,
          4,
          4,
          4,
          4,
          4,
          2,
          2,
          2,
          2,
          2
         ],
         "x0": " ",
         "xaxis": "x",
         "y": [
          -1.061277999003946,
          -1.0689685651667062,
          -1.0267945667848737,
          -1.0649109453862888,
          -0.9427705801222468,
          -0.4871821178691352,
          -0.5119075582768368,
          -0.4749781668287628,
          -0.4858089404362073,
          -0.48794416135235,
          -0.6992774225507782,
          -0.7613089785978051,
          -0.4852261594539721,
          -0.6664243129427486,
          -0.3776099508786851,
          -0.4061504648446054,
          -0.5577393441341357,
          -0.4404228876503666,
          -0.505776340615896,
          -0.3220718258810033
         ],
         "y0": " ",
         "yaxis": "y"
        },
        {
         "alignmentgroup": "True",
         "boxpoints": "all",
         "customdata": [
          [
           "100",
           "geometric_manifold",
           "singular",
           "0.0001",
           "1",
           1.092560472927543,
           0.0435911177536438,
           0.0045196347211058,
           0.1011239039421135,
           -1.0810773657123751,
           0.01485,
           0
          ],
          [
           "100",
           "geometric_manifold",
           "singular",
           "0.0001",
           "0",
           1.0779359357401463,
           0.0445715747597841,
           0.0046883381280834,
           0.1047695276285531,
           -1.0633191504524355,
           0.01415,
           0
          ],
          [
           "100",
           "geometric_manifold",
           "singular",
           "0.0001",
           "2",
           1.095894412482598,
           0.043355776947182,
           0.0045186311131701,
           0.1008042181240876,
           -1.092964436132697,
           0.01035,
           0
          ],
          [
           "100",
           "geometric_manifold",
           "singular",
           "0.0001",
           "4",
           1.072647677928297,
           0.0445482489122148,
           0.0047232223289986,
           0.1053922186159814,
           -1.0527562599614997,
           0.01495,
           0
          ],
          [
           "100",
           "geometric_manifold",
           "singular",
           "0.0001",
           "3",
           1.0653642081098906,
           0.0453467647945418,
           0.0047544979968481,
           0.1056604999883285,
           -1.0461475676001064,
           0.0166,
           0
          ],
          [
           "100",
           "geometric_manifold",
           "singular",
           "0.0001",
           "1",
           0.5694275934398576,
           0.0924996442648158,
           0.0150283929504445,
           0.3349725705211837,
           -0.5464916600135916,
           0.00565,
           0
          ],
          [
           "100",
           "geometric_manifold",
           "singular",
           "0.0001",
           "0",
           0.5468057435122234,
           0.0917836815171897,
           0.0149111807530019,
           0.3329008479296363,
           -0.555773636830083,
           0.00535,
           0
          ],
          [
           "100",
           "geometric_manifold",
           "singular",
           "0.0001",
           "2",
           0.5601505597400587,
           0.0903342584044724,
           0.0145653228650121,
           0.3247127402719083,
           -0.5665238998345583,
           0.00305,
           0
          ],
          [
           "100",
           "geometric_manifold",
           "singular",
           "0.0001",
           "4",
           0.5561118608461323,
           0.089269724076851,
           0.0145347999914785,
           0.3235049837356128,
           -0.5735165755936358,
           0.00215,
           0
          ],
          [
           "100",
           "geometric_manifold",
           "singular",
           "0.0001",
           "3",
           0.5383143443125189,
           0.0910318114544313,
           0.0148667455682069,
           0.3315975264373218,
           -0.5612130684184812,
           0.0006999999999999,
           0
          ],
          [
           "100",
           "geometric_manifold",
           "singular",
           "0.0001",
           "1",
           0.407834581865166,
           0.1258406349696021,
           0.0242623415465392,
           0.5422213762028045,
           -0.2996090758725295,
           0.001,
           0
          ],
          [
           "100",
           "geometric_manifold",
           "singular",
           "0.0001",
           "0",
           0.4578968850618499,
           0.1143538619846659,
           0.0216816558694302,
           0.4855607037504607,
           -0.3654477625756159,
           0.0012499999999999,
           0
          ],
          [
           "100",
           "geometric_manifold",
           "singular",
           "0.0001",
           "2",
           0.4262276804249448,
           0.118746200550067,
           0.0230077101358468,
           0.5135858585036461,
           -0.3287184839959937,
           0.0056499999999999,
           0
          ],
          [
           "100",
           "geometric_manifold",
           "singular",
           "0.0001",
           "4",
           0.4330149007869091,
           0.1124118830442007,
           0.0223242087058403,
           0.4991732735992029,
           -0.3642775122037985,
           0.0051499999999999,
           0
          ],
          [
           "100",
           "geometric_manifold",
           "singular",
           "0.0001",
           "3",
           0.4519992794081785,
           0.1063532460297314,
           0.0207641151389373,
           0.4625555618017906,
           -0.4016232634172201,
           0.0238499999999999,
           0
          ],
          [
           "100",
           "geometric_manifold",
           "singular",
           "0.0001",
           "1",
           0.3331389066719082,
           0.1291898276993179,
           0.0266685410541911,
           0.5948559172728636,
           -0.2831798905967331,
           0.0032999999999999,
           0
          ],
          [
           "100",
           "geometric_manifold",
           "singular",
           "0.0001",
           "0",
           0.3329532979110001,
           0.1292202935072679,
           0.026674503857128,
           0.5945686833413993,
           -0.2837687482189269,
           0.0037499999999999,
           0
          ],
          [
           "100",
           "geometric_manifold",
           "singular",
           "0.0001",
           "2",
           0.3076114415993365,
           0.1327704064478834,
           0.0283748859065035,
           0.6301779590024239,
           -0.252059419575942,
           0.0093499999999999,
           0
          ],
          [
           "100",
           "geometric_manifold",
           "singular",
           "0.0001",
           "4",
           0.340335804739263,
           0.1289896435503325,
           0.0265547901022988,
           0.5929378160448933,
           -0.2835608018912799,
           0.00235,
           0
          ],
          [
           "100",
           "geometric_manifold",
           "singular",
           "0.0001",
           "3",
           0.3349318793858932,
           0.1289081941326604,
           0.0265768494533683,
           0.5965986309392998,
           -0.2833778300292983,
           0.0020499999999999,
           0
          ]
         ],
         "fillcolor": "rgba(255,255,255,0)",
         "hoveron": "points",
         "hovertemplate": "outputscale=%{customdata[3]}<br>num_hidden=%{x}<br>test-negative_log_predictive_density=%{y}<br>num_train=%{customdata[0]}<br>model=%{customdata[1]}<br>dataset=%{customdata[2]}<br>run=%{customdata[4]}<br>test-expected_log_probability=%{customdata[5]}<br>test-mean_absolute_error=%{customdata[6]}<br>test-mean_squared_error=%{customdata[7]}<br>test-standardized_mean_squared_error=%{customdata[8]}<br>test-mean_standardized_log_loss=%{customdata[9]}<br>test-quantile_coverage_error=%{customdata[10]}<br>step=%{customdata[11]}<extra></extra>",
         "legendgroup": "0.0001",
         "line": {
          "color": "rgba(255,255,255,0)"
         },
         "marker": {
          "color": "#636efa"
         },
         "name": "0.0001",
         "offsetgroup": "0.0001",
         "orientation": "v",
         "pointpos": 0,
         "showlegend": false,
         "type": "box",
         "x": [
          1,
          1,
          1,
          1,
          1,
          2,
          2,
          2,
          2,
          2,
          4,
          4,
          4,
          4,
          4,
          3,
          3,
          3,
          3,
          3
         ],
         "x0": " ",
         "xaxis": "x",
         "y": [
          -1.3809334321585407,
          -1.3660365919591937,
          -1.3998437883492565,
          -1.3496172300981184,
          -1.3432668069705336,
          -0.7437627173701602,
          -0.751233008883974,
          -0.7564700211040754,
          -0.7592810685349175,
          -0.7557274248044001,
          -0.4418421906761393,
          -0.5136085719580172,
          -0.481737445618846,
          -0.5069093659826969,
          -0.5491291663428,
          -0.4218588760286922,
          -0.4223284980607399,
          -0.3926066900790875,
          -0.4230695644313231,
          -0.4252881049458173
         ],
         "y0": " ",
         "yaxis": "y"
        },
        {
         "alignmentgroup": "True",
         "boxpoints": "all",
         "customdata": [
          [
           "100",
           "geometric_manifold",
           "singular",
           "0.001",
           "1",
           0.3719133510163832,
           0.1301420044323267,
           0.025735435361401,
           0.5751424755137704,
           -0.2629454197648939,
           0.0157,
           0
          ],
          [
           "100",
           "geometric_manifold",
           "singular",
           "0.001",
           "0",
           0.3660518364464882,
           0.1302651775848301,
           0.0259062971261702,
           0.5801715487001828,
           -0.2566704120921318,
           0.0175,
           0
          ],
          [
           "100",
           "geometric_manifold",
           "singular",
           "0.001",
           "2",
           0.450260990358604,
           0.112585885587042,
           0.0217684086330502,
           0.485921752753853,
           -0.3822010479237103,
           0.0067499999999999,
           0
          ],
          [
           "100",
           "geometric_manifold",
           "singular",
           "0.001",
           "4",
           0.4181829842743512,
           0.1020637409569971,
           0.0205073388590016,
           0.4585477409722436,
           -0.4573997914088654,
           0.00385,
           0
          ],
          [
           "100",
           "geometric_manifold",
           "singular",
           "0.001",
           "3",
           0.3719556483025023,
           0.1296185304874395,
           0.0257620317731826,
           0.5738925545473504,
           -0.2638582270812578,
           0.01,
           0
          ],
          [
           "100",
           "geometric_manifold",
           "singular",
           "0.001",
           "1",
           0.3487961741354474,
           0.1285099168619865,
           0.0263038615330289,
           0.5867215476187176,
           -0.2846485618018469,
           0.006,
           0
          ],
          [
           "100",
           "geometric_manifold",
           "singular",
           "0.001",
           "0",
           0.4279717817643921,
           0.1225418663005648,
           0.0228347607519561,
           0.5089816743143798,
           -0.3430368933426527,
           0.0057,
           0
          ],
          [
           "100",
           "geometric_manifold",
           "singular",
           "0.001",
           "2",
           0.4371117721632788,
           0.119496665285115,
           0.022359614874231,
           0.4965847796516992,
           -0.3470094101608914,
           0.00335,
           0
          ],
          [
           "100",
           "geometric_manifold",
           "singular",
           "0.001",
           "4",
           0.3485707410384751,
           0.1285961834986557,
           0.0263500236007264,
           0.5883656163862359,
           -0.2834317043911381,
           0.0038,
           0
          ],
          [
           "100",
           "geometric_manifold",
           "singular",
           "0.001",
           "3",
           0.3443171598011592,
           0.1283117848491842,
           0.0262824561387336,
           0.5899900730371708,
           -0.2865627353037243,
           0.0026499999999999,
           0
          ],
          [
           "100",
           "geometric_manifold",
           "singular",
           "0.001",
           "1",
           0.5173106871270607,
           0.1026453622742052,
           0.0182238023332402,
           0.4061960538538397,
           -0.4360955016208875,
           0.0093,
           0
          ],
          [
           "100",
           "geometric_manifold",
           "singular",
           "0.001",
           "0",
           0.5180902600325608,
           0.1020727486778912,
           0.0181265172161767,
           0.4046851185853638,
           -0.4346378041743474,
           0.00985,
           0
          ],
          [
           "100",
           "geometric_manifold",
           "singular",
           "0.001",
           "2",
           0.5723511822053916,
           0.0932952163127978,
           0.0150464543888933,
           0.3354388695172771,
           -0.5388148876335015,
           0.01215,
           0
          ],
          [
           "100",
           "geometric_manifold",
           "singular",
           "0.001",
           "4",
           0.558517873236788,
           0.0905419060317103,
           0.0147068674984145,
           0.3273347368842897,
           -0.5658476386834489,
           0.00235,
           0
          ],
          [
           "100",
           "geometric_manifold",
           "singular",
           "0.001",
           "3",
           0.5205876855701634,
           0.1018782124969476,
           0.0180040010054788,
           0.4015729045742914,
           -0.443913701032662,
           0.0042,
           0
          ],
          [
           "100",
           "geometric_manifold",
           "singular",
           "0.001",
           "1",
           1.0819654267859518,
           0.0444073878036385,
           0.0046450419068912,
           0.1039298086206034,
           -1.0656080376083443,
           0.01595,
           0
          ],
          [
           "100",
           "geometric_manifold",
           "singular",
           "0.001",
           "0",
           1.032841112339359,
           0.0480747491894249,
           0.0051993329848638,
           0.116188646365918,
           -1.0009949217066532,
           0.01815,
           0
          ],
          [
           "100",
           "geometric_manifold",
           "singular",
           "0.001",
           "2",
           1.027426960710866,
           0.0486195127611559,
           0.00525491189001,
           0.117229592572737,
           -0.9947485579755928,
           0.01955,
           0
          ],
          [
           "100",
           "geometric_manifold",
           "singular",
           "0.001",
           "4",
           1.0562717821981975,
           0.0458662871698423,
           0.0049115578916799,
           0.1095946680059694,
           -1.030408089169796,
           0.01725,
           0
          ],
          [
           "100",
           "geometric_manifold",
           "singular",
           "0.001",
           "3",
           1.0224352700391577,
           0.0484990632779576,
           0.0052355884674587,
           0.1163519041487734,
           -0.9891693442950162,
           0.02,
           0
          ]
         ],
         "fillcolor": "rgba(255,255,255,0)",
         "hoveron": "points",
         "hovertemplate": "outputscale=%{customdata[3]}<br>num_hidden=%{x}<br>test-negative_log_predictive_density=%{y}<br>num_train=%{customdata[0]}<br>model=%{customdata[1]}<br>dataset=%{customdata[2]}<br>run=%{customdata[4]}<br>test-expected_log_probability=%{customdata[5]}<br>test-mean_absolute_error=%{customdata[6]}<br>test-mean_squared_error=%{customdata[7]}<br>test-standardized_mean_squared_error=%{customdata[8]}<br>test-mean_standardized_log_loss=%{customdata[9]}<br>test-quantile_coverage_error=%{customdata[10]}<br>step=%{customdata[11]}<extra></extra>",
         "legendgroup": "0.001",
         "line": {
          "color": "rgba(255,255,255,0)"
         },
         "marker": {
          "color": "#EF553B"
         },
         "name": "0.001",
         "offsetgroup": "0.001",
         "orientation": "v",
         "pointpos": 0,
         "showlegend": false,
         "type": "box",
         "x": [
          4,
          4,
          4,
          4,
          4,
          3,
          3,
          3,
          3,
          3,
          2,
          2,
          2,
          2,
          2,
          1,
          1,
          1,
          1,
          1
         ],
         "x0": " ",
         "xaxis": "x",
         "y": [
          -0.4114452577316151,
          -0.4079369576045074,
          -0.5266341518059338,
          -0.6098942407849748,
          -0.4121783055721731,
          -0.4248363546219396,
          -0.4823694232576536,
          -0.5004448629063519,
          -0.4239546871172598,
          -0.4287681468464012,
          -0.6412355571824714,
          -0.6374813925246433,
          -0.7382884164513923,
          -0.7563679722662364,
          -0.6466346633037446,
          -1.366567739858963,
          -1.3052774125493296,
          -1.3025453271869658,
          -1.3289618283919342,
          -1.2891006442505488
         ],
         "y0": " ",
         "yaxis": "y"
        },
        {
         "alignmentgroup": "True",
         "boxpoints": "all",
         "customdata": [
          [
           "100",
           "geometric_manifold",
           "singular",
           "0.01",
           "1",
           0.4362797318425672,
           0.1251865209854123,
           0.0234172484237594,
           0.523335006345458,
           -0.3220476967282431,
           0.00905,
           0
          ],
          [
           "100",
           "geometric_manifold",
           "singular",
           "0.01",
           "0",
           0.4399648547409542,
           0.124063621208812,
           0.0231252721083481,
           0.5178904907895989,
           -0.3252098522790677,
           0.0138,
           0
          ],
          [
           "100",
           "geometric_manifold",
           "singular",
           "0.01",
           "2",
           0.4278888862553702,
           0.1188750677002636,
           0.0235664921720349,
           0.526059179406841,
           -0.3206049521032444,
           0.0022499999999999,
           0
          ],
          [
           "100",
           "geometric_manifold",
           "singular",
           "0.01",
           "4",
           0.5879524692017735,
           0.0900371860059916,
           0.0159041890924186,
           0.3556204942272556,
           -0.5703231889840075,
           0.0092,
           0
          ],
          [
           "100",
           "geometric_manifold",
           "singular",
           "0.01",
           "3",
           0.4552251627934587,
           0.119208757247247,
           0.0223808571827054,
           0.4985712079942613,
           -0.3426287858619304,
           0.01125,
           0
          ],
          [
           "100",
           "geometric_manifold",
           "singular",
           "0.01",
           "1",
           0.4604240561412551,
           0.1142136272076372,
           0.0214936507436374,
           0.4790787320521724,
           -0.3501769089474474,
           0.0182,
           0
          ],
          [
           "100",
           "geometric_manifold",
           "singular",
           "0.01",
           "0",
           0.4700029874376716,
           0.1127307355459771,
           0.0210043845032951,
           0.4689351921362335,
           -0.3609377372301158,
           0.0145,
           0
          ],
          [
           "100",
           "geometric_manifold",
           "singular",
           "0.01",
           "2",
           0.465645249127727,
           0.1133103343002405,
           0.0210911581604627,
           0.4701967697704282,
           -0.3567291804947698,
           0.01945,
           0
          ],
          [
           "100",
           "geometric_manifold",
           "singular",
           "0.01",
           "4",
           0.4700093580331974,
           0.1135290729281124,
           0.0212682407518911,
           0.4753861242028604,
           -0.3596725049443246,
           0.00955,
           0
          ],
          [
           "100",
           "geometric_manifold",
           "singular",
           "0.01",
           "3",
           0.4701257861688698,
           0.1133506572462636,
           0.0210700823140285,
           0.469960768825163,
           -0.3622148249756562,
           0.01365,
           0
          ],
          [
           "100",
           "geometric_manifold",
           "singular",
           "0.01",
           "1",
           1.0005791251046223,
           0.0509300070097912,
           0.0055463899048958,
           0.1240968871552871,
           -0.9562949764513088,
           0.02465,
           0
          ],
          [
           "100",
           "geometric_manifold",
           "singular",
           "0.01",
           "0",
           0.9088334073162352,
           0.0592330387780907,
           0.006743082116645,
           0.1506865564771548,
           -0.8445555141351893,
           0.03185,
           0
          ],
          [
           "100",
           "geometric_manifold",
           "singular",
           "0.01",
           "2",
           0.9914095967378436,
           0.0520850311416381,
           0.0056953157574367,
           0.1270543749908844,
           -0.9480577328856308,
           0.02415,
           0
          ],
          [
           "100",
           "geometric_manifold",
           "singular",
           "0.01",
           "4",
           0.9586901165532604,
           0.0540546097878789,
           0.0059838796703062,
           0.1340089908893253,
           -0.9020579545960926,
           0.0292,
           0
          ],
          [
           "100",
           "geometric_manifold",
           "singular",
           "0.01",
           "3",
           0.9396218683655584,
           0.0558910091337062,
           0.0062504151243403,
           0.1389046725038515,
           -0.8859971668712152,
           0.02945,
           0
          ],
          [
           "100",
           "geometric_manifold",
           "singular",
           "0.01",
           "1",
           0.3846105811846042,
           0.1254748866932354,
           0.0251086243879144,
           0.560061150753703,
           -0.2981354200491411,
           0.00735,
           0
          ],
          [
           "100",
           "geometric_manifold",
           "singular",
           "0.01",
           "0",
           0.390068319087009,
           0.1255991955906059,
           0.0249654739040796,
           0.5564747905958191,
           -0.2988829379534514,
           0.0095,
           0
          ],
          [
           "100",
           "geometric_manifold",
           "singular",
           "0.01",
           "2",
           0.3957499035701667,
           0.120702543232354,
           0.0241359370680701,
           0.5360351266357435,
           -0.3095323367679392,
           0.01205,
           0
          ],
          [
           "100",
           "geometric_manifold",
           "singular",
           "0.01",
           "4",
           0.3826544314316535,
           0.1262994047634328,
           0.0253176695693175,
           0.5639624282433331,
           -0.2959201395669336,
           0.0044499999999999,
           0
          ],
          [
           "100",
           "geometric_manifold",
           "singular",
           "0.01",
           "3",
           0.3949864098495767,
           0.1246655995889269,
           0.0247420844514333,
           0.5554117216267274,
           -0.29817975544041,
           0.01255,
           0
          ]
         ],
         "fillcolor": "rgba(255,255,255,0)",
         "hoveron": "points",
         "hovertemplate": "outputscale=%{customdata[3]}<br>num_hidden=%{x}<br>test-negative_log_predictive_density=%{y}<br>num_train=%{customdata[0]}<br>model=%{customdata[1]}<br>dataset=%{customdata[2]}<br>run=%{customdata[4]}<br>test-expected_log_probability=%{customdata[5]}<br>test-mean_absolute_error=%{customdata[6]}<br>test-mean_squared_error=%{customdata[7]}<br>test-standardized_mean_squared_error=%{customdata[8]}<br>test-mean_standardized_log_loss=%{customdata[9]}<br>test-quantile_coverage_error=%{customdata[10]}<br>step=%{customdata[11]}<extra></extra>",
         "legendgroup": "0.01",
         "line": {
          "color": "rgba(255,255,255,0)"
         },
         "marker": {
          "color": "#00cc96"
         },
         "name": "0.01",
         "offsetgroup": "0.01",
         "orientation": "v",
         "pointpos": 0,
         "showlegend": false,
         "type": "box",
         "x": [
          4,
          4,
          4,
          4,
          4,
          2,
          2,
          2,
          2,
          2,
          1,
          1,
          1,
          1,
          1,
          3,
          3,
          3,
          3,
          3
         ],
         "x0": " ",
         "xaxis": "x",
         "y": [
          -0.4697320590526006,
          -0.4739926375725325,
          -0.4742640230444919,
          -0.7464638581449605,
          -0.4929118911580055,
          -0.5316989218595214,
          -0.5494348497264857,
          -0.5438534431505252,
          -0.5447535178127526,
          -0.5498351453716079,
          -1.2587365780042106,
          -1.1405307533211375,
          -1.2546049549299394,
          -1.2021509667131711,
          -1.18366388301292,
          -0.4425742649674878,
          -0.4471895614873254,
          -0.4714981171955972,
          -0.4398064577215751,
          -0.4459772993897056
         ],
         "y0": " ",
         "yaxis": "y"
        },
        {
         "alignmentgroup": "True",
         "boxpoints": "all",
         "customdata": [
          [
           "100",
           "geometric_manifold",
           "singular",
           "0.1",
           "1",
           0.8464706059297874,
           0.0687353412880933,
           0.008080304642852,
           0.1807915906812167,
           -0.7689441654495038,
           0.03475,
           0
          ],
          [
           "100",
           "geometric_manifold",
           "singular",
           "0.1",
           "0",
           0.8486259543148601,
           0.0689248717040758,
           0.0081054643629463,
           0.1811314903737757,
           -0.7740593293201679,
           0.03365,
           0
          ],
          [
           "100",
           "geometric_manifold",
           "singular",
           "0.1",
           "2",
           0.8169111020602818,
           0.0718272134016152,
           0.0087325663019043,
           0.1948111045653906,
           -0.7371808048641736,
           0.03475,
           0
          ],
          [
           "100",
           "geometric_manifold",
           "singular",
           "0.1",
           "4",
           0.840439759364428,
           0.0677878581827876,
           0.0081996417088561,
           0.1829637419874984,
           -0.7683045088332924,
           0.0314,
           0
          ],
          [
           "100",
           "geometric_manifold",
           "singular",
           "0.1",
           "3",
           0.7559157248581331,
           0.077839697407049,
           0.0097998187655154,
           0.2177840334028497,
           -0.6686633680295785,
           0.03805,
           0
          ],
          [
           "100",
           "geometric_manifold",
           "singular",
           "0.1",
           "1",
           0.4379613993926978,
           0.1142355073944447,
           0.0228256273908802,
           0.5091376949095165,
           -0.3277402418011451,
           0.0033,
           0
          ],
          [
           "100",
           "geometric_manifold",
           "singular",
           "0.1",
           "0",
           0.4669879163245354,
           0.117219829481736,
           0.0209139697576946,
           0.4661676756529996,
           -0.3551770618919015,
           0.03565,
           0
          ],
          [
           "100",
           "geometric_manifold",
           "singular",
           "0.1",
           "2",
           0.4293138889315763,
           0.1136472681349936,
           0.0230412822867602,
           0.5117239340490604,
           -0.3215852213735764,
           0.00475,
           0
          ],
          [
           "100",
           "geometric_manifold",
           "singular",
           "0.1",
           "4",
           0.4315171711941623,
           0.1153271873694865,
           0.0231538904649721,
           0.5169996521288562,
           -0.3240747929898841,
           0.00275,
           0
          ],
          [
           "100",
           "geometric_manifold",
           "singular",
           "0.1",
           "3",
           0.4360670870753309,
           0.11457044594508,
           0.0228625443192987,
           0.513219697640044,
           -0.3243153399704056,
           0.00245,
           0
          ],
          [
           "100",
           "geometric_manifold",
           "singular",
           "0.1",
           "1",
           0.6276951983056389,
           0.1001281878403569,
           0.0156162141569191,
           0.3489953809693266,
           -0.527091754941104,
           0.0031,
           0
          ],
          [
           "100",
           "geometric_manifold",
           "singular",
           "0.1",
           "0",
           0.6811702371171809,
           0.0912338190664726,
           0.0133053766633339,
           0.2979739229890826,
           -0.5698860464930229,
           0.0345,
           0
          ],
          [
           "100",
           "geometric_manifold",
           "singular",
           "0.1",
           "2",
           0.4426232391098939,
           0.1167531382884509,
           0.0225725250157122,
           0.5038715096087462,
           -0.326361584558822,
           0.0137,
           0
          ],
          [
           "100",
           "geometric_manifold",
           "singular",
           "0.1",
           "4",
           0.608477590409694,
           0.0968762624229098,
           0.0161877120404646,
           0.3619601177266364,
           -0.4981098030746477,
           0.0204,
           0
          ],
          [
           "100",
           "geometric_manifold",
           "singular",
           "0.1",
           "3",
           0.3499122383168139,
           0.1291387458539979,
           0.0278678252887932,
           0.6208026441964518,
           -0.2341821248318773,
           0.00825,
           0
          ],
          [
           "100",
           "geometric_manifold",
           "singular",
           "0.1",
           "1",
           0.3476676488219822,
           0.1290889353241557,
           0.0269161058529352,
           0.59994153704314,
           -0.2441231684688505,
           0.0228,
           0
          ],
          [
           "100",
           "geometric_manifold",
           "singular",
           "0.1",
           "0",
           0.4931555684881696,
           0.1090418054808807,
           0.0193023045383939,
           0.4309352595389718,
           -0.3775132043486186,
           0.0316,
           0
          ],
          [
           "100",
           "geometric_manifold",
           "singular",
           "0.1",
           "2",
           0.3858199667526206,
           0.1277239300983196,
           0.0250664934631525,
           0.5588211024817094,
           -0.2849573790056451,
           0.0231,
           0
          ],
          [
           "100",
           "geometric_manifold",
           "singular",
           "0.1",
           "4",
           0.4393157393181947,
           0.116071808399311,
           0.0214619122454121,
           0.4776835990834233,
           -0.3260263965090627,
           0.03405,
           0
          ],
          [
           "100",
           "geometric_manifold",
           "singular",
           "0.1",
           "3",
           0.2814125953247935,
           0.1423621645300087,
           0.0309099257381497,
           0.6894350125323297,
           -0.1659016269769242,
           0.03855,
           0
          ]
         ],
         "fillcolor": "rgba(255,255,255,0)",
         "hoveron": "points",
         "hovertemplate": "outputscale=%{customdata[3]}<br>num_hidden=%{x}<br>test-negative_log_predictive_density=%{y}<br>num_train=%{customdata[0]}<br>model=%{customdata[1]}<br>dataset=%{customdata[2]}<br>run=%{customdata[4]}<br>test-expected_log_probability=%{customdata[5]}<br>test-mean_absolute_error=%{customdata[6]}<br>test-mean_squared_error=%{customdata[7]}<br>test-standardized_mean_squared_error=%{customdata[8]}<br>test-mean_standardized_log_loss=%{customdata[9]}<br>test-quantile_coverage_error=%{customdata[10]}<br>step=%{customdata[11]}<extra></extra>",
         "legendgroup": "0.1",
         "line": {
          "color": "rgba(255,255,255,0)"
         },
         "marker": {
          "color": "#ab63fa"
         },
         "name": "0.1",
         "offsetgroup": "0.1",
         "orientation": "v",
         "pointpos": 0,
         "showlegend": false,
         "type": "box",
         "x": [
          1,
          1,
          1,
          1,
          1,
          3,
          3,
          3,
          3,
          3,
          4,
          4,
          4,
          4,
          4,
          2,
          2,
          2,
          2,
          2
         ],
         "x0": " ",
         "xaxis": "x",
         "y": [
          -1.061277999003946,
          -1.0689685651667062,
          -1.0267945667848737,
          -1.0649109453862888,
          -0.9427705801222468,
          -0.4871821178691352,
          -0.5119075582768368,
          -0.4749781668287628,
          -0.4858089404362073,
          -0.48794416135235,
          -0.6992774225507782,
          -0.7613089785978051,
          -0.4852261594539721,
          -0.6664243129427486,
          -0.3776099508786851,
          -0.4061504648446054,
          -0.5577393441341357,
          -0.4404228876503666,
          -0.505776340615896,
          -0.3220718258810033
         ],
         "y0": " ",
         "yaxis": "y"
        },
        {
         "line": {
          "color": "Gray",
          "dash": "dash",
          "width": 2
         },
         "mode": "lines",
         "name": "GP Mean",
         "showlegend": true,
         "type": "scatter",
         "x": [
          null
         ],
         "y": [
          null
         ]
        }
       ],
       "layout": {
        "boxmode": "group",
        "font": {
         "family": "Serif",
         "size": 14
        },
        "height": 400,
        "legend": {
         "title": {
          "text": "Prior Mean and<br>Standard Deviation"
         },
         "tracegroupgap": 0,
         "x": 1.05,
         "y": 0.55,
         "yanchor": "middle"
        },
        "margin": {
         "t": 60
        },
        "shapes": [
         {
          "layer": "below",
          "line": {
           "color": "Gray",
           "dash": "dash",
           "width": 2
          },
          "name": "mean",
          "opacity": 0.8,
          "type": "line",
          "x0": 0.5,
          "x1": 4.5,
          "y0": -1.373541946668773,
          "y1": -1.373541946668773
         }
        ],
        "template": {
         "data": {
          "bar": [
           {
            "error_x": {
             "color": "#2a3f5f"
            },
            "error_y": {
             "color": "#2a3f5f"
            },
            "marker": {
             "line": {
              "color": "#E5ECF6",
              "width": 0.5
             },
             "pattern": {
              "fillmode": "overlay",
              "size": 10,
              "solidity": 0.2
             }
            },
            "type": "bar"
           }
          ],
          "barpolar": [
           {
            "marker": {
             "line": {
              "color": "#E5ECF6",
              "width": 0.5
             },
             "pattern": {
              "fillmode": "overlay",
              "size": 10,
              "solidity": 0.2
             }
            },
            "type": "barpolar"
           }
          ],
          "carpet": [
           {
            "aaxis": {
             "endlinecolor": "#2a3f5f",
             "gridcolor": "white",
             "linecolor": "white",
             "minorgridcolor": "white",
             "startlinecolor": "#2a3f5f"
            },
            "baxis": {
             "endlinecolor": "#2a3f5f",
             "gridcolor": "white",
             "linecolor": "white",
             "minorgridcolor": "white",
             "startlinecolor": "#2a3f5f"
            },
            "type": "carpet"
           }
          ],
          "choropleth": [
           {
            "colorbar": {
             "outlinewidth": 0,
             "ticks": ""
            },
            "type": "choropleth"
           }
          ],
          "contour": [
           {
            "colorbar": {
             "outlinewidth": 0,
             "ticks": ""
            },
            "colorscale": [
             [
              0,
              "#0d0887"
             ],
             [
              0.1111111111111111,
              "#46039f"
             ],
             [
              0.2222222222222222,
              "#7201a8"
             ],
             [
              0.3333333333333333,
              "#9c179e"
             ],
             [
              0.4444444444444444,
              "#bd3786"
             ],
             [
              0.5555555555555556,
              "#d8576b"
             ],
             [
              0.6666666666666666,
              "#ed7953"
             ],
             [
              0.7777777777777778,
              "#fb9f3a"
             ],
             [
              0.8888888888888888,
              "#fdca26"
             ],
             [
              1,
              "#f0f921"
             ]
            ],
            "type": "contour"
           }
          ],
          "contourcarpet": [
           {
            "colorbar": {
             "outlinewidth": 0,
             "ticks": ""
            },
            "type": "contourcarpet"
           }
          ],
          "heatmap": [
           {
            "colorbar": {
             "outlinewidth": 0,
             "ticks": ""
            },
            "colorscale": [
             [
              0,
              "#0d0887"
             ],
             [
              0.1111111111111111,
              "#46039f"
             ],
             [
              0.2222222222222222,
              "#7201a8"
             ],
             [
              0.3333333333333333,
              "#9c179e"
             ],
             [
              0.4444444444444444,
              "#bd3786"
             ],
             [
              0.5555555555555556,
              "#d8576b"
             ],
             [
              0.6666666666666666,
              "#ed7953"
             ],
             [
              0.7777777777777778,
              "#fb9f3a"
             ],
             [
              0.8888888888888888,
              "#fdca26"
             ],
             [
              1,
              "#f0f921"
             ]
            ],
            "type": "heatmap"
           }
          ],
          "heatmapgl": [
           {
            "colorbar": {
             "outlinewidth": 0,
             "ticks": ""
            },
            "colorscale": [
             [
              0,
              "#0d0887"
             ],
             [
              0.1111111111111111,
              "#46039f"
             ],
             [
              0.2222222222222222,
              "#7201a8"
             ],
             [
              0.3333333333333333,
              "#9c179e"
             ],
             [
              0.4444444444444444,
              "#bd3786"
             ],
             [
              0.5555555555555556,
              "#d8576b"
             ],
             [
              0.6666666666666666,
              "#ed7953"
             ],
             [
              0.7777777777777778,
              "#fb9f3a"
             ],
             [
              0.8888888888888888,
              "#fdca26"
             ],
             [
              1,
              "#f0f921"
             ]
            ],
            "type": "heatmapgl"
           }
          ],
          "histogram": [
           {
            "marker": {
             "pattern": {
              "fillmode": "overlay",
              "size": 10,
              "solidity": 0.2
             }
            },
            "type": "histogram"
           }
          ],
          "histogram2d": [
           {
            "colorbar": {
             "outlinewidth": 0,
             "ticks": ""
            },
            "colorscale": [
             [
              0,
              "#0d0887"
             ],
             [
              0.1111111111111111,
              "#46039f"
             ],
             [
              0.2222222222222222,
              "#7201a8"
             ],
             [
              0.3333333333333333,
              "#9c179e"
             ],
             [
              0.4444444444444444,
              "#bd3786"
             ],
             [
              0.5555555555555556,
              "#d8576b"
             ],
             [
              0.6666666666666666,
              "#ed7953"
             ],
             [
              0.7777777777777778,
              "#fb9f3a"
             ],
             [
              0.8888888888888888,
              "#fdca26"
             ],
             [
              1,
              "#f0f921"
             ]
            ],
            "type": "histogram2d"
           }
          ],
          "histogram2dcontour": [
           {
            "colorbar": {
             "outlinewidth": 0,
             "ticks": ""
            },
            "colorscale": [
             [
              0,
              "#0d0887"
             ],
             [
              0.1111111111111111,
              "#46039f"
             ],
             [
              0.2222222222222222,
              "#7201a8"
             ],
             [
              0.3333333333333333,
              "#9c179e"
             ],
             [
              0.4444444444444444,
              "#bd3786"
             ],
             [
              0.5555555555555556,
              "#d8576b"
             ],
             [
              0.6666666666666666,
              "#ed7953"
             ],
             [
              0.7777777777777778,
              "#fb9f3a"
             ],
             [
              0.8888888888888888,
              "#fdca26"
             ],
             [
              1,
              "#f0f921"
             ]
            ],
            "type": "histogram2dcontour"
           }
          ],
          "mesh3d": [
           {
            "colorbar": {
             "outlinewidth": 0,
             "ticks": ""
            },
            "type": "mesh3d"
           }
          ],
          "parcoords": [
           {
            "line": {
             "colorbar": {
              "outlinewidth": 0,
              "ticks": ""
             }
            },
            "type": "parcoords"
           }
          ],
          "pie": [
           {
            "automargin": true,
            "type": "pie"
           }
          ],
          "scatter": [
           {
            "fillpattern": {
             "fillmode": "overlay",
             "size": 10,
             "solidity": 0.2
            },
            "type": "scatter"
           }
          ],
          "scatter3d": [
           {
            "line": {
             "colorbar": {
              "outlinewidth": 0,
              "ticks": ""
             }
            },
            "marker": {
             "colorbar": {
              "outlinewidth": 0,
              "ticks": ""
             }
            },
            "type": "scatter3d"
           }
          ],
          "scattercarpet": [
           {
            "marker": {
             "colorbar": {
              "outlinewidth": 0,
              "ticks": ""
             }
            },
            "type": "scattercarpet"
           }
          ],
          "scattergeo": [
           {
            "marker": {
             "colorbar": {
              "outlinewidth": 0,
              "ticks": ""
             }
            },
            "type": "scattergeo"
           }
          ],
          "scattergl": [
           {
            "marker": {
             "colorbar": {
              "outlinewidth": 0,
              "ticks": ""
             }
            },
            "type": "scattergl"
           }
          ],
          "scattermapbox": [
           {
            "marker": {
             "colorbar": {
              "outlinewidth": 0,
              "ticks": ""
             }
            },
            "type": "scattermapbox"
           }
          ],
          "scatterpolar": [
           {
            "marker": {
             "colorbar": {
              "outlinewidth": 0,
              "ticks": ""
             }
            },
            "type": "scatterpolar"
           }
          ],
          "scatterpolargl": [
           {
            "marker": {
             "colorbar": {
              "outlinewidth": 0,
              "ticks": ""
             }
            },
            "type": "scatterpolargl"
           }
          ],
          "scatterternary": [
           {
            "marker": {
             "colorbar": {
              "outlinewidth": 0,
              "ticks": ""
             }
            },
            "type": "scatterternary"
           }
          ],
          "surface": [
           {
            "colorbar": {
             "outlinewidth": 0,
             "ticks": ""
            },
            "colorscale": [
             [
              0,
              "#0d0887"
             ],
             [
              0.1111111111111111,
              "#46039f"
             ],
             [
              0.2222222222222222,
              "#7201a8"
             ],
             [
              0.3333333333333333,
              "#9c179e"
             ],
             [
              0.4444444444444444,
              "#bd3786"
             ],
             [
              0.5555555555555556,
              "#d8576b"
             ],
             [
              0.6666666666666666,
              "#ed7953"
             ],
             [
              0.7777777777777778,
              "#fb9f3a"
             ],
             [
              0.8888888888888888,
              "#fdca26"
             ],
             [
              1,
              "#f0f921"
             ]
            ],
            "type": "surface"
           }
          ],
          "table": [
           {
            "cells": {
             "fill": {
              "color": "#EBF0F8"
             },
             "line": {
              "color": "white"
             }
            },
            "header": {
             "fill": {
              "color": "#C8D4E3"
             },
             "line": {
              "color": "white"
             }
            },
            "type": "table"
           }
          ]
         },
         "layout": {
          "annotationdefaults": {
           "arrowcolor": "#2a3f5f",
           "arrowhead": 0,
           "arrowwidth": 1
          },
          "autotypenumbers": "strict",
          "coloraxis": {
           "colorbar": {
            "outlinewidth": 0,
            "ticks": ""
           }
          },
          "colorscale": {
           "diverging": [
            [
             0,
             "#8e0152"
            ],
            [
             0.1,
             "#c51b7d"
            ],
            [
             0.2,
             "#de77ae"
            ],
            [
             0.3,
             "#f1b6da"
            ],
            [
             0.4,
             "#fde0ef"
            ],
            [
             0.5,
             "#f7f7f7"
            ],
            [
             0.6,
             "#e6f5d0"
            ],
            [
             0.7,
             "#b8e186"
            ],
            [
             0.8,
             "#7fbc41"
            ],
            [
             0.9,
             "#4d9221"
            ],
            [
             1,
             "#276419"
            ]
           ],
           "sequential": [
            [
             0,
             "#0d0887"
            ],
            [
             0.1111111111111111,
             "#46039f"
            ],
            [
             0.2222222222222222,
             "#7201a8"
            ],
            [
             0.3333333333333333,
             "#9c179e"
            ],
            [
             0.4444444444444444,
             "#bd3786"
            ],
            [
             0.5555555555555556,
             "#d8576b"
            ],
            [
             0.6666666666666666,
             "#ed7953"
            ],
            [
             0.7777777777777778,
             "#fb9f3a"
            ],
            [
             0.8888888888888888,
             "#fdca26"
            ],
            [
             1,
             "#f0f921"
            ]
           ],
           "sequentialminus": [
            [
             0,
             "#0d0887"
            ],
            [
             0.1111111111111111,
             "#46039f"
            ],
            [
             0.2222222222222222,
             "#7201a8"
            ],
            [
             0.3333333333333333,
             "#9c179e"
            ],
            [
             0.4444444444444444,
             "#bd3786"
            ],
            [
             0.5555555555555556,
             "#d8576b"
            ],
            [
             0.6666666666666666,
             "#ed7953"
            ],
            [
             0.7777777777777778,
             "#fb9f3a"
            ],
            [
             0.8888888888888888,
             "#fdca26"
            ],
            [
             1,
             "#f0f921"
            ]
           ]
          },
          "colorway": [
           "#636efa",
           "#EF553B",
           "#00cc96",
           "#ab63fa",
           "#FFA15A",
           "#19d3f3",
           "#FF6692",
           "#B6E880",
           "#FF97FF",
           "#FECB52"
          ],
          "font": {
           "color": "#2a3f5f"
          },
          "geo": {
           "bgcolor": "white",
           "lakecolor": "white",
           "landcolor": "#E5ECF6",
           "showlakes": true,
           "showland": true,
           "subunitcolor": "white"
          },
          "hoverlabel": {
           "align": "left"
          },
          "hovermode": "closest",
          "mapbox": {
           "style": "light"
          },
          "paper_bgcolor": "white",
          "plot_bgcolor": "#E5ECF6",
          "polar": {
           "angularaxis": {
            "gridcolor": "white",
            "linecolor": "white",
            "ticks": ""
           },
           "bgcolor": "#E5ECF6",
           "radialaxis": {
            "gridcolor": "white",
            "linecolor": "white",
            "ticks": ""
           }
          },
          "scene": {
           "xaxis": {
            "backgroundcolor": "#E5ECF6",
            "gridcolor": "white",
            "gridwidth": 2,
            "linecolor": "white",
            "showbackground": true,
            "ticks": "",
            "zerolinecolor": "white"
           },
           "yaxis": {
            "backgroundcolor": "#E5ECF6",
            "gridcolor": "white",
            "gridwidth": 2,
            "linecolor": "white",
            "showbackground": true,
            "ticks": "",
            "zerolinecolor": "white"
           },
           "zaxis": {
            "backgroundcolor": "#E5ECF6",
            "gridcolor": "white",
            "gridwidth": 2,
            "linecolor": "white",
            "showbackground": true,
            "ticks": "",
            "zerolinecolor": "white"
           }
          },
          "shapedefaults": {
           "line": {
            "color": "#2a3f5f"
           }
          },
          "ternary": {
           "aaxis": {
            "gridcolor": "white",
            "linecolor": "white",
            "ticks": ""
           },
           "baxis": {
            "gridcolor": "white",
            "linecolor": "white",
            "ticks": ""
           },
           "bgcolor": "#E5ECF6",
           "caxis": {
            "gridcolor": "white",
            "linecolor": "white",
            "ticks": ""
           }
          },
          "title": {
           "x": 0.05
          },
          "xaxis": {
           "automargin": true,
           "gridcolor": "white",
           "linecolor": "white",
           "ticks": "",
           "title": {
            "standoff": 15
           },
           "zerolinecolor": "white",
           "zerolinewidth": 2
          },
          "yaxis": {
           "automargin": true,
           "gridcolor": "white",
           "linecolor": "white",
           "ticks": "",
           "title": {
            "standoff": 15
           },
           "zerolinecolor": "white",
           "zerolinewidth": 2
          }
         }
        },
        "title": {
         "font": {
          "size": 20
         },
         "text": "Negative Log Predictive Density by Hidden Layer Standard Deviation Prior<br>vs Number of Hidden Layers",
         "y": 0.96
        },
        "width": 700,
        "xaxis": {
         "anchor": "y",
         "domain": [
          0,
          1
         ],
         "title": {
          "font": {
           "size": 16
          },
          "text": "Number of Hidden Layers"
         }
        },
        "yaxis": {
         "anchor": "x",
         "domain": [
          0,
          1
         ],
         "title": {
          "font": {
           "size": 16
          },
          "text": "Negative Log Predictive Density"
         }
        }
       }
      }
     },
     "metadata": {},
     "output_type": "display_data"
    }
   ],
   "source": [
    "import plotly.express as px \n",
    "import plotly.graph_objects as go\n",
    "\n",
    "# Create a box plot\n",
    "df = data[(data['num_train'] == '100') & (data['num_hidden'] > 0)]\n",
    "\n",
    "fig = px.box(df, y=\"test-negative_log_predictive_density\", x=\"num_hidden\", color=\"outputscale\", hover_data=df.columns)\n",
    "\n",
    "# Create an empty figure\n",
    "# fig = go.Figure()\n",
    "\n",
    "# Add each box trace to the new figure\n",
    "for trace in fig.data:\n",
    "    # trace.showlegend=False\n",
    "    trace.opacity = 0.6\n",
    "    # fig.add_trace(trace)\n",
    "\n",
    "# Overlay a scatter plot on top of the box plot\n",
    "scatter_fig = px.strip(df, y=\"test-negative_log_predictive_density\", x=\"num_hidden\", color=\"outputscale\", hover_data=df.columns)\n",
    "for trace in scatter_fig.data:\n",
    "    trace.showlegend=False\n",
    "    fig.add_trace(trace)\n",
    "\n",
    "hidden_num_0_mean = data['test-negative_log_predictive_density'][(data['num_hidden'] == 0) & (data['num_train'] == '100')].mean()\n",
    "fig.add_shape(\n",
    "    type='line',\n",
    "    y0=hidden_num_0_mean, y1=hidden_num_0_mean,\n",
    "    x0=.5, x1=4.5,\n",
    "    line=dict(\n",
    "        color='Gray',\n",
    "        width=2,\n",
    "        dash=\"dash\",\n",
    "    ), \n",
    "    layer='below',\n",
    "    name='mean',\n",
    "    opacity=0.8,\n",
    ")\n",
    "fig.add_trace(go.Scatter(\n",
    "    x=[None],\n",
    "    y=[None],\n",
    "    mode='lines',\n",
    "    line=dict(color=\"Gray\", width=2, dash=\"dash\"),\n",
    "    showlegend=True,\n",
    "    name='GP Mean',\n",
    "))\n",
    "\n",
    "fig.update_layout(\n",
    "    width=700, \n",
    "    height=400, \n",
    "    font_family=\"Serif\",\n",
    "    title=dict(\n",
    "        text=\"Negative Log Predictive Density by Hidden Layer Standard Deviation Prior<br>vs Number of Hidden Layers\", \n",
    "        font_size=20,\n",
    "        y=0.96\n",
    "    ),\n",
    "    legend=dict(\n",
    "        title=\"Prior Mean and<br>Standard Deviation\", \n",
    "        x=1.05, \n",
    "        y=0.55,\n",
    "        yanchor='middle',\n",
    "    ),\n",
    "    xaxis_title=dict(\n",
    "        text=\"Number of Hidden Layers\",\n",
    "        font_size=16,\n",
    "    ),\n",
    "    yaxis_title=dict(\n",
    "        text=\"Negative Log Predictive Density\", \n",
    "        font_size=16, \n",
    "    ),\n",
    "    font_size=14, \n",
    ")\n",
    "\n",
    "fig.show()\n",
    "# fig.write_image('../report_plots/nlpd_vs_num_hidden_layers_and_outputscale.png', scale=6, height=400, width=700)"
   ]
  },
  {
   "cell_type": "code",
   "execution_count": 36,
   "metadata": {},
   "outputs": [
    {
     "data": {
      "application/vnd.plotly.v1+json": {
       "config": {
        "plotlyServerURL": "https://plot.ly"
       },
       "data": [
        {
         "alignmentgroup": "True",
         "customdata": [
          [
           "200",
           "geometric_manifold",
           "singular",
           "0.001",
           "1",
           0.4420667816747877,
           0.1212254921291931,
           0.0229722516945483,
           0.512849752618088,
           -0.3197967728451892,
           0.01245,
           0
          ],
          [
           "200",
           "geometric_manifold",
           "singular",
           "0.001",
           "0",
           1.1478621562864624,
           0.0521866412132931,
           0.0052254948094582,
           0.116622145583883,
           -1.063482707501357,
           0.0069,
           0
          ],
          [
           "200",
           "geometric_manifold",
           "singular",
           "0.001",
           "2",
           0.4411087359093506,
           0.121443923530452,
           0.0229682597585451,
           0.5130448185077395,
           -0.3180425830302508,
           0.01455,
           0
          ],
          [
           "200",
           "geometric_manifold",
           "singular",
           "0.001",
           "4",
           0.436970733309082,
           0.121669413219213,
           0.0231610963744337,
           0.5151941388183634,
           -0.3158055587032028,
           0.0172,
           0
          ],
          [
           "200",
           "geometric_manifold",
           "singular",
           "0.001",
           "3",
           1.145169060702571,
           0.0519066121295955,
           0.0052375190193718,
           0.1165407650269828,
           -1.0569780898560002,
           0.009,
           0
          ],
          [
           "200",
           "geometric_manifold",
           "singular",
           "0.001",
           "1",
           1.1932114557028533,
           0.0482842166153564,
           0.0045574585730203,
           0.1017760055840718,
           -1.1182263792559493,
           0.0115,
           0
          ],
          [
           "200",
           "geometric_manifold",
           "singular",
           "0.001",
           "0",
           1.148136688662238,
           0.0511688774798071,
           0.0050234825327031,
           0.1122370657459032,
           -1.06155285412203,
           0.01355,
           0
          ],
          [
           "200",
           "geometric_manifold",
           "singular",
           "0.001",
           "2",
           1.1806575304284028,
           0.0499023273315003,
           0.0047423080169935,
           0.1055218372248629,
           -1.1054083466851046,
           0.00895,
           0
          ],
          [
           "200",
           "geometric_manifold",
           "singular",
           "0.001",
           "4",
           1.1639720472908772,
           0.0502708724594745,
           0.0048751077251145,
           0.1088749749649221,
           -1.0821954512914786,
           0.01175,
           0
          ],
          [
           "200",
           "geometric_manifold",
           "singular",
           "0.001",
           "3",
           1.1440164671084223,
           0.0517806239424812,
           0.0051079840066116,
           0.1140557152835942,
           -1.0560986245733228,
           0.0143,
           0
          ],
          [
           "200",
           "geometric_manifold",
           "singular",
           "0.001",
           "1",
           1.2168518484247826,
           0.0388676779249414,
           0.0038146855052651,
           0.0847641253358342,
           -1.1668173671887585,
           0.01215,
           0
          ],
          [
           "200",
           "geometric_manifold",
           "singular",
           "0.001",
           "0",
           1.222685665255766,
           0.0384640198974919,
           0.0038024179545351,
           0.0847660318792295,
           -1.1755843402309518,
           0.00895,
           0
          ],
          [
           "200",
           "geometric_manifold",
           "singular",
           "0.001",
           "2",
           1.1829050062835504,
           0.0401691875652212,
           0.0040408739710844,
           0.0899204677532891,
           -1.1230377037220236,
           0.01675,
           0
          ],
          [
           "200",
           "geometric_manifold",
           "singular",
           "0.001",
           "4",
           1.2037381746164382,
           0.0393989135526465,
           0.0039171538231553,
           0.0875239256228297,
           -1.1479066478120927,
           0.0154,
           0
          ],
          [
           "200",
           "geometric_manifold",
           "singular",
           "0.001",
           "3",
           1.2308128747636708,
           0.0386599082834035,
           0.0037488978842041,
           0.083573077832274,
           -1.1854745280054009,
           0.00855,
           0
          ],
          [
           "200",
           "geometric_manifold",
           "singular",
           "0.001",
           "1",
           1.2120517779696598,
           0.0488764073142745,
           0.0044906696256691,
           0.1001309838511128,
           -1.1376383776035577,
           0.01185,
           0
          ],
          [
           "200",
           "geometric_manifold",
           "singular",
           "0.001",
           "0",
           0.9488243235206534,
           0.0681322243711122,
           0.0078883823880675,
           0.1759668794042259,
           -0.8413373314163449,
           0.02205,
           0
          ],
          [
           "200",
           "geometric_manifold",
           "singular",
           "0.001",
           "2",
           0.4436029439830604,
           0.1207418624643929,
           0.0226710852602514,
           0.5066173047266209,
           -0.3267924413658529,
           0.0147,
           0
          ],
          [
           "200",
           "geometric_manifold",
           "singular",
           "0.001",
           "4",
           0.5594800626879548,
           0.1069549961830322,
           0.0181682753550571,
           0.4061522735312197,
           -0.4380915547335481,
           0.01065,
           0
          ],
          [
           "200",
           "geometric_manifold",
           "singular",
           "0.001",
           "3",
           0.8789316194807281,
           0.0722233757089849,
           0.0090913130595343,
           0.2029072263197577,
           -0.7783601992801865,
           0.0147,
           0
          ]
         ],
         "hovertemplate": "outputscale=%{customdata[3]}<br>num_hidden=%{x}<br>test-negative_log_predictive_density=%{y}<br>num_train=%{customdata[0]}<br>model=%{customdata[1]}<br>dataset=%{customdata[2]}<br>run=%{customdata[4]}<br>test-expected_log_probability=%{customdata[5]}<br>test-mean_absolute_error=%{customdata[6]}<br>test-mean_squared_error=%{customdata[7]}<br>test-standardized_mean_squared_error=%{customdata[8]}<br>test-mean_standardized_log_loss=%{customdata[9]}<br>test-quantile_coverage_error=%{customdata[10]}<br>step=%{customdata[11]}<extra></extra>",
         "legendgroup": "0.001",
         "marker": {
          "color": "#636efa"
         },
         "name": "0.001",
         "notched": false,
         "offsetgroup": "0.001",
         "opacity": 0.6,
         "orientation": "v",
         "showlegend": true,
         "type": "box",
         "x": [
          3,
          3,
          3,
          3,
          3,
          2,
          2,
          2,
          2,
          2,
          1,
          1,
          1,
          1,
          1,
          4,
          4,
          4,
          4,
          4
         ],
         "x0": " ",
         "xaxis": "x",
         "y": [
          -0.468291812658428,
          -1.2526565220565404,
          -0.4675671279248018,
          -0.4627452002600279,
          -1.2335736994110154,
          -1.3224770130903931,
          -1.258929293913608,
          -1.3071008403809392,
          -1.2823120701892932,
          -1.2510945828389537,
          -1.4313573043731815,
          -1.4472149506165402,
          -1.3874821882594055,
          -1.415174093767421,
          -1.4549431680957732,
          -1.3375590270993174,
          -1.0183013686490423,
          -0.4732626612807248,
          -0.589757768071944,
          -0.961951603171703
         ],
         "y0": " ",
         "yaxis": "y"
        },
        {
         "alignmentgroup": "True",
         "customdata": [
          [
           "200",
           "geometric_manifold",
           "singular",
           "0.1",
           "1",
           1.437949282835301,
           0.0367602685537868,
           0.0027586052226941,
           0.0612975194221884,
           -1.3716532427205856,
           0.02205,
           0
          ],
          [
           "200",
           "geometric_manifold",
           "singular",
           "0.1",
           "0",
           1.118407588622781,
           0.0479923633999595,
           0.0047845085378644,
           0.1066594488286968,
           -1.0357920715788855,
           0.0253,
           0
          ],
          [
           "200",
           "geometric_manifold",
           "singular",
           "0.1",
           "2",
           1.1816327005048977,
           0.0470028598788382,
           0.0043584269472182,
           0.0969868876304567,
           -1.106060600272976,
           0.02295,
           0
          ],
          [
           "200",
           "geometric_manifold",
           "singular",
           "0.1",
           "4",
           1.3310727668121984,
           0.0403429045872506,
           0.0032386592103795,
           0.0723638081740216,
           -1.2514461253672873,
           0.0273,
           0
          ],
          [
           "200",
           "geometric_manifold",
           "singular",
           "0.1",
           "3",
           1.250929380856551,
           0.0432039331900021,
           0.0036534659574404,
           0.0814456419592658,
           -1.1694937545029291,
           0.02905,
           0
          ],
          [
           "200",
           "geometric_manifold",
           "singular",
           "0.1",
           "1",
           1.0126999971716617,
           0.062580244918709,
           0.0069373350674585,
           0.1548742639808012,
           -0.909430815953041,
           0.0187,
           0
          ],
          [
           "200",
           "geometric_manifold",
           "singular",
           "0.1",
           "0",
           0.8863342163403706,
           0.0738747559716538,
           0.0092540569013555,
           0.2065312492968138,
           -0.7687824290634957,
           0.0219,
           0
          ],
          [
           "200",
           "geometric_manifold",
           "singular",
           "0.1",
           "2",
           1.1123703318169695,
           0.0548125053214524,
           0.0054970232275722,
           0.1227876780291723,
           -1.0208026754176385,
           0.01695,
           0
          ],
          [
           "200",
           "geometric_manifold",
           "singular",
           "0.1",
           "4",
           0.9784521642938702,
           0.0653201489838312,
           0.0074735892191551,
           0.1662421026793465,
           -0.8761497978406079,
           0.01835,
           0
          ],
          [
           "200",
           "geometric_manifold",
           "singular",
           "0.1",
           "3",
           0.9432553546889376,
           0.069386846950485,
           0.008318061355401,
           0.1850863415129098,
           -0.8333968581968941,
           0.0138,
           0
          ],
          [
           "200",
           "geometric_manifold",
           "singular",
           "0.1",
           "1",
           0.4515398477585946,
           0.1151746681927158,
           0.0218481254541856,
           0.4879067801932932,
           -0.3328754701873681,
           0.02285,
           0
          ],
          [
           "200",
           "geometric_manifold",
           "singular",
           "0.1",
           "0",
           1.0962596650685472,
           0.0552585504602743,
           0.0056205384632029,
           0.1255767768505456,
           -1.0044425802021009,
           0.01525,
           0
          ],
          [
           "200",
           "geometric_manifold",
           "singular",
           "0.1",
           "2",
           1.149484371963804,
           0.0520573194600077,
           0.00509146495777,
           0.113290982910577,
           -1.0736129229445726,
           0.0096,
           0
          ],
          [
           "200",
           "geometric_manifold",
           "singular",
           "0.1",
           "4",
           1.1190800569414747,
           0.0527269298305984,
           0.0053352209053806,
           0.1191506065626461,
           -1.039253199651855,
           0.0121,
           0
          ],
          [
           "200",
           "geometric_manifold",
           "singular",
           "0.1",
           "3",
           1.116169271849415,
           0.0538473968928306,
           0.0054514793642487,
           0.1217255922176603,
           -1.0270969410369406,
           0.0141,
           0
          ],
          [
           "200",
           "geometric_manifold",
           "singular",
           "0.1",
           "1",
           0.9042898456197276,
           0.0718650607493575,
           0.008780339569868,
           0.1957801648672279,
           -0.7969150277590907,
           0.02375,
           0
          ],
          [
           "200",
           "geometric_manifold",
           "singular",
           "0.1",
           "0",
           0.9484471748261624,
           0.0682960748297128,
           0.0082438054677762,
           0.18389533509106,
           -0.8377103843531388,
           0.011,
           0
          ],
          [
           "200",
           "geometric_manifold",
           "singular",
           "0.1",
           "2",
           1.0299919296480082,
           0.0609701016843787,
           0.0066796737818782,
           0.1492667108337053,
           -0.9216716083937768,
           0.0224,
           0
          ],
          [
           "200",
           "geometric_manifold",
           "singular",
           "0.1",
           "4",
           0.9205418488311388,
           0.070947422716299,
           0.0087212221392178,
           0.1949631503591335,
           -0.8238828243618647,
           0.0105,
           0
          ],
          [
           "200",
           "geometric_manifold",
           "singular",
           "0.1",
           "3",
           1.0560732848426324,
           0.0600318940022145,
           0.0063744809408196,
           0.1422707851396039,
           -0.9483476973182532,
           0.0197,
           0
          ]
         ],
         "hovertemplate": "outputscale=%{customdata[3]}<br>num_hidden=%{x}<br>test-negative_log_predictive_density=%{y}<br>num_train=%{customdata[0]}<br>model=%{customdata[1]}<br>dataset=%{customdata[2]}<br>run=%{customdata[4]}<br>test-expected_log_probability=%{customdata[5]}<br>test-mean_absolute_error=%{customdata[6]}<br>test-mean_squared_error=%{customdata[7]}<br>test-standardized_mean_squared_error=%{customdata[8]}<br>test-mean_standardized_log_loss=%{customdata[9]}<br>test-quantile_coverage_error=%{customdata[10]}<br>step=%{customdata[11]}<extra></extra>",
         "legendgroup": "0.1",
         "marker": {
          "color": "#EF553B"
         },
         "name": "0.1",
         "notched": false,
         "offsetgroup": "0.1",
         "opacity": 0.6,
         "orientation": "v",
         "showlegend": true,
         "type": "box",
         "x": [
          1,
          1,
          1,
          1,
          1,
          3,
          3,
          3,
          3,
          3,
          2,
          2,
          2,
          2,
          2,
          4,
          4,
          4,
          4,
          4
         ],
         "x0": " ",
         "xaxis": "x",
         "y": [
          -1.5868395215534492,
          -1.2889571977834615,
          -1.3561797249038188,
          -1.4750554708950028,
          -1.400495523881072,
          -1.109704970970456,
          -0.9503845111524948,
          -1.2260110726979447,
          -1.068566080726668,
          -1.019079930288968,
          -0.5109605510330372,
          -1.2116240180610585,
          -1.2888286460768543,
          -1.2777166367119792,
          -1.2307876490111505,
          -0.9614521732339032,
          -0.9979939760899884,
          -1.1179912178735243,
          -1.0030321446442696,
          -1.1361015024146552
         ],
         "y0": " ",
         "yaxis": "y"
        },
        {
         "alignmentgroup": "True",
         "customdata": [
          [
           "200",
           "geometric_manifold",
           "singular",
           "0.0001",
           "1",
           1.2110097151810806,
           0.0468828664936535,
           0.0044051664718635,
           0.0983750571191744,
           -1.1441469277020495,
           0.0086,
           0
          ],
          [
           "200",
           "geometric_manifold",
           "singular",
           "0.0001",
           "0",
           1.1873883434549972,
           0.0485632708224258,
           0.0046252573070813,
           0.1033397259942824,
           -1.1111703466815814,
           0.01365,
           0
          ],
          [
           "200",
           "geometric_manifold",
           "singular",
           "0.0001",
           "2",
           1.2090589694610598,
           0.0477636801413862,
           0.004453368193542,
           0.0990925920326967,
           -1.1463308711285252,
           0.0039,
           0
          ],
          [
           "200",
           "geometric_manifold",
           "singular",
           "0.0001",
           "3",
           1.2024489953668582,
           0.0479532257833025,
           0.0045128627725495,
           0.1007673067953219,
           -1.1307587308958715,
           0.0088,
           0
          ],
          [
           "200",
           "geometric_manifold",
           "singular",
           "0.0001",
           "1",
           1.2473178697685685,
           0.0373833365505494,
           0.003615136967747,
           0.0803300619716524,
           -1.2064591159505194,
           0.0086,
           0
          ],
          [
           "200",
           "geometric_manifold",
           "singular",
           "0.0001",
           "0",
           1.258076636980727,
           0.0367135859671079,
           0.0035499209292991,
           0.0791372001341443,
           -1.2219112073826384,
           0.006,
           0
          ],
          [
           "200",
           "geometric_manifold",
           "singular",
           "0.0001",
           "2",
           1.250850636506445,
           0.0372495824311256,
           0.0036067486041911,
           0.0802599942186145,
           -1.2105550727122958,
           0.00675,
           0
          ],
          [
           "200",
           "geometric_manifold",
           "singular",
           "0.0001",
           "3",
           1.2309241516983411,
           0.0385491181184331,
           0.0037482681382634,
           0.083559039091253,
           -1.1858399454312432,
           0.0087,
           0
          ],
          [
           "200",
           "geometric_manifold",
           "singular",
           "0.0001",
           "1",
           1.140904889202892,
           0.052610744673503,
           0.0053673702704764,
           0.119825193978558,
           -1.053902404265036,
           0.00425,
           0
          ],
          [
           "200",
           "geometric_manifold",
           "singular",
           "0.0001",
           "0",
           1.239085143239144,
           0.0467820558710517,
           0.004289275158163,
           0.095727675595278,
           -1.17007477915077,
           0.00765,
           0
          ],
          [
           "200",
           "geometric_manifold",
           "singular",
           "0.0001",
           "2",
           1.154268483493014,
           0.0517658588938515,
           0.0051295850005774,
           0.1145801655548669,
           -1.068035706885977,
           0.00765,
           0
          ],
          [
           "200",
           "geometric_manifold",
           "singular",
           "0.0001",
           "3",
           1.151259604536101,
           0.051944816511175,
           0.0052352131234729,
           0.1164894562162387,
           -1.0660737259657815,
           0.005,
           0
          ],
          [
           "200",
           "geometric_manifold",
           "singular",
           "0.0001",
           "1",
           0.8675057262032589,
           0.0707742611862866,
           0.0090476742265985,
           0.2017410759177563,
           -0.7812631444858654,
           0.0028,
           0
          ],
          [
           "200",
           "geometric_manifold",
           "singular",
           "0.0001",
           "0",
           0.8615696742970327,
           0.0719407629651223,
           0.0091547757452219,
           0.2042164337734215,
           -0.7757788669446668,
           0.00375,
           0
          ],
          [
           "200",
           "geometric_manifold",
           "singular",
           "0.0001",
           "2",
           0.4255138688795207,
           0.1231870610637449,
           0.0234579075354919,
           0.5241999557468657,
           -0.3106017945189622,
           0.01475,
           0
          ],
          [
           "200",
           "geometric_manifold",
           "singular",
           "0.0001",
           "4",
           0.423308030502967,
           0.1237777992293943,
           0.0235218825807517,
           0.5258323039037105,
           -0.3097606150477495,
           0.01465,
           0
          ],
          [
           "200",
           "geometric_manifold",
           "singular",
           "0.0001",
           "3",
           0.4198611668585124,
           0.1237692861541265,
           0.0236626037841042,
           0.5281209952725948,
           -0.3066209407915283,
           0.01555,
           0
          ]
         ],
         "hovertemplate": "outputscale=%{customdata[3]}<br>num_hidden=%{x}<br>test-negative_log_predictive_density=%{y}<br>num_train=%{customdata[0]}<br>model=%{customdata[1]}<br>dataset=%{customdata[2]}<br>run=%{customdata[4]}<br>test-expected_log_probability=%{customdata[5]}<br>test-mean_absolute_error=%{customdata[6]}<br>test-mean_squared_error=%{customdata[7]}<br>test-standardized_mean_squared_error=%{customdata[8]}<br>test-mean_standardized_log_loss=%{customdata[9]}<br>test-quantile_coverage_error=%{customdata[10]}<br>step=%{customdata[11]}<extra></extra>",
         "legendgroup": "0.0001",
         "marker": {
          "color": "#00cc96"
         },
         "name": "0.0001",
         "notched": false,
         "offsetgroup": "0.0001",
         "opacity": 0.6,
         "orientation": "v",
         "showlegend": true,
         "type": "box",
         "x": [
          2,
          2,
          2,
          2,
          1,
          1,
          1,
          1,
          3,
          3,
          3,
          3,
          4,
          4,
          4,
          4,
          4
         ],
         "x0": " ",
         "xaxis": "x",
         "y": [
          -1.3504708195925677,
          -1.3139507786854243,
          -1.353828446789877,
          -1.335787762278296,
          -1.4677736820056455,
          -1.4872160741959652,
          -1.4713641162275333,
          -1.4547918478365909,
          -1.2276222053350785,
          -1.3699808595122274,
          -1.2547382018015465,
          -1.2407149100785917,
          -0.9432156773377168,
          -0.9369947164319342,
          -0.4547509490289169,
          -0.4529284934342085,
          -0.4492762239842611
         ],
         "y0": " ",
         "yaxis": "y"
        },
        {
         "alignmentgroup": "True",
         "customdata": [
          [
           "200",
           "geometric_manifold",
           "singular",
           "0.01",
           "1",
           0.9143072239283038,
           0.0722615401847417,
           0.0085756277698123,
           0.1914487373188922,
           -0.7977100621275428,
           0.024,
           0
          ],
          [
           "200",
           "geometric_manifold",
           "singular",
           "0.01",
           "0",
           0.895642789717028,
           0.0741686952940895,
           0.0089475319337783,
           0.1996902513248751,
           -0.7795824307112283,
           0.0239,
           0
          ],
          [
           "200",
           "geometric_manifold",
           "singular",
           "0.01",
           "2",
           0.8974620123735686,
           0.0738013559016475,
           0.0088586442208976,
           0.1978766160045806,
           -0.7803827971432965,
           0.02415,
           0
          ],
          [
           "200",
           "geometric_manifold",
           "singular",
           "0.01",
           "4",
           0.8509564216179515,
           0.0773008832332282,
           0.0095081724019355,
           0.2114992577708436,
           -0.7342236907340054,
           0.03375,
           0
          ],
          [
           "200",
           "geometric_manifold",
           "singular",
           "0.01",
           "3",
           0.9189178811346173,
           0.0726123975480081,
           0.0085192237285014,
           0.1895624334887212,
           -0.8035245795662537,
           0.02585,
           0
          ],
          [
           "200",
           "geometric_manifold",
           "singular",
           "0.01",
           "1",
           1.1613200137744433,
           0.0508347085719246,
           0.0049253365395813,
           0.1099913627571705,
           -1.08190669292336,
           0.01195,
           0
          ],
          [
           "200",
           "geometric_manifold",
           "singular",
           "0.01",
           "0",
           1.1147893148686487,
           0.0533139447199119,
           0.0053804250581458,
           0.1202120475309107,
           -1.0225949856896204,
           0.01505,
           0
          ],
          [
           "200",
           "geometric_manifold",
           "singular",
           "0.01",
           "2",
           1.1698561414377144,
           0.0507488474847072,
           0.0048842336849838,
           0.1086798474557544,
           -1.0922719631632192,
           0.00985,
           0
          ],
          [
           "200",
           "geometric_manifold",
           "singular",
           "0.01",
           "4",
           1.133488970969405,
           0.0523465360743908,
           0.0052263196220448,
           0.1167185322033975,
           -1.0462075812659477,
           0.01295,
           0
          ],
          [
           "200",
           "geometric_manifold",
           "singular",
           "0.01",
           "3",
           1.13174520654695,
           0.0526771638600197,
           0.0052629470960651,
           0.1175158721649183,
           -1.0420552229157998,
           0.015,
           0
          ],
          [
           "200",
           "geometric_manifold",
           "singular",
           "0.01",
           "1",
           1.16944041082048,
           0.0415400184342706,
           0.0041474855375087,
           0.0921591002573385,
           -1.106300547570326,
           0.0188,
           0
          ],
          [
           "200",
           "geometric_manifold",
           "singular",
           "0.01",
           "0",
           1.2035738238165348,
           0.0398574086119297,
           0.003962794172665,
           0.0883412452779711,
           -1.1510273816996706,
           0.01255,
           0
          ],
          [
           "200",
           "geometric_manifold",
           "singular",
           "0.01",
           "2",
           1.1798860045490107,
           0.0410793183481462,
           0.0040907203190948,
           0.0910296849575264,
           -1.1193924326428006,
           0.0175,
           0
          ],
          [
           "200",
           "geometric_manifold",
           "singular",
           "0.01",
           "4",
           1.1754918437087922,
           0.0412829847918957,
           0.0041372943796215,
           0.0924426922989858,
           -1.1122332818904492,
           0.0182,
           0
          ],
          [
           "200",
           "geometric_manifold",
           "singular",
           "0.01",
           "3",
           1.1687300249448973,
           0.0419334251282429,
           0.0041645448751971,
           0.0928389739441342,
           -1.104043183864292,
           0.01805,
           0
          ],
          [
           "200",
           "geometric_manifold",
           "singular",
           "0.01",
           "1",
           0.963590779442954,
           0.0646920712933237,
           0.007539212645079,
           0.1681060604635413,
           -0.8548749764070495,
           0.01945,
           0
          ],
          [
           "200",
           "geometric_manifold",
           "singular",
           "0.01",
           "0",
           0.899995215894343,
           0.0744659350423957,
           0.0089530999623646,
           0.1997176333331063,
           -0.7819714853178172,
           0.02325,
           0
          ],
          [
           "200",
           "geometric_manifold",
           "singular",
           "0.01",
           "2",
           0.9051774045243948,
           0.0734983578071674,
           0.0086998552219831,
           0.1944105080756969,
           -0.7889531476469822,
           0.025,
           0
          ],
          [
           "200",
           "geometric_manifold",
           "singular",
           "0.01",
           "4",
           1.085085406742308,
           0.0582416043074302,
           0.0060388585226291,
           0.134998841142976,
           -0.9810230843203088,
           0.01715,
           0
          ],
          [
           "200",
           "geometric_manifold",
           "singular",
           "0.01",
           "3",
           1.03963587815125,
           0.0601207924368146,
           0.0064286097423458,
           0.1434788752042361,
           -0.9344231209582804,
           0.0223,
           0
          ]
         ],
         "hovertemplate": "outputscale=%{customdata[3]}<br>num_hidden=%{x}<br>test-negative_log_predictive_density=%{y}<br>num_train=%{customdata[0]}<br>model=%{customdata[1]}<br>dataset=%{customdata[2]}<br>run=%{customdata[4]}<br>test-expected_log_probability=%{customdata[5]}<br>test-mean_absolute_error=%{customdata[6]}<br>test-mean_squared_error=%{customdata[7]}<br>test-standardized_mean_squared_error=%{customdata[8]}<br>test-mean_standardized_log_loss=%{customdata[9]}<br>test-quantile_coverage_error=%{customdata[10]}<br>step=%{customdata[11]}<extra></extra>",
         "legendgroup": "0.01",
         "marker": {
          "color": "#ab63fa"
         },
         "name": "0.01",
         "notched": false,
         "offsetgroup": "0.01",
         "opacity": 0.6,
         "orientation": "v",
         "showlegend": true,
         "type": "box",
         "x": [
          3,
          3,
          3,
          3,
          3,
          2,
          2,
          2,
          2,
          2,
          1,
          1,
          1,
          1,
          1,
          4,
          4,
          4,
          4,
          4
         ],
         "x0": " ",
         "xaxis": "x",
         "y": [
          -0.960076533963095,
          -0.946588247130998,
          -0.954463037733029,
          -0.8937700707264536,
          -0.971005738430587,
          -1.2901800109282568,
          -1.2188857641095374,
          -1.2997161407625544,
          -1.2501613836403322,
          -1.2396311431340803,
          -1.3691729910505706,
          -1.4251981247036112,
          -1.387692442344437,
          -1.3799204717077358,
          -1.370434109054012,
          -1.028729566956616,
          -0.9423072994358564,
          -0.9586355413418772,
          -1.158376445455637,
          -1.1118803943223097
         ],
         "y0": " ",
         "yaxis": "y"
        },
        {
         "alignmentgroup": "True",
         "boxpoints": "all",
         "customdata": [
          [
           "200",
           "geometric_manifold",
           "singular",
           "0.001",
           "1",
           0.4420667816747877,
           0.1212254921291931,
           0.0229722516945483,
           0.512849752618088,
           -0.3197967728451892,
           0.01245,
           0
          ],
          [
           "200",
           "geometric_manifold",
           "singular",
           "0.001",
           "0",
           1.1478621562864624,
           0.0521866412132931,
           0.0052254948094582,
           0.116622145583883,
           -1.063482707501357,
           0.0069,
           0
          ],
          [
           "200",
           "geometric_manifold",
           "singular",
           "0.001",
           "2",
           0.4411087359093506,
           0.121443923530452,
           0.0229682597585451,
           0.5130448185077395,
           -0.3180425830302508,
           0.01455,
           0
          ],
          [
           "200",
           "geometric_manifold",
           "singular",
           "0.001",
           "4",
           0.436970733309082,
           0.121669413219213,
           0.0231610963744337,
           0.5151941388183634,
           -0.3158055587032028,
           0.0172,
           0
          ],
          [
           "200",
           "geometric_manifold",
           "singular",
           "0.001",
           "3",
           1.145169060702571,
           0.0519066121295955,
           0.0052375190193718,
           0.1165407650269828,
           -1.0569780898560002,
           0.009,
           0
          ],
          [
           "200",
           "geometric_manifold",
           "singular",
           "0.001",
           "1",
           1.1932114557028533,
           0.0482842166153564,
           0.0045574585730203,
           0.1017760055840718,
           -1.1182263792559493,
           0.0115,
           0
          ],
          [
           "200",
           "geometric_manifold",
           "singular",
           "0.001",
           "0",
           1.148136688662238,
           0.0511688774798071,
           0.0050234825327031,
           0.1122370657459032,
           -1.06155285412203,
           0.01355,
           0
          ],
          [
           "200",
           "geometric_manifold",
           "singular",
           "0.001",
           "2",
           1.1806575304284028,
           0.0499023273315003,
           0.0047423080169935,
           0.1055218372248629,
           -1.1054083466851046,
           0.00895,
           0
          ],
          [
           "200",
           "geometric_manifold",
           "singular",
           "0.001",
           "4",
           1.1639720472908772,
           0.0502708724594745,
           0.0048751077251145,
           0.1088749749649221,
           -1.0821954512914786,
           0.01175,
           0
          ],
          [
           "200",
           "geometric_manifold",
           "singular",
           "0.001",
           "3",
           1.1440164671084223,
           0.0517806239424812,
           0.0051079840066116,
           0.1140557152835942,
           -1.0560986245733228,
           0.0143,
           0
          ],
          [
           "200",
           "geometric_manifold",
           "singular",
           "0.001",
           "1",
           1.2168518484247826,
           0.0388676779249414,
           0.0038146855052651,
           0.0847641253358342,
           -1.1668173671887585,
           0.01215,
           0
          ],
          [
           "200",
           "geometric_manifold",
           "singular",
           "0.001",
           "0",
           1.222685665255766,
           0.0384640198974919,
           0.0038024179545351,
           0.0847660318792295,
           -1.1755843402309518,
           0.00895,
           0
          ],
          [
           "200",
           "geometric_manifold",
           "singular",
           "0.001",
           "2",
           1.1829050062835504,
           0.0401691875652212,
           0.0040408739710844,
           0.0899204677532891,
           -1.1230377037220236,
           0.01675,
           0
          ],
          [
           "200",
           "geometric_manifold",
           "singular",
           "0.001",
           "4",
           1.2037381746164382,
           0.0393989135526465,
           0.0039171538231553,
           0.0875239256228297,
           -1.1479066478120927,
           0.0154,
           0
          ],
          [
           "200",
           "geometric_manifold",
           "singular",
           "0.001",
           "3",
           1.2308128747636708,
           0.0386599082834035,
           0.0037488978842041,
           0.083573077832274,
           -1.1854745280054009,
           0.00855,
           0
          ],
          [
           "200",
           "geometric_manifold",
           "singular",
           "0.001",
           "1",
           1.2120517779696598,
           0.0488764073142745,
           0.0044906696256691,
           0.1001309838511128,
           -1.1376383776035577,
           0.01185,
           0
          ],
          [
           "200",
           "geometric_manifold",
           "singular",
           "0.001",
           "0",
           0.9488243235206534,
           0.0681322243711122,
           0.0078883823880675,
           0.1759668794042259,
           -0.8413373314163449,
           0.02205,
           0
          ],
          [
           "200",
           "geometric_manifold",
           "singular",
           "0.001",
           "2",
           0.4436029439830604,
           0.1207418624643929,
           0.0226710852602514,
           0.5066173047266209,
           -0.3267924413658529,
           0.0147,
           0
          ],
          [
           "200",
           "geometric_manifold",
           "singular",
           "0.001",
           "4",
           0.5594800626879548,
           0.1069549961830322,
           0.0181682753550571,
           0.4061522735312197,
           -0.4380915547335481,
           0.01065,
           0
          ],
          [
           "200",
           "geometric_manifold",
           "singular",
           "0.001",
           "3",
           0.8789316194807281,
           0.0722233757089849,
           0.0090913130595343,
           0.2029072263197577,
           -0.7783601992801865,
           0.0147,
           0
          ]
         ],
         "fillcolor": "rgba(255,255,255,0)",
         "hoveron": "points",
         "hovertemplate": "outputscale=%{customdata[3]}<br>num_hidden=%{x}<br>test-negative_log_predictive_density=%{y}<br>num_train=%{customdata[0]}<br>model=%{customdata[1]}<br>dataset=%{customdata[2]}<br>run=%{customdata[4]}<br>test-expected_log_probability=%{customdata[5]}<br>test-mean_absolute_error=%{customdata[6]}<br>test-mean_squared_error=%{customdata[7]}<br>test-standardized_mean_squared_error=%{customdata[8]}<br>test-mean_standardized_log_loss=%{customdata[9]}<br>test-quantile_coverage_error=%{customdata[10]}<br>step=%{customdata[11]}<extra></extra>",
         "legendgroup": "0.001",
         "line": {
          "color": "rgba(255,255,255,0)"
         },
         "marker": {
          "color": "#636efa"
         },
         "name": "0.001",
         "offsetgroup": "0.001",
         "orientation": "v",
         "pointpos": 0,
         "showlegend": false,
         "type": "box",
         "x": [
          3,
          3,
          3,
          3,
          3,
          2,
          2,
          2,
          2,
          2,
          1,
          1,
          1,
          1,
          1,
          4,
          4,
          4,
          4,
          4
         ],
         "x0": " ",
         "xaxis": "x",
         "y": [
          -0.468291812658428,
          -1.2526565220565404,
          -0.4675671279248018,
          -0.4627452002600279,
          -1.2335736994110154,
          -1.3224770130903931,
          -1.258929293913608,
          -1.3071008403809392,
          -1.2823120701892932,
          -1.2510945828389537,
          -1.4313573043731815,
          -1.4472149506165402,
          -1.3874821882594055,
          -1.415174093767421,
          -1.4549431680957732,
          -1.3375590270993174,
          -1.0183013686490423,
          -0.4732626612807248,
          -0.589757768071944,
          -0.961951603171703
         ],
         "y0": " ",
         "yaxis": "y"
        },
        {
         "alignmentgroup": "True",
         "boxpoints": "all",
         "customdata": [
          [
           "200",
           "geometric_manifold",
           "singular",
           "0.1",
           "1",
           1.437949282835301,
           0.0367602685537868,
           0.0027586052226941,
           0.0612975194221884,
           -1.3716532427205856,
           0.02205,
           0
          ],
          [
           "200",
           "geometric_manifold",
           "singular",
           "0.1",
           "0",
           1.118407588622781,
           0.0479923633999595,
           0.0047845085378644,
           0.1066594488286968,
           -1.0357920715788855,
           0.0253,
           0
          ],
          [
           "200",
           "geometric_manifold",
           "singular",
           "0.1",
           "2",
           1.1816327005048977,
           0.0470028598788382,
           0.0043584269472182,
           0.0969868876304567,
           -1.106060600272976,
           0.02295,
           0
          ],
          [
           "200",
           "geometric_manifold",
           "singular",
           "0.1",
           "4",
           1.3310727668121984,
           0.0403429045872506,
           0.0032386592103795,
           0.0723638081740216,
           -1.2514461253672873,
           0.0273,
           0
          ],
          [
           "200",
           "geometric_manifold",
           "singular",
           "0.1",
           "3",
           1.250929380856551,
           0.0432039331900021,
           0.0036534659574404,
           0.0814456419592658,
           -1.1694937545029291,
           0.02905,
           0
          ],
          [
           "200",
           "geometric_manifold",
           "singular",
           "0.1",
           "1",
           1.0126999971716617,
           0.062580244918709,
           0.0069373350674585,
           0.1548742639808012,
           -0.909430815953041,
           0.0187,
           0
          ],
          [
           "200",
           "geometric_manifold",
           "singular",
           "0.1",
           "0",
           0.8863342163403706,
           0.0738747559716538,
           0.0092540569013555,
           0.2065312492968138,
           -0.7687824290634957,
           0.0219,
           0
          ],
          [
           "200",
           "geometric_manifold",
           "singular",
           "0.1",
           "2",
           1.1123703318169695,
           0.0548125053214524,
           0.0054970232275722,
           0.1227876780291723,
           -1.0208026754176385,
           0.01695,
           0
          ],
          [
           "200",
           "geometric_manifold",
           "singular",
           "0.1",
           "4",
           0.9784521642938702,
           0.0653201489838312,
           0.0074735892191551,
           0.1662421026793465,
           -0.8761497978406079,
           0.01835,
           0
          ],
          [
           "200",
           "geometric_manifold",
           "singular",
           "0.1",
           "3",
           0.9432553546889376,
           0.069386846950485,
           0.008318061355401,
           0.1850863415129098,
           -0.8333968581968941,
           0.0138,
           0
          ],
          [
           "200",
           "geometric_manifold",
           "singular",
           "0.1",
           "1",
           0.4515398477585946,
           0.1151746681927158,
           0.0218481254541856,
           0.4879067801932932,
           -0.3328754701873681,
           0.02285,
           0
          ],
          [
           "200",
           "geometric_manifold",
           "singular",
           "0.1",
           "0",
           1.0962596650685472,
           0.0552585504602743,
           0.0056205384632029,
           0.1255767768505456,
           -1.0044425802021009,
           0.01525,
           0
          ],
          [
           "200",
           "geometric_manifold",
           "singular",
           "0.1",
           "2",
           1.149484371963804,
           0.0520573194600077,
           0.00509146495777,
           0.113290982910577,
           -1.0736129229445726,
           0.0096,
           0
          ],
          [
           "200",
           "geometric_manifold",
           "singular",
           "0.1",
           "4",
           1.1190800569414747,
           0.0527269298305984,
           0.0053352209053806,
           0.1191506065626461,
           -1.039253199651855,
           0.0121,
           0
          ],
          [
           "200",
           "geometric_manifold",
           "singular",
           "0.1",
           "3",
           1.116169271849415,
           0.0538473968928306,
           0.0054514793642487,
           0.1217255922176603,
           -1.0270969410369406,
           0.0141,
           0
          ],
          [
           "200",
           "geometric_manifold",
           "singular",
           "0.1",
           "1",
           0.9042898456197276,
           0.0718650607493575,
           0.008780339569868,
           0.1957801648672279,
           -0.7969150277590907,
           0.02375,
           0
          ],
          [
           "200",
           "geometric_manifold",
           "singular",
           "0.1",
           "0",
           0.9484471748261624,
           0.0682960748297128,
           0.0082438054677762,
           0.18389533509106,
           -0.8377103843531388,
           0.011,
           0
          ],
          [
           "200",
           "geometric_manifold",
           "singular",
           "0.1",
           "2",
           1.0299919296480082,
           0.0609701016843787,
           0.0066796737818782,
           0.1492667108337053,
           -0.9216716083937768,
           0.0224,
           0
          ],
          [
           "200",
           "geometric_manifold",
           "singular",
           "0.1",
           "4",
           0.9205418488311388,
           0.070947422716299,
           0.0087212221392178,
           0.1949631503591335,
           -0.8238828243618647,
           0.0105,
           0
          ],
          [
           "200",
           "geometric_manifold",
           "singular",
           "0.1",
           "3",
           1.0560732848426324,
           0.0600318940022145,
           0.0063744809408196,
           0.1422707851396039,
           -0.9483476973182532,
           0.0197,
           0
          ]
         ],
         "fillcolor": "rgba(255,255,255,0)",
         "hoveron": "points",
         "hovertemplate": "outputscale=%{customdata[3]}<br>num_hidden=%{x}<br>test-negative_log_predictive_density=%{y}<br>num_train=%{customdata[0]}<br>model=%{customdata[1]}<br>dataset=%{customdata[2]}<br>run=%{customdata[4]}<br>test-expected_log_probability=%{customdata[5]}<br>test-mean_absolute_error=%{customdata[6]}<br>test-mean_squared_error=%{customdata[7]}<br>test-standardized_mean_squared_error=%{customdata[8]}<br>test-mean_standardized_log_loss=%{customdata[9]}<br>test-quantile_coverage_error=%{customdata[10]}<br>step=%{customdata[11]}<extra></extra>",
         "legendgroup": "0.1",
         "line": {
          "color": "rgba(255,255,255,0)"
         },
         "marker": {
          "color": "#EF553B"
         },
         "name": "0.1",
         "offsetgroup": "0.1",
         "orientation": "v",
         "pointpos": 0,
         "showlegend": false,
         "type": "box",
         "x": [
          1,
          1,
          1,
          1,
          1,
          3,
          3,
          3,
          3,
          3,
          2,
          2,
          2,
          2,
          2,
          4,
          4,
          4,
          4,
          4
         ],
         "x0": " ",
         "xaxis": "x",
         "y": [
          -1.5868395215534492,
          -1.2889571977834615,
          -1.3561797249038188,
          -1.4750554708950028,
          -1.400495523881072,
          -1.109704970970456,
          -0.9503845111524948,
          -1.2260110726979447,
          -1.068566080726668,
          -1.019079930288968,
          -0.5109605510330372,
          -1.2116240180610585,
          -1.2888286460768543,
          -1.2777166367119792,
          -1.2307876490111505,
          -0.9614521732339032,
          -0.9979939760899884,
          -1.1179912178735243,
          -1.0030321446442696,
          -1.1361015024146552
         ],
         "y0": " ",
         "yaxis": "y"
        },
        {
         "alignmentgroup": "True",
         "boxpoints": "all",
         "customdata": [
          [
           "200",
           "geometric_manifold",
           "singular",
           "0.0001",
           "1",
           1.2110097151810806,
           0.0468828664936535,
           0.0044051664718635,
           0.0983750571191744,
           -1.1441469277020495,
           0.0086,
           0
          ],
          [
           "200",
           "geometric_manifold",
           "singular",
           "0.0001",
           "0",
           1.1873883434549972,
           0.0485632708224258,
           0.0046252573070813,
           0.1033397259942824,
           -1.1111703466815814,
           0.01365,
           0
          ],
          [
           "200",
           "geometric_manifold",
           "singular",
           "0.0001",
           "2",
           1.2090589694610598,
           0.0477636801413862,
           0.004453368193542,
           0.0990925920326967,
           -1.1463308711285252,
           0.0039,
           0
          ],
          [
           "200",
           "geometric_manifold",
           "singular",
           "0.0001",
           "3",
           1.2024489953668582,
           0.0479532257833025,
           0.0045128627725495,
           0.1007673067953219,
           -1.1307587308958715,
           0.0088,
           0
          ],
          [
           "200",
           "geometric_manifold",
           "singular",
           "0.0001",
           "1",
           1.2473178697685685,
           0.0373833365505494,
           0.003615136967747,
           0.0803300619716524,
           -1.2064591159505194,
           0.0086,
           0
          ],
          [
           "200",
           "geometric_manifold",
           "singular",
           "0.0001",
           "0",
           1.258076636980727,
           0.0367135859671079,
           0.0035499209292991,
           0.0791372001341443,
           -1.2219112073826384,
           0.006,
           0
          ],
          [
           "200",
           "geometric_manifold",
           "singular",
           "0.0001",
           "2",
           1.250850636506445,
           0.0372495824311256,
           0.0036067486041911,
           0.0802599942186145,
           -1.2105550727122958,
           0.00675,
           0
          ],
          [
           "200",
           "geometric_manifold",
           "singular",
           "0.0001",
           "3",
           1.2309241516983411,
           0.0385491181184331,
           0.0037482681382634,
           0.083559039091253,
           -1.1858399454312432,
           0.0087,
           0
          ],
          [
           "200",
           "geometric_manifold",
           "singular",
           "0.0001",
           "1",
           1.140904889202892,
           0.052610744673503,
           0.0053673702704764,
           0.119825193978558,
           -1.053902404265036,
           0.00425,
           0
          ],
          [
           "200",
           "geometric_manifold",
           "singular",
           "0.0001",
           "0",
           1.239085143239144,
           0.0467820558710517,
           0.004289275158163,
           0.095727675595278,
           -1.17007477915077,
           0.00765,
           0
          ],
          [
           "200",
           "geometric_manifold",
           "singular",
           "0.0001",
           "2",
           1.154268483493014,
           0.0517658588938515,
           0.0051295850005774,
           0.1145801655548669,
           -1.068035706885977,
           0.00765,
           0
          ],
          [
           "200",
           "geometric_manifold",
           "singular",
           "0.0001",
           "3",
           1.151259604536101,
           0.051944816511175,
           0.0052352131234729,
           0.1164894562162387,
           -1.0660737259657815,
           0.005,
           0
          ],
          [
           "200",
           "geometric_manifold",
           "singular",
           "0.0001",
           "1",
           0.8675057262032589,
           0.0707742611862866,
           0.0090476742265985,
           0.2017410759177563,
           -0.7812631444858654,
           0.0028,
           0
          ],
          [
           "200",
           "geometric_manifold",
           "singular",
           "0.0001",
           "0",
           0.8615696742970327,
           0.0719407629651223,
           0.0091547757452219,
           0.2042164337734215,
           -0.7757788669446668,
           0.00375,
           0
          ],
          [
           "200",
           "geometric_manifold",
           "singular",
           "0.0001",
           "2",
           0.4255138688795207,
           0.1231870610637449,
           0.0234579075354919,
           0.5241999557468657,
           -0.3106017945189622,
           0.01475,
           0
          ],
          [
           "200",
           "geometric_manifold",
           "singular",
           "0.0001",
           "4",
           0.423308030502967,
           0.1237777992293943,
           0.0235218825807517,
           0.5258323039037105,
           -0.3097606150477495,
           0.01465,
           0
          ],
          [
           "200",
           "geometric_manifold",
           "singular",
           "0.0001",
           "3",
           0.4198611668585124,
           0.1237692861541265,
           0.0236626037841042,
           0.5281209952725948,
           -0.3066209407915283,
           0.01555,
           0
          ]
         ],
         "fillcolor": "rgba(255,255,255,0)",
         "hoveron": "points",
         "hovertemplate": "outputscale=%{customdata[3]}<br>num_hidden=%{x}<br>test-negative_log_predictive_density=%{y}<br>num_train=%{customdata[0]}<br>model=%{customdata[1]}<br>dataset=%{customdata[2]}<br>run=%{customdata[4]}<br>test-expected_log_probability=%{customdata[5]}<br>test-mean_absolute_error=%{customdata[6]}<br>test-mean_squared_error=%{customdata[7]}<br>test-standardized_mean_squared_error=%{customdata[8]}<br>test-mean_standardized_log_loss=%{customdata[9]}<br>test-quantile_coverage_error=%{customdata[10]}<br>step=%{customdata[11]}<extra></extra>",
         "legendgroup": "0.0001",
         "line": {
          "color": "rgba(255,255,255,0)"
         },
         "marker": {
          "color": "#00cc96"
         },
         "name": "0.0001",
         "offsetgroup": "0.0001",
         "orientation": "v",
         "pointpos": 0,
         "showlegend": false,
         "type": "box",
         "x": [
          2,
          2,
          2,
          2,
          1,
          1,
          1,
          1,
          3,
          3,
          3,
          3,
          4,
          4,
          4,
          4,
          4
         ],
         "x0": " ",
         "xaxis": "x",
         "y": [
          -1.3504708195925677,
          -1.3139507786854243,
          -1.353828446789877,
          -1.335787762278296,
          -1.4677736820056455,
          -1.4872160741959652,
          -1.4713641162275333,
          -1.4547918478365909,
          -1.2276222053350785,
          -1.3699808595122274,
          -1.2547382018015465,
          -1.2407149100785917,
          -0.9432156773377168,
          -0.9369947164319342,
          -0.4547509490289169,
          -0.4529284934342085,
          -0.4492762239842611
         ],
         "y0": " ",
         "yaxis": "y"
        },
        {
         "alignmentgroup": "True",
         "boxpoints": "all",
         "customdata": [
          [
           "200",
           "geometric_manifold",
           "singular",
           "0.01",
           "1",
           0.9143072239283038,
           0.0722615401847417,
           0.0085756277698123,
           0.1914487373188922,
           -0.7977100621275428,
           0.024,
           0
          ],
          [
           "200",
           "geometric_manifold",
           "singular",
           "0.01",
           "0",
           0.895642789717028,
           0.0741686952940895,
           0.0089475319337783,
           0.1996902513248751,
           -0.7795824307112283,
           0.0239,
           0
          ],
          [
           "200",
           "geometric_manifold",
           "singular",
           "0.01",
           "2",
           0.8974620123735686,
           0.0738013559016475,
           0.0088586442208976,
           0.1978766160045806,
           -0.7803827971432965,
           0.02415,
           0
          ],
          [
           "200",
           "geometric_manifold",
           "singular",
           "0.01",
           "4",
           0.8509564216179515,
           0.0773008832332282,
           0.0095081724019355,
           0.2114992577708436,
           -0.7342236907340054,
           0.03375,
           0
          ],
          [
           "200",
           "geometric_manifold",
           "singular",
           "0.01",
           "3",
           0.9189178811346173,
           0.0726123975480081,
           0.0085192237285014,
           0.1895624334887212,
           -0.8035245795662537,
           0.02585,
           0
          ],
          [
           "200",
           "geometric_manifold",
           "singular",
           "0.01",
           "1",
           1.1613200137744433,
           0.0508347085719246,
           0.0049253365395813,
           0.1099913627571705,
           -1.08190669292336,
           0.01195,
           0
          ],
          [
           "200",
           "geometric_manifold",
           "singular",
           "0.01",
           "0",
           1.1147893148686487,
           0.0533139447199119,
           0.0053804250581458,
           0.1202120475309107,
           -1.0225949856896204,
           0.01505,
           0
          ],
          [
           "200",
           "geometric_manifold",
           "singular",
           "0.01",
           "2",
           1.1698561414377144,
           0.0507488474847072,
           0.0048842336849838,
           0.1086798474557544,
           -1.0922719631632192,
           0.00985,
           0
          ],
          [
           "200",
           "geometric_manifold",
           "singular",
           "0.01",
           "4",
           1.133488970969405,
           0.0523465360743908,
           0.0052263196220448,
           0.1167185322033975,
           -1.0462075812659477,
           0.01295,
           0
          ],
          [
           "200",
           "geometric_manifold",
           "singular",
           "0.01",
           "3",
           1.13174520654695,
           0.0526771638600197,
           0.0052629470960651,
           0.1175158721649183,
           -1.0420552229157998,
           0.015,
           0
          ],
          [
           "200",
           "geometric_manifold",
           "singular",
           "0.01",
           "1",
           1.16944041082048,
           0.0415400184342706,
           0.0041474855375087,
           0.0921591002573385,
           -1.106300547570326,
           0.0188,
           0
          ],
          [
           "200",
           "geometric_manifold",
           "singular",
           "0.01",
           "0",
           1.2035738238165348,
           0.0398574086119297,
           0.003962794172665,
           0.0883412452779711,
           -1.1510273816996706,
           0.01255,
           0
          ],
          [
           "200",
           "geometric_manifold",
           "singular",
           "0.01",
           "2",
           1.1798860045490107,
           0.0410793183481462,
           0.0040907203190948,
           0.0910296849575264,
           -1.1193924326428006,
           0.0175,
           0
          ],
          [
           "200",
           "geometric_manifold",
           "singular",
           "0.01",
           "4",
           1.1754918437087922,
           0.0412829847918957,
           0.0041372943796215,
           0.0924426922989858,
           -1.1122332818904492,
           0.0182,
           0
          ],
          [
           "200",
           "geometric_manifold",
           "singular",
           "0.01",
           "3",
           1.1687300249448973,
           0.0419334251282429,
           0.0041645448751971,
           0.0928389739441342,
           -1.104043183864292,
           0.01805,
           0
          ],
          [
           "200",
           "geometric_manifold",
           "singular",
           "0.01",
           "1",
           0.963590779442954,
           0.0646920712933237,
           0.007539212645079,
           0.1681060604635413,
           -0.8548749764070495,
           0.01945,
           0
          ],
          [
           "200",
           "geometric_manifold",
           "singular",
           "0.01",
           "0",
           0.899995215894343,
           0.0744659350423957,
           0.0089530999623646,
           0.1997176333331063,
           -0.7819714853178172,
           0.02325,
           0
          ],
          [
           "200",
           "geometric_manifold",
           "singular",
           "0.01",
           "2",
           0.9051774045243948,
           0.0734983578071674,
           0.0086998552219831,
           0.1944105080756969,
           -0.7889531476469822,
           0.025,
           0
          ],
          [
           "200",
           "geometric_manifold",
           "singular",
           "0.01",
           "4",
           1.085085406742308,
           0.0582416043074302,
           0.0060388585226291,
           0.134998841142976,
           -0.9810230843203088,
           0.01715,
           0
          ],
          [
           "200",
           "geometric_manifold",
           "singular",
           "0.01",
           "3",
           1.03963587815125,
           0.0601207924368146,
           0.0064286097423458,
           0.1434788752042361,
           -0.9344231209582804,
           0.0223,
           0
          ]
         ],
         "fillcolor": "rgba(255,255,255,0)",
         "hoveron": "points",
         "hovertemplate": "outputscale=%{customdata[3]}<br>num_hidden=%{x}<br>test-negative_log_predictive_density=%{y}<br>num_train=%{customdata[0]}<br>model=%{customdata[1]}<br>dataset=%{customdata[2]}<br>run=%{customdata[4]}<br>test-expected_log_probability=%{customdata[5]}<br>test-mean_absolute_error=%{customdata[6]}<br>test-mean_squared_error=%{customdata[7]}<br>test-standardized_mean_squared_error=%{customdata[8]}<br>test-mean_standardized_log_loss=%{customdata[9]}<br>test-quantile_coverage_error=%{customdata[10]}<br>step=%{customdata[11]}<extra></extra>",
         "legendgroup": "0.01",
         "line": {
          "color": "rgba(255,255,255,0)"
         },
         "marker": {
          "color": "#ab63fa"
         },
         "name": "0.01",
         "offsetgroup": "0.01",
         "orientation": "v",
         "pointpos": 0,
         "showlegend": false,
         "type": "box",
         "x": [
          3,
          3,
          3,
          3,
          3,
          2,
          2,
          2,
          2,
          2,
          1,
          1,
          1,
          1,
          1,
          4,
          4,
          4,
          4,
          4
         ],
         "x0": " ",
         "xaxis": "x",
         "y": [
          -0.960076533963095,
          -0.946588247130998,
          -0.954463037733029,
          -0.8937700707264536,
          -0.971005738430587,
          -1.2901800109282568,
          -1.2188857641095374,
          -1.2997161407625544,
          -1.2501613836403322,
          -1.2396311431340803,
          -1.3691729910505706,
          -1.4251981247036112,
          -1.387692442344437,
          -1.3799204717077358,
          -1.370434109054012,
          -1.028729566956616,
          -0.9423072994358564,
          -0.9586355413418772,
          -1.158376445455637,
          -1.1118803943223097
         ],
         "y0": " ",
         "yaxis": "y"
        },
        {
         "line": {
          "color": "Gray",
          "dash": "dash",
          "width": 2
         },
         "mode": "lines",
         "name": "GP Mean",
         "showlegend": true,
         "type": "scatter",
         "x": [
          null
         ],
         "y": [
          null
         ]
        }
       ],
       "layout": {
        "boxmode": "group",
        "font": {
         "family": "Serif",
         "size": 14
        },
        "height": 400,
        "legend": {
         "title": {
          "text": "Prior Mean and<br>Standard Deviation"
         },
         "tracegroupgap": 0,
         "x": 1.05,
         "y": 0.55,
         "yanchor": "middle"
        },
        "margin": {
         "t": 60
        },
        "shapes": [
         {
          "layer": "below",
          "line": {
           "color": "Gray",
           "dash": "dash",
           "width": 2
          },
          "name": "mean",
          "opacity": 0.8,
          "type": "line",
          "x0": 0.5,
          "x1": 4.5,
          "y0": -1.4682177054223058,
          "y1": -1.4682177054223058
         }
        ],
        "template": {
         "data": {
          "bar": [
           {
            "error_x": {
             "color": "#2a3f5f"
            },
            "error_y": {
             "color": "#2a3f5f"
            },
            "marker": {
             "line": {
              "color": "#E5ECF6",
              "width": 0.5
             },
             "pattern": {
              "fillmode": "overlay",
              "size": 10,
              "solidity": 0.2
             }
            },
            "type": "bar"
           }
          ],
          "barpolar": [
           {
            "marker": {
             "line": {
              "color": "#E5ECF6",
              "width": 0.5
             },
             "pattern": {
              "fillmode": "overlay",
              "size": 10,
              "solidity": 0.2
             }
            },
            "type": "barpolar"
           }
          ],
          "carpet": [
           {
            "aaxis": {
             "endlinecolor": "#2a3f5f",
             "gridcolor": "white",
             "linecolor": "white",
             "minorgridcolor": "white",
             "startlinecolor": "#2a3f5f"
            },
            "baxis": {
             "endlinecolor": "#2a3f5f",
             "gridcolor": "white",
             "linecolor": "white",
             "minorgridcolor": "white",
             "startlinecolor": "#2a3f5f"
            },
            "type": "carpet"
           }
          ],
          "choropleth": [
           {
            "colorbar": {
             "outlinewidth": 0,
             "ticks": ""
            },
            "type": "choropleth"
           }
          ],
          "contour": [
           {
            "colorbar": {
             "outlinewidth": 0,
             "ticks": ""
            },
            "colorscale": [
             [
              0,
              "#0d0887"
             ],
             [
              0.1111111111111111,
              "#46039f"
             ],
             [
              0.2222222222222222,
              "#7201a8"
             ],
             [
              0.3333333333333333,
              "#9c179e"
             ],
             [
              0.4444444444444444,
              "#bd3786"
             ],
             [
              0.5555555555555556,
              "#d8576b"
             ],
             [
              0.6666666666666666,
              "#ed7953"
             ],
             [
              0.7777777777777778,
              "#fb9f3a"
             ],
             [
              0.8888888888888888,
              "#fdca26"
             ],
             [
              1,
              "#f0f921"
             ]
            ],
            "type": "contour"
           }
          ],
          "contourcarpet": [
           {
            "colorbar": {
             "outlinewidth": 0,
             "ticks": ""
            },
            "type": "contourcarpet"
           }
          ],
          "heatmap": [
           {
            "colorbar": {
             "outlinewidth": 0,
             "ticks": ""
            },
            "colorscale": [
             [
              0,
              "#0d0887"
             ],
             [
              0.1111111111111111,
              "#46039f"
             ],
             [
              0.2222222222222222,
              "#7201a8"
             ],
             [
              0.3333333333333333,
              "#9c179e"
             ],
             [
              0.4444444444444444,
              "#bd3786"
             ],
             [
              0.5555555555555556,
              "#d8576b"
             ],
             [
              0.6666666666666666,
              "#ed7953"
             ],
             [
              0.7777777777777778,
              "#fb9f3a"
             ],
             [
              0.8888888888888888,
              "#fdca26"
             ],
             [
              1,
              "#f0f921"
             ]
            ],
            "type": "heatmap"
           }
          ],
          "heatmapgl": [
           {
            "colorbar": {
             "outlinewidth": 0,
             "ticks": ""
            },
            "colorscale": [
             [
              0,
              "#0d0887"
             ],
             [
              0.1111111111111111,
              "#46039f"
             ],
             [
              0.2222222222222222,
              "#7201a8"
             ],
             [
              0.3333333333333333,
              "#9c179e"
             ],
             [
              0.4444444444444444,
              "#bd3786"
             ],
             [
              0.5555555555555556,
              "#d8576b"
             ],
             [
              0.6666666666666666,
              "#ed7953"
             ],
             [
              0.7777777777777778,
              "#fb9f3a"
             ],
             [
              0.8888888888888888,
              "#fdca26"
             ],
             [
              1,
              "#f0f921"
             ]
            ],
            "type": "heatmapgl"
           }
          ],
          "histogram": [
           {
            "marker": {
             "pattern": {
              "fillmode": "overlay",
              "size": 10,
              "solidity": 0.2
             }
            },
            "type": "histogram"
           }
          ],
          "histogram2d": [
           {
            "colorbar": {
             "outlinewidth": 0,
             "ticks": ""
            },
            "colorscale": [
             [
              0,
              "#0d0887"
             ],
             [
              0.1111111111111111,
              "#46039f"
             ],
             [
              0.2222222222222222,
              "#7201a8"
             ],
             [
              0.3333333333333333,
              "#9c179e"
             ],
             [
              0.4444444444444444,
              "#bd3786"
             ],
             [
              0.5555555555555556,
              "#d8576b"
             ],
             [
              0.6666666666666666,
              "#ed7953"
             ],
             [
              0.7777777777777778,
              "#fb9f3a"
             ],
             [
              0.8888888888888888,
              "#fdca26"
             ],
             [
              1,
              "#f0f921"
             ]
            ],
            "type": "histogram2d"
           }
          ],
          "histogram2dcontour": [
           {
            "colorbar": {
             "outlinewidth": 0,
             "ticks": ""
            },
            "colorscale": [
             [
              0,
              "#0d0887"
             ],
             [
              0.1111111111111111,
              "#46039f"
             ],
             [
              0.2222222222222222,
              "#7201a8"
             ],
             [
              0.3333333333333333,
              "#9c179e"
             ],
             [
              0.4444444444444444,
              "#bd3786"
             ],
             [
              0.5555555555555556,
              "#d8576b"
             ],
             [
              0.6666666666666666,
              "#ed7953"
             ],
             [
              0.7777777777777778,
              "#fb9f3a"
             ],
             [
              0.8888888888888888,
              "#fdca26"
             ],
             [
              1,
              "#f0f921"
             ]
            ],
            "type": "histogram2dcontour"
           }
          ],
          "mesh3d": [
           {
            "colorbar": {
             "outlinewidth": 0,
             "ticks": ""
            },
            "type": "mesh3d"
           }
          ],
          "parcoords": [
           {
            "line": {
             "colorbar": {
              "outlinewidth": 0,
              "ticks": ""
             }
            },
            "type": "parcoords"
           }
          ],
          "pie": [
           {
            "automargin": true,
            "type": "pie"
           }
          ],
          "scatter": [
           {
            "fillpattern": {
             "fillmode": "overlay",
             "size": 10,
             "solidity": 0.2
            },
            "type": "scatter"
           }
          ],
          "scatter3d": [
           {
            "line": {
             "colorbar": {
              "outlinewidth": 0,
              "ticks": ""
             }
            },
            "marker": {
             "colorbar": {
              "outlinewidth": 0,
              "ticks": ""
             }
            },
            "type": "scatter3d"
           }
          ],
          "scattercarpet": [
           {
            "marker": {
             "colorbar": {
              "outlinewidth": 0,
              "ticks": ""
             }
            },
            "type": "scattercarpet"
           }
          ],
          "scattergeo": [
           {
            "marker": {
             "colorbar": {
              "outlinewidth": 0,
              "ticks": ""
             }
            },
            "type": "scattergeo"
           }
          ],
          "scattergl": [
           {
            "marker": {
             "colorbar": {
              "outlinewidth": 0,
              "ticks": ""
             }
            },
            "type": "scattergl"
           }
          ],
          "scattermapbox": [
           {
            "marker": {
             "colorbar": {
              "outlinewidth": 0,
              "ticks": ""
             }
            },
            "type": "scattermapbox"
           }
          ],
          "scatterpolar": [
           {
            "marker": {
             "colorbar": {
              "outlinewidth": 0,
              "ticks": ""
             }
            },
            "type": "scatterpolar"
           }
          ],
          "scatterpolargl": [
           {
            "marker": {
             "colorbar": {
              "outlinewidth": 0,
              "ticks": ""
             }
            },
            "type": "scatterpolargl"
           }
          ],
          "scatterternary": [
           {
            "marker": {
             "colorbar": {
              "outlinewidth": 0,
              "ticks": ""
             }
            },
            "type": "scatterternary"
           }
          ],
          "surface": [
           {
            "colorbar": {
             "outlinewidth": 0,
             "ticks": ""
            },
            "colorscale": [
             [
              0,
              "#0d0887"
             ],
             [
              0.1111111111111111,
              "#46039f"
             ],
             [
              0.2222222222222222,
              "#7201a8"
             ],
             [
              0.3333333333333333,
              "#9c179e"
             ],
             [
              0.4444444444444444,
              "#bd3786"
             ],
             [
              0.5555555555555556,
              "#d8576b"
             ],
             [
              0.6666666666666666,
              "#ed7953"
             ],
             [
              0.7777777777777778,
              "#fb9f3a"
             ],
             [
              0.8888888888888888,
              "#fdca26"
             ],
             [
              1,
              "#f0f921"
             ]
            ],
            "type": "surface"
           }
          ],
          "table": [
           {
            "cells": {
             "fill": {
              "color": "#EBF0F8"
             },
             "line": {
              "color": "white"
             }
            },
            "header": {
             "fill": {
              "color": "#C8D4E3"
             },
             "line": {
              "color": "white"
             }
            },
            "type": "table"
           }
          ]
         },
         "layout": {
          "annotationdefaults": {
           "arrowcolor": "#2a3f5f",
           "arrowhead": 0,
           "arrowwidth": 1
          },
          "autotypenumbers": "strict",
          "coloraxis": {
           "colorbar": {
            "outlinewidth": 0,
            "ticks": ""
           }
          },
          "colorscale": {
           "diverging": [
            [
             0,
             "#8e0152"
            ],
            [
             0.1,
             "#c51b7d"
            ],
            [
             0.2,
             "#de77ae"
            ],
            [
             0.3,
             "#f1b6da"
            ],
            [
             0.4,
             "#fde0ef"
            ],
            [
             0.5,
             "#f7f7f7"
            ],
            [
             0.6,
             "#e6f5d0"
            ],
            [
             0.7,
             "#b8e186"
            ],
            [
             0.8,
             "#7fbc41"
            ],
            [
             0.9,
             "#4d9221"
            ],
            [
             1,
             "#276419"
            ]
           ],
           "sequential": [
            [
             0,
             "#0d0887"
            ],
            [
             0.1111111111111111,
             "#46039f"
            ],
            [
             0.2222222222222222,
             "#7201a8"
            ],
            [
             0.3333333333333333,
             "#9c179e"
            ],
            [
             0.4444444444444444,
             "#bd3786"
            ],
            [
             0.5555555555555556,
             "#d8576b"
            ],
            [
             0.6666666666666666,
             "#ed7953"
            ],
            [
             0.7777777777777778,
             "#fb9f3a"
            ],
            [
             0.8888888888888888,
             "#fdca26"
            ],
            [
             1,
             "#f0f921"
            ]
           ],
           "sequentialminus": [
            [
             0,
             "#0d0887"
            ],
            [
             0.1111111111111111,
             "#46039f"
            ],
            [
             0.2222222222222222,
             "#7201a8"
            ],
            [
             0.3333333333333333,
             "#9c179e"
            ],
            [
             0.4444444444444444,
             "#bd3786"
            ],
            [
             0.5555555555555556,
             "#d8576b"
            ],
            [
             0.6666666666666666,
             "#ed7953"
            ],
            [
             0.7777777777777778,
             "#fb9f3a"
            ],
            [
             0.8888888888888888,
             "#fdca26"
            ],
            [
             1,
             "#f0f921"
            ]
           ]
          },
          "colorway": [
           "#636efa",
           "#EF553B",
           "#00cc96",
           "#ab63fa",
           "#FFA15A",
           "#19d3f3",
           "#FF6692",
           "#B6E880",
           "#FF97FF",
           "#FECB52"
          ],
          "font": {
           "color": "#2a3f5f"
          },
          "geo": {
           "bgcolor": "white",
           "lakecolor": "white",
           "landcolor": "#E5ECF6",
           "showlakes": true,
           "showland": true,
           "subunitcolor": "white"
          },
          "hoverlabel": {
           "align": "left"
          },
          "hovermode": "closest",
          "mapbox": {
           "style": "light"
          },
          "paper_bgcolor": "white",
          "plot_bgcolor": "#E5ECF6",
          "polar": {
           "angularaxis": {
            "gridcolor": "white",
            "linecolor": "white",
            "ticks": ""
           },
           "bgcolor": "#E5ECF6",
           "radialaxis": {
            "gridcolor": "white",
            "linecolor": "white",
            "ticks": ""
           }
          },
          "scene": {
           "xaxis": {
            "backgroundcolor": "#E5ECF6",
            "gridcolor": "white",
            "gridwidth": 2,
            "linecolor": "white",
            "showbackground": true,
            "ticks": "",
            "zerolinecolor": "white"
           },
           "yaxis": {
            "backgroundcolor": "#E5ECF6",
            "gridcolor": "white",
            "gridwidth": 2,
            "linecolor": "white",
            "showbackground": true,
            "ticks": "",
            "zerolinecolor": "white"
           },
           "zaxis": {
            "backgroundcolor": "#E5ECF6",
            "gridcolor": "white",
            "gridwidth": 2,
            "linecolor": "white",
            "showbackground": true,
            "ticks": "",
            "zerolinecolor": "white"
           }
          },
          "shapedefaults": {
           "line": {
            "color": "#2a3f5f"
           }
          },
          "ternary": {
           "aaxis": {
            "gridcolor": "white",
            "linecolor": "white",
            "ticks": ""
           },
           "baxis": {
            "gridcolor": "white",
            "linecolor": "white",
            "ticks": ""
           },
           "bgcolor": "#E5ECF6",
           "caxis": {
            "gridcolor": "white",
            "linecolor": "white",
            "ticks": ""
           }
          },
          "title": {
           "x": 0.05
          },
          "xaxis": {
           "automargin": true,
           "gridcolor": "white",
           "linecolor": "white",
           "ticks": "",
           "title": {
            "standoff": 15
           },
           "zerolinecolor": "white",
           "zerolinewidth": 2
          },
          "yaxis": {
           "automargin": true,
           "gridcolor": "white",
           "linecolor": "white",
           "ticks": "",
           "title": {
            "standoff": 15
           },
           "zerolinecolor": "white",
           "zerolinewidth": 2
          }
         }
        },
        "title": {
         "font": {
          "size": 20
         },
         "text": "Negative Log Predictive Density by Hidden Layer Standard Deviation Prior<br>vs Number of Hidden Layers",
         "y": 0.96
        },
        "width": 700,
        "xaxis": {
         "anchor": "y",
         "domain": [
          0,
          1
         ],
         "title": {
          "font": {
           "size": 16
          },
          "text": "Number of Hidden Layers"
         }
        },
        "yaxis": {
         "anchor": "x",
         "domain": [
          0,
          1
         ],
         "title": {
          "font": {
           "size": 16
          },
          "text": "Negative Log Predictive Density"
         }
        }
       }
      }
     },
     "metadata": {},
     "output_type": "display_data"
    }
   ],
   "source": [
    "import plotly.express as px \n",
    "import plotly.graph_objects as go\n",
    "\n",
    "# Create a box plot\n",
    "df = data[(data['num_train'] == '200') & (data['num_hidden'] > 0)]\n",
    "\n",
    "fig = px.box(df, y=\"test-negative_log_predictive_density\", x=\"num_hidden\", color=\"outputscale\", hover_data=df.columns)\n",
    "\n",
    "# Create an empty figure\n",
    "# fig = go.Figure()\n",
    "\n",
    "# Add each box trace to the new figure\n",
    "for trace in fig.data:\n",
    "    # trace.showlegend=False\n",
    "    trace.opacity = 0.6\n",
    "    # fig.add_trace(trace)\n",
    "\n",
    "# Overlay a scatter plot on top of the box plot\n",
    "scatter_fig = px.strip(df, y=\"test-negative_log_predictive_density\", x=\"num_hidden\", color=\"outputscale\", hover_data=df.columns)\n",
    "for trace in scatter_fig.data:\n",
    "    trace.showlegend=False\n",
    "    fig.add_trace(trace)\n",
    "\n",
    "hidden_num_0_mean = data['test-negative_log_predictive_density'][(data['num_hidden'] == 0) & (data['num_train'] == '200')].mean()\n",
    "fig.add_shape(\n",
    "    type='line',\n",
    "    y0=hidden_num_0_mean, y1=hidden_num_0_mean,\n",
    "    x0=.5, x1=4.5,\n",
    "    line=dict(\n",
    "        color='Gray',\n",
    "        width=2,\n",
    "        dash=\"dash\",\n",
    "    ), \n",
    "    layer='below',\n",
    "    name='mean',\n",
    "    opacity=0.8,\n",
    ")\n",
    "fig.add_trace(go.Scatter(\n",
    "    x=[None],\n",
    "    y=[None],\n",
    "    mode='lines',\n",
    "    line=dict(color=\"Gray\", width=2, dash=\"dash\"),\n",
    "    showlegend=True,\n",
    "    name='GP Mean',\n",
    "))\n",
    "\n",
    "fig.update_layout(\n",
    "    width=700, \n",
    "    height=400, \n",
    "    font_family=\"Serif\",\n",
    "    title=dict(\n",
    "        text=\"Negative Log Predictive Density by Hidden Layer Standard Deviation Prior<br>vs Number of Hidden Layers\", \n",
    "        font_size=20,\n",
    "        y=0.96\n",
    "    ),\n",
    "    legend=dict(\n",
    "        title=\"Prior Mean and<br>Standard Deviation\", \n",
    "        x=1.05, \n",
    "        y=0.55,\n",
    "        yanchor='middle',\n",
    "    ),\n",
    "    xaxis_title=dict(\n",
    "        text=\"Number of Hidden Layers\",\n",
    "        font_size=16,\n",
    "    ),\n",
    "    yaxis_title=dict(\n",
    "        text=\"Negative Log Predictive Density\", \n",
    "        font_size=16, \n",
    "    ),\n",
    "    font_size=14, \n",
    ")\n",
    "\n",
    "fig.show()"
   ]
  },
  {
   "cell_type": "code",
   "execution_count": 151,
   "metadata": {},
   "outputs": [
    {
     "data": {
      "application/vnd.plotly.v1+json": {
       "config": {
        "plotlyServerURL": "https://plot.ly"
       },
       "data": [
        {
         "alignmentgroup": "True",
         "customdata": [
          [
           "100",
           "geometric_manifold",
           "singular",
           "0.0001",
           "1",
           1.092560472927543,
           0.0435911177536438,
           0.0045196347211058,
           0.1011239039421135,
           -1.0810773657123751,
           0.01485,
           0
          ],
          [
           "100",
           "geometric_manifold",
           "singular",
           "0.0001",
           "0",
           1.0779359357401463,
           0.0445715747597841,
           0.0046883381280834,
           0.1047695276285531,
           -1.0633191504524355,
           0.01415,
           0
          ],
          [
           "100",
           "geometric_manifold",
           "singular",
           "0.0001",
           "2",
           1.095894412482598,
           0.043355776947182,
           0.0045186311131701,
           0.1008042181240876,
           -1.092964436132697,
           0.01035,
           0
          ],
          [
           "100",
           "geometric_manifold",
           "singular",
           "0.0001",
           "4",
           1.072647677928297,
           0.0445482489122148,
           0.0047232223289986,
           0.1053922186159814,
           -1.0527562599614997,
           0.01495,
           0
          ],
          [
           "100",
           "geometric_manifold",
           "singular",
           "0.0001",
           "3",
           1.0653642081098906,
           0.0453467647945418,
           0.0047544979968481,
           0.1056604999883285,
           -1.0461475676001064,
           0.0166,
           0
          ],
          [
           "100",
           "geometric_manifold",
           "singular",
           "0.0001",
           "1",
           0.5694275934398576,
           0.0924996442648158,
           0.0150283929504445,
           0.3349725705211837,
           -0.5464916600135916,
           0.00565,
           0
          ],
          [
           "100",
           "geometric_manifold",
           "singular",
           "0.0001",
           "0",
           0.5468057435122234,
           0.0917836815171897,
           0.0149111807530019,
           0.3329008479296363,
           -0.555773636830083,
           0.00535,
           0
          ],
          [
           "100",
           "geometric_manifold",
           "singular",
           "0.0001",
           "2",
           0.5601505597400587,
           0.0903342584044724,
           0.0145653228650121,
           0.3247127402719083,
           -0.5665238998345583,
           0.00305,
           0
          ],
          [
           "100",
           "geometric_manifold",
           "singular",
           "0.0001",
           "4",
           0.5561118608461323,
           0.089269724076851,
           0.0145347999914785,
           0.3235049837356128,
           -0.5735165755936358,
           0.00215,
           0
          ],
          [
           "100",
           "geometric_manifold",
           "singular",
           "0.0001",
           "3",
           0.5383143443125189,
           0.0910318114544313,
           0.0148667455682069,
           0.3315975264373218,
           -0.5612130684184812,
           0.0006999999999999,
           0
          ],
          [
           "100",
           "geometric_manifold",
           "singular",
           "0.0001",
           "1",
           0.407834581865166,
           0.1258406349696021,
           0.0242623415465392,
           0.5422213762028045,
           -0.2996090758725295,
           0.001,
           0
          ],
          [
           "100",
           "geometric_manifold",
           "singular",
           "0.0001",
           "0",
           0.4578968850618499,
           0.1143538619846659,
           0.0216816558694302,
           0.4855607037504607,
           -0.3654477625756159,
           0.0012499999999999,
           0
          ],
          [
           "100",
           "geometric_manifold",
           "singular",
           "0.0001",
           "2",
           0.4262276804249448,
           0.118746200550067,
           0.0230077101358468,
           0.5135858585036461,
           -0.3287184839959937,
           0.0056499999999999,
           0
          ],
          [
           "100",
           "geometric_manifold",
           "singular",
           "0.0001",
           "4",
           0.4330149007869091,
           0.1124118830442007,
           0.0223242087058403,
           0.4991732735992029,
           -0.3642775122037985,
           0.0051499999999999,
           0
          ],
          [
           "100",
           "geometric_manifold",
           "singular",
           "0.0001",
           "3",
           0.4519992794081785,
           0.1063532460297314,
           0.0207641151389373,
           0.4625555618017906,
           -0.4016232634172201,
           0.0238499999999999,
           0
          ],
          [
           "100",
           "geometric_manifold",
           "singular",
           "0.0001",
           "1",
           0.3331389066719082,
           0.1291898276993179,
           0.0266685410541911,
           0.5948559172728636,
           -0.2831798905967331,
           0.0032999999999999,
           0
          ],
          [
           "100",
           "geometric_manifold",
           "singular",
           "0.0001",
           "0",
           0.3329532979110001,
           0.1292202935072679,
           0.026674503857128,
           0.5945686833413993,
           -0.2837687482189269,
           0.0037499999999999,
           0
          ],
          [
           "100",
           "geometric_manifold",
           "singular",
           "0.0001",
           "2",
           0.3076114415993365,
           0.1327704064478834,
           0.0283748859065035,
           0.6301779590024239,
           -0.252059419575942,
           0.0093499999999999,
           0
          ],
          [
           "100",
           "geometric_manifold",
           "singular",
           "0.0001",
           "4",
           0.340335804739263,
           0.1289896435503325,
           0.0265547901022988,
           0.5929378160448933,
           -0.2835608018912799,
           0.00235,
           0
          ],
          [
           "100",
           "geometric_manifold",
           "singular",
           "0.0001",
           "3",
           0.3349318793858932,
           0.1289081941326604,
           0.0265768494533683,
           0.5965986309392998,
           -0.2833778300292983,
           0.0020499999999999,
           0
          ]
         ],
         "hovertemplate": "outputscale=%{customdata[3]}<br>num_train=%{customdata[0]}<br>num_hidden=%{x}<br>test-negative_log_predictive_density=%{y}<br>model=%{customdata[1]}<br>dataset=%{customdata[2]}<br>run=%{customdata[4]}<br>test-expected_log_probability=%{customdata[5]}<br>test-mean_absolute_error=%{customdata[6]}<br>test-mean_squared_error=%{customdata[7]}<br>test-standardized_mean_squared_error=%{customdata[8]}<br>test-mean_standardized_log_loss=%{customdata[9]}<br>test-quantile_coverage_error=%{customdata[10]}<br>step=%{customdata[11]}<extra></extra>",
         "legendgroup": "0.0001",
         "marker": {
          "color": "#636efa"
         },
         "name": "0.0001",
         "notched": false,
         "offsetgroup": "0.0001",
         "opacity": 0.6,
         "orientation": "v",
         "showlegend": true,
         "type": "box",
         "x": [
          1,
          1,
          1,
          1,
          1,
          2,
          2,
          2,
          2,
          2,
          4,
          4,
          4,
          4,
          4,
          3,
          3,
          3,
          3,
          3
         ],
         "x0": " ",
         "xaxis": "x",
         "y": [
          -1.3809334321585407,
          -1.3660365919591937,
          -1.3998437883492565,
          -1.3496172300981184,
          -1.3432668069705336,
          -0.7437627173701602,
          -0.751233008883974,
          -0.7564700211040754,
          -0.7592810685349175,
          -0.7557274248044001,
          -0.4418421906761393,
          -0.5136085719580172,
          -0.481737445618846,
          -0.5069093659826969,
          -0.5491291663428,
          -0.4218588760286922,
          -0.4223284980607399,
          -0.3926066900790875,
          -0.4230695644313231,
          -0.4252881049458173
         ],
         "y0": " ",
         "yaxis": "y"
        },
        {
         "alignmentgroup": "True",
         "customdata": [
          [
           "200",
           "geometric_manifold",
           "singular",
           "0.0001",
           "1",
           1.2110097151810806,
           0.0468828664936535,
           0.0044051664718635,
           0.0983750571191744,
           -1.1441469277020495,
           0.0086,
           0
          ],
          [
           "200",
           "geometric_manifold",
           "singular",
           "0.0001",
           "0",
           1.1873883434549972,
           0.0485632708224258,
           0.0046252573070813,
           0.1033397259942824,
           -1.1111703466815814,
           0.01365,
           0
          ],
          [
           "200",
           "geometric_manifold",
           "singular",
           "0.0001",
           "2",
           1.2090589694610598,
           0.0477636801413862,
           0.004453368193542,
           0.0990925920326967,
           -1.1463308711285252,
           0.0039,
           0
          ],
          [
           "200",
           "geometric_manifold",
           "singular",
           "0.0001",
           "3",
           1.2024489953668582,
           0.0479532257833025,
           0.0045128627725495,
           0.1007673067953219,
           -1.1307587308958715,
           0.0088,
           0
          ],
          [
           "200",
           "geometric_manifold",
           "singular",
           "0.0001",
           "1",
           1.2473178697685685,
           0.0373833365505494,
           0.003615136967747,
           0.0803300619716524,
           -1.2064591159505194,
           0.0086,
           0
          ],
          [
           "200",
           "geometric_manifold",
           "singular",
           "0.0001",
           "0",
           1.258076636980727,
           0.0367135859671079,
           0.0035499209292991,
           0.0791372001341443,
           -1.2219112073826384,
           0.006,
           0
          ],
          [
           "200",
           "geometric_manifold",
           "singular",
           "0.0001",
           "2",
           1.250850636506445,
           0.0372495824311256,
           0.0036067486041911,
           0.0802599942186145,
           -1.2105550727122958,
           0.00675,
           0
          ],
          [
           "200",
           "geometric_manifold",
           "singular",
           "0.0001",
           "3",
           1.2309241516983411,
           0.0385491181184331,
           0.0037482681382634,
           0.083559039091253,
           -1.1858399454312432,
           0.0087,
           0
          ],
          [
           "200",
           "geometric_manifold",
           "singular",
           "0.0001",
           "1",
           1.140904889202892,
           0.052610744673503,
           0.0053673702704764,
           0.119825193978558,
           -1.053902404265036,
           0.00425,
           0
          ],
          [
           "200",
           "geometric_manifold",
           "singular",
           "0.0001",
           "0",
           1.239085143239144,
           0.0467820558710517,
           0.004289275158163,
           0.095727675595278,
           -1.17007477915077,
           0.00765,
           0
          ],
          [
           "200",
           "geometric_manifold",
           "singular",
           "0.0001",
           "2",
           1.154268483493014,
           0.0517658588938515,
           0.0051295850005774,
           0.1145801655548669,
           -1.068035706885977,
           0.00765,
           0
          ],
          [
           "200",
           "geometric_manifold",
           "singular",
           "0.0001",
           "3",
           1.151259604536101,
           0.051944816511175,
           0.0052352131234729,
           0.1164894562162387,
           -1.0660737259657815,
           0.005,
           0
          ],
          [
           "200",
           "geometric_manifold",
           "singular",
           "0.0001",
           "1",
           0.8675057262032589,
           0.0707742611862866,
           0.0090476742265985,
           0.2017410759177563,
           -0.7812631444858654,
           0.0028,
           0
          ],
          [
           "200",
           "geometric_manifold",
           "singular",
           "0.0001",
           "0",
           0.8615696742970327,
           0.0719407629651223,
           0.0091547757452219,
           0.2042164337734215,
           -0.7757788669446668,
           0.00375,
           0
          ],
          [
           "200",
           "geometric_manifold",
           "singular",
           "0.0001",
           "2",
           0.4255138688795207,
           0.1231870610637449,
           0.0234579075354919,
           0.5241999557468657,
           -0.3106017945189622,
           0.01475,
           0
          ],
          [
           "200",
           "geometric_manifold",
           "singular",
           "0.0001",
           "4",
           0.423308030502967,
           0.1237777992293943,
           0.0235218825807517,
           0.5258323039037105,
           -0.3097606150477495,
           0.01465,
           0
          ],
          [
           "200",
           "geometric_manifold",
           "singular",
           "0.0001",
           "3",
           0.4198611668585124,
           0.1237692861541265,
           0.0236626037841042,
           0.5281209952725948,
           -0.3066209407915283,
           0.01555,
           0
          ]
         ],
         "hovertemplate": "outputscale=%{customdata[3]}<br>num_train=%{customdata[0]}<br>num_hidden=%{x}<br>test-negative_log_predictive_density=%{y}<br>model=%{customdata[1]}<br>dataset=%{customdata[2]}<br>run=%{customdata[4]}<br>test-expected_log_probability=%{customdata[5]}<br>test-mean_absolute_error=%{customdata[6]}<br>test-mean_squared_error=%{customdata[7]}<br>test-standardized_mean_squared_error=%{customdata[8]}<br>test-mean_standardized_log_loss=%{customdata[9]}<br>test-quantile_coverage_error=%{customdata[10]}<br>step=%{customdata[11]}<extra></extra>",
         "legendgroup": "0.0001",
         "marker": {
          "color": "#636efa"
         },
         "name": "0.0001",
         "notched": false,
         "offsetgroup": "0.0001",
         "opacity": 0.6,
         "orientation": "v",
         "showlegend": false,
         "type": "box",
         "x": [
          2,
          2,
          2,
          2,
          1,
          1,
          1,
          1,
          3,
          3,
          3,
          3,
          4,
          4,
          4,
          4,
          4
         ],
         "x0": " ",
         "xaxis": "x2",
         "y": [
          -1.3504708195925677,
          -1.3139507786854243,
          -1.353828446789877,
          -1.335787762278296,
          -1.4677736820056455,
          -1.4872160741959652,
          -1.4713641162275333,
          -1.4547918478365909,
          -1.2276222053350785,
          -1.3699808595122274,
          -1.2547382018015465,
          -1.2407149100785917,
          -0.9432156773377168,
          -0.9369947164319342,
          -0.4547509490289169,
          -0.4529284934342085,
          -0.4492762239842611
         ],
         "y0": " ",
         "yaxis": "y2"
        },
        {
         "alignmentgroup": "True",
         "customdata": [
          [
           "400",
           "geometric_manifold",
           "singular",
           "0.0001",
           "1",
           1.2975332300840654,
           0.0449589172241524,
           0.003864076856612,
           0.085939670164794,
           -1.202032948183263,
           0.01135,
           0
          ],
          [
           "400",
           "geometric_manifold",
           "singular",
           "0.0001",
           "0",
           1.3376280349075105,
           0.0432275050528536,
           0.0035829920298336,
           0.079688154421692,
           -1.2504645607362774,
           0.00865,
           0
          ],
          [
           "400",
           "geometric_manifold",
           "singular",
           "0.0001",
           "2",
           1.3423937474355236,
           0.0430997098929078,
           0.0035378370108007,
           0.0790117869231336,
           -1.25625269540427,
           0.00775,
           0
          ],
          [
           "400",
           "geometric_manifold",
           "singular",
           "0.0001",
           "4",
           1.3471087820980605,
           0.0434349166176631,
           0.0035197533049424,
           0.0785913280763379,
           -1.2618983172224598,
           0.01095,
           0
          ],
          [
           "400",
           "geometric_manifold",
           "singular",
           "0.0001",
           "3",
           1.3376280349075105,
           0.0432275050528536,
           0.0035829920298336,
           0.079688154421692,
           -1.2504645607362774,
           0.00865,
           0
          ],
          [
           "400",
           "geometric_manifold",
           "singular",
           "0.0001",
           "1",
           1.3311840861779416,
           0.0416251453722985,
           0.0034846826142889,
           0.0777205186209571,
           -1.254204691215526,
           0.01005,
           0
          ],
          [
           "400",
           "geometric_manifold",
           "singular",
           "0.0001",
           "0",
           1.4180833652038287,
           0.0358519954032933,
           0.0028192806053006,
           0.0630114300104906,
           -1.356098941653884,
           0.0072,
           0
          ],
          [
           "400",
           "geometric_manifold",
           "singular",
           "0.0001",
           "2",
           1.33681562373371,
           0.0408965781475321,
           0.0034273879315093,
           0.0763886999236163,
           -1.2623101833526014,
           0.009,
           0
          ],
          [
           "400",
           "geometric_manifold",
           "singular",
           "0.0001",
           "4",
           1.3311840861779416,
           0.0416251453722985,
           0.0034846826142889,
           0.0777205186209571,
           -1.254204691215526,
           0.01005,
           0
          ],
          [
           "400",
           "geometric_manifold",
           "singular",
           "0.0001",
           "3",
           1.4180833652038287,
           0.0358519954032933,
           0.0028192806053006,
           0.0630114300104906,
           -1.356098941653884,
           0.0072,
           0
          ],
          [
           "400",
           "geometric_manifold",
           "singular",
           "0.0001",
           "1",
           1.3727683164784668,
           0.0333876633887562,
           0.0029900166763219,
           0.06656515389438,
           -1.3092336035313514,
           0.00435,
           0
          ],
          [
           "400",
           "geometric_manifold",
           "singular",
           "0.0001",
           "0",
           1.3636962009367872,
           0.0336070373044935,
           0.0030451441204021,
           0.0680331084375026,
           -1.2943628210708875,
           0.0019,
           0
          ],
          [
           "400",
           "geometric_manifold",
           "singular",
           "0.0001",
           "2",
           1.371386531756729,
           0.0332661054985858,
           0.0030213800525396,
           0.0674751659908729,
           -1.306883674834893,
           0.002,
           0
          ],
          [
           "400",
           "geometric_manifold",
           "singular",
           "0.0001",
           "4",
           1.3727683164784668,
           0.0333876633887562,
           0.0029900166763219,
           0.06656515389438,
           -1.3092336035313514,
           0.00435,
           0
          ],
          [
           "400",
           "geometric_manifold",
           "singular",
           "0.0001",
           "3",
           1.3636962009367872,
           0.0336070373044935,
           0.0030451441204021,
           0.0680331084375026,
           -1.2943628210708875,
           0.0019,
           0
          ],
          [
           "400",
           "geometric_manifold",
           "singular",
           "0.0001",
           "1",
           1.3800467617978565,
           0.03862907119348,
           0.0031161106989876,
           0.0695773693348167,
           -1.3133774899937432,
           0.01045,
           0
          ],
          [
           "400",
           "geometric_manifold",
           "singular",
           "0.0001",
           "0",
           1.3608436798263284,
           0.0400599236860691,
           0.0032375462227886,
           0.0719754586845418,
           -1.2891783787680091,
           0.0111,
           0
          ],
          [
           "400",
           "geometric_manifold",
           "singular",
           "0.0001",
           "2",
           1.38849604849622,
           0.0377827941726997,
           0.003027271929607,
           0.0673597584542255,
           -1.3219155102539497,
           0.012,
           0
          ],
          [
           "400",
           "geometric_manifold",
           "singular",
           "0.0001",
           "4",
           1.3800467617978565,
           0.03862907119348,
           0.0031161106989876,
           0.0695773693348167,
           -1.3133774899937432,
           0.01045,
           0
          ],
          [
           "400",
           "geometric_manifold",
           "singular",
           "0.0001",
           "3",
           1.3608436798263284,
           0.0400599236860691,
           0.0032375462227886,
           0.0719754586845418,
           -1.2891783787680091,
           0.0111,
           0
          ]
         ],
         "hovertemplate": "outputscale=%{customdata[3]}<br>num_train=%{customdata[0]}<br>num_hidden=%{x}<br>test-negative_log_predictive_density=%{y}<br>model=%{customdata[1]}<br>dataset=%{customdata[2]}<br>run=%{customdata[4]}<br>test-expected_log_probability=%{customdata[5]}<br>test-mean_absolute_error=%{customdata[6]}<br>test-mean_squared_error=%{customdata[7]}<br>test-standardized_mean_squared_error=%{customdata[8]}<br>test-mean_standardized_log_loss=%{customdata[9]}<br>test-quantile_coverage_error=%{customdata[10]}<br>step=%{customdata[11]}<extra></extra>",
         "legendgroup": "0.0001",
         "marker": {
          "color": "#636efa"
         },
         "name": "0.0001",
         "notched": false,
         "offsetgroup": "0.0001",
         "opacity": 0.6,
         "orientation": "v",
         "showlegend": false,
         "type": "box",
         "x": [
          4,
          4,
          4,
          4,
          4,
          2,
          2,
          2,
          2,
          2,
          1,
          1,
          1,
          1,
          1,
          3,
          3,
          3,
          3,
          3
         ],
         "x0": " ",
         "xaxis": "x3",
         "y": [
          -1.3745525878252725,
          -1.4257472007545464,
          -1.435632565855252,
          -1.4490472504269438,
          -1.4257472007545464,
          -1.4635531649027569,
          -1.57623356362204,
          -1.475899842368669,
          -1.4635531649027569,
          -1.57623356362204,
          -1.5364145742896451,
          -1.524378060721485,
          -1.5329694438912085,
          -1.5364145742896451,
          -1.524378060721485,
          -1.5387730058311788,
          -1.499926197818019,
          -1.540834593008795,
          -1.5387730058311788,
          -1.499926197818019
         ],
         "y0": " ",
         "yaxis": "y3"
        },
        {
         "alignmentgroup": "True",
         "customdata": [
          [
           "100",
           "geometric_manifold",
           "singular",
           "0.001",
           "1",
           0.3719133510163832,
           0.1301420044323267,
           0.025735435361401,
           0.5751424755137704,
           -0.2629454197648939,
           0.0157,
           0
          ],
          [
           "100",
           "geometric_manifold",
           "singular",
           "0.001",
           "0",
           0.3660518364464882,
           0.1302651775848301,
           0.0259062971261702,
           0.5801715487001828,
           -0.2566704120921318,
           0.0175,
           0
          ],
          [
           "100",
           "geometric_manifold",
           "singular",
           "0.001",
           "2",
           0.450260990358604,
           0.112585885587042,
           0.0217684086330502,
           0.485921752753853,
           -0.3822010479237103,
           0.0067499999999999,
           0
          ],
          [
           "100",
           "geometric_manifold",
           "singular",
           "0.001",
           "4",
           0.4181829842743512,
           0.1020637409569971,
           0.0205073388590016,
           0.4585477409722436,
           -0.4573997914088654,
           0.00385,
           0
          ],
          [
           "100",
           "geometric_manifold",
           "singular",
           "0.001",
           "3",
           0.3719556483025023,
           0.1296185304874395,
           0.0257620317731826,
           0.5738925545473504,
           -0.2638582270812578,
           0.01,
           0
          ],
          [
           "100",
           "geometric_manifold",
           "singular",
           "0.001",
           "1",
           0.3487961741354474,
           0.1285099168619865,
           0.0263038615330289,
           0.5867215476187176,
           -0.2846485618018469,
           0.006,
           0
          ],
          [
           "100",
           "geometric_manifold",
           "singular",
           "0.001",
           "0",
           0.4279717817643921,
           0.1225418663005648,
           0.0228347607519561,
           0.5089816743143798,
           -0.3430368933426527,
           0.0057,
           0
          ],
          [
           "100",
           "geometric_manifold",
           "singular",
           "0.001",
           "2",
           0.4371117721632788,
           0.119496665285115,
           0.022359614874231,
           0.4965847796516992,
           -0.3470094101608914,
           0.00335,
           0
          ],
          [
           "100",
           "geometric_manifold",
           "singular",
           "0.001",
           "4",
           0.3485707410384751,
           0.1285961834986557,
           0.0263500236007264,
           0.5883656163862359,
           -0.2834317043911381,
           0.0038,
           0
          ],
          [
           "100",
           "geometric_manifold",
           "singular",
           "0.001",
           "3",
           0.3443171598011592,
           0.1283117848491842,
           0.0262824561387336,
           0.5899900730371708,
           -0.2865627353037243,
           0.0026499999999999,
           0
          ],
          [
           "100",
           "geometric_manifold",
           "singular",
           "0.001",
           "1",
           0.5173106871270607,
           0.1026453622742052,
           0.0182238023332402,
           0.4061960538538397,
           -0.4360955016208875,
           0.0093,
           0
          ],
          [
           "100",
           "geometric_manifold",
           "singular",
           "0.001",
           "0",
           0.5180902600325608,
           0.1020727486778912,
           0.0181265172161767,
           0.4046851185853638,
           -0.4346378041743474,
           0.00985,
           0
          ],
          [
           "100",
           "geometric_manifold",
           "singular",
           "0.001",
           "2",
           0.5723511822053916,
           0.0932952163127978,
           0.0150464543888933,
           0.3354388695172771,
           -0.5388148876335015,
           0.01215,
           0
          ],
          [
           "100",
           "geometric_manifold",
           "singular",
           "0.001",
           "4",
           0.558517873236788,
           0.0905419060317103,
           0.0147068674984145,
           0.3273347368842897,
           -0.5658476386834489,
           0.00235,
           0
          ],
          [
           "100",
           "geometric_manifold",
           "singular",
           "0.001",
           "3",
           0.5205876855701634,
           0.1018782124969476,
           0.0180040010054788,
           0.4015729045742914,
           -0.443913701032662,
           0.0042,
           0
          ],
          [
           "100",
           "geometric_manifold",
           "singular",
           "0.001",
           "1",
           1.0819654267859518,
           0.0444073878036385,
           0.0046450419068912,
           0.1039298086206034,
           -1.0656080376083443,
           0.01595,
           0
          ],
          [
           "100",
           "geometric_manifold",
           "singular",
           "0.001",
           "0",
           1.032841112339359,
           0.0480747491894249,
           0.0051993329848638,
           0.116188646365918,
           -1.0009949217066532,
           0.01815,
           0
          ],
          [
           "100",
           "geometric_manifold",
           "singular",
           "0.001",
           "2",
           1.027426960710866,
           0.0486195127611559,
           0.00525491189001,
           0.117229592572737,
           -0.9947485579755928,
           0.01955,
           0
          ],
          [
           "100",
           "geometric_manifold",
           "singular",
           "0.001",
           "4",
           1.0562717821981975,
           0.0458662871698423,
           0.0049115578916799,
           0.1095946680059694,
           -1.030408089169796,
           0.01725,
           0
          ],
          [
           "100",
           "geometric_manifold",
           "singular",
           "0.001",
           "3",
           1.0224352700391577,
           0.0484990632779576,
           0.0052355884674587,
           0.1163519041487734,
           -0.9891693442950162,
           0.02,
           0
          ]
         ],
         "hovertemplate": "outputscale=%{customdata[3]}<br>num_train=%{customdata[0]}<br>num_hidden=%{x}<br>test-negative_log_predictive_density=%{y}<br>model=%{customdata[1]}<br>dataset=%{customdata[2]}<br>run=%{customdata[4]}<br>test-expected_log_probability=%{customdata[5]}<br>test-mean_absolute_error=%{customdata[6]}<br>test-mean_squared_error=%{customdata[7]}<br>test-standardized_mean_squared_error=%{customdata[8]}<br>test-mean_standardized_log_loss=%{customdata[9]}<br>test-quantile_coverage_error=%{customdata[10]}<br>step=%{customdata[11]}<extra></extra>",
         "legendgroup": "0.001",
         "marker": {
          "color": "#EF553B"
         },
         "name": "0.001",
         "notched": false,
         "offsetgroup": "0.001",
         "opacity": 0.6,
         "orientation": "v",
         "showlegend": true,
         "type": "box",
         "x": [
          4,
          4,
          4,
          4,
          4,
          3,
          3,
          3,
          3,
          3,
          2,
          2,
          2,
          2,
          2,
          1,
          1,
          1,
          1,
          1
         ],
         "x0": " ",
         "xaxis": "x",
         "y": [
          -0.4114452577316151,
          -0.4079369576045074,
          -0.5266341518059338,
          -0.6098942407849748,
          -0.4121783055721731,
          -0.4248363546219396,
          -0.4823694232576536,
          -0.5004448629063519,
          -0.4239546871172598,
          -0.4287681468464012,
          -0.6412355571824714,
          -0.6374813925246433,
          -0.7382884164513923,
          -0.7563679722662364,
          -0.6466346633037446,
          -1.366567739858963,
          -1.3052774125493296,
          -1.3025453271869658,
          -1.3289618283919342,
          -1.2891006442505488
         ],
         "y0": " ",
         "yaxis": "y"
        },
        {
         "alignmentgroup": "True",
         "customdata": [
          [
           "200",
           "geometric_manifold",
           "singular",
           "0.001",
           "1",
           0.4420667816747877,
           0.1212254921291931,
           0.0229722516945483,
           0.512849752618088,
           -0.3197967728451892,
           0.01245,
           0
          ],
          [
           "200",
           "geometric_manifold",
           "singular",
           "0.001",
           "0",
           1.1478621562864624,
           0.0521866412132931,
           0.0052254948094582,
           0.116622145583883,
           -1.063482707501357,
           0.0069,
           0
          ],
          [
           "200",
           "geometric_manifold",
           "singular",
           "0.001",
           "2",
           0.4411087359093506,
           0.121443923530452,
           0.0229682597585451,
           0.5130448185077395,
           -0.3180425830302508,
           0.01455,
           0
          ],
          [
           "200",
           "geometric_manifold",
           "singular",
           "0.001",
           "4",
           0.436970733309082,
           0.121669413219213,
           0.0231610963744337,
           0.5151941388183634,
           -0.3158055587032028,
           0.0172,
           0
          ],
          [
           "200",
           "geometric_manifold",
           "singular",
           "0.001",
           "3",
           1.145169060702571,
           0.0519066121295955,
           0.0052375190193718,
           0.1165407650269828,
           -1.0569780898560002,
           0.009,
           0
          ],
          [
           "200",
           "geometric_manifold",
           "singular",
           "0.001",
           "1",
           1.1932114557028533,
           0.0482842166153564,
           0.0045574585730203,
           0.1017760055840718,
           -1.1182263792559493,
           0.0115,
           0
          ],
          [
           "200",
           "geometric_manifold",
           "singular",
           "0.001",
           "0",
           1.148136688662238,
           0.0511688774798071,
           0.0050234825327031,
           0.1122370657459032,
           -1.06155285412203,
           0.01355,
           0
          ],
          [
           "200",
           "geometric_manifold",
           "singular",
           "0.001",
           "2",
           1.1806575304284028,
           0.0499023273315003,
           0.0047423080169935,
           0.1055218372248629,
           -1.1054083466851046,
           0.00895,
           0
          ],
          [
           "200",
           "geometric_manifold",
           "singular",
           "0.001",
           "4",
           1.1639720472908772,
           0.0502708724594745,
           0.0048751077251145,
           0.1088749749649221,
           -1.0821954512914786,
           0.01175,
           0
          ],
          [
           "200",
           "geometric_manifold",
           "singular",
           "0.001",
           "3",
           1.1440164671084223,
           0.0517806239424812,
           0.0051079840066116,
           0.1140557152835942,
           -1.0560986245733228,
           0.0143,
           0
          ],
          [
           "200",
           "geometric_manifold",
           "singular",
           "0.001",
           "1",
           1.2168518484247826,
           0.0388676779249414,
           0.0038146855052651,
           0.0847641253358342,
           -1.1668173671887585,
           0.01215,
           0
          ],
          [
           "200",
           "geometric_manifold",
           "singular",
           "0.001",
           "0",
           1.222685665255766,
           0.0384640198974919,
           0.0038024179545351,
           0.0847660318792295,
           -1.1755843402309518,
           0.00895,
           0
          ],
          [
           "200",
           "geometric_manifold",
           "singular",
           "0.001",
           "2",
           1.1829050062835504,
           0.0401691875652212,
           0.0040408739710844,
           0.0899204677532891,
           -1.1230377037220236,
           0.01675,
           0
          ],
          [
           "200",
           "geometric_manifold",
           "singular",
           "0.001",
           "4",
           1.2037381746164382,
           0.0393989135526465,
           0.0039171538231553,
           0.0875239256228297,
           -1.1479066478120927,
           0.0154,
           0
          ],
          [
           "200",
           "geometric_manifold",
           "singular",
           "0.001",
           "3",
           1.2308128747636708,
           0.0386599082834035,
           0.0037488978842041,
           0.083573077832274,
           -1.1854745280054009,
           0.00855,
           0
          ],
          [
           "200",
           "geometric_manifold",
           "singular",
           "0.001",
           "1",
           1.2120517779696598,
           0.0488764073142745,
           0.0044906696256691,
           0.1001309838511128,
           -1.1376383776035577,
           0.01185,
           0
          ],
          [
           "200",
           "geometric_manifold",
           "singular",
           "0.001",
           "0",
           0.9488243235206534,
           0.0681322243711122,
           0.0078883823880675,
           0.1759668794042259,
           -0.8413373314163449,
           0.02205,
           0
          ],
          [
           "200",
           "geometric_manifold",
           "singular",
           "0.001",
           "2",
           0.4436029439830604,
           0.1207418624643929,
           0.0226710852602514,
           0.5066173047266209,
           -0.3267924413658529,
           0.0147,
           0
          ],
          [
           "200",
           "geometric_manifold",
           "singular",
           "0.001",
           "4",
           0.5594800626879548,
           0.1069549961830322,
           0.0181682753550571,
           0.4061522735312197,
           -0.4380915547335481,
           0.01065,
           0
          ],
          [
           "200",
           "geometric_manifold",
           "singular",
           "0.001",
           "3",
           0.8789316194807281,
           0.0722233757089849,
           0.0090913130595343,
           0.2029072263197577,
           -0.7783601992801865,
           0.0147,
           0
          ]
         ],
         "hovertemplate": "outputscale=%{customdata[3]}<br>num_train=%{customdata[0]}<br>num_hidden=%{x}<br>test-negative_log_predictive_density=%{y}<br>model=%{customdata[1]}<br>dataset=%{customdata[2]}<br>run=%{customdata[4]}<br>test-expected_log_probability=%{customdata[5]}<br>test-mean_absolute_error=%{customdata[6]}<br>test-mean_squared_error=%{customdata[7]}<br>test-standardized_mean_squared_error=%{customdata[8]}<br>test-mean_standardized_log_loss=%{customdata[9]}<br>test-quantile_coverage_error=%{customdata[10]}<br>step=%{customdata[11]}<extra></extra>",
         "legendgroup": "0.001",
         "marker": {
          "color": "#EF553B"
         },
         "name": "0.001",
         "notched": false,
         "offsetgroup": "0.001",
         "opacity": 0.6,
         "orientation": "v",
         "showlegend": false,
         "type": "box",
         "x": [
          3,
          3,
          3,
          3,
          3,
          2,
          2,
          2,
          2,
          2,
          1,
          1,
          1,
          1,
          1,
          4,
          4,
          4,
          4,
          4
         ],
         "x0": " ",
         "xaxis": "x2",
         "y": [
          -0.468291812658428,
          -1.2526565220565404,
          -0.4675671279248018,
          -0.4627452002600279,
          -1.2335736994110154,
          -1.3224770130903931,
          -1.258929293913608,
          -1.3071008403809392,
          -1.2823120701892932,
          -1.2510945828389537,
          -1.4313573043731815,
          -1.4472149506165402,
          -1.3874821882594055,
          -1.415174093767421,
          -1.4549431680957732,
          -1.3375590270993174,
          -1.0183013686490423,
          -0.4732626612807248,
          -0.589757768071944,
          -0.961951603171703
         ],
         "y0": " ",
         "yaxis": "y2"
        },
        {
         "alignmentgroup": "True",
         "customdata": [
          [
           "400",
           "geometric_manifold",
           "singular",
           "0.001",
           "1",
           1.3312464415285088,
           0.0433643116434232,
           0.003596101999509,
           0.0801724999359324,
           -1.2403255641489146,
           0.0121,
           0
          ],
          [
           "400",
           "geometric_manifold",
           "singular",
           "0.001",
           "0",
           1.321170935235425,
           0.0440330777035664,
           0.003712779044752,
           0.0825747049918936,
           -1.2300434862171783,
           0.00925,
           0
          ],
          [
           "400",
           "geometric_manifold",
           "singular",
           "0.001",
           "2",
           1.321170935235425,
           0.0440330777035664,
           0.003712779044752,
           0.0825747049918936,
           -1.2300434862171783,
           0.00925,
           0
          ],
          [
           "400",
           "geometric_manifold",
           "singular",
           "0.001",
           "4",
           1.330774049638299,
           0.0442826041981061,
           0.0036623313248612,
           0.0817749023126862,
           -1.2384130257466766,
           0.01175,
           0
          ],
          [
           "400",
           "geometric_manifold",
           "singular",
           "0.001",
           "3",
           1.321170935235425,
           0.0440330777035664,
           0.003712779044752,
           0.0825747049918936,
           -1.2300434862171783,
           0.00925,
           0
          ],
          [
           "400",
           "geometric_manifold",
           "singular",
           "0.001",
           "1",
           1.343344691033289,
           0.0347327078730594,
           0.0031491684084659,
           0.0701082644150064,
           -1.2722579787090784,
           0.0064,
           0
          ],
          [
           "400",
           "geometric_manifold",
           "singular",
           "0.001",
           "0",
           1.5248439931534,
           0.0302757900123664,
           0.0021586910930823,
           0.0482284119936328,
           -1.448166231618803,
           0.0184,
           0
          ],
          [
           "400",
           "geometric_manifold",
           "singular",
           "0.001",
           "2",
           1.3703979703851794,
           0.0339494567176656,
           0.0030000051083275,
           0.0669978086628724,
           -1.299696901605359,
           0.0054,
           0
          ],
          [
           "400",
           "geometric_manifold",
           "singular",
           "0.001",
           "4",
           1.343344691033289,
           0.0347327078730594,
           0.0031491684084659,
           0.0701082644150064,
           -1.2722579787090784,
           0.0064,
           0
          ],
          [
           "400",
           "geometric_manifold",
           "singular",
           "0.001",
           "3",
           1.5248439931534,
           0.0302757900123664,
           0.0021586910930823,
           0.0482284119936328,
           -1.448166231618803,
           0.0184,
           0
          ],
          [
           "400",
           "geometric_manifold",
           "singular",
           "0.001",
           "1",
           1.484924095116768,
           0.0353525873543942,
           0.0025505809116236,
           0.0568868081194111,
           -1.3935621388711137,
           0.01875,
           0
          ],
          [
           "400",
           "geometric_manifold",
           "singular",
           "0.001",
           "0",
           1.3076610340373869,
           0.0424342298196244,
           0.003641335808867,
           0.0813845120750779,
           -1.217375721404214,
           0.013,
           0
          ],
          [
           "400",
           "geometric_manifold",
           "singular",
           "0.001",
           "2",
           1.4880950535916977,
           0.0343680724811086,
           0.0024901538685561,
           0.0554998793337637,
           -1.4061361040972558,
           0.02005,
           0
          ],
          [
           "400",
           "geometric_manifold",
           "singular",
           "0.001",
           "4",
           1.484924095116768,
           0.0353525873543942,
           0.0025505809116236,
           0.0568868081194111,
           -1.3935621388711137,
           0.01875,
           0
          ],
          [
           "400",
           "geometric_manifold",
           "singular",
           "0.001",
           "3",
           1.3076610340373869,
           0.0424342298196244,
           0.003641335808867,
           0.0813845120750779,
           -1.217375721404214,
           0.013,
           0
          ],
          [
           "400",
           "geometric_manifold",
           "singular",
           "0.001",
           "1",
           1.238851604578204,
           0.0474775991776058,
           0.0043625396061149,
           0.0974079738280924,
           -1.1432205830991358,
           0.00895,
           0
          ],
          [
           "400",
           "geometric_manifold",
           "singular",
           "0.001",
           "0",
           1.3549169279504905,
           0.040654759973469,
           0.0032886028769154,
           0.0731105238996128,
           -1.2814268080215965,
           0.0113,
           0
          ],
          [
           "400",
           "geometric_manifold",
           "singular",
           "0.001",
           "2",
           1.3325727023990093,
           0.0415201677257552,
           0.0034374503588815,
           0.0764866293008277,
           -1.255551375039602,
           0.0137,
           0
          ],
          [
           "400",
           "geometric_manifold",
           "singular",
           "0.001",
           "4",
           1.238851604578204,
           0.0474775991776058,
           0.0043625396061149,
           0.0974079738280924,
           -1.1432205830991358,
           0.00895,
           0
          ],
          [
           "400",
           "geometric_manifold",
           "singular",
           "0.001",
           "3",
           1.3549169279504905,
           0.040654759973469,
           0.0032886028769154,
           0.0731105238996128,
           -1.2814268080215965,
           0.0113,
           0
          ]
         ],
         "hovertemplate": "outputscale=%{customdata[3]}<br>num_train=%{customdata[0]}<br>num_hidden=%{x}<br>test-negative_log_predictive_density=%{y}<br>model=%{customdata[1]}<br>dataset=%{customdata[2]}<br>run=%{customdata[4]}<br>test-expected_log_probability=%{customdata[5]}<br>test-mean_absolute_error=%{customdata[6]}<br>test-mean_squared_error=%{customdata[7]}<br>test-standardized_mean_squared_error=%{customdata[8]}<br>test-mean_standardized_log_loss=%{customdata[9]}<br>test-quantile_coverage_error=%{customdata[10]}<br>step=%{customdata[11]}<extra></extra>",
         "legendgroup": "0.001",
         "marker": {
          "color": "#EF553B"
         },
         "name": "0.001",
         "notched": false,
         "offsetgroup": "0.001",
         "opacity": 0.6,
         "orientation": "v",
         "showlegend": false,
         "type": "box",
         "x": [
          4,
          4,
          4,
          4,
          4,
          1,
          1,
          1,
          1,
          1,
          2,
          2,
          2,
          2,
          2,
          3,
          3,
          3,
          3,
          3
         ],
         "x0": " ",
         "xaxis": "x3",
         "y": [
          -1.4191955924991349,
          -1.406948855686432,
          -1.406948855686432,
          -1.422133882190226,
          -1.406948855686432,
          -1.5062344327334791,
          -1.6618946616332235,
          -1.5322681101051423,
          -1.5062344327334791,
          -1.6618946616332235,
          -1.5795743957132893,
          -1.4228483928349394,
          -1.6033908266681376,
          -1.5795743957132893,
          -1.4228483928349394,
          -1.3493760198734672,
          -1.493805305556152,
          -1.4774261643065822,
          -1.3493760198734672,
          -1.493805305556152
         ],
         "y0": " ",
         "yaxis": "y3"
        },
        {
         "alignmentgroup": "True",
         "customdata": [
          [
           "100",
           "geometric_manifold",
           "singular",
           "0.01",
           "1",
           0.4362797318425672,
           0.1251865209854123,
           0.0234172484237594,
           0.523335006345458,
           -0.3220476967282431,
           0.00905,
           0
          ],
          [
           "100",
           "geometric_manifold",
           "singular",
           "0.01",
           "0",
           0.4399648547409542,
           0.124063621208812,
           0.0231252721083481,
           0.5178904907895989,
           -0.3252098522790677,
           0.0138,
           0
          ],
          [
           "100",
           "geometric_manifold",
           "singular",
           "0.01",
           "2",
           0.4278888862553702,
           0.1188750677002636,
           0.0235664921720349,
           0.526059179406841,
           -0.3206049521032444,
           0.0022499999999999,
           0
          ],
          [
           "100",
           "geometric_manifold",
           "singular",
           "0.01",
           "4",
           0.5879524692017735,
           0.0900371860059916,
           0.0159041890924186,
           0.3556204942272556,
           -0.5703231889840075,
           0.0092,
           0
          ],
          [
           "100",
           "geometric_manifold",
           "singular",
           "0.01",
           "3",
           0.4552251627934587,
           0.119208757247247,
           0.0223808571827054,
           0.4985712079942613,
           -0.3426287858619304,
           0.01125,
           0
          ],
          [
           "100",
           "geometric_manifold",
           "singular",
           "0.01",
           "1",
           0.4604240561412551,
           0.1142136272076372,
           0.0214936507436374,
           0.4790787320521724,
           -0.3501769089474474,
           0.0182,
           0
          ],
          [
           "100",
           "geometric_manifold",
           "singular",
           "0.01",
           "0",
           0.4700029874376716,
           0.1127307355459771,
           0.0210043845032951,
           0.4689351921362335,
           -0.3609377372301158,
           0.0145,
           0
          ],
          [
           "100",
           "geometric_manifold",
           "singular",
           "0.01",
           "2",
           0.465645249127727,
           0.1133103343002405,
           0.0210911581604627,
           0.4701967697704282,
           -0.3567291804947698,
           0.01945,
           0
          ],
          [
           "100",
           "geometric_manifold",
           "singular",
           "0.01",
           "4",
           0.4700093580331974,
           0.1135290729281124,
           0.0212682407518911,
           0.4753861242028604,
           -0.3596725049443246,
           0.00955,
           0
          ],
          [
           "100",
           "geometric_manifold",
           "singular",
           "0.01",
           "3",
           0.4701257861688698,
           0.1133506572462636,
           0.0210700823140285,
           0.469960768825163,
           -0.3622148249756562,
           0.01365,
           0
          ],
          [
           "100",
           "geometric_manifold",
           "singular",
           "0.01",
           "1",
           1.0005791251046223,
           0.0509300070097912,
           0.0055463899048958,
           0.1240968871552871,
           -0.9562949764513088,
           0.02465,
           0
          ],
          [
           "100",
           "geometric_manifold",
           "singular",
           "0.01",
           "0",
           0.9088334073162352,
           0.0592330387780907,
           0.006743082116645,
           0.1506865564771548,
           -0.8445555141351893,
           0.03185,
           0
          ],
          [
           "100",
           "geometric_manifold",
           "singular",
           "0.01",
           "2",
           0.9914095967378436,
           0.0520850311416381,
           0.0056953157574367,
           0.1270543749908844,
           -0.9480577328856308,
           0.02415,
           0
          ],
          [
           "100",
           "geometric_manifold",
           "singular",
           "0.01",
           "4",
           0.9586901165532604,
           0.0540546097878789,
           0.0059838796703062,
           0.1340089908893253,
           -0.9020579545960926,
           0.0292,
           0
          ],
          [
           "100",
           "geometric_manifold",
           "singular",
           "0.01",
           "3",
           0.9396218683655584,
           0.0558910091337062,
           0.0062504151243403,
           0.1389046725038515,
           -0.8859971668712152,
           0.02945,
           0
          ],
          [
           "100",
           "geometric_manifold",
           "singular",
           "0.01",
           "1",
           0.3846105811846042,
           0.1254748866932354,
           0.0251086243879144,
           0.560061150753703,
           -0.2981354200491411,
           0.00735,
           0
          ],
          [
           "100",
           "geometric_manifold",
           "singular",
           "0.01",
           "0",
           0.390068319087009,
           0.1255991955906059,
           0.0249654739040796,
           0.5564747905958191,
           -0.2988829379534514,
           0.0095,
           0
          ],
          [
           "100",
           "geometric_manifold",
           "singular",
           "0.01",
           "2",
           0.3957499035701667,
           0.120702543232354,
           0.0241359370680701,
           0.5360351266357435,
           -0.3095323367679392,
           0.01205,
           0
          ],
          [
           "100",
           "geometric_manifold",
           "singular",
           "0.01",
           "4",
           0.3826544314316535,
           0.1262994047634328,
           0.0253176695693175,
           0.5639624282433331,
           -0.2959201395669336,
           0.0044499999999999,
           0
          ],
          [
           "100",
           "geometric_manifold",
           "singular",
           "0.01",
           "3",
           0.3949864098495767,
           0.1246655995889269,
           0.0247420844514333,
           0.5554117216267274,
           -0.29817975544041,
           0.01255,
           0
          ]
         ],
         "hovertemplate": "outputscale=%{customdata[3]}<br>num_train=%{customdata[0]}<br>num_hidden=%{x}<br>test-negative_log_predictive_density=%{y}<br>model=%{customdata[1]}<br>dataset=%{customdata[2]}<br>run=%{customdata[4]}<br>test-expected_log_probability=%{customdata[5]}<br>test-mean_absolute_error=%{customdata[6]}<br>test-mean_squared_error=%{customdata[7]}<br>test-standardized_mean_squared_error=%{customdata[8]}<br>test-mean_standardized_log_loss=%{customdata[9]}<br>test-quantile_coverage_error=%{customdata[10]}<br>step=%{customdata[11]}<extra></extra>",
         "legendgroup": "0.01",
         "marker": {
          "color": "#00cc96"
         },
         "name": "0.01",
         "notched": false,
         "offsetgroup": "0.01",
         "opacity": 0.6,
         "orientation": "v",
         "showlegend": true,
         "type": "box",
         "x": [
          4,
          4,
          4,
          4,
          4,
          2,
          2,
          2,
          2,
          2,
          1,
          1,
          1,
          1,
          1,
          3,
          3,
          3,
          3,
          3
         ],
         "x0": " ",
         "xaxis": "x",
         "y": [
          -0.4697320590526006,
          -0.4739926375725325,
          -0.4742640230444919,
          -0.7464638581449605,
          -0.4929118911580055,
          -0.5316989218595214,
          -0.5494348497264857,
          -0.5438534431505252,
          -0.5447535178127526,
          -0.5498351453716079,
          -1.2587365780042106,
          -1.1405307533211375,
          -1.2546049549299394,
          -1.2021509667131711,
          -1.18366388301292,
          -0.4425742649674878,
          -0.4471895614873254,
          -0.4714981171955972,
          -0.4398064577215751,
          -0.4459772993897056
         ],
         "y0": " ",
         "yaxis": "y"
        },
        {
         "alignmentgroup": "True",
         "customdata": [
          [
           "200",
           "geometric_manifold",
           "singular",
           "0.01",
           "1",
           0.9143072239283038,
           0.0722615401847417,
           0.0085756277698123,
           0.1914487373188922,
           -0.7977100621275428,
           0.024,
           0
          ],
          [
           "200",
           "geometric_manifold",
           "singular",
           "0.01",
           "0",
           0.895642789717028,
           0.0741686952940895,
           0.0089475319337783,
           0.1996902513248751,
           -0.7795824307112283,
           0.0239,
           0
          ],
          [
           "200",
           "geometric_manifold",
           "singular",
           "0.01",
           "2",
           0.8974620123735686,
           0.0738013559016475,
           0.0088586442208976,
           0.1978766160045806,
           -0.7803827971432965,
           0.02415,
           0
          ],
          [
           "200",
           "geometric_manifold",
           "singular",
           "0.01",
           "4",
           0.8509564216179515,
           0.0773008832332282,
           0.0095081724019355,
           0.2114992577708436,
           -0.7342236907340054,
           0.03375,
           0
          ],
          [
           "200",
           "geometric_manifold",
           "singular",
           "0.01",
           "3",
           0.9189178811346173,
           0.0726123975480081,
           0.0085192237285014,
           0.1895624334887212,
           -0.8035245795662537,
           0.02585,
           0
          ],
          [
           "200",
           "geometric_manifold",
           "singular",
           "0.01",
           "1",
           1.1613200137744433,
           0.0508347085719246,
           0.0049253365395813,
           0.1099913627571705,
           -1.08190669292336,
           0.01195,
           0
          ],
          [
           "200",
           "geometric_manifold",
           "singular",
           "0.01",
           "0",
           1.1147893148686487,
           0.0533139447199119,
           0.0053804250581458,
           0.1202120475309107,
           -1.0225949856896204,
           0.01505,
           0
          ],
          [
           "200",
           "geometric_manifold",
           "singular",
           "0.01",
           "2",
           1.1698561414377144,
           0.0507488474847072,
           0.0048842336849838,
           0.1086798474557544,
           -1.0922719631632192,
           0.00985,
           0
          ],
          [
           "200",
           "geometric_manifold",
           "singular",
           "0.01",
           "4",
           1.133488970969405,
           0.0523465360743908,
           0.0052263196220448,
           0.1167185322033975,
           -1.0462075812659477,
           0.01295,
           0
          ],
          [
           "200",
           "geometric_manifold",
           "singular",
           "0.01",
           "3",
           1.13174520654695,
           0.0526771638600197,
           0.0052629470960651,
           0.1175158721649183,
           -1.0420552229157998,
           0.015,
           0
          ],
          [
           "200",
           "geometric_manifold",
           "singular",
           "0.01",
           "1",
           1.16944041082048,
           0.0415400184342706,
           0.0041474855375087,
           0.0921591002573385,
           -1.106300547570326,
           0.0188,
           0
          ],
          [
           "200",
           "geometric_manifold",
           "singular",
           "0.01",
           "0",
           1.2035738238165348,
           0.0398574086119297,
           0.003962794172665,
           0.0883412452779711,
           -1.1510273816996706,
           0.01255,
           0
          ],
          [
           "200",
           "geometric_manifold",
           "singular",
           "0.01",
           "2",
           1.1798860045490107,
           0.0410793183481462,
           0.0040907203190948,
           0.0910296849575264,
           -1.1193924326428006,
           0.0175,
           0
          ],
          [
           "200",
           "geometric_manifold",
           "singular",
           "0.01",
           "4",
           1.1754918437087922,
           0.0412829847918957,
           0.0041372943796215,
           0.0924426922989858,
           -1.1122332818904492,
           0.0182,
           0
          ],
          [
           "200",
           "geometric_manifold",
           "singular",
           "0.01",
           "3",
           1.1687300249448973,
           0.0419334251282429,
           0.0041645448751971,
           0.0928389739441342,
           -1.104043183864292,
           0.01805,
           0
          ],
          [
           "200",
           "geometric_manifold",
           "singular",
           "0.01",
           "1",
           0.963590779442954,
           0.0646920712933237,
           0.007539212645079,
           0.1681060604635413,
           -0.8548749764070495,
           0.01945,
           0
          ],
          [
           "200",
           "geometric_manifold",
           "singular",
           "0.01",
           "0",
           0.899995215894343,
           0.0744659350423957,
           0.0089530999623646,
           0.1997176333331063,
           -0.7819714853178172,
           0.02325,
           0
          ],
          [
           "200",
           "geometric_manifold",
           "singular",
           "0.01",
           "2",
           0.9051774045243948,
           0.0734983578071674,
           0.0086998552219831,
           0.1944105080756969,
           -0.7889531476469822,
           0.025,
           0
          ],
          [
           "200",
           "geometric_manifold",
           "singular",
           "0.01",
           "4",
           1.085085406742308,
           0.0582416043074302,
           0.0060388585226291,
           0.134998841142976,
           -0.9810230843203088,
           0.01715,
           0
          ],
          [
           "200",
           "geometric_manifold",
           "singular",
           "0.01",
           "3",
           1.03963587815125,
           0.0601207924368146,
           0.0064286097423458,
           0.1434788752042361,
           -0.9344231209582804,
           0.0223,
           0
          ]
         ],
         "hovertemplate": "outputscale=%{customdata[3]}<br>num_train=%{customdata[0]}<br>num_hidden=%{x}<br>test-negative_log_predictive_density=%{y}<br>model=%{customdata[1]}<br>dataset=%{customdata[2]}<br>run=%{customdata[4]}<br>test-expected_log_probability=%{customdata[5]}<br>test-mean_absolute_error=%{customdata[6]}<br>test-mean_squared_error=%{customdata[7]}<br>test-standardized_mean_squared_error=%{customdata[8]}<br>test-mean_standardized_log_loss=%{customdata[9]}<br>test-quantile_coverage_error=%{customdata[10]}<br>step=%{customdata[11]}<extra></extra>",
         "legendgroup": "0.01",
         "marker": {
          "color": "#00cc96"
         },
         "name": "0.01",
         "notched": false,
         "offsetgroup": "0.01",
         "opacity": 0.6,
         "orientation": "v",
         "showlegend": false,
         "type": "box",
         "x": [
          3,
          3,
          3,
          3,
          3,
          2,
          2,
          2,
          2,
          2,
          1,
          1,
          1,
          1,
          1,
          4,
          4,
          4,
          4,
          4
         ],
         "x0": " ",
         "xaxis": "x2",
         "y": [
          -0.960076533963095,
          -0.946588247130998,
          -0.954463037733029,
          -0.8937700707264536,
          -0.971005738430587,
          -1.2901800109282568,
          -1.2188857641095374,
          -1.2997161407625544,
          -1.2501613836403322,
          -1.2396311431340803,
          -1.3691729910505706,
          -1.4251981247036112,
          -1.387692442344437,
          -1.3799204717077358,
          -1.370434109054012,
          -1.028729566956616,
          -0.9423072994358564,
          -0.9586355413418772,
          -1.158376445455637,
          -1.1118803943223097
         ],
         "y0": " ",
         "yaxis": "y2"
        },
        {
         "alignmentgroup": "True",
         "customdata": [
          [
           "400",
           "geometric_manifold",
           "singular",
           "0.01",
           "1",
           1.6115663379638048,
           0.030177027227445,
           0.0020005129573194,
           0.0445363579160623,
           -1.5268509779839958,
           0.0177,
           0
          ],
          [
           "400",
           "geometric_manifold",
           "singular",
           "0.01",
           "0",
           1.5931289468853524,
           0.0302695882591448,
           0.0020026395192699,
           0.0447419846774688,
           -1.5003326767081135,
           0.0219,
           0
          ],
          [
           "400",
           "geometric_manifold",
           "singular",
           "0.01",
           "2",
           1.6252090498053464,
           0.0298804588829584,
           0.001942184487384,
           0.0433739610351178,
           -1.5379783610913826,
           0.02,
           0
          ],
          [
           "400",
           "geometric_manifold",
           "singular",
           "0.01",
           "4",
           1.6115663379638048,
           0.030177027227445,
           0.0020005129573194,
           0.0445363579160623,
           -1.5268509779839958,
           0.0177,
           0
          ],
          [
           "400",
           "geometric_manifold",
           "singular",
           "0.01",
           "3",
           1.5931289468853524,
           0.0302695882591448,
           0.0020026395192699,
           0.0447419846774688,
           -1.5003326767081135,
           0.0219,
           0
          ],
          [
           "400",
           "geometric_manifold",
           "singular",
           "0.01",
           "1",
           1.4083412204861627,
           0.0402140469536263,
           0.0031271178227951,
           0.0697168360302131,
           -1.3106102657582772,
           0.0146,
           0
          ],
          [
           "400",
           "geometric_manifold",
           "singular",
           "0.01",
           "0",
           1.3784609100789402,
           0.0410923556222612,
           0.0032430916546628,
           0.0721285412941524,
           -1.277955101877542,
           0.02085,
           0
          ],
          [
           "400",
           "geometric_manifold",
           "singular",
           "0.01",
           "2",
           1.3784609100789402,
           0.0410923556222612,
           0.0032430916546628,
           0.0721285412941524,
           -1.277955101877542,
           0.02085,
           0
          ],
          [
           "400",
           "geometric_manifold",
           "singular",
           "0.01",
           "4",
           1.554080469127858,
           0.0344224542350665,
           0.0023367149451465,
           0.0521756824880372,
           -1.4613129584789588,
           0.0166,
           0
          ],
          [
           "400",
           "geometric_manifold",
           "singular",
           "0.01",
           "3",
           1.3785517058086385,
           0.0410753021080511,
           0.0032423170053072,
           0.0721113125710733,
           -1.2780391495487835,
           0.0209,
           0
          ],
          [
           "400",
           "geometric_manifold",
           "singular",
           "0.01",
           "1",
           1.5755019805750958,
           0.03371112075958,
           0.0022625221440329,
           0.0505182113378463,
           -1.4782629436698986,
           0.0164,
           0
          ],
          [
           "400",
           "geometric_manifold",
           "singular",
           "0.01",
           "0",
           1.520139256842051,
           0.0359170976617526,
           0.0025265664643709,
           0.0561693232022609,
           -1.4246924342714158,
           0.0161,
           0
          ],
          [
           "400",
           "geometric_manifold",
           "singular",
           "0.01",
           "2",
           1.5650773907699558,
           0.0333937735785481,
           0.0022924362460639,
           0.0510089464697089,
           -1.4674491080318746,
           0.0173,
           0
          ],
          [
           "400",
           "geometric_manifold",
           "singular",
           "0.01",
           "4",
           1.5755019805750958,
           0.03371112075958,
           0.0022625221440329,
           0.0505182113378463,
           -1.4782629436698986,
           0.0164,
           0
          ],
          [
           "400",
           "geometric_manifold",
           "singular",
           "0.01",
           "3",
           1.520139256842051,
           0.0359170976617526,
           0.0025265664643709,
           0.0561693232022609,
           -1.4246924342714158,
           0.0161,
           0
          ],
          [
           "400",
           "geometric_manifold",
           "singular",
           "0.01",
           "1",
           1.3557673884742156,
           0.039917340784824,
           0.0032337347616824,
           0.0721235103966164,
           -1.2792691533106562,
           0.0138,
           0
          ],
          [
           "400",
           "geometric_manifold",
           "singular",
           "0.01",
           "0",
           1.3457758158141402,
           0.0402941559980299,
           0.0033196072511393,
           0.0741938207832926,
           -1.2650808806634974,
           0.0131,
           0
          ],
          [
           "400",
           "geometric_manifold",
           "singular",
           "0.01",
           "2",
           1.385774140189868,
           0.0382908694033379,
           0.00304208257095,
           0.0678011177313196,
           -1.311014622130715,
           0.0148,
           0
          ],
          [
           "400",
           "geometric_manifold",
           "singular",
           "0.01",
           "4",
           1.3557673884742156,
           0.039917340784824,
           0.0032337347616824,
           0.0721235103966164,
           -1.2792691533106562,
           0.0138,
           0
          ],
          [
           "400",
           "geometric_manifold",
           "singular",
           "0.01",
           "3",
           1.3457758158141402,
           0.0402941559980299,
           0.0033196072511393,
           0.0741938207832926,
           -1.2650808806634974,
           0.0131,
           0
          ]
         ],
         "hovertemplate": "outputscale=%{customdata[3]}<br>num_train=%{customdata[0]}<br>num_hidden=%{x}<br>test-negative_log_predictive_density=%{y}<br>model=%{customdata[1]}<br>dataset=%{customdata[2]}<br>run=%{customdata[4]}<br>test-expected_log_probability=%{customdata[5]}<br>test-mean_absolute_error=%{customdata[6]}<br>test-mean_squared_error=%{customdata[7]}<br>test-standardized_mean_squared_error=%{customdata[8]}<br>test-mean_standardized_log_loss=%{customdata[9]}<br>test-quantile_coverage_error=%{customdata[10]}<br>step=%{customdata[11]}<extra></extra>",
         "legendgroup": "0.01",
         "marker": {
          "color": "#00cc96"
         },
         "name": "0.01",
         "notched": false,
         "offsetgroup": "0.01",
         "opacity": 0.6,
         "orientation": "v",
         "showlegend": false,
         "type": "box",
         "x": [
          1,
          1,
          1,
          1,
          1,
          4,
          4,
          4,
          4,
          4,
          3,
          3,
          3,
          3,
          3,
          2,
          2,
          2,
          2,
          2
         ],
         "x0": " ",
         "xaxis": "x3",
         "y": [
          -1.710016878451586,
          -1.6860843475607372,
          -1.7227505654651112,
          -1.710016878451586,
          -1.6860843475607372,
          -1.484359161382743,
          -1.460860608485478,
          -1.460860608485478,
          -1.6423837373356904,
          -1.4608800899689238,
          -1.6543010570807717,
          -1.6060926564470717,
          -1.6424234576647052,
          -1.6543010570807717,
          -1.6060926564470717,
          -1.4960716813255392,
          -1.4858016666044698,
          -1.5291296568362585,
          -1.4960716813255392,
          -1.4858016666044698
         ],
         "y0": " ",
         "yaxis": "y3"
        },
        {
         "alignmentgroup": "True",
         "customdata": [
          [
           "100",
           "geometric_manifold",
           "singular",
           "0.1",
           "1",
           0.8464706059297874,
           0.0687353412880933,
           0.008080304642852,
           0.1807915906812167,
           -0.7689441654495038,
           0.03475,
           0
          ],
          [
           "100",
           "geometric_manifold",
           "singular",
           "0.1",
           "0",
           0.8486259543148601,
           0.0689248717040758,
           0.0081054643629463,
           0.1811314903737757,
           -0.7740593293201679,
           0.03365,
           0
          ],
          [
           "100",
           "geometric_manifold",
           "singular",
           "0.1",
           "2",
           0.8169111020602818,
           0.0718272134016152,
           0.0087325663019043,
           0.1948111045653906,
           -0.7371808048641736,
           0.03475,
           0
          ],
          [
           "100",
           "geometric_manifold",
           "singular",
           "0.1",
           "4",
           0.840439759364428,
           0.0677878581827876,
           0.0081996417088561,
           0.1829637419874984,
           -0.7683045088332924,
           0.0314,
           0
          ],
          [
           "100",
           "geometric_manifold",
           "singular",
           "0.1",
           "3",
           0.7559157248581331,
           0.077839697407049,
           0.0097998187655154,
           0.2177840334028497,
           -0.6686633680295785,
           0.03805,
           0
          ],
          [
           "100",
           "geometric_manifold",
           "singular",
           "0.1",
           "1",
           0.4379613993926978,
           0.1142355073944447,
           0.0228256273908802,
           0.5091376949095165,
           -0.3277402418011451,
           0.0033,
           0
          ],
          [
           "100",
           "geometric_manifold",
           "singular",
           "0.1",
           "0",
           0.4669879163245354,
           0.117219829481736,
           0.0209139697576946,
           0.4661676756529996,
           -0.3551770618919015,
           0.03565,
           0
          ],
          [
           "100",
           "geometric_manifold",
           "singular",
           "0.1",
           "2",
           0.4293138889315763,
           0.1136472681349936,
           0.0230412822867602,
           0.5117239340490604,
           -0.3215852213735764,
           0.00475,
           0
          ],
          [
           "100",
           "geometric_manifold",
           "singular",
           "0.1",
           "4",
           0.4315171711941623,
           0.1153271873694865,
           0.0231538904649721,
           0.5169996521288562,
           -0.3240747929898841,
           0.00275,
           0
          ],
          [
           "100",
           "geometric_manifold",
           "singular",
           "0.1",
           "3",
           0.4360670870753309,
           0.11457044594508,
           0.0228625443192987,
           0.513219697640044,
           -0.3243153399704056,
           0.00245,
           0
          ],
          [
           "100",
           "geometric_manifold",
           "singular",
           "0.1",
           "1",
           0.6276951983056389,
           0.1001281878403569,
           0.0156162141569191,
           0.3489953809693266,
           -0.527091754941104,
           0.0031,
           0
          ],
          [
           "100",
           "geometric_manifold",
           "singular",
           "0.1",
           "0",
           0.6811702371171809,
           0.0912338190664726,
           0.0133053766633339,
           0.2979739229890826,
           -0.5698860464930229,
           0.0345,
           0
          ],
          [
           "100",
           "geometric_manifold",
           "singular",
           "0.1",
           "2",
           0.4426232391098939,
           0.1167531382884509,
           0.0225725250157122,
           0.5038715096087462,
           -0.326361584558822,
           0.0137,
           0
          ],
          [
           "100",
           "geometric_manifold",
           "singular",
           "0.1",
           "4",
           0.608477590409694,
           0.0968762624229098,
           0.0161877120404646,
           0.3619601177266364,
           -0.4981098030746477,
           0.0204,
           0
          ],
          [
           "100",
           "geometric_manifold",
           "singular",
           "0.1",
           "3",
           0.3499122383168139,
           0.1291387458539979,
           0.0278678252887932,
           0.6208026441964518,
           -0.2341821248318773,
           0.00825,
           0
          ],
          [
           "100",
           "geometric_manifold",
           "singular",
           "0.1",
           "1",
           0.3476676488219822,
           0.1290889353241557,
           0.0269161058529352,
           0.59994153704314,
           -0.2441231684688505,
           0.0228,
           0
          ],
          [
           "100",
           "geometric_manifold",
           "singular",
           "0.1",
           "0",
           0.4931555684881696,
           0.1090418054808807,
           0.0193023045383939,
           0.4309352595389718,
           -0.3775132043486186,
           0.0316,
           0
          ],
          [
           "100",
           "geometric_manifold",
           "singular",
           "0.1",
           "2",
           0.3858199667526206,
           0.1277239300983196,
           0.0250664934631525,
           0.5588211024817094,
           -0.2849573790056451,
           0.0231,
           0
          ],
          [
           "100",
           "geometric_manifold",
           "singular",
           "0.1",
           "4",
           0.4393157393181947,
           0.116071808399311,
           0.0214619122454121,
           0.4776835990834233,
           -0.3260263965090627,
           0.03405,
           0
          ],
          [
           "100",
           "geometric_manifold",
           "singular",
           "0.1",
           "3",
           0.2814125953247935,
           0.1423621645300087,
           0.0309099257381497,
           0.6894350125323297,
           -0.1659016269769242,
           0.03855,
           0
          ]
         ],
         "hovertemplate": "outputscale=%{customdata[3]}<br>num_train=%{customdata[0]}<br>num_hidden=%{x}<br>test-negative_log_predictive_density=%{y}<br>model=%{customdata[1]}<br>dataset=%{customdata[2]}<br>run=%{customdata[4]}<br>test-expected_log_probability=%{customdata[5]}<br>test-mean_absolute_error=%{customdata[6]}<br>test-mean_squared_error=%{customdata[7]}<br>test-standardized_mean_squared_error=%{customdata[8]}<br>test-mean_standardized_log_loss=%{customdata[9]}<br>test-quantile_coverage_error=%{customdata[10]}<br>step=%{customdata[11]}<extra></extra>",
         "legendgroup": "0.1",
         "marker": {
          "color": "#ab63fa"
         },
         "name": "0.1",
         "notched": false,
         "offsetgroup": "0.1",
         "opacity": 0.6,
         "orientation": "v",
         "showlegend": true,
         "type": "box",
         "x": [
          1,
          1,
          1,
          1,
          1,
          3,
          3,
          3,
          3,
          3,
          4,
          4,
          4,
          4,
          4,
          2,
          2,
          2,
          2,
          2
         ],
         "x0": " ",
         "xaxis": "x",
         "y": [
          -1.061277999003946,
          -1.0689685651667062,
          -1.0267945667848737,
          -1.0649109453862888,
          -0.9427705801222468,
          -0.4871821178691352,
          -0.5119075582768368,
          -0.4749781668287628,
          -0.4858089404362073,
          -0.48794416135235,
          -0.6992774225507782,
          -0.7613089785978051,
          -0.4852261594539721,
          -0.6664243129427486,
          -0.3776099508786851,
          -0.4061504648446054,
          -0.5577393441341357,
          -0.4404228876503666,
          -0.505776340615896,
          -0.3220718258810033
         ],
         "y0": " ",
         "yaxis": "y"
        },
        {
         "alignmentgroup": "True",
         "customdata": [
          [
           "200",
           "geometric_manifold",
           "singular",
           "0.1",
           "1",
           1.437949282835301,
           0.0367602685537868,
           0.0027586052226941,
           0.0612975194221884,
           -1.3716532427205856,
           0.02205,
           0
          ],
          [
           "200",
           "geometric_manifold",
           "singular",
           "0.1",
           "0",
           1.118407588622781,
           0.0479923633999595,
           0.0047845085378644,
           0.1066594488286968,
           -1.0357920715788855,
           0.0253,
           0
          ],
          [
           "200",
           "geometric_manifold",
           "singular",
           "0.1",
           "2",
           1.1816327005048977,
           0.0470028598788382,
           0.0043584269472182,
           0.0969868876304567,
           -1.106060600272976,
           0.02295,
           0
          ],
          [
           "200",
           "geometric_manifold",
           "singular",
           "0.1",
           "4",
           1.3310727668121984,
           0.0403429045872506,
           0.0032386592103795,
           0.0723638081740216,
           -1.2514461253672873,
           0.0273,
           0
          ],
          [
           "200",
           "geometric_manifold",
           "singular",
           "0.1",
           "3",
           1.250929380856551,
           0.0432039331900021,
           0.0036534659574404,
           0.0814456419592658,
           -1.1694937545029291,
           0.02905,
           0
          ],
          [
           "200",
           "geometric_manifold",
           "singular",
           "0.1",
           "1",
           1.0126999971716617,
           0.062580244918709,
           0.0069373350674585,
           0.1548742639808012,
           -0.909430815953041,
           0.0187,
           0
          ],
          [
           "200",
           "geometric_manifold",
           "singular",
           "0.1",
           "0",
           0.8863342163403706,
           0.0738747559716538,
           0.0092540569013555,
           0.2065312492968138,
           -0.7687824290634957,
           0.0219,
           0
          ],
          [
           "200",
           "geometric_manifold",
           "singular",
           "0.1",
           "2",
           1.1123703318169695,
           0.0548125053214524,
           0.0054970232275722,
           0.1227876780291723,
           -1.0208026754176385,
           0.01695,
           0
          ],
          [
           "200",
           "geometric_manifold",
           "singular",
           "0.1",
           "4",
           0.9784521642938702,
           0.0653201489838312,
           0.0074735892191551,
           0.1662421026793465,
           -0.8761497978406079,
           0.01835,
           0
          ],
          [
           "200",
           "geometric_manifold",
           "singular",
           "0.1",
           "3",
           0.9432553546889376,
           0.069386846950485,
           0.008318061355401,
           0.1850863415129098,
           -0.8333968581968941,
           0.0138,
           0
          ],
          [
           "200",
           "geometric_manifold",
           "singular",
           "0.1",
           "1",
           0.4515398477585946,
           0.1151746681927158,
           0.0218481254541856,
           0.4879067801932932,
           -0.3328754701873681,
           0.02285,
           0
          ],
          [
           "200",
           "geometric_manifold",
           "singular",
           "0.1",
           "0",
           1.0962596650685472,
           0.0552585504602743,
           0.0056205384632029,
           0.1255767768505456,
           -1.0044425802021009,
           0.01525,
           0
          ],
          [
           "200",
           "geometric_manifold",
           "singular",
           "0.1",
           "2",
           1.149484371963804,
           0.0520573194600077,
           0.00509146495777,
           0.113290982910577,
           -1.0736129229445726,
           0.0096,
           0
          ],
          [
           "200",
           "geometric_manifold",
           "singular",
           "0.1",
           "4",
           1.1190800569414747,
           0.0527269298305984,
           0.0053352209053806,
           0.1191506065626461,
           -1.039253199651855,
           0.0121,
           0
          ],
          [
           "200",
           "geometric_manifold",
           "singular",
           "0.1",
           "3",
           1.116169271849415,
           0.0538473968928306,
           0.0054514793642487,
           0.1217255922176603,
           -1.0270969410369406,
           0.0141,
           0
          ],
          [
           "200",
           "geometric_manifold",
           "singular",
           "0.1",
           "1",
           0.9042898456197276,
           0.0718650607493575,
           0.008780339569868,
           0.1957801648672279,
           -0.7969150277590907,
           0.02375,
           0
          ],
          [
           "200",
           "geometric_manifold",
           "singular",
           "0.1",
           "0",
           0.9484471748261624,
           0.0682960748297128,
           0.0082438054677762,
           0.18389533509106,
           -0.8377103843531388,
           0.011,
           0
          ],
          [
           "200",
           "geometric_manifold",
           "singular",
           "0.1",
           "2",
           1.0299919296480082,
           0.0609701016843787,
           0.0066796737818782,
           0.1492667108337053,
           -0.9216716083937768,
           0.0224,
           0
          ],
          [
           "200",
           "geometric_manifold",
           "singular",
           "0.1",
           "4",
           0.9205418488311388,
           0.070947422716299,
           0.0087212221392178,
           0.1949631503591335,
           -0.8238828243618647,
           0.0105,
           0
          ],
          [
           "200",
           "geometric_manifold",
           "singular",
           "0.1",
           "3",
           1.0560732848426324,
           0.0600318940022145,
           0.0063744809408196,
           0.1422707851396039,
           -0.9483476973182532,
           0.0197,
           0
          ]
         ],
         "hovertemplate": "outputscale=%{customdata[3]}<br>num_train=%{customdata[0]}<br>num_hidden=%{x}<br>test-negative_log_predictive_density=%{y}<br>model=%{customdata[1]}<br>dataset=%{customdata[2]}<br>run=%{customdata[4]}<br>test-expected_log_probability=%{customdata[5]}<br>test-mean_absolute_error=%{customdata[6]}<br>test-mean_squared_error=%{customdata[7]}<br>test-standardized_mean_squared_error=%{customdata[8]}<br>test-mean_standardized_log_loss=%{customdata[9]}<br>test-quantile_coverage_error=%{customdata[10]}<br>step=%{customdata[11]}<extra></extra>",
         "legendgroup": "0.1",
         "marker": {
          "color": "#ab63fa"
         },
         "name": "0.1",
         "notched": false,
         "offsetgroup": "0.1",
         "opacity": 0.6,
         "orientation": "v",
         "showlegend": false,
         "type": "box",
         "x": [
          1,
          1,
          1,
          1,
          1,
          3,
          3,
          3,
          3,
          3,
          2,
          2,
          2,
          2,
          2,
          4,
          4,
          4,
          4,
          4
         ],
         "x0": " ",
         "xaxis": "x2",
         "y": [
          -1.5868395215534492,
          -1.2889571977834615,
          -1.3561797249038188,
          -1.4750554708950028,
          -1.400495523881072,
          -1.109704970970456,
          -0.9503845111524948,
          -1.2260110726979447,
          -1.068566080726668,
          -1.019079930288968,
          -0.5109605510330372,
          -1.2116240180610585,
          -1.2888286460768543,
          -1.2777166367119792,
          -1.2307876490111505,
          -0.9614521732339032,
          -0.9979939760899884,
          -1.1179912178735243,
          -1.0030321446442696,
          -1.1361015024146552
         ],
         "y0": " ",
         "yaxis": "y2"
        },
        {
         "alignmentgroup": "True",
         "customdata": [
          [
           "400",
           "geometric_manifold",
           "singular",
           "0.1",
           "1",
           1.6022946599927794,
           0.0311161656201768,
           0.0020700752375303,
           0.0460849860304643,
           -1.5079909470119,
           0.02105,
           0
          ],
          [
           "400",
           "geometric_manifold",
           "singular",
           "0.1",
           "0",
           1.6378180760731322,
           0.0301068567895333,
           0.0019528820756092,
           0.0436303284056167,
           -1.5424881369240635,
           0.0201,
           0
          ],
          [
           "400",
           "geometric_manifold",
           "singular",
           "0.1",
           "2",
           1.638579093206233,
           0.0304072751796516,
           0.0019561721453566,
           0.0436863413140343,
           -1.5448522753474214,
           0.0188,
           0
          ],
          [
           "400",
           "geometric_manifold",
           "singular",
           "0.1",
           "4",
           1.60231150111632,
           0.0311149895561303,
           0.0020699376764047,
           0.0460819235801562,
           -1.5080019414468944,
           0.02105,
           0
          ],
          [
           "400",
           "geometric_manifold",
           "singular",
           "0.1",
           "3",
           1.6379548676196771,
           0.0301097212477905,
           0.0019526581548072,
           0.0436253256774704,
           -1.5426184552276054,
           0.0201,
           0
          ],
          [
           "400",
           "geometric_manifold",
           "singular",
           "0.1",
           "1",
           1.292864158736427,
           0.0438834699456249,
           0.0037422108043555,
           0.0834642912128782,
           -1.2104241712571555,
           0.01395,
           0
          ],
          [
           "400",
           "geometric_manifold",
           "singular",
           "0.1",
           "0",
           1.354783948304781,
           0.0393863659881334,
           0.0032072030582751,
           0.071681566799694,
           -1.2844960015858675,
           0.01325,
           0
          ],
          [
           "400",
           "geometric_manifold",
           "singular",
           "0.1",
           "2",
           1.3386887561539078,
           0.040563002989358,
           0.0033517041903518,
           0.0747018810668357,
           -1.2679286645778671,
           0.0118,
           0
          ],
          [
           "400",
           "geometric_manifold",
           "singular",
           "0.1",
           "4",
           1.2928632218294631,
           0.0438855033754176,
           0.0037424832418485,
           0.0834703675146801,
           -1.21042820213114,
           0.01395,
           0
          ],
          [
           "400",
           "geometric_manifold",
           "singular",
           "0.1",
           "3",
           1.2430707194697264,
           0.0463551163706638,
           0.0041674199026814,
           0.0931425864557175,
           -1.1484648354094182,
           0.014,
           0
          ],
          [
           "400",
           "geometric_manifold",
           "singular",
           "0.1",
           "1",
           1.2395706959899944,
           0.0484906517828226,
           0.0044902931359863,
           0.100260489476711,
           -1.126013931621889,
           0.012,
           0
          ],
          [
           "400",
           "geometric_manifold",
           "singular",
           "0.1",
           "0",
           1.3112961177499411,
           0.0458313264910671,
           0.003901821465691,
           0.0867432834538505,
           -1.2002248919202738,
           0.01355,
           0
          ],
          [
           "400",
           "geometric_manifold",
           "singular",
           "0.1",
           "2",
           1.3244236272252274,
           0.0440537297097704,
           0.003767300658045,
           0.0838261207619038,
           -1.2114606744829228,
           0.0129,
           0
          ],
          [
           "400",
           "geometric_manifold",
           "singular",
           "0.1",
           "4",
           1.239496493624607,
           0.048495607259138,
           0.0044911023690968,
           0.1002785582542494,
           -1.1259380639939107,
           0.012,
           0
          ],
          [
           "400",
           "geometric_manifold",
           "singular",
           "0.1",
           "3",
           1.450576586321048,
           0.0401866908613259,
           0.002982239285227,
           0.0662996064582478,
           -1.3417313226946015,
           0.01605,
           0
          ],
          [
           "400",
           "geometric_manifold",
           "singular",
           "0.1",
           "1",
           1.231497544125205,
           0.0497172853394319,
           0.0046514251185884,
           0.1037001675906121,
           -1.1235974781865878,
           0.0051,
           0
          ],
          [
           "400",
           "geometric_manifold",
           "singular",
           "0.1",
           "0",
           1.2422464528917423,
           0.0490972186119789,
           0.0045356042305685,
           0.1008748909603374,
           -1.135104357596508,
           0.00795,
           0
          ],
          [
           "400",
           "geometric_manifold",
           "singular",
           "0.1",
           "2",
           1.1907920200364934,
           0.0521196816365504,
           0.0050007352479476,
           0.1118482878586721,
           -1.0774155463703727,
           0.01315,
           0
          ],
          [
           "400",
           "geometric_manifold",
           "singular",
           "0.1",
           "4",
           1.1811110228872796,
           0.0530797133926785,
           0.0050737322203108,
           0.1132895742829512,
           -1.0692777923465355,
           0.0164,
           0
          ],
          [
           "400",
           "geometric_manifold",
           "singular",
           "0.1",
           "3",
           1.2422464528917423,
           0.0490972186119789,
           0.0045356042305685,
           0.1008748909603374,
           -1.135104357596508,
           0.00795,
           0
          ]
         ],
         "hovertemplate": "outputscale=%{customdata[3]}<br>num_train=%{customdata[0]}<br>num_hidden=%{x}<br>test-negative_log_predictive_density=%{y}<br>model=%{customdata[1]}<br>dataset=%{customdata[2]}<br>run=%{customdata[4]}<br>test-expected_log_probability=%{customdata[5]}<br>test-mean_absolute_error=%{customdata[6]}<br>test-mean_squared_error=%{customdata[7]}<br>test-standardized_mean_squared_error=%{customdata[8]}<br>test-mean_standardized_log_loss=%{customdata[9]}<br>test-quantile_coverage_error=%{customdata[10]}<br>step=%{customdata[11]}<extra></extra>",
         "legendgroup": "0.1",
         "marker": {
          "color": "#ab63fa"
         },
         "name": "0.1",
         "notched": false,
         "offsetgroup": "0.1",
         "opacity": 0.6,
         "orientation": "v",
         "showlegend": false,
         "type": "box",
         "x": [
          1,
          1,
          1,
          1,
          1,
          2,
          2,
          2,
          2,
          2,
          3,
          3,
          3,
          3,
          3,
          4,
          4,
          4,
          4,
          4
         ],
         "x0": " ",
         "xaxis": "x3",
         "y": [
          -1.6796964167159412,
          -1.710353265645031,
          -1.7153853157140582,
          -1.6797392593836442,
          -1.7105152234095833,
          -1.4297507473842337,
          -1.5167148860872348,
          -1.4975849454913697,
          -1.4298119212062783,
          -1.358631576464541,
          -1.295751701939327,
          -1.3695295707952393,
          -1.3787462513812847,
          -1.2956413997575933,
          -1.5091312157553127,
          -1.2944570306790015,
          -1.3024023912590008,
          -1.2551219538816227,
          -1.2462179112418792,
          -1.3024023912590008
         ],
         "y0": " ",
         "yaxis": "y3"
        },
        {
         "alignmentgroup": "True",
         "boxpoints": "all",
         "customdata": [
          [
           "100",
           "geometric_manifold",
           "singular",
           "0.0001",
           "1",
           1.092560472927543,
           0.0435911177536438,
           0.0045196347211058,
           0.1011239039421135,
           -1.0810773657123751,
           0.01485,
           0
          ],
          [
           "100",
           "geometric_manifold",
           "singular",
           "0.0001",
           "0",
           1.0779359357401463,
           0.0445715747597841,
           0.0046883381280834,
           0.1047695276285531,
           -1.0633191504524355,
           0.01415,
           0
          ],
          [
           "100",
           "geometric_manifold",
           "singular",
           "0.0001",
           "2",
           1.095894412482598,
           0.043355776947182,
           0.0045186311131701,
           0.1008042181240876,
           -1.092964436132697,
           0.01035,
           0
          ],
          [
           "100",
           "geometric_manifold",
           "singular",
           "0.0001",
           "4",
           1.072647677928297,
           0.0445482489122148,
           0.0047232223289986,
           0.1053922186159814,
           -1.0527562599614997,
           0.01495,
           0
          ],
          [
           "100",
           "geometric_manifold",
           "singular",
           "0.0001",
           "3",
           1.0653642081098906,
           0.0453467647945418,
           0.0047544979968481,
           0.1056604999883285,
           -1.0461475676001064,
           0.0166,
           0
          ],
          [
           "100",
           "geometric_manifold",
           "singular",
           "0.0001",
           "1",
           0.5694275934398576,
           0.0924996442648158,
           0.0150283929504445,
           0.3349725705211837,
           -0.5464916600135916,
           0.00565,
           0
          ],
          [
           "100",
           "geometric_manifold",
           "singular",
           "0.0001",
           "0",
           0.5468057435122234,
           0.0917836815171897,
           0.0149111807530019,
           0.3329008479296363,
           -0.555773636830083,
           0.00535,
           0
          ],
          [
           "100",
           "geometric_manifold",
           "singular",
           "0.0001",
           "2",
           0.5601505597400587,
           0.0903342584044724,
           0.0145653228650121,
           0.3247127402719083,
           -0.5665238998345583,
           0.00305,
           0
          ],
          [
           "100",
           "geometric_manifold",
           "singular",
           "0.0001",
           "4",
           0.5561118608461323,
           0.089269724076851,
           0.0145347999914785,
           0.3235049837356128,
           -0.5735165755936358,
           0.00215,
           0
          ],
          [
           "100",
           "geometric_manifold",
           "singular",
           "0.0001",
           "3",
           0.5383143443125189,
           0.0910318114544313,
           0.0148667455682069,
           0.3315975264373218,
           -0.5612130684184812,
           0.0006999999999999,
           0
          ],
          [
           "100",
           "geometric_manifold",
           "singular",
           "0.0001",
           "1",
           0.407834581865166,
           0.1258406349696021,
           0.0242623415465392,
           0.5422213762028045,
           -0.2996090758725295,
           0.001,
           0
          ],
          [
           "100",
           "geometric_manifold",
           "singular",
           "0.0001",
           "0",
           0.4578968850618499,
           0.1143538619846659,
           0.0216816558694302,
           0.4855607037504607,
           -0.3654477625756159,
           0.0012499999999999,
           0
          ],
          [
           "100",
           "geometric_manifold",
           "singular",
           "0.0001",
           "2",
           0.4262276804249448,
           0.118746200550067,
           0.0230077101358468,
           0.5135858585036461,
           -0.3287184839959937,
           0.0056499999999999,
           0
          ],
          [
           "100",
           "geometric_manifold",
           "singular",
           "0.0001",
           "4",
           0.4330149007869091,
           0.1124118830442007,
           0.0223242087058403,
           0.4991732735992029,
           -0.3642775122037985,
           0.0051499999999999,
           0
          ],
          [
           "100",
           "geometric_manifold",
           "singular",
           "0.0001",
           "3",
           0.4519992794081785,
           0.1063532460297314,
           0.0207641151389373,
           0.4625555618017906,
           -0.4016232634172201,
           0.0238499999999999,
           0
          ],
          [
           "100",
           "geometric_manifold",
           "singular",
           "0.0001",
           "1",
           0.3331389066719082,
           0.1291898276993179,
           0.0266685410541911,
           0.5948559172728636,
           -0.2831798905967331,
           0.0032999999999999,
           0
          ],
          [
           "100",
           "geometric_manifold",
           "singular",
           "0.0001",
           "0",
           0.3329532979110001,
           0.1292202935072679,
           0.026674503857128,
           0.5945686833413993,
           -0.2837687482189269,
           0.0037499999999999,
           0
          ],
          [
           "100",
           "geometric_manifold",
           "singular",
           "0.0001",
           "2",
           0.3076114415993365,
           0.1327704064478834,
           0.0283748859065035,
           0.6301779590024239,
           -0.252059419575942,
           0.0093499999999999,
           0
          ],
          [
           "100",
           "geometric_manifold",
           "singular",
           "0.0001",
           "4",
           0.340335804739263,
           0.1289896435503325,
           0.0265547901022988,
           0.5929378160448933,
           -0.2835608018912799,
           0.00235,
           0
          ],
          [
           "100",
           "geometric_manifold",
           "singular",
           "0.0001",
           "3",
           0.3349318793858932,
           0.1289081941326604,
           0.0265768494533683,
           0.5965986309392998,
           -0.2833778300292983,
           0.0020499999999999,
           0
          ]
         ],
         "fillcolor": "rgba(255,255,255,0)",
         "hoveron": "points",
         "hovertemplate": "outputscale=%{customdata[3]}<br>num_train=%{customdata[0]}<br>num_hidden=%{x}<br>test-negative_log_predictive_density=%{y}<br>model=%{customdata[1]}<br>dataset=%{customdata[2]}<br>run=%{customdata[4]}<br>test-expected_log_probability=%{customdata[5]}<br>test-mean_absolute_error=%{customdata[6]}<br>test-mean_squared_error=%{customdata[7]}<br>test-standardized_mean_squared_error=%{customdata[8]}<br>test-mean_standardized_log_loss=%{customdata[9]}<br>test-quantile_coverage_error=%{customdata[10]}<br>step=%{customdata[11]}<extra></extra>",
         "legendgroup": "0.0001",
         "line": {
          "color": "rgba(255,255,255,0)"
         },
         "marker": {
          "color": "#636efa"
         },
         "name": "0.0001",
         "offsetgroup": "0.0001",
         "orientation": "v",
         "pointpos": 0,
         "showlegend": false,
         "type": "box",
         "x": [
          1,
          1,
          1,
          1,
          1,
          2,
          2,
          2,
          2,
          2,
          4,
          4,
          4,
          4,
          4,
          3,
          3,
          3,
          3,
          3
         ],
         "x0": " ",
         "xaxis": "x",
         "y": [
          -1.3809334321585407,
          -1.3660365919591937,
          -1.3998437883492565,
          -1.3496172300981184,
          -1.3432668069705336,
          -0.7437627173701602,
          -0.751233008883974,
          -0.7564700211040754,
          -0.7592810685349175,
          -0.7557274248044001,
          -0.4418421906761393,
          -0.5136085719580172,
          -0.481737445618846,
          -0.5069093659826969,
          -0.5491291663428,
          -0.4218588760286922,
          -0.4223284980607399,
          -0.3926066900790875,
          -0.4230695644313231,
          -0.4252881049458173
         ],
         "y0": " ",
         "yaxis": "y"
        },
        {
         "alignmentgroup": "True",
         "boxpoints": "all",
         "customdata": [
          [
           "200",
           "geometric_manifold",
           "singular",
           "0.0001",
           "1",
           1.2110097151810806,
           0.0468828664936535,
           0.0044051664718635,
           0.0983750571191744,
           -1.1441469277020495,
           0.0086,
           0
          ],
          [
           "200",
           "geometric_manifold",
           "singular",
           "0.0001",
           "0",
           1.1873883434549972,
           0.0485632708224258,
           0.0046252573070813,
           0.1033397259942824,
           -1.1111703466815814,
           0.01365,
           0
          ],
          [
           "200",
           "geometric_manifold",
           "singular",
           "0.0001",
           "2",
           1.2090589694610598,
           0.0477636801413862,
           0.004453368193542,
           0.0990925920326967,
           -1.1463308711285252,
           0.0039,
           0
          ],
          [
           "200",
           "geometric_manifold",
           "singular",
           "0.0001",
           "3",
           1.2024489953668582,
           0.0479532257833025,
           0.0045128627725495,
           0.1007673067953219,
           -1.1307587308958715,
           0.0088,
           0
          ],
          [
           "200",
           "geometric_manifold",
           "singular",
           "0.0001",
           "1",
           1.2473178697685685,
           0.0373833365505494,
           0.003615136967747,
           0.0803300619716524,
           -1.2064591159505194,
           0.0086,
           0
          ],
          [
           "200",
           "geometric_manifold",
           "singular",
           "0.0001",
           "0",
           1.258076636980727,
           0.0367135859671079,
           0.0035499209292991,
           0.0791372001341443,
           -1.2219112073826384,
           0.006,
           0
          ],
          [
           "200",
           "geometric_manifold",
           "singular",
           "0.0001",
           "2",
           1.250850636506445,
           0.0372495824311256,
           0.0036067486041911,
           0.0802599942186145,
           -1.2105550727122958,
           0.00675,
           0
          ],
          [
           "200",
           "geometric_manifold",
           "singular",
           "0.0001",
           "3",
           1.2309241516983411,
           0.0385491181184331,
           0.0037482681382634,
           0.083559039091253,
           -1.1858399454312432,
           0.0087,
           0
          ],
          [
           "200",
           "geometric_manifold",
           "singular",
           "0.0001",
           "1",
           1.140904889202892,
           0.052610744673503,
           0.0053673702704764,
           0.119825193978558,
           -1.053902404265036,
           0.00425,
           0
          ],
          [
           "200",
           "geometric_manifold",
           "singular",
           "0.0001",
           "0",
           1.239085143239144,
           0.0467820558710517,
           0.004289275158163,
           0.095727675595278,
           -1.17007477915077,
           0.00765,
           0
          ],
          [
           "200",
           "geometric_manifold",
           "singular",
           "0.0001",
           "2",
           1.154268483493014,
           0.0517658588938515,
           0.0051295850005774,
           0.1145801655548669,
           -1.068035706885977,
           0.00765,
           0
          ],
          [
           "200",
           "geometric_manifold",
           "singular",
           "0.0001",
           "3",
           1.151259604536101,
           0.051944816511175,
           0.0052352131234729,
           0.1164894562162387,
           -1.0660737259657815,
           0.005,
           0
          ],
          [
           "200",
           "geometric_manifold",
           "singular",
           "0.0001",
           "1",
           0.8675057262032589,
           0.0707742611862866,
           0.0090476742265985,
           0.2017410759177563,
           -0.7812631444858654,
           0.0028,
           0
          ],
          [
           "200",
           "geometric_manifold",
           "singular",
           "0.0001",
           "0",
           0.8615696742970327,
           0.0719407629651223,
           0.0091547757452219,
           0.2042164337734215,
           -0.7757788669446668,
           0.00375,
           0
          ],
          [
           "200",
           "geometric_manifold",
           "singular",
           "0.0001",
           "2",
           0.4255138688795207,
           0.1231870610637449,
           0.0234579075354919,
           0.5241999557468657,
           -0.3106017945189622,
           0.01475,
           0
          ],
          [
           "200",
           "geometric_manifold",
           "singular",
           "0.0001",
           "4",
           0.423308030502967,
           0.1237777992293943,
           0.0235218825807517,
           0.5258323039037105,
           -0.3097606150477495,
           0.01465,
           0
          ],
          [
           "200",
           "geometric_manifold",
           "singular",
           "0.0001",
           "3",
           0.4198611668585124,
           0.1237692861541265,
           0.0236626037841042,
           0.5281209952725948,
           -0.3066209407915283,
           0.01555,
           0
          ]
         ],
         "fillcolor": "rgba(255,255,255,0)",
         "hoveron": "points",
         "hovertemplate": "outputscale=%{customdata[3]}<br>num_train=%{customdata[0]}<br>num_hidden=%{x}<br>test-negative_log_predictive_density=%{y}<br>model=%{customdata[1]}<br>dataset=%{customdata[2]}<br>run=%{customdata[4]}<br>test-expected_log_probability=%{customdata[5]}<br>test-mean_absolute_error=%{customdata[6]}<br>test-mean_squared_error=%{customdata[7]}<br>test-standardized_mean_squared_error=%{customdata[8]}<br>test-mean_standardized_log_loss=%{customdata[9]}<br>test-quantile_coverage_error=%{customdata[10]}<br>step=%{customdata[11]}<extra></extra>",
         "legendgroup": "0.0001",
         "line": {
          "color": "rgba(255,255,255,0)"
         },
         "marker": {
          "color": "#636efa"
         },
         "name": "0.0001",
         "offsetgroup": "0.0001",
         "orientation": "v",
         "pointpos": 0,
         "showlegend": false,
         "type": "box",
         "x": [
          2,
          2,
          2,
          2,
          1,
          1,
          1,
          1,
          3,
          3,
          3,
          3,
          4,
          4,
          4,
          4,
          4
         ],
         "x0": " ",
         "xaxis": "x2",
         "y": [
          -1.3504708195925677,
          -1.3139507786854243,
          -1.353828446789877,
          -1.335787762278296,
          -1.4677736820056455,
          -1.4872160741959652,
          -1.4713641162275333,
          -1.4547918478365909,
          -1.2276222053350785,
          -1.3699808595122274,
          -1.2547382018015465,
          -1.2407149100785917,
          -0.9432156773377168,
          -0.9369947164319342,
          -0.4547509490289169,
          -0.4529284934342085,
          -0.4492762239842611
         ],
         "y0": " ",
         "yaxis": "y2"
        },
        {
         "alignmentgroup": "True",
         "boxpoints": "all",
         "customdata": [
          [
           "400",
           "geometric_manifold",
           "singular",
           "0.0001",
           "1",
           1.2975332300840654,
           0.0449589172241524,
           0.003864076856612,
           0.085939670164794,
           -1.202032948183263,
           0.01135,
           0
          ],
          [
           "400",
           "geometric_manifold",
           "singular",
           "0.0001",
           "0",
           1.3376280349075105,
           0.0432275050528536,
           0.0035829920298336,
           0.079688154421692,
           -1.2504645607362774,
           0.00865,
           0
          ],
          [
           "400",
           "geometric_manifold",
           "singular",
           "0.0001",
           "2",
           1.3423937474355236,
           0.0430997098929078,
           0.0035378370108007,
           0.0790117869231336,
           -1.25625269540427,
           0.00775,
           0
          ],
          [
           "400",
           "geometric_manifold",
           "singular",
           "0.0001",
           "4",
           1.3471087820980605,
           0.0434349166176631,
           0.0035197533049424,
           0.0785913280763379,
           -1.2618983172224598,
           0.01095,
           0
          ],
          [
           "400",
           "geometric_manifold",
           "singular",
           "0.0001",
           "3",
           1.3376280349075105,
           0.0432275050528536,
           0.0035829920298336,
           0.079688154421692,
           -1.2504645607362774,
           0.00865,
           0
          ],
          [
           "400",
           "geometric_manifold",
           "singular",
           "0.0001",
           "1",
           1.3311840861779416,
           0.0416251453722985,
           0.0034846826142889,
           0.0777205186209571,
           -1.254204691215526,
           0.01005,
           0
          ],
          [
           "400",
           "geometric_manifold",
           "singular",
           "0.0001",
           "0",
           1.4180833652038287,
           0.0358519954032933,
           0.0028192806053006,
           0.0630114300104906,
           -1.356098941653884,
           0.0072,
           0
          ],
          [
           "400",
           "geometric_manifold",
           "singular",
           "0.0001",
           "2",
           1.33681562373371,
           0.0408965781475321,
           0.0034273879315093,
           0.0763886999236163,
           -1.2623101833526014,
           0.009,
           0
          ],
          [
           "400",
           "geometric_manifold",
           "singular",
           "0.0001",
           "4",
           1.3311840861779416,
           0.0416251453722985,
           0.0034846826142889,
           0.0777205186209571,
           -1.254204691215526,
           0.01005,
           0
          ],
          [
           "400",
           "geometric_manifold",
           "singular",
           "0.0001",
           "3",
           1.4180833652038287,
           0.0358519954032933,
           0.0028192806053006,
           0.0630114300104906,
           -1.356098941653884,
           0.0072,
           0
          ],
          [
           "400",
           "geometric_manifold",
           "singular",
           "0.0001",
           "1",
           1.3727683164784668,
           0.0333876633887562,
           0.0029900166763219,
           0.06656515389438,
           -1.3092336035313514,
           0.00435,
           0
          ],
          [
           "400",
           "geometric_manifold",
           "singular",
           "0.0001",
           "0",
           1.3636962009367872,
           0.0336070373044935,
           0.0030451441204021,
           0.0680331084375026,
           -1.2943628210708875,
           0.0019,
           0
          ],
          [
           "400",
           "geometric_manifold",
           "singular",
           "0.0001",
           "2",
           1.371386531756729,
           0.0332661054985858,
           0.0030213800525396,
           0.0674751659908729,
           -1.306883674834893,
           0.002,
           0
          ],
          [
           "400",
           "geometric_manifold",
           "singular",
           "0.0001",
           "4",
           1.3727683164784668,
           0.0333876633887562,
           0.0029900166763219,
           0.06656515389438,
           -1.3092336035313514,
           0.00435,
           0
          ],
          [
           "400",
           "geometric_manifold",
           "singular",
           "0.0001",
           "3",
           1.3636962009367872,
           0.0336070373044935,
           0.0030451441204021,
           0.0680331084375026,
           -1.2943628210708875,
           0.0019,
           0
          ],
          [
           "400",
           "geometric_manifold",
           "singular",
           "0.0001",
           "1",
           1.3800467617978565,
           0.03862907119348,
           0.0031161106989876,
           0.0695773693348167,
           -1.3133774899937432,
           0.01045,
           0
          ],
          [
           "400",
           "geometric_manifold",
           "singular",
           "0.0001",
           "0",
           1.3608436798263284,
           0.0400599236860691,
           0.0032375462227886,
           0.0719754586845418,
           -1.2891783787680091,
           0.0111,
           0
          ],
          [
           "400",
           "geometric_manifold",
           "singular",
           "0.0001",
           "2",
           1.38849604849622,
           0.0377827941726997,
           0.003027271929607,
           0.0673597584542255,
           -1.3219155102539497,
           0.012,
           0
          ],
          [
           "400",
           "geometric_manifold",
           "singular",
           "0.0001",
           "4",
           1.3800467617978565,
           0.03862907119348,
           0.0031161106989876,
           0.0695773693348167,
           -1.3133774899937432,
           0.01045,
           0
          ],
          [
           "400",
           "geometric_manifold",
           "singular",
           "0.0001",
           "3",
           1.3608436798263284,
           0.0400599236860691,
           0.0032375462227886,
           0.0719754586845418,
           -1.2891783787680091,
           0.0111,
           0
          ]
         ],
         "fillcolor": "rgba(255,255,255,0)",
         "hoveron": "points",
         "hovertemplate": "outputscale=%{customdata[3]}<br>num_train=%{customdata[0]}<br>num_hidden=%{x}<br>test-negative_log_predictive_density=%{y}<br>model=%{customdata[1]}<br>dataset=%{customdata[2]}<br>run=%{customdata[4]}<br>test-expected_log_probability=%{customdata[5]}<br>test-mean_absolute_error=%{customdata[6]}<br>test-mean_squared_error=%{customdata[7]}<br>test-standardized_mean_squared_error=%{customdata[8]}<br>test-mean_standardized_log_loss=%{customdata[9]}<br>test-quantile_coverage_error=%{customdata[10]}<br>step=%{customdata[11]}<extra></extra>",
         "legendgroup": "0.0001",
         "line": {
          "color": "rgba(255,255,255,0)"
         },
         "marker": {
          "color": "#636efa"
         },
         "name": "0.0001",
         "offsetgroup": "0.0001",
         "orientation": "v",
         "pointpos": 0,
         "showlegend": false,
         "type": "box",
         "x": [
          4,
          4,
          4,
          4,
          4,
          2,
          2,
          2,
          2,
          2,
          1,
          1,
          1,
          1,
          1,
          3,
          3,
          3,
          3,
          3
         ],
         "x0": " ",
         "xaxis": "x3",
         "y": [
          -1.3745525878252725,
          -1.4257472007545464,
          -1.435632565855252,
          -1.4490472504269438,
          -1.4257472007545464,
          -1.4635531649027569,
          -1.57623356362204,
          -1.475899842368669,
          -1.4635531649027569,
          -1.57623356362204,
          -1.5364145742896451,
          -1.524378060721485,
          -1.5329694438912085,
          -1.5364145742896451,
          -1.524378060721485,
          -1.5387730058311788,
          -1.499926197818019,
          -1.540834593008795,
          -1.5387730058311788,
          -1.499926197818019
         ],
         "y0": " ",
         "yaxis": "y3"
        },
        {
         "alignmentgroup": "True",
         "boxpoints": "all",
         "customdata": [
          [
           "100",
           "geometric_manifold",
           "singular",
           "0.001",
           "1",
           0.3719133510163832,
           0.1301420044323267,
           0.025735435361401,
           0.5751424755137704,
           -0.2629454197648939,
           0.0157,
           0
          ],
          [
           "100",
           "geometric_manifold",
           "singular",
           "0.001",
           "0",
           0.3660518364464882,
           0.1302651775848301,
           0.0259062971261702,
           0.5801715487001828,
           -0.2566704120921318,
           0.0175,
           0
          ],
          [
           "100",
           "geometric_manifold",
           "singular",
           "0.001",
           "2",
           0.450260990358604,
           0.112585885587042,
           0.0217684086330502,
           0.485921752753853,
           -0.3822010479237103,
           0.0067499999999999,
           0
          ],
          [
           "100",
           "geometric_manifold",
           "singular",
           "0.001",
           "4",
           0.4181829842743512,
           0.1020637409569971,
           0.0205073388590016,
           0.4585477409722436,
           -0.4573997914088654,
           0.00385,
           0
          ],
          [
           "100",
           "geometric_manifold",
           "singular",
           "0.001",
           "3",
           0.3719556483025023,
           0.1296185304874395,
           0.0257620317731826,
           0.5738925545473504,
           -0.2638582270812578,
           0.01,
           0
          ],
          [
           "100",
           "geometric_manifold",
           "singular",
           "0.001",
           "1",
           0.3487961741354474,
           0.1285099168619865,
           0.0263038615330289,
           0.5867215476187176,
           -0.2846485618018469,
           0.006,
           0
          ],
          [
           "100",
           "geometric_manifold",
           "singular",
           "0.001",
           "0",
           0.4279717817643921,
           0.1225418663005648,
           0.0228347607519561,
           0.5089816743143798,
           -0.3430368933426527,
           0.0057,
           0
          ],
          [
           "100",
           "geometric_manifold",
           "singular",
           "0.001",
           "2",
           0.4371117721632788,
           0.119496665285115,
           0.022359614874231,
           0.4965847796516992,
           -0.3470094101608914,
           0.00335,
           0
          ],
          [
           "100",
           "geometric_manifold",
           "singular",
           "0.001",
           "4",
           0.3485707410384751,
           0.1285961834986557,
           0.0263500236007264,
           0.5883656163862359,
           -0.2834317043911381,
           0.0038,
           0
          ],
          [
           "100",
           "geometric_manifold",
           "singular",
           "0.001",
           "3",
           0.3443171598011592,
           0.1283117848491842,
           0.0262824561387336,
           0.5899900730371708,
           -0.2865627353037243,
           0.0026499999999999,
           0
          ],
          [
           "100",
           "geometric_manifold",
           "singular",
           "0.001",
           "1",
           0.5173106871270607,
           0.1026453622742052,
           0.0182238023332402,
           0.4061960538538397,
           -0.4360955016208875,
           0.0093,
           0
          ],
          [
           "100",
           "geometric_manifold",
           "singular",
           "0.001",
           "0",
           0.5180902600325608,
           0.1020727486778912,
           0.0181265172161767,
           0.4046851185853638,
           -0.4346378041743474,
           0.00985,
           0
          ],
          [
           "100",
           "geometric_manifold",
           "singular",
           "0.001",
           "2",
           0.5723511822053916,
           0.0932952163127978,
           0.0150464543888933,
           0.3354388695172771,
           -0.5388148876335015,
           0.01215,
           0
          ],
          [
           "100",
           "geometric_manifold",
           "singular",
           "0.001",
           "4",
           0.558517873236788,
           0.0905419060317103,
           0.0147068674984145,
           0.3273347368842897,
           -0.5658476386834489,
           0.00235,
           0
          ],
          [
           "100",
           "geometric_manifold",
           "singular",
           "0.001",
           "3",
           0.5205876855701634,
           0.1018782124969476,
           0.0180040010054788,
           0.4015729045742914,
           -0.443913701032662,
           0.0042,
           0
          ],
          [
           "100",
           "geometric_manifold",
           "singular",
           "0.001",
           "1",
           1.0819654267859518,
           0.0444073878036385,
           0.0046450419068912,
           0.1039298086206034,
           -1.0656080376083443,
           0.01595,
           0
          ],
          [
           "100",
           "geometric_manifold",
           "singular",
           "0.001",
           "0",
           1.032841112339359,
           0.0480747491894249,
           0.0051993329848638,
           0.116188646365918,
           -1.0009949217066532,
           0.01815,
           0
          ],
          [
           "100",
           "geometric_manifold",
           "singular",
           "0.001",
           "2",
           1.027426960710866,
           0.0486195127611559,
           0.00525491189001,
           0.117229592572737,
           -0.9947485579755928,
           0.01955,
           0
          ],
          [
           "100",
           "geometric_manifold",
           "singular",
           "0.001",
           "4",
           1.0562717821981975,
           0.0458662871698423,
           0.0049115578916799,
           0.1095946680059694,
           -1.030408089169796,
           0.01725,
           0
          ],
          [
           "100",
           "geometric_manifold",
           "singular",
           "0.001",
           "3",
           1.0224352700391577,
           0.0484990632779576,
           0.0052355884674587,
           0.1163519041487734,
           -0.9891693442950162,
           0.02,
           0
          ]
         ],
         "fillcolor": "rgba(255,255,255,0)",
         "hoveron": "points",
         "hovertemplate": "outputscale=%{customdata[3]}<br>num_train=%{customdata[0]}<br>num_hidden=%{x}<br>test-negative_log_predictive_density=%{y}<br>model=%{customdata[1]}<br>dataset=%{customdata[2]}<br>run=%{customdata[4]}<br>test-expected_log_probability=%{customdata[5]}<br>test-mean_absolute_error=%{customdata[6]}<br>test-mean_squared_error=%{customdata[7]}<br>test-standardized_mean_squared_error=%{customdata[8]}<br>test-mean_standardized_log_loss=%{customdata[9]}<br>test-quantile_coverage_error=%{customdata[10]}<br>step=%{customdata[11]}<extra></extra>",
         "legendgroup": "0.001",
         "line": {
          "color": "rgba(255,255,255,0)"
         },
         "marker": {
          "color": "#EF553B"
         },
         "name": "0.001",
         "offsetgroup": "0.001",
         "orientation": "v",
         "pointpos": 0,
         "showlegend": false,
         "type": "box",
         "x": [
          4,
          4,
          4,
          4,
          4,
          3,
          3,
          3,
          3,
          3,
          2,
          2,
          2,
          2,
          2,
          1,
          1,
          1,
          1,
          1
         ],
         "x0": " ",
         "xaxis": "x",
         "y": [
          -0.4114452577316151,
          -0.4079369576045074,
          -0.5266341518059338,
          -0.6098942407849748,
          -0.4121783055721731,
          -0.4248363546219396,
          -0.4823694232576536,
          -0.5004448629063519,
          -0.4239546871172598,
          -0.4287681468464012,
          -0.6412355571824714,
          -0.6374813925246433,
          -0.7382884164513923,
          -0.7563679722662364,
          -0.6466346633037446,
          -1.366567739858963,
          -1.3052774125493296,
          -1.3025453271869658,
          -1.3289618283919342,
          -1.2891006442505488
         ],
         "y0": " ",
         "yaxis": "y"
        },
        {
         "alignmentgroup": "True",
         "boxpoints": "all",
         "customdata": [
          [
           "200",
           "geometric_manifold",
           "singular",
           "0.001",
           "1",
           0.4420667816747877,
           0.1212254921291931,
           0.0229722516945483,
           0.512849752618088,
           -0.3197967728451892,
           0.01245,
           0
          ],
          [
           "200",
           "geometric_manifold",
           "singular",
           "0.001",
           "0",
           1.1478621562864624,
           0.0521866412132931,
           0.0052254948094582,
           0.116622145583883,
           -1.063482707501357,
           0.0069,
           0
          ],
          [
           "200",
           "geometric_manifold",
           "singular",
           "0.001",
           "2",
           0.4411087359093506,
           0.121443923530452,
           0.0229682597585451,
           0.5130448185077395,
           -0.3180425830302508,
           0.01455,
           0
          ],
          [
           "200",
           "geometric_manifold",
           "singular",
           "0.001",
           "4",
           0.436970733309082,
           0.121669413219213,
           0.0231610963744337,
           0.5151941388183634,
           -0.3158055587032028,
           0.0172,
           0
          ],
          [
           "200",
           "geometric_manifold",
           "singular",
           "0.001",
           "3",
           1.145169060702571,
           0.0519066121295955,
           0.0052375190193718,
           0.1165407650269828,
           -1.0569780898560002,
           0.009,
           0
          ],
          [
           "200",
           "geometric_manifold",
           "singular",
           "0.001",
           "1",
           1.1932114557028533,
           0.0482842166153564,
           0.0045574585730203,
           0.1017760055840718,
           -1.1182263792559493,
           0.0115,
           0
          ],
          [
           "200",
           "geometric_manifold",
           "singular",
           "0.001",
           "0",
           1.148136688662238,
           0.0511688774798071,
           0.0050234825327031,
           0.1122370657459032,
           -1.06155285412203,
           0.01355,
           0
          ],
          [
           "200",
           "geometric_manifold",
           "singular",
           "0.001",
           "2",
           1.1806575304284028,
           0.0499023273315003,
           0.0047423080169935,
           0.1055218372248629,
           -1.1054083466851046,
           0.00895,
           0
          ],
          [
           "200",
           "geometric_manifold",
           "singular",
           "0.001",
           "4",
           1.1639720472908772,
           0.0502708724594745,
           0.0048751077251145,
           0.1088749749649221,
           -1.0821954512914786,
           0.01175,
           0
          ],
          [
           "200",
           "geometric_manifold",
           "singular",
           "0.001",
           "3",
           1.1440164671084223,
           0.0517806239424812,
           0.0051079840066116,
           0.1140557152835942,
           -1.0560986245733228,
           0.0143,
           0
          ],
          [
           "200",
           "geometric_manifold",
           "singular",
           "0.001",
           "1",
           1.2168518484247826,
           0.0388676779249414,
           0.0038146855052651,
           0.0847641253358342,
           -1.1668173671887585,
           0.01215,
           0
          ],
          [
           "200",
           "geometric_manifold",
           "singular",
           "0.001",
           "0",
           1.222685665255766,
           0.0384640198974919,
           0.0038024179545351,
           0.0847660318792295,
           -1.1755843402309518,
           0.00895,
           0
          ],
          [
           "200",
           "geometric_manifold",
           "singular",
           "0.001",
           "2",
           1.1829050062835504,
           0.0401691875652212,
           0.0040408739710844,
           0.0899204677532891,
           -1.1230377037220236,
           0.01675,
           0
          ],
          [
           "200",
           "geometric_manifold",
           "singular",
           "0.001",
           "4",
           1.2037381746164382,
           0.0393989135526465,
           0.0039171538231553,
           0.0875239256228297,
           -1.1479066478120927,
           0.0154,
           0
          ],
          [
           "200",
           "geometric_manifold",
           "singular",
           "0.001",
           "3",
           1.2308128747636708,
           0.0386599082834035,
           0.0037488978842041,
           0.083573077832274,
           -1.1854745280054009,
           0.00855,
           0
          ],
          [
           "200",
           "geometric_manifold",
           "singular",
           "0.001",
           "1",
           1.2120517779696598,
           0.0488764073142745,
           0.0044906696256691,
           0.1001309838511128,
           -1.1376383776035577,
           0.01185,
           0
          ],
          [
           "200",
           "geometric_manifold",
           "singular",
           "0.001",
           "0",
           0.9488243235206534,
           0.0681322243711122,
           0.0078883823880675,
           0.1759668794042259,
           -0.8413373314163449,
           0.02205,
           0
          ],
          [
           "200",
           "geometric_manifold",
           "singular",
           "0.001",
           "2",
           0.4436029439830604,
           0.1207418624643929,
           0.0226710852602514,
           0.5066173047266209,
           -0.3267924413658529,
           0.0147,
           0
          ],
          [
           "200",
           "geometric_manifold",
           "singular",
           "0.001",
           "4",
           0.5594800626879548,
           0.1069549961830322,
           0.0181682753550571,
           0.4061522735312197,
           -0.4380915547335481,
           0.01065,
           0
          ],
          [
           "200",
           "geometric_manifold",
           "singular",
           "0.001",
           "3",
           0.8789316194807281,
           0.0722233757089849,
           0.0090913130595343,
           0.2029072263197577,
           -0.7783601992801865,
           0.0147,
           0
          ]
         ],
         "fillcolor": "rgba(255,255,255,0)",
         "hoveron": "points",
         "hovertemplate": "outputscale=%{customdata[3]}<br>num_train=%{customdata[0]}<br>num_hidden=%{x}<br>test-negative_log_predictive_density=%{y}<br>model=%{customdata[1]}<br>dataset=%{customdata[2]}<br>run=%{customdata[4]}<br>test-expected_log_probability=%{customdata[5]}<br>test-mean_absolute_error=%{customdata[6]}<br>test-mean_squared_error=%{customdata[7]}<br>test-standardized_mean_squared_error=%{customdata[8]}<br>test-mean_standardized_log_loss=%{customdata[9]}<br>test-quantile_coverage_error=%{customdata[10]}<br>step=%{customdata[11]}<extra></extra>",
         "legendgroup": "0.001",
         "line": {
          "color": "rgba(255,255,255,0)"
         },
         "marker": {
          "color": "#EF553B"
         },
         "name": "0.001",
         "offsetgroup": "0.001",
         "orientation": "v",
         "pointpos": 0,
         "showlegend": false,
         "type": "box",
         "x": [
          3,
          3,
          3,
          3,
          3,
          2,
          2,
          2,
          2,
          2,
          1,
          1,
          1,
          1,
          1,
          4,
          4,
          4,
          4,
          4
         ],
         "x0": " ",
         "xaxis": "x2",
         "y": [
          -0.468291812658428,
          -1.2526565220565404,
          -0.4675671279248018,
          -0.4627452002600279,
          -1.2335736994110154,
          -1.3224770130903931,
          -1.258929293913608,
          -1.3071008403809392,
          -1.2823120701892932,
          -1.2510945828389537,
          -1.4313573043731815,
          -1.4472149506165402,
          -1.3874821882594055,
          -1.415174093767421,
          -1.4549431680957732,
          -1.3375590270993174,
          -1.0183013686490423,
          -0.4732626612807248,
          -0.589757768071944,
          -0.961951603171703
         ],
         "y0": " ",
         "yaxis": "y2"
        },
        {
         "alignmentgroup": "True",
         "boxpoints": "all",
         "customdata": [
          [
           "400",
           "geometric_manifold",
           "singular",
           "0.001",
           "1",
           1.3312464415285088,
           0.0433643116434232,
           0.003596101999509,
           0.0801724999359324,
           -1.2403255641489146,
           0.0121,
           0
          ],
          [
           "400",
           "geometric_manifold",
           "singular",
           "0.001",
           "0",
           1.321170935235425,
           0.0440330777035664,
           0.003712779044752,
           0.0825747049918936,
           -1.2300434862171783,
           0.00925,
           0
          ],
          [
           "400",
           "geometric_manifold",
           "singular",
           "0.001",
           "2",
           1.321170935235425,
           0.0440330777035664,
           0.003712779044752,
           0.0825747049918936,
           -1.2300434862171783,
           0.00925,
           0
          ],
          [
           "400",
           "geometric_manifold",
           "singular",
           "0.001",
           "4",
           1.330774049638299,
           0.0442826041981061,
           0.0036623313248612,
           0.0817749023126862,
           -1.2384130257466766,
           0.01175,
           0
          ],
          [
           "400",
           "geometric_manifold",
           "singular",
           "0.001",
           "3",
           1.321170935235425,
           0.0440330777035664,
           0.003712779044752,
           0.0825747049918936,
           -1.2300434862171783,
           0.00925,
           0
          ],
          [
           "400",
           "geometric_manifold",
           "singular",
           "0.001",
           "1",
           1.343344691033289,
           0.0347327078730594,
           0.0031491684084659,
           0.0701082644150064,
           -1.2722579787090784,
           0.0064,
           0
          ],
          [
           "400",
           "geometric_manifold",
           "singular",
           "0.001",
           "0",
           1.5248439931534,
           0.0302757900123664,
           0.0021586910930823,
           0.0482284119936328,
           -1.448166231618803,
           0.0184,
           0
          ],
          [
           "400",
           "geometric_manifold",
           "singular",
           "0.001",
           "2",
           1.3703979703851794,
           0.0339494567176656,
           0.0030000051083275,
           0.0669978086628724,
           -1.299696901605359,
           0.0054,
           0
          ],
          [
           "400",
           "geometric_manifold",
           "singular",
           "0.001",
           "4",
           1.343344691033289,
           0.0347327078730594,
           0.0031491684084659,
           0.0701082644150064,
           -1.2722579787090784,
           0.0064,
           0
          ],
          [
           "400",
           "geometric_manifold",
           "singular",
           "0.001",
           "3",
           1.5248439931534,
           0.0302757900123664,
           0.0021586910930823,
           0.0482284119936328,
           -1.448166231618803,
           0.0184,
           0
          ],
          [
           "400",
           "geometric_manifold",
           "singular",
           "0.001",
           "1",
           1.484924095116768,
           0.0353525873543942,
           0.0025505809116236,
           0.0568868081194111,
           -1.3935621388711137,
           0.01875,
           0
          ],
          [
           "400",
           "geometric_manifold",
           "singular",
           "0.001",
           "0",
           1.3076610340373869,
           0.0424342298196244,
           0.003641335808867,
           0.0813845120750779,
           -1.217375721404214,
           0.013,
           0
          ],
          [
           "400",
           "geometric_manifold",
           "singular",
           "0.001",
           "2",
           1.4880950535916977,
           0.0343680724811086,
           0.0024901538685561,
           0.0554998793337637,
           -1.4061361040972558,
           0.02005,
           0
          ],
          [
           "400",
           "geometric_manifold",
           "singular",
           "0.001",
           "4",
           1.484924095116768,
           0.0353525873543942,
           0.0025505809116236,
           0.0568868081194111,
           -1.3935621388711137,
           0.01875,
           0
          ],
          [
           "400",
           "geometric_manifold",
           "singular",
           "0.001",
           "3",
           1.3076610340373869,
           0.0424342298196244,
           0.003641335808867,
           0.0813845120750779,
           -1.217375721404214,
           0.013,
           0
          ],
          [
           "400",
           "geometric_manifold",
           "singular",
           "0.001",
           "1",
           1.238851604578204,
           0.0474775991776058,
           0.0043625396061149,
           0.0974079738280924,
           -1.1432205830991358,
           0.00895,
           0
          ],
          [
           "400",
           "geometric_manifold",
           "singular",
           "0.001",
           "0",
           1.3549169279504905,
           0.040654759973469,
           0.0032886028769154,
           0.0731105238996128,
           -1.2814268080215965,
           0.0113,
           0
          ],
          [
           "400",
           "geometric_manifold",
           "singular",
           "0.001",
           "2",
           1.3325727023990093,
           0.0415201677257552,
           0.0034374503588815,
           0.0764866293008277,
           -1.255551375039602,
           0.0137,
           0
          ],
          [
           "400",
           "geometric_manifold",
           "singular",
           "0.001",
           "4",
           1.238851604578204,
           0.0474775991776058,
           0.0043625396061149,
           0.0974079738280924,
           -1.1432205830991358,
           0.00895,
           0
          ],
          [
           "400",
           "geometric_manifold",
           "singular",
           "0.001",
           "3",
           1.3549169279504905,
           0.040654759973469,
           0.0032886028769154,
           0.0731105238996128,
           -1.2814268080215965,
           0.0113,
           0
          ]
         ],
         "fillcolor": "rgba(255,255,255,0)",
         "hoveron": "points",
         "hovertemplate": "outputscale=%{customdata[3]}<br>num_train=%{customdata[0]}<br>num_hidden=%{x}<br>test-negative_log_predictive_density=%{y}<br>model=%{customdata[1]}<br>dataset=%{customdata[2]}<br>run=%{customdata[4]}<br>test-expected_log_probability=%{customdata[5]}<br>test-mean_absolute_error=%{customdata[6]}<br>test-mean_squared_error=%{customdata[7]}<br>test-standardized_mean_squared_error=%{customdata[8]}<br>test-mean_standardized_log_loss=%{customdata[9]}<br>test-quantile_coverage_error=%{customdata[10]}<br>step=%{customdata[11]}<extra></extra>",
         "legendgroup": "0.001",
         "line": {
          "color": "rgba(255,255,255,0)"
         },
         "marker": {
          "color": "#EF553B"
         },
         "name": "0.001",
         "offsetgroup": "0.001",
         "orientation": "v",
         "pointpos": 0,
         "showlegend": false,
         "type": "box",
         "x": [
          4,
          4,
          4,
          4,
          4,
          1,
          1,
          1,
          1,
          1,
          2,
          2,
          2,
          2,
          2,
          3,
          3,
          3,
          3,
          3
         ],
         "x0": " ",
         "xaxis": "x3",
         "y": [
          -1.4191955924991349,
          -1.406948855686432,
          -1.406948855686432,
          -1.422133882190226,
          -1.406948855686432,
          -1.5062344327334791,
          -1.6618946616332235,
          -1.5322681101051423,
          -1.5062344327334791,
          -1.6618946616332235,
          -1.5795743957132893,
          -1.4228483928349394,
          -1.6033908266681376,
          -1.5795743957132893,
          -1.4228483928349394,
          -1.3493760198734672,
          -1.493805305556152,
          -1.4774261643065822,
          -1.3493760198734672,
          -1.493805305556152
         ],
         "y0": " ",
         "yaxis": "y3"
        },
        {
         "alignmentgroup": "True",
         "boxpoints": "all",
         "customdata": [
          [
           "100",
           "geometric_manifold",
           "singular",
           "0.01",
           "1",
           0.4362797318425672,
           0.1251865209854123,
           0.0234172484237594,
           0.523335006345458,
           -0.3220476967282431,
           0.00905,
           0
          ],
          [
           "100",
           "geometric_manifold",
           "singular",
           "0.01",
           "0",
           0.4399648547409542,
           0.124063621208812,
           0.0231252721083481,
           0.5178904907895989,
           -0.3252098522790677,
           0.0138,
           0
          ],
          [
           "100",
           "geometric_manifold",
           "singular",
           "0.01",
           "2",
           0.4278888862553702,
           0.1188750677002636,
           0.0235664921720349,
           0.526059179406841,
           -0.3206049521032444,
           0.0022499999999999,
           0
          ],
          [
           "100",
           "geometric_manifold",
           "singular",
           "0.01",
           "4",
           0.5879524692017735,
           0.0900371860059916,
           0.0159041890924186,
           0.3556204942272556,
           -0.5703231889840075,
           0.0092,
           0
          ],
          [
           "100",
           "geometric_manifold",
           "singular",
           "0.01",
           "3",
           0.4552251627934587,
           0.119208757247247,
           0.0223808571827054,
           0.4985712079942613,
           -0.3426287858619304,
           0.01125,
           0
          ],
          [
           "100",
           "geometric_manifold",
           "singular",
           "0.01",
           "1",
           0.4604240561412551,
           0.1142136272076372,
           0.0214936507436374,
           0.4790787320521724,
           -0.3501769089474474,
           0.0182,
           0
          ],
          [
           "100",
           "geometric_manifold",
           "singular",
           "0.01",
           "0",
           0.4700029874376716,
           0.1127307355459771,
           0.0210043845032951,
           0.4689351921362335,
           -0.3609377372301158,
           0.0145,
           0
          ],
          [
           "100",
           "geometric_manifold",
           "singular",
           "0.01",
           "2",
           0.465645249127727,
           0.1133103343002405,
           0.0210911581604627,
           0.4701967697704282,
           -0.3567291804947698,
           0.01945,
           0
          ],
          [
           "100",
           "geometric_manifold",
           "singular",
           "0.01",
           "4",
           0.4700093580331974,
           0.1135290729281124,
           0.0212682407518911,
           0.4753861242028604,
           -0.3596725049443246,
           0.00955,
           0
          ],
          [
           "100",
           "geometric_manifold",
           "singular",
           "0.01",
           "3",
           0.4701257861688698,
           0.1133506572462636,
           0.0210700823140285,
           0.469960768825163,
           -0.3622148249756562,
           0.01365,
           0
          ],
          [
           "100",
           "geometric_manifold",
           "singular",
           "0.01",
           "1",
           1.0005791251046223,
           0.0509300070097912,
           0.0055463899048958,
           0.1240968871552871,
           -0.9562949764513088,
           0.02465,
           0
          ],
          [
           "100",
           "geometric_manifold",
           "singular",
           "0.01",
           "0",
           0.9088334073162352,
           0.0592330387780907,
           0.006743082116645,
           0.1506865564771548,
           -0.8445555141351893,
           0.03185,
           0
          ],
          [
           "100",
           "geometric_manifold",
           "singular",
           "0.01",
           "2",
           0.9914095967378436,
           0.0520850311416381,
           0.0056953157574367,
           0.1270543749908844,
           -0.9480577328856308,
           0.02415,
           0
          ],
          [
           "100",
           "geometric_manifold",
           "singular",
           "0.01",
           "4",
           0.9586901165532604,
           0.0540546097878789,
           0.0059838796703062,
           0.1340089908893253,
           -0.9020579545960926,
           0.0292,
           0
          ],
          [
           "100",
           "geometric_manifold",
           "singular",
           "0.01",
           "3",
           0.9396218683655584,
           0.0558910091337062,
           0.0062504151243403,
           0.1389046725038515,
           -0.8859971668712152,
           0.02945,
           0
          ],
          [
           "100",
           "geometric_manifold",
           "singular",
           "0.01",
           "1",
           0.3846105811846042,
           0.1254748866932354,
           0.0251086243879144,
           0.560061150753703,
           -0.2981354200491411,
           0.00735,
           0
          ],
          [
           "100",
           "geometric_manifold",
           "singular",
           "0.01",
           "0",
           0.390068319087009,
           0.1255991955906059,
           0.0249654739040796,
           0.5564747905958191,
           -0.2988829379534514,
           0.0095,
           0
          ],
          [
           "100",
           "geometric_manifold",
           "singular",
           "0.01",
           "2",
           0.3957499035701667,
           0.120702543232354,
           0.0241359370680701,
           0.5360351266357435,
           -0.3095323367679392,
           0.01205,
           0
          ],
          [
           "100",
           "geometric_manifold",
           "singular",
           "0.01",
           "4",
           0.3826544314316535,
           0.1262994047634328,
           0.0253176695693175,
           0.5639624282433331,
           -0.2959201395669336,
           0.0044499999999999,
           0
          ],
          [
           "100",
           "geometric_manifold",
           "singular",
           "0.01",
           "3",
           0.3949864098495767,
           0.1246655995889269,
           0.0247420844514333,
           0.5554117216267274,
           -0.29817975544041,
           0.01255,
           0
          ]
         ],
         "fillcolor": "rgba(255,255,255,0)",
         "hoveron": "points",
         "hovertemplate": "outputscale=%{customdata[3]}<br>num_train=%{customdata[0]}<br>num_hidden=%{x}<br>test-negative_log_predictive_density=%{y}<br>model=%{customdata[1]}<br>dataset=%{customdata[2]}<br>run=%{customdata[4]}<br>test-expected_log_probability=%{customdata[5]}<br>test-mean_absolute_error=%{customdata[6]}<br>test-mean_squared_error=%{customdata[7]}<br>test-standardized_mean_squared_error=%{customdata[8]}<br>test-mean_standardized_log_loss=%{customdata[9]}<br>test-quantile_coverage_error=%{customdata[10]}<br>step=%{customdata[11]}<extra></extra>",
         "legendgroup": "0.01",
         "line": {
          "color": "rgba(255,255,255,0)"
         },
         "marker": {
          "color": "#00cc96"
         },
         "name": "0.01",
         "offsetgroup": "0.01",
         "orientation": "v",
         "pointpos": 0,
         "showlegend": false,
         "type": "box",
         "x": [
          4,
          4,
          4,
          4,
          4,
          2,
          2,
          2,
          2,
          2,
          1,
          1,
          1,
          1,
          1,
          3,
          3,
          3,
          3,
          3
         ],
         "x0": " ",
         "xaxis": "x",
         "y": [
          -0.4697320590526006,
          -0.4739926375725325,
          -0.4742640230444919,
          -0.7464638581449605,
          -0.4929118911580055,
          -0.5316989218595214,
          -0.5494348497264857,
          -0.5438534431505252,
          -0.5447535178127526,
          -0.5498351453716079,
          -1.2587365780042106,
          -1.1405307533211375,
          -1.2546049549299394,
          -1.2021509667131711,
          -1.18366388301292,
          -0.4425742649674878,
          -0.4471895614873254,
          -0.4714981171955972,
          -0.4398064577215751,
          -0.4459772993897056
         ],
         "y0": " ",
         "yaxis": "y"
        },
        {
         "alignmentgroup": "True",
         "boxpoints": "all",
         "customdata": [
          [
           "200",
           "geometric_manifold",
           "singular",
           "0.01",
           "1",
           0.9143072239283038,
           0.0722615401847417,
           0.0085756277698123,
           0.1914487373188922,
           -0.7977100621275428,
           0.024,
           0
          ],
          [
           "200",
           "geometric_manifold",
           "singular",
           "0.01",
           "0",
           0.895642789717028,
           0.0741686952940895,
           0.0089475319337783,
           0.1996902513248751,
           -0.7795824307112283,
           0.0239,
           0
          ],
          [
           "200",
           "geometric_manifold",
           "singular",
           "0.01",
           "2",
           0.8974620123735686,
           0.0738013559016475,
           0.0088586442208976,
           0.1978766160045806,
           -0.7803827971432965,
           0.02415,
           0
          ],
          [
           "200",
           "geometric_manifold",
           "singular",
           "0.01",
           "4",
           0.8509564216179515,
           0.0773008832332282,
           0.0095081724019355,
           0.2114992577708436,
           -0.7342236907340054,
           0.03375,
           0
          ],
          [
           "200",
           "geometric_manifold",
           "singular",
           "0.01",
           "3",
           0.9189178811346173,
           0.0726123975480081,
           0.0085192237285014,
           0.1895624334887212,
           -0.8035245795662537,
           0.02585,
           0
          ],
          [
           "200",
           "geometric_manifold",
           "singular",
           "0.01",
           "1",
           1.1613200137744433,
           0.0508347085719246,
           0.0049253365395813,
           0.1099913627571705,
           -1.08190669292336,
           0.01195,
           0
          ],
          [
           "200",
           "geometric_manifold",
           "singular",
           "0.01",
           "0",
           1.1147893148686487,
           0.0533139447199119,
           0.0053804250581458,
           0.1202120475309107,
           -1.0225949856896204,
           0.01505,
           0
          ],
          [
           "200",
           "geometric_manifold",
           "singular",
           "0.01",
           "2",
           1.1698561414377144,
           0.0507488474847072,
           0.0048842336849838,
           0.1086798474557544,
           -1.0922719631632192,
           0.00985,
           0
          ],
          [
           "200",
           "geometric_manifold",
           "singular",
           "0.01",
           "4",
           1.133488970969405,
           0.0523465360743908,
           0.0052263196220448,
           0.1167185322033975,
           -1.0462075812659477,
           0.01295,
           0
          ],
          [
           "200",
           "geometric_manifold",
           "singular",
           "0.01",
           "3",
           1.13174520654695,
           0.0526771638600197,
           0.0052629470960651,
           0.1175158721649183,
           -1.0420552229157998,
           0.015,
           0
          ],
          [
           "200",
           "geometric_manifold",
           "singular",
           "0.01",
           "1",
           1.16944041082048,
           0.0415400184342706,
           0.0041474855375087,
           0.0921591002573385,
           -1.106300547570326,
           0.0188,
           0
          ],
          [
           "200",
           "geometric_manifold",
           "singular",
           "0.01",
           "0",
           1.2035738238165348,
           0.0398574086119297,
           0.003962794172665,
           0.0883412452779711,
           -1.1510273816996706,
           0.01255,
           0
          ],
          [
           "200",
           "geometric_manifold",
           "singular",
           "0.01",
           "2",
           1.1798860045490107,
           0.0410793183481462,
           0.0040907203190948,
           0.0910296849575264,
           -1.1193924326428006,
           0.0175,
           0
          ],
          [
           "200",
           "geometric_manifold",
           "singular",
           "0.01",
           "4",
           1.1754918437087922,
           0.0412829847918957,
           0.0041372943796215,
           0.0924426922989858,
           -1.1122332818904492,
           0.0182,
           0
          ],
          [
           "200",
           "geometric_manifold",
           "singular",
           "0.01",
           "3",
           1.1687300249448973,
           0.0419334251282429,
           0.0041645448751971,
           0.0928389739441342,
           -1.104043183864292,
           0.01805,
           0
          ],
          [
           "200",
           "geometric_manifold",
           "singular",
           "0.01",
           "1",
           0.963590779442954,
           0.0646920712933237,
           0.007539212645079,
           0.1681060604635413,
           -0.8548749764070495,
           0.01945,
           0
          ],
          [
           "200",
           "geometric_manifold",
           "singular",
           "0.01",
           "0",
           0.899995215894343,
           0.0744659350423957,
           0.0089530999623646,
           0.1997176333331063,
           -0.7819714853178172,
           0.02325,
           0
          ],
          [
           "200",
           "geometric_manifold",
           "singular",
           "0.01",
           "2",
           0.9051774045243948,
           0.0734983578071674,
           0.0086998552219831,
           0.1944105080756969,
           -0.7889531476469822,
           0.025,
           0
          ],
          [
           "200",
           "geometric_manifold",
           "singular",
           "0.01",
           "4",
           1.085085406742308,
           0.0582416043074302,
           0.0060388585226291,
           0.134998841142976,
           -0.9810230843203088,
           0.01715,
           0
          ],
          [
           "200",
           "geometric_manifold",
           "singular",
           "0.01",
           "3",
           1.03963587815125,
           0.0601207924368146,
           0.0064286097423458,
           0.1434788752042361,
           -0.9344231209582804,
           0.0223,
           0
          ]
         ],
         "fillcolor": "rgba(255,255,255,0)",
         "hoveron": "points",
         "hovertemplate": "outputscale=%{customdata[3]}<br>num_train=%{customdata[0]}<br>num_hidden=%{x}<br>test-negative_log_predictive_density=%{y}<br>model=%{customdata[1]}<br>dataset=%{customdata[2]}<br>run=%{customdata[4]}<br>test-expected_log_probability=%{customdata[5]}<br>test-mean_absolute_error=%{customdata[6]}<br>test-mean_squared_error=%{customdata[7]}<br>test-standardized_mean_squared_error=%{customdata[8]}<br>test-mean_standardized_log_loss=%{customdata[9]}<br>test-quantile_coverage_error=%{customdata[10]}<br>step=%{customdata[11]}<extra></extra>",
         "legendgroup": "0.01",
         "line": {
          "color": "rgba(255,255,255,0)"
         },
         "marker": {
          "color": "#00cc96"
         },
         "name": "0.01",
         "offsetgroup": "0.01",
         "orientation": "v",
         "pointpos": 0,
         "showlegend": false,
         "type": "box",
         "x": [
          3,
          3,
          3,
          3,
          3,
          2,
          2,
          2,
          2,
          2,
          1,
          1,
          1,
          1,
          1,
          4,
          4,
          4,
          4,
          4
         ],
         "x0": " ",
         "xaxis": "x2",
         "y": [
          -0.960076533963095,
          -0.946588247130998,
          -0.954463037733029,
          -0.8937700707264536,
          -0.971005738430587,
          -1.2901800109282568,
          -1.2188857641095374,
          -1.2997161407625544,
          -1.2501613836403322,
          -1.2396311431340803,
          -1.3691729910505706,
          -1.4251981247036112,
          -1.387692442344437,
          -1.3799204717077358,
          -1.370434109054012,
          -1.028729566956616,
          -0.9423072994358564,
          -0.9586355413418772,
          -1.158376445455637,
          -1.1118803943223097
         ],
         "y0": " ",
         "yaxis": "y2"
        },
        {
         "alignmentgroup": "True",
         "boxpoints": "all",
         "customdata": [
          [
           "400",
           "geometric_manifold",
           "singular",
           "0.01",
           "1",
           1.6115663379638048,
           0.030177027227445,
           0.0020005129573194,
           0.0445363579160623,
           -1.5268509779839958,
           0.0177,
           0
          ],
          [
           "400",
           "geometric_manifold",
           "singular",
           "0.01",
           "0",
           1.5931289468853524,
           0.0302695882591448,
           0.0020026395192699,
           0.0447419846774688,
           -1.5003326767081135,
           0.0219,
           0
          ],
          [
           "400",
           "geometric_manifold",
           "singular",
           "0.01",
           "2",
           1.6252090498053464,
           0.0298804588829584,
           0.001942184487384,
           0.0433739610351178,
           -1.5379783610913826,
           0.02,
           0
          ],
          [
           "400",
           "geometric_manifold",
           "singular",
           "0.01",
           "4",
           1.6115663379638048,
           0.030177027227445,
           0.0020005129573194,
           0.0445363579160623,
           -1.5268509779839958,
           0.0177,
           0
          ],
          [
           "400",
           "geometric_manifold",
           "singular",
           "0.01",
           "3",
           1.5931289468853524,
           0.0302695882591448,
           0.0020026395192699,
           0.0447419846774688,
           -1.5003326767081135,
           0.0219,
           0
          ],
          [
           "400",
           "geometric_manifold",
           "singular",
           "0.01",
           "1",
           1.4083412204861627,
           0.0402140469536263,
           0.0031271178227951,
           0.0697168360302131,
           -1.3106102657582772,
           0.0146,
           0
          ],
          [
           "400",
           "geometric_manifold",
           "singular",
           "0.01",
           "0",
           1.3784609100789402,
           0.0410923556222612,
           0.0032430916546628,
           0.0721285412941524,
           -1.277955101877542,
           0.02085,
           0
          ],
          [
           "400",
           "geometric_manifold",
           "singular",
           "0.01",
           "2",
           1.3784609100789402,
           0.0410923556222612,
           0.0032430916546628,
           0.0721285412941524,
           -1.277955101877542,
           0.02085,
           0
          ],
          [
           "400",
           "geometric_manifold",
           "singular",
           "0.01",
           "4",
           1.554080469127858,
           0.0344224542350665,
           0.0023367149451465,
           0.0521756824880372,
           -1.4613129584789588,
           0.0166,
           0
          ],
          [
           "400",
           "geometric_manifold",
           "singular",
           "0.01",
           "3",
           1.3785517058086385,
           0.0410753021080511,
           0.0032423170053072,
           0.0721113125710733,
           -1.2780391495487835,
           0.0209,
           0
          ],
          [
           "400",
           "geometric_manifold",
           "singular",
           "0.01",
           "1",
           1.5755019805750958,
           0.03371112075958,
           0.0022625221440329,
           0.0505182113378463,
           -1.4782629436698986,
           0.0164,
           0
          ],
          [
           "400",
           "geometric_manifold",
           "singular",
           "0.01",
           "0",
           1.520139256842051,
           0.0359170976617526,
           0.0025265664643709,
           0.0561693232022609,
           -1.4246924342714158,
           0.0161,
           0
          ],
          [
           "400",
           "geometric_manifold",
           "singular",
           "0.01",
           "2",
           1.5650773907699558,
           0.0333937735785481,
           0.0022924362460639,
           0.0510089464697089,
           -1.4674491080318746,
           0.0173,
           0
          ],
          [
           "400",
           "geometric_manifold",
           "singular",
           "0.01",
           "4",
           1.5755019805750958,
           0.03371112075958,
           0.0022625221440329,
           0.0505182113378463,
           -1.4782629436698986,
           0.0164,
           0
          ],
          [
           "400",
           "geometric_manifold",
           "singular",
           "0.01",
           "3",
           1.520139256842051,
           0.0359170976617526,
           0.0025265664643709,
           0.0561693232022609,
           -1.4246924342714158,
           0.0161,
           0
          ],
          [
           "400",
           "geometric_manifold",
           "singular",
           "0.01",
           "1",
           1.3557673884742156,
           0.039917340784824,
           0.0032337347616824,
           0.0721235103966164,
           -1.2792691533106562,
           0.0138,
           0
          ],
          [
           "400",
           "geometric_manifold",
           "singular",
           "0.01",
           "0",
           1.3457758158141402,
           0.0402941559980299,
           0.0033196072511393,
           0.0741938207832926,
           -1.2650808806634974,
           0.0131,
           0
          ],
          [
           "400",
           "geometric_manifold",
           "singular",
           "0.01",
           "2",
           1.385774140189868,
           0.0382908694033379,
           0.00304208257095,
           0.0678011177313196,
           -1.311014622130715,
           0.0148,
           0
          ],
          [
           "400",
           "geometric_manifold",
           "singular",
           "0.01",
           "4",
           1.3557673884742156,
           0.039917340784824,
           0.0032337347616824,
           0.0721235103966164,
           -1.2792691533106562,
           0.0138,
           0
          ],
          [
           "400",
           "geometric_manifold",
           "singular",
           "0.01",
           "3",
           1.3457758158141402,
           0.0402941559980299,
           0.0033196072511393,
           0.0741938207832926,
           -1.2650808806634974,
           0.0131,
           0
          ]
         ],
         "fillcolor": "rgba(255,255,255,0)",
         "hoveron": "points",
         "hovertemplate": "outputscale=%{customdata[3]}<br>num_train=%{customdata[0]}<br>num_hidden=%{x}<br>test-negative_log_predictive_density=%{y}<br>model=%{customdata[1]}<br>dataset=%{customdata[2]}<br>run=%{customdata[4]}<br>test-expected_log_probability=%{customdata[5]}<br>test-mean_absolute_error=%{customdata[6]}<br>test-mean_squared_error=%{customdata[7]}<br>test-standardized_mean_squared_error=%{customdata[8]}<br>test-mean_standardized_log_loss=%{customdata[9]}<br>test-quantile_coverage_error=%{customdata[10]}<br>step=%{customdata[11]}<extra></extra>",
         "legendgroup": "0.01",
         "line": {
          "color": "rgba(255,255,255,0)"
         },
         "marker": {
          "color": "#00cc96"
         },
         "name": "0.01",
         "offsetgroup": "0.01",
         "orientation": "v",
         "pointpos": 0,
         "showlegend": false,
         "type": "box",
         "x": [
          1,
          1,
          1,
          1,
          1,
          4,
          4,
          4,
          4,
          4,
          3,
          3,
          3,
          3,
          3,
          2,
          2,
          2,
          2,
          2
         ],
         "x0": " ",
         "xaxis": "x3",
         "y": [
          -1.710016878451586,
          -1.6860843475607372,
          -1.7227505654651112,
          -1.710016878451586,
          -1.6860843475607372,
          -1.484359161382743,
          -1.460860608485478,
          -1.460860608485478,
          -1.6423837373356904,
          -1.4608800899689238,
          -1.6543010570807717,
          -1.6060926564470717,
          -1.6424234576647052,
          -1.6543010570807717,
          -1.6060926564470717,
          -1.4960716813255392,
          -1.4858016666044698,
          -1.5291296568362585,
          -1.4960716813255392,
          -1.4858016666044698
         ],
         "y0": " ",
         "yaxis": "y3"
        },
        {
         "alignmentgroup": "True",
         "boxpoints": "all",
         "customdata": [
          [
           "100",
           "geometric_manifold",
           "singular",
           "0.1",
           "1",
           0.8464706059297874,
           0.0687353412880933,
           0.008080304642852,
           0.1807915906812167,
           -0.7689441654495038,
           0.03475,
           0
          ],
          [
           "100",
           "geometric_manifold",
           "singular",
           "0.1",
           "0",
           0.8486259543148601,
           0.0689248717040758,
           0.0081054643629463,
           0.1811314903737757,
           -0.7740593293201679,
           0.03365,
           0
          ],
          [
           "100",
           "geometric_manifold",
           "singular",
           "0.1",
           "2",
           0.8169111020602818,
           0.0718272134016152,
           0.0087325663019043,
           0.1948111045653906,
           -0.7371808048641736,
           0.03475,
           0
          ],
          [
           "100",
           "geometric_manifold",
           "singular",
           "0.1",
           "4",
           0.840439759364428,
           0.0677878581827876,
           0.0081996417088561,
           0.1829637419874984,
           -0.7683045088332924,
           0.0314,
           0
          ],
          [
           "100",
           "geometric_manifold",
           "singular",
           "0.1",
           "3",
           0.7559157248581331,
           0.077839697407049,
           0.0097998187655154,
           0.2177840334028497,
           -0.6686633680295785,
           0.03805,
           0
          ],
          [
           "100",
           "geometric_manifold",
           "singular",
           "0.1",
           "1",
           0.4379613993926978,
           0.1142355073944447,
           0.0228256273908802,
           0.5091376949095165,
           -0.3277402418011451,
           0.0033,
           0
          ],
          [
           "100",
           "geometric_manifold",
           "singular",
           "0.1",
           "0",
           0.4669879163245354,
           0.117219829481736,
           0.0209139697576946,
           0.4661676756529996,
           -0.3551770618919015,
           0.03565,
           0
          ],
          [
           "100",
           "geometric_manifold",
           "singular",
           "0.1",
           "2",
           0.4293138889315763,
           0.1136472681349936,
           0.0230412822867602,
           0.5117239340490604,
           -0.3215852213735764,
           0.00475,
           0
          ],
          [
           "100",
           "geometric_manifold",
           "singular",
           "0.1",
           "4",
           0.4315171711941623,
           0.1153271873694865,
           0.0231538904649721,
           0.5169996521288562,
           -0.3240747929898841,
           0.00275,
           0
          ],
          [
           "100",
           "geometric_manifold",
           "singular",
           "0.1",
           "3",
           0.4360670870753309,
           0.11457044594508,
           0.0228625443192987,
           0.513219697640044,
           -0.3243153399704056,
           0.00245,
           0
          ],
          [
           "100",
           "geometric_manifold",
           "singular",
           "0.1",
           "1",
           0.6276951983056389,
           0.1001281878403569,
           0.0156162141569191,
           0.3489953809693266,
           -0.527091754941104,
           0.0031,
           0
          ],
          [
           "100",
           "geometric_manifold",
           "singular",
           "0.1",
           "0",
           0.6811702371171809,
           0.0912338190664726,
           0.0133053766633339,
           0.2979739229890826,
           -0.5698860464930229,
           0.0345,
           0
          ],
          [
           "100",
           "geometric_manifold",
           "singular",
           "0.1",
           "2",
           0.4426232391098939,
           0.1167531382884509,
           0.0225725250157122,
           0.5038715096087462,
           -0.326361584558822,
           0.0137,
           0
          ],
          [
           "100",
           "geometric_manifold",
           "singular",
           "0.1",
           "4",
           0.608477590409694,
           0.0968762624229098,
           0.0161877120404646,
           0.3619601177266364,
           -0.4981098030746477,
           0.0204,
           0
          ],
          [
           "100",
           "geometric_manifold",
           "singular",
           "0.1",
           "3",
           0.3499122383168139,
           0.1291387458539979,
           0.0278678252887932,
           0.6208026441964518,
           -0.2341821248318773,
           0.00825,
           0
          ],
          [
           "100",
           "geometric_manifold",
           "singular",
           "0.1",
           "1",
           0.3476676488219822,
           0.1290889353241557,
           0.0269161058529352,
           0.59994153704314,
           -0.2441231684688505,
           0.0228,
           0
          ],
          [
           "100",
           "geometric_manifold",
           "singular",
           "0.1",
           "0",
           0.4931555684881696,
           0.1090418054808807,
           0.0193023045383939,
           0.4309352595389718,
           -0.3775132043486186,
           0.0316,
           0
          ],
          [
           "100",
           "geometric_manifold",
           "singular",
           "0.1",
           "2",
           0.3858199667526206,
           0.1277239300983196,
           0.0250664934631525,
           0.5588211024817094,
           -0.2849573790056451,
           0.0231,
           0
          ],
          [
           "100",
           "geometric_manifold",
           "singular",
           "0.1",
           "4",
           0.4393157393181947,
           0.116071808399311,
           0.0214619122454121,
           0.4776835990834233,
           -0.3260263965090627,
           0.03405,
           0
          ],
          [
           "100",
           "geometric_manifold",
           "singular",
           "0.1",
           "3",
           0.2814125953247935,
           0.1423621645300087,
           0.0309099257381497,
           0.6894350125323297,
           -0.1659016269769242,
           0.03855,
           0
          ]
         ],
         "fillcolor": "rgba(255,255,255,0)",
         "hoveron": "points",
         "hovertemplate": "outputscale=%{customdata[3]}<br>num_train=%{customdata[0]}<br>num_hidden=%{x}<br>test-negative_log_predictive_density=%{y}<br>model=%{customdata[1]}<br>dataset=%{customdata[2]}<br>run=%{customdata[4]}<br>test-expected_log_probability=%{customdata[5]}<br>test-mean_absolute_error=%{customdata[6]}<br>test-mean_squared_error=%{customdata[7]}<br>test-standardized_mean_squared_error=%{customdata[8]}<br>test-mean_standardized_log_loss=%{customdata[9]}<br>test-quantile_coverage_error=%{customdata[10]}<br>step=%{customdata[11]}<extra></extra>",
         "legendgroup": "0.1",
         "line": {
          "color": "rgba(255,255,255,0)"
         },
         "marker": {
          "color": "#ab63fa"
         },
         "name": "0.1",
         "offsetgroup": "0.1",
         "orientation": "v",
         "pointpos": 0,
         "showlegend": false,
         "type": "box",
         "x": [
          1,
          1,
          1,
          1,
          1,
          3,
          3,
          3,
          3,
          3,
          4,
          4,
          4,
          4,
          4,
          2,
          2,
          2,
          2,
          2
         ],
         "x0": " ",
         "xaxis": "x",
         "y": [
          -1.061277999003946,
          -1.0689685651667062,
          -1.0267945667848737,
          -1.0649109453862888,
          -0.9427705801222468,
          -0.4871821178691352,
          -0.5119075582768368,
          -0.4749781668287628,
          -0.4858089404362073,
          -0.48794416135235,
          -0.6992774225507782,
          -0.7613089785978051,
          -0.4852261594539721,
          -0.6664243129427486,
          -0.3776099508786851,
          -0.4061504648446054,
          -0.5577393441341357,
          -0.4404228876503666,
          -0.505776340615896,
          -0.3220718258810033
         ],
         "y0": " ",
         "yaxis": "y"
        },
        {
         "alignmentgroup": "True",
         "boxpoints": "all",
         "customdata": [
          [
           "200",
           "geometric_manifold",
           "singular",
           "0.1",
           "1",
           1.437949282835301,
           0.0367602685537868,
           0.0027586052226941,
           0.0612975194221884,
           -1.3716532427205856,
           0.02205,
           0
          ],
          [
           "200",
           "geometric_manifold",
           "singular",
           "0.1",
           "0",
           1.118407588622781,
           0.0479923633999595,
           0.0047845085378644,
           0.1066594488286968,
           -1.0357920715788855,
           0.0253,
           0
          ],
          [
           "200",
           "geometric_manifold",
           "singular",
           "0.1",
           "2",
           1.1816327005048977,
           0.0470028598788382,
           0.0043584269472182,
           0.0969868876304567,
           -1.106060600272976,
           0.02295,
           0
          ],
          [
           "200",
           "geometric_manifold",
           "singular",
           "0.1",
           "4",
           1.3310727668121984,
           0.0403429045872506,
           0.0032386592103795,
           0.0723638081740216,
           -1.2514461253672873,
           0.0273,
           0
          ],
          [
           "200",
           "geometric_manifold",
           "singular",
           "0.1",
           "3",
           1.250929380856551,
           0.0432039331900021,
           0.0036534659574404,
           0.0814456419592658,
           -1.1694937545029291,
           0.02905,
           0
          ],
          [
           "200",
           "geometric_manifold",
           "singular",
           "0.1",
           "1",
           1.0126999971716617,
           0.062580244918709,
           0.0069373350674585,
           0.1548742639808012,
           -0.909430815953041,
           0.0187,
           0
          ],
          [
           "200",
           "geometric_manifold",
           "singular",
           "0.1",
           "0",
           0.8863342163403706,
           0.0738747559716538,
           0.0092540569013555,
           0.2065312492968138,
           -0.7687824290634957,
           0.0219,
           0
          ],
          [
           "200",
           "geometric_manifold",
           "singular",
           "0.1",
           "2",
           1.1123703318169695,
           0.0548125053214524,
           0.0054970232275722,
           0.1227876780291723,
           -1.0208026754176385,
           0.01695,
           0
          ],
          [
           "200",
           "geometric_manifold",
           "singular",
           "0.1",
           "4",
           0.9784521642938702,
           0.0653201489838312,
           0.0074735892191551,
           0.1662421026793465,
           -0.8761497978406079,
           0.01835,
           0
          ],
          [
           "200",
           "geometric_manifold",
           "singular",
           "0.1",
           "3",
           0.9432553546889376,
           0.069386846950485,
           0.008318061355401,
           0.1850863415129098,
           -0.8333968581968941,
           0.0138,
           0
          ],
          [
           "200",
           "geometric_manifold",
           "singular",
           "0.1",
           "1",
           0.4515398477585946,
           0.1151746681927158,
           0.0218481254541856,
           0.4879067801932932,
           -0.3328754701873681,
           0.02285,
           0
          ],
          [
           "200",
           "geometric_manifold",
           "singular",
           "0.1",
           "0",
           1.0962596650685472,
           0.0552585504602743,
           0.0056205384632029,
           0.1255767768505456,
           -1.0044425802021009,
           0.01525,
           0
          ],
          [
           "200",
           "geometric_manifold",
           "singular",
           "0.1",
           "2",
           1.149484371963804,
           0.0520573194600077,
           0.00509146495777,
           0.113290982910577,
           -1.0736129229445726,
           0.0096,
           0
          ],
          [
           "200",
           "geometric_manifold",
           "singular",
           "0.1",
           "4",
           1.1190800569414747,
           0.0527269298305984,
           0.0053352209053806,
           0.1191506065626461,
           -1.039253199651855,
           0.0121,
           0
          ],
          [
           "200",
           "geometric_manifold",
           "singular",
           "0.1",
           "3",
           1.116169271849415,
           0.0538473968928306,
           0.0054514793642487,
           0.1217255922176603,
           -1.0270969410369406,
           0.0141,
           0
          ],
          [
           "200",
           "geometric_manifold",
           "singular",
           "0.1",
           "1",
           0.9042898456197276,
           0.0718650607493575,
           0.008780339569868,
           0.1957801648672279,
           -0.7969150277590907,
           0.02375,
           0
          ],
          [
           "200",
           "geometric_manifold",
           "singular",
           "0.1",
           "0",
           0.9484471748261624,
           0.0682960748297128,
           0.0082438054677762,
           0.18389533509106,
           -0.8377103843531388,
           0.011,
           0
          ],
          [
           "200",
           "geometric_manifold",
           "singular",
           "0.1",
           "2",
           1.0299919296480082,
           0.0609701016843787,
           0.0066796737818782,
           0.1492667108337053,
           -0.9216716083937768,
           0.0224,
           0
          ],
          [
           "200",
           "geometric_manifold",
           "singular",
           "0.1",
           "4",
           0.9205418488311388,
           0.070947422716299,
           0.0087212221392178,
           0.1949631503591335,
           -0.8238828243618647,
           0.0105,
           0
          ],
          [
           "200",
           "geometric_manifold",
           "singular",
           "0.1",
           "3",
           1.0560732848426324,
           0.0600318940022145,
           0.0063744809408196,
           0.1422707851396039,
           -0.9483476973182532,
           0.0197,
           0
          ]
         ],
         "fillcolor": "rgba(255,255,255,0)",
         "hoveron": "points",
         "hovertemplate": "outputscale=%{customdata[3]}<br>num_train=%{customdata[0]}<br>num_hidden=%{x}<br>test-negative_log_predictive_density=%{y}<br>model=%{customdata[1]}<br>dataset=%{customdata[2]}<br>run=%{customdata[4]}<br>test-expected_log_probability=%{customdata[5]}<br>test-mean_absolute_error=%{customdata[6]}<br>test-mean_squared_error=%{customdata[7]}<br>test-standardized_mean_squared_error=%{customdata[8]}<br>test-mean_standardized_log_loss=%{customdata[9]}<br>test-quantile_coverage_error=%{customdata[10]}<br>step=%{customdata[11]}<extra></extra>",
         "legendgroup": "0.1",
         "line": {
          "color": "rgba(255,255,255,0)"
         },
         "marker": {
          "color": "#ab63fa"
         },
         "name": "0.1",
         "offsetgroup": "0.1",
         "orientation": "v",
         "pointpos": 0,
         "showlegend": false,
         "type": "box",
         "x": [
          1,
          1,
          1,
          1,
          1,
          3,
          3,
          3,
          3,
          3,
          2,
          2,
          2,
          2,
          2,
          4,
          4,
          4,
          4,
          4
         ],
         "x0": " ",
         "xaxis": "x2",
         "y": [
          -1.5868395215534492,
          -1.2889571977834615,
          -1.3561797249038188,
          -1.4750554708950028,
          -1.400495523881072,
          -1.109704970970456,
          -0.9503845111524948,
          -1.2260110726979447,
          -1.068566080726668,
          -1.019079930288968,
          -0.5109605510330372,
          -1.2116240180610585,
          -1.2888286460768543,
          -1.2777166367119792,
          -1.2307876490111505,
          -0.9614521732339032,
          -0.9979939760899884,
          -1.1179912178735243,
          -1.0030321446442696,
          -1.1361015024146552
         ],
         "y0": " ",
         "yaxis": "y2"
        },
        {
         "alignmentgroup": "True",
         "boxpoints": "all",
         "customdata": [
          [
           "400",
           "geometric_manifold",
           "singular",
           "0.1",
           "1",
           1.6022946599927794,
           0.0311161656201768,
           0.0020700752375303,
           0.0460849860304643,
           -1.5079909470119,
           0.02105,
           0
          ],
          [
           "400",
           "geometric_manifold",
           "singular",
           "0.1",
           "0",
           1.6378180760731322,
           0.0301068567895333,
           0.0019528820756092,
           0.0436303284056167,
           -1.5424881369240635,
           0.0201,
           0
          ],
          [
           "400",
           "geometric_manifold",
           "singular",
           "0.1",
           "2",
           1.638579093206233,
           0.0304072751796516,
           0.0019561721453566,
           0.0436863413140343,
           -1.5448522753474214,
           0.0188,
           0
          ],
          [
           "400",
           "geometric_manifold",
           "singular",
           "0.1",
           "4",
           1.60231150111632,
           0.0311149895561303,
           0.0020699376764047,
           0.0460819235801562,
           -1.5080019414468944,
           0.02105,
           0
          ],
          [
           "400",
           "geometric_manifold",
           "singular",
           "0.1",
           "3",
           1.6379548676196771,
           0.0301097212477905,
           0.0019526581548072,
           0.0436253256774704,
           -1.5426184552276054,
           0.0201,
           0
          ],
          [
           "400",
           "geometric_manifold",
           "singular",
           "0.1",
           "1",
           1.292864158736427,
           0.0438834699456249,
           0.0037422108043555,
           0.0834642912128782,
           -1.2104241712571555,
           0.01395,
           0
          ],
          [
           "400",
           "geometric_manifold",
           "singular",
           "0.1",
           "0",
           1.354783948304781,
           0.0393863659881334,
           0.0032072030582751,
           0.071681566799694,
           -1.2844960015858675,
           0.01325,
           0
          ],
          [
           "400",
           "geometric_manifold",
           "singular",
           "0.1",
           "2",
           1.3386887561539078,
           0.040563002989358,
           0.0033517041903518,
           0.0747018810668357,
           -1.2679286645778671,
           0.0118,
           0
          ],
          [
           "400",
           "geometric_manifold",
           "singular",
           "0.1",
           "4",
           1.2928632218294631,
           0.0438855033754176,
           0.0037424832418485,
           0.0834703675146801,
           -1.21042820213114,
           0.01395,
           0
          ],
          [
           "400",
           "geometric_manifold",
           "singular",
           "0.1",
           "3",
           1.2430707194697264,
           0.0463551163706638,
           0.0041674199026814,
           0.0931425864557175,
           -1.1484648354094182,
           0.014,
           0
          ],
          [
           "400",
           "geometric_manifold",
           "singular",
           "0.1",
           "1",
           1.2395706959899944,
           0.0484906517828226,
           0.0044902931359863,
           0.100260489476711,
           -1.126013931621889,
           0.012,
           0
          ],
          [
           "400",
           "geometric_manifold",
           "singular",
           "0.1",
           "0",
           1.3112961177499411,
           0.0458313264910671,
           0.003901821465691,
           0.0867432834538505,
           -1.2002248919202738,
           0.01355,
           0
          ],
          [
           "400",
           "geometric_manifold",
           "singular",
           "0.1",
           "2",
           1.3244236272252274,
           0.0440537297097704,
           0.003767300658045,
           0.0838261207619038,
           -1.2114606744829228,
           0.0129,
           0
          ],
          [
           "400",
           "geometric_manifold",
           "singular",
           "0.1",
           "4",
           1.239496493624607,
           0.048495607259138,
           0.0044911023690968,
           0.1002785582542494,
           -1.1259380639939107,
           0.012,
           0
          ],
          [
           "400",
           "geometric_manifold",
           "singular",
           "0.1",
           "3",
           1.450576586321048,
           0.0401866908613259,
           0.002982239285227,
           0.0662996064582478,
           -1.3417313226946015,
           0.01605,
           0
          ],
          [
           "400",
           "geometric_manifold",
           "singular",
           "0.1",
           "1",
           1.231497544125205,
           0.0497172853394319,
           0.0046514251185884,
           0.1037001675906121,
           -1.1235974781865878,
           0.0051,
           0
          ],
          [
           "400",
           "geometric_manifold",
           "singular",
           "0.1",
           "0",
           1.2422464528917423,
           0.0490972186119789,
           0.0045356042305685,
           0.1008748909603374,
           -1.135104357596508,
           0.00795,
           0
          ],
          [
           "400",
           "geometric_manifold",
           "singular",
           "0.1",
           "2",
           1.1907920200364934,
           0.0521196816365504,
           0.0050007352479476,
           0.1118482878586721,
           -1.0774155463703727,
           0.01315,
           0
          ],
          [
           "400",
           "geometric_manifold",
           "singular",
           "0.1",
           "4",
           1.1811110228872796,
           0.0530797133926785,
           0.0050737322203108,
           0.1132895742829512,
           -1.0692777923465355,
           0.0164,
           0
          ],
          [
           "400",
           "geometric_manifold",
           "singular",
           "0.1",
           "3",
           1.2422464528917423,
           0.0490972186119789,
           0.0045356042305685,
           0.1008748909603374,
           -1.135104357596508,
           0.00795,
           0
          ]
         ],
         "fillcolor": "rgba(255,255,255,0)",
         "hoveron": "points",
         "hovertemplate": "outputscale=%{customdata[3]}<br>num_train=%{customdata[0]}<br>num_hidden=%{x}<br>test-negative_log_predictive_density=%{y}<br>model=%{customdata[1]}<br>dataset=%{customdata[2]}<br>run=%{customdata[4]}<br>test-expected_log_probability=%{customdata[5]}<br>test-mean_absolute_error=%{customdata[6]}<br>test-mean_squared_error=%{customdata[7]}<br>test-standardized_mean_squared_error=%{customdata[8]}<br>test-mean_standardized_log_loss=%{customdata[9]}<br>test-quantile_coverage_error=%{customdata[10]}<br>step=%{customdata[11]}<extra></extra>",
         "legendgroup": "0.1",
         "line": {
          "color": "rgba(255,255,255,0)"
         },
         "marker": {
          "color": "#ab63fa"
         },
         "name": "0.1",
         "offsetgroup": "0.1",
         "orientation": "v",
         "pointpos": 0,
         "showlegend": false,
         "type": "box",
         "x": [
          1,
          1,
          1,
          1,
          1,
          2,
          2,
          2,
          2,
          2,
          3,
          3,
          3,
          3,
          3,
          4,
          4,
          4,
          4,
          4
         ],
         "x0": " ",
         "xaxis": "x3",
         "y": [
          -1.6796964167159412,
          -1.710353265645031,
          -1.7153853157140582,
          -1.6797392593836442,
          -1.7105152234095833,
          -1.4297507473842337,
          -1.5167148860872348,
          -1.4975849454913697,
          -1.4298119212062783,
          -1.358631576464541,
          -1.295751701939327,
          -1.3695295707952393,
          -1.3787462513812847,
          -1.2956413997575933,
          -1.5091312157553127,
          -1.2944570306790015,
          -1.3024023912590008,
          -1.2551219538816227,
          -1.2462179112418792,
          -1.3024023912590008
         ],
         "y0": " ",
         "yaxis": "y3"
        },
        {
         "line": {
          "color": "Gray",
          "dash": "dash",
          "width": 2
         },
         "mode": "lines",
         "name": "GP Mean",
         "showlegend": true,
         "type": "scatter",
         "x": [
          null
         ],
         "xaxis": "x",
         "y": [
          null
         ],
         "yaxis": "y"
        }
       ],
       "layout": {
        "annotations": [
         {
          "font": {
           "size": 18
          },
          "showarrow": false,
          "text": "100 training points",
          "x": 0.15,
          "xanchor": "center",
          "xref": "paper",
          "y": 1,
          "yanchor": "bottom",
          "yref": "paper"
         },
         {
          "font": {
           "size": 18
          },
          "showarrow": false,
          "text": "200 training points",
          "x": 0.49999999999999994,
          "xanchor": "center",
          "xref": "paper",
          "y": 1,
          "yanchor": "bottom",
          "yref": "paper"
         },
         {
          "font": {
           "size": 18
          },
          "showarrow": false,
          "text": "400 training points",
          "x": 0.85,
          "xanchor": "center",
          "xref": "paper",
          "y": 1,
          "yanchor": "bottom",
          "yref": "paper"
         },
         {
          "font": {
           "size": 18
          },
          "showarrow": false,
          "text": "Number of Hidden Layers",
          "x": 0.5,
          "xanchor": "center",
          "xref": "paper",
          "y": 0,
          "yanchor": "top",
          "yref": "paper",
          "yshift": -30
         },
         {
          "font": {
           "size": 18
          },
          "showarrow": false,
          "text": "Negative Log Predictive Density",
          "textangle": -90,
          "x": 0,
          "xanchor": "right",
          "xref": "paper",
          "xshift": -40,
          "y": 0.5,
          "yanchor": "middle",
          "yref": "paper"
         }
        ],
        "boxmode": "group",
        "font": {
         "family": "Serif",
         "size": 14
        },
        "height": 350,
        "legend": {
         "title": {
          "text": "Prior Mean and<br>Standard Dev."
         },
         "tracegroupgap": 2,
         "x": 1.01,
         "y": 0.55,
         "yanchor": "middle"
        },
        "shapes": [
         {
          "layer": "below",
          "line": {
           "color": "Gray",
           "dash": "dash",
           "width": 2
          },
          "name": "mean",
          "opacity": 0.8,
          "type": "line",
          "x0": 0.5,
          "x1": 4.5,
          "xref": "x",
          "y0": -1.373541946668773,
          "y1": -1.373541946668773,
          "yref": "y"
         },
         {
          "layer": "below",
          "line": {
           "color": "Gray",
           "dash": "dash",
           "width": 2
          },
          "name": "mean",
          "opacity": 0.8,
          "type": "line",
          "x0": 0.5,
          "x1": 4.5,
          "xref": "x2",
          "y0": -1.4682177054223058,
          "y1": -1.4682177054223058,
          "yref": "y2"
         },
         {
          "layer": "below",
          "line": {
           "color": "Gray",
           "dash": "dash",
           "width": 2
          },
          "name": "mean",
          "opacity": 0.8,
          "type": "line",
          "x0": 0.5,
          "x1": 4.5,
          "xref": "x3",
          "y0": -1.5228523564382352,
          "y1": -1.5228523564382352,
          "yref": "y3"
         }
        ],
        "template": {
         "data": {
          "bar": [
           {
            "error_x": {
             "color": "#2a3f5f"
            },
            "error_y": {
             "color": "#2a3f5f"
            },
            "marker": {
             "line": {
              "color": "#E5ECF6",
              "width": 0.5
             },
             "pattern": {
              "fillmode": "overlay",
              "size": 10,
              "solidity": 0.2
             }
            },
            "type": "bar"
           }
          ],
          "barpolar": [
           {
            "marker": {
             "line": {
              "color": "#E5ECF6",
              "width": 0.5
             },
             "pattern": {
              "fillmode": "overlay",
              "size": 10,
              "solidity": 0.2
             }
            },
            "type": "barpolar"
           }
          ],
          "carpet": [
           {
            "aaxis": {
             "endlinecolor": "#2a3f5f",
             "gridcolor": "white",
             "linecolor": "white",
             "minorgridcolor": "white",
             "startlinecolor": "#2a3f5f"
            },
            "baxis": {
             "endlinecolor": "#2a3f5f",
             "gridcolor": "white",
             "linecolor": "white",
             "minorgridcolor": "white",
             "startlinecolor": "#2a3f5f"
            },
            "type": "carpet"
           }
          ],
          "choropleth": [
           {
            "colorbar": {
             "outlinewidth": 0,
             "ticks": ""
            },
            "type": "choropleth"
           }
          ],
          "contour": [
           {
            "colorbar": {
             "outlinewidth": 0,
             "ticks": ""
            },
            "colorscale": [
             [
              0,
              "#0d0887"
             ],
             [
              0.1111111111111111,
              "#46039f"
             ],
             [
              0.2222222222222222,
              "#7201a8"
             ],
             [
              0.3333333333333333,
              "#9c179e"
             ],
             [
              0.4444444444444444,
              "#bd3786"
             ],
             [
              0.5555555555555556,
              "#d8576b"
             ],
             [
              0.6666666666666666,
              "#ed7953"
             ],
             [
              0.7777777777777778,
              "#fb9f3a"
             ],
             [
              0.8888888888888888,
              "#fdca26"
             ],
             [
              1,
              "#f0f921"
             ]
            ],
            "type": "contour"
           }
          ],
          "contourcarpet": [
           {
            "colorbar": {
             "outlinewidth": 0,
             "ticks": ""
            },
            "type": "contourcarpet"
           }
          ],
          "heatmap": [
           {
            "colorbar": {
             "outlinewidth": 0,
             "ticks": ""
            },
            "colorscale": [
             [
              0,
              "#0d0887"
             ],
             [
              0.1111111111111111,
              "#46039f"
             ],
             [
              0.2222222222222222,
              "#7201a8"
             ],
             [
              0.3333333333333333,
              "#9c179e"
             ],
             [
              0.4444444444444444,
              "#bd3786"
             ],
             [
              0.5555555555555556,
              "#d8576b"
             ],
             [
              0.6666666666666666,
              "#ed7953"
             ],
             [
              0.7777777777777778,
              "#fb9f3a"
             ],
             [
              0.8888888888888888,
              "#fdca26"
             ],
             [
              1,
              "#f0f921"
             ]
            ],
            "type": "heatmap"
           }
          ],
          "heatmapgl": [
           {
            "colorbar": {
             "outlinewidth": 0,
             "ticks": ""
            },
            "colorscale": [
             [
              0,
              "#0d0887"
             ],
             [
              0.1111111111111111,
              "#46039f"
             ],
             [
              0.2222222222222222,
              "#7201a8"
             ],
             [
              0.3333333333333333,
              "#9c179e"
             ],
             [
              0.4444444444444444,
              "#bd3786"
             ],
             [
              0.5555555555555556,
              "#d8576b"
             ],
             [
              0.6666666666666666,
              "#ed7953"
             ],
             [
              0.7777777777777778,
              "#fb9f3a"
             ],
             [
              0.8888888888888888,
              "#fdca26"
             ],
             [
              1,
              "#f0f921"
             ]
            ],
            "type": "heatmapgl"
           }
          ],
          "histogram": [
           {
            "marker": {
             "pattern": {
              "fillmode": "overlay",
              "size": 10,
              "solidity": 0.2
             }
            },
            "type": "histogram"
           }
          ],
          "histogram2d": [
           {
            "colorbar": {
             "outlinewidth": 0,
             "ticks": ""
            },
            "colorscale": [
             [
              0,
              "#0d0887"
             ],
             [
              0.1111111111111111,
              "#46039f"
             ],
             [
              0.2222222222222222,
              "#7201a8"
             ],
             [
              0.3333333333333333,
              "#9c179e"
             ],
             [
              0.4444444444444444,
              "#bd3786"
             ],
             [
              0.5555555555555556,
              "#d8576b"
             ],
             [
              0.6666666666666666,
              "#ed7953"
             ],
             [
              0.7777777777777778,
              "#fb9f3a"
             ],
             [
              0.8888888888888888,
              "#fdca26"
             ],
             [
              1,
              "#f0f921"
             ]
            ],
            "type": "histogram2d"
           }
          ],
          "histogram2dcontour": [
           {
            "colorbar": {
             "outlinewidth": 0,
             "ticks": ""
            },
            "colorscale": [
             [
              0,
              "#0d0887"
             ],
             [
              0.1111111111111111,
              "#46039f"
             ],
             [
              0.2222222222222222,
              "#7201a8"
             ],
             [
              0.3333333333333333,
              "#9c179e"
             ],
             [
              0.4444444444444444,
              "#bd3786"
             ],
             [
              0.5555555555555556,
              "#d8576b"
             ],
             [
              0.6666666666666666,
              "#ed7953"
             ],
             [
              0.7777777777777778,
              "#fb9f3a"
             ],
             [
              0.8888888888888888,
              "#fdca26"
             ],
             [
              1,
              "#f0f921"
             ]
            ],
            "type": "histogram2dcontour"
           }
          ],
          "mesh3d": [
           {
            "colorbar": {
             "outlinewidth": 0,
             "ticks": ""
            },
            "type": "mesh3d"
           }
          ],
          "parcoords": [
           {
            "line": {
             "colorbar": {
              "outlinewidth": 0,
              "ticks": ""
             }
            },
            "type": "parcoords"
           }
          ],
          "pie": [
           {
            "automargin": true,
            "type": "pie"
           }
          ],
          "scatter": [
           {
            "fillpattern": {
             "fillmode": "overlay",
             "size": 10,
             "solidity": 0.2
            },
            "type": "scatter"
           }
          ],
          "scatter3d": [
           {
            "line": {
             "colorbar": {
              "outlinewidth": 0,
              "ticks": ""
             }
            },
            "marker": {
             "colorbar": {
              "outlinewidth": 0,
              "ticks": ""
             }
            },
            "type": "scatter3d"
           }
          ],
          "scattercarpet": [
           {
            "marker": {
             "colorbar": {
              "outlinewidth": 0,
              "ticks": ""
             }
            },
            "type": "scattercarpet"
           }
          ],
          "scattergeo": [
           {
            "marker": {
             "colorbar": {
              "outlinewidth": 0,
              "ticks": ""
             }
            },
            "type": "scattergeo"
           }
          ],
          "scattergl": [
           {
            "marker": {
             "colorbar": {
              "outlinewidth": 0,
              "ticks": ""
             }
            },
            "type": "scattergl"
           }
          ],
          "scattermapbox": [
           {
            "marker": {
             "colorbar": {
              "outlinewidth": 0,
              "ticks": ""
             }
            },
            "type": "scattermapbox"
           }
          ],
          "scatterpolar": [
           {
            "marker": {
             "colorbar": {
              "outlinewidth": 0,
              "ticks": ""
             }
            },
            "type": "scatterpolar"
           }
          ],
          "scatterpolargl": [
           {
            "marker": {
             "colorbar": {
              "outlinewidth": 0,
              "ticks": ""
             }
            },
            "type": "scatterpolargl"
           }
          ],
          "scatterternary": [
           {
            "marker": {
             "colorbar": {
              "outlinewidth": 0,
              "ticks": ""
             }
            },
            "type": "scatterternary"
           }
          ],
          "surface": [
           {
            "colorbar": {
             "outlinewidth": 0,
             "ticks": ""
            },
            "colorscale": [
             [
              0,
              "#0d0887"
             ],
             [
              0.1111111111111111,
              "#46039f"
             ],
             [
              0.2222222222222222,
              "#7201a8"
             ],
             [
              0.3333333333333333,
              "#9c179e"
             ],
             [
              0.4444444444444444,
              "#bd3786"
             ],
             [
              0.5555555555555556,
              "#d8576b"
             ],
             [
              0.6666666666666666,
              "#ed7953"
             ],
             [
              0.7777777777777778,
              "#fb9f3a"
             ],
             [
              0.8888888888888888,
              "#fdca26"
             ],
             [
              1,
              "#f0f921"
             ]
            ],
            "type": "surface"
           }
          ],
          "table": [
           {
            "cells": {
             "fill": {
              "color": "#EBF0F8"
             },
             "line": {
              "color": "white"
             }
            },
            "header": {
             "fill": {
              "color": "#C8D4E3"
             },
             "line": {
              "color": "white"
             }
            },
            "type": "table"
           }
          ]
         },
         "layout": {
          "annotationdefaults": {
           "arrowcolor": "#2a3f5f",
           "arrowhead": 0,
           "arrowwidth": 1
          },
          "autotypenumbers": "strict",
          "coloraxis": {
           "colorbar": {
            "outlinewidth": 0,
            "ticks": ""
           }
          },
          "colorscale": {
           "diverging": [
            [
             0,
             "#8e0152"
            ],
            [
             0.1,
             "#c51b7d"
            ],
            [
             0.2,
             "#de77ae"
            ],
            [
             0.3,
             "#f1b6da"
            ],
            [
             0.4,
             "#fde0ef"
            ],
            [
             0.5,
             "#f7f7f7"
            ],
            [
             0.6,
             "#e6f5d0"
            ],
            [
             0.7,
             "#b8e186"
            ],
            [
             0.8,
             "#7fbc41"
            ],
            [
             0.9,
             "#4d9221"
            ],
            [
             1,
             "#276419"
            ]
           ],
           "sequential": [
            [
             0,
             "#0d0887"
            ],
            [
             0.1111111111111111,
             "#46039f"
            ],
            [
             0.2222222222222222,
             "#7201a8"
            ],
            [
             0.3333333333333333,
             "#9c179e"
            ],
            [
             0.4444444444444444,
             "#bd3786"
            ],
            [
             0.5555555555555556,
             "#d8576b"
            ],
            [
             0.6666666666666666,
             "#ed7953"
            ],
            [
             0.7777777777777778,
             "#fb9f3a"
            ],
            [
             0.8888888888888888,
             "#fdca26"
            ],
            [
             1,
             "#f0f921"
            ]
           ],
           "sequentialminus": [
            [
             0,
             "#0d0887"
            ],
            [
             0.1111111111111111,
             "#46039f"
            ],
            [
             0.2222222222222222,
             "#7201a8"
            ],
            [
             0.3333333333333333,
             "#9c179e"
            ],
            [
             0.4444444444444444,
             "#bd3786"
            ],
            [
             0.5555555555555556,
             "#d8576b"
            ],
            [
             0.6666666666666666,
             "#ed7953"
            ],
            [
             0.7777777777777778,
             "#fb9f3a"
            ],
            [
             0.8888888888888888,
             "#fdca26"
            ],
            [
             1,
             "#f0f921"
            ]
           ]
          },
          "colorway": [
           "#636efa",
           "#EF553B",
           "#00cc96",
           "#ab63fa",
           "#FFA15A",
           "#19d3f3",
           "#FF6692",
           "#B6E880",
           "#FF97FF",
           "#FECB52"
          ],
          "font": {
           "color": "#2a3f5f"
          },
          "geo": {
           "bgcolor": "white",
           "lakecolor": "white",
           "landcolor": "#E5ECF6",
           "showlakes": true,
           "showland": true,
           "subunitcolor": "white"
          },
          "hoverlabel": {
           "align": "left"
          },
          "hovermode": "closest",
          "mapbox": {
           "style": "light"
          },
          "paper_bgcolor": "white",
          "plot_bgcolor": "#E5ECF6",
          "polar": {
           "angularaxis": {
            "gridcolor": "white",
            "linecolor": "white",
            "ticks": ""
           },
           "bgcolor": "#E5ECF6",
           "radialaxis": {
            "gridcolor": "white",
            "linecolor": "white",
            "ticks": ""
           }
          },
          "scene": {
           "xaxis": {
            "backgroundcolor": "#E5ECF6",
            "gridcolor": "white",
            "gridwidth": 2,
            "linecolor": "white",
            "showbackground": true,
            "ticks": "",
            "zerolinecolor": "white"
           },
           "yaxis": {
            "backgroundcolor": "#E5ECF6",
            "gridcolor": "white",
            "gridwidth": 2,
            "linecolor": "white",
            "showbackground": true,
            "ticks": "",
            "zerolinecolor": "white"
           },
           "zaxis": {
            "backgroundcolor": "#E5ECF6",
            "gridcolor": "white",
            "gridwidth": 2,
            "linecolor": "white",
            "showbackground": true,
            "ticks": "",
            "zerolinecolor": "white"
           }
          },
          "shapedefaults": {
           "line": {
            "color": "#2a3f5f"
           }
          },
          "ternary": {
           "aaxis": {
            "gridcolor": "white",
            "linecolor": "white",
            "ticks": ""
           },
           "baxis": {
            "gridcolor": "white",
            "linecolor": "white",
            "ticks": ""
           },
           "bgcolor": "#E5ECF6",
           "caxis": {
            "gridcolor": "white",
            "linecolor": "white",
            "ticks": ""
           }
          },
          "title": {
           "x": 0.05
          },
          "xaxis": {
           "automargin": true,
           "gridcolor": "white",
           "linecolor": "white",
           "ticks": "",
           "title": {
            "standoff": 15
           },
           "zerolinecolor": "white",
           "zerolinewidth": 2
          },
          "yaxis": {
           "automargin": true,
           "gridcolor": "white",
           "linecolor": "white",
           "ticks": "",
           "title": {
            "standoff": 15
           },
           "zerolinecolor": "white",
           "zerolinewidth": 2
          }
         }
        },
        "title": {
         "font": {
          "size": 20
         },
         "text": "Negative Log Predictive Density by Hidden Layer Standard Deviation Prior and Number of Training Points vs Number of Hidden Layers",
         "x": 0.5,
         "xanchor": "center",
         "y": 0.9
        },
        "width": 1200,
        "xaxis": {
         "anchor": "y",
         "domain": [
          0,
          0.3
         ]
        },
        "xaxis2": {
         "anchor": "y2",
         "domain": [
          0.35,
          0.6499999999999999
         ]
        },
        "xaxis3": {
         "anchor": "y3",
         "domain": [
          0.7,
          1
         ]
        },
        "yaxis": {
         "anchor": "x",
         "domain": [
          0,
          1
         ],
         "dtick": 0.2
        },
        "yaxis2": {
         "anchor": "x2",
         "domain": [
          0,
          1
         ],
         "dtick": 0.2
        },
        "yaxis3": {
         "anchor": "x3",
         "domain": [
          0,
          1
         ],
         "dtick": 0.2
        }
       }
      }
     },
     "metadata": {},
     "output_type": "display_data"
    }
   ],
   "source": [
    "import plotly.express as px \n",
    "import plotly.graph_objects as go\n",
    "from plotly.subplots import make_subplots\n",
    "\n",
    "# Create a box plot\n",
    "df = data[data['num_hidden'] > 0]\n",
    "\n",
    "fig = make_subplots(rows=1, cols=3, shared_yaxes=False, vertical_spacing=0.02, horizontal_spacing=0.05, x_title=\"Number of Hidden Layers\", y_title=\"Negative Log Predictive Density\", \n",
    "                    column_titles=[\"100 training points\", \"200 training points\", \"400 training points\"])\n",
    "\n",
    "box_fig = px.box(df, y=\"test-negative_log_predictive_density\", x=\"num_hidden\", color=\"outputscale\", facet_col='num_train', hover_data=df.columns)\n",
    "for trace in box_fig.data:\n",
    "    trace.opacity = 0.6\n",
    "    fig.add_trace(trace)\n",
    "\n",
    "# Overlay a scatter plot on top of the box plot\n",
    "strip_fig = px.strip(df, y=\"test-negative_log_predictive_density\", x=\"num_hidden\", color=\"outputscale\", facet_col='num_train', hover_data=df.columns)\n",
    "for trace in strip_fig.data:\n",
    "    trace.showlegend=False\n",
    "    fig.add_trace(trace)\n",
    "\n",
    "for i, num_train in enumerate(['100', '200', '400'], 1): \n",
    "    mean = data['test-negative_log_predictive_density'][(data['num_train'] == num_train) & (data['num_hidden'] == 0)].mean()\n",
    "    fig.add_shape(\n",
    "        type='line',\n",
    "        y0=mean, y1=mean,\n",
    "        x0=.5, x1=4.5,\n",
    "        line=dict(\n",
    "            color='Gray',\n",
    "            width=2,\n",
    "            dash=\"dash\",\n",
    "        ), \n",
    "        layer='below',\n",
    "        name='mean',\n",
    "        opacity=0.8,\n",
    "        col=i, row=1, \n",
    "    )\n",
    "\n",
    "# hidden_num_0_mean = data['test-negative_log_predictive_density'][(data['num_hidden'] == 0) & (data['num_train'] == '200')].mean()\n",
    "\n",
    "fig.add_trace(go.Scatter(\n",
    "    x=[None],\n",
    "    y=[None],\n",
    "    mode='lines',\n",
    "    line=dict(color=\"Gray\", width=2, dash=\"dash\"),\n",
    "    showlegend=True,\n",
    "    name='GP Mean',\n",
    "), row=1, col=1)\n",
    "\n",
    "fig.update_layout(\n",
    "    font_family=\"Serif\",\n",
    "    title=dict(\n",
    "        text=\"Negative Log Predictive Density by Hidden Layer Standard Deviation Prior and Number of Training Points vs Number of Hidden Layers\", \n",
    "        font_size=20,\n",
    "        y=0.9, \n",
    "        xanchor='center',\n",
    "        x=.5,\n",
    "    ),\n",
    "    legend=dict(\n",
    "        title=\"Prior Mean and<br>Standard Dev.\", \n",
    "        x=1.01, \n",
    "        y=0.55,\n",
    "        yanchor='middle',\n",
    "        tracegroupgap=2,\n",
    "    ),\n",
    "    font_size=14, \n",
    "    boxmode='group', \n",
    "    width=1200, \n",
    "    height=350, \n",
    ")\n",
    "\n",
    "fig.update_yaxes(dtick=0.2, col=1, row=1)\n",
    "fig.update_yaxes(dtick=0.2, col=2, row=1)\n",
    "fig.update_yaxes(dtick=0.2, col=3, row=1)\n",
    "\n",
    "fig.update_annotations(font_size=18)\n",
    "\n",
    "fig.show()\n",
    "fig.write_image('../report_plots/nlpd_vs_outputscale_vs_num_traing_vs_num_hidden.jpg', scale=6, width=1200, height=350)\n",
    "fig.write_image('../report_plots/nlpd_vs_outputscale_vs_num_traing_vs_num_hidden.svg', scale=6, width=1200, height=350)"
   ]
  },
  {
   "cell_type": "code",
   "execution_count": 28,
   "metadata": {},
   "outputs": [
    {
     "ename": "ValueError",
     "evalue": "\n    Invalid value of type 'builtins.int' received for the 'color' property of box.marker\n        Received value: 0\n\n    The 'color' property is a color and may be specified as:\n      - A hex string (e.g. '#ff0000')\n      - An rgb/rgba string (e.g. 'rgb(255,0,0)')\n      - An hsl/hsla string (e.g. 'hsl(0,100%,50%)')\n      - An hsv/hsva string (e.g. 'hsv(0,100%,100%)')\n      - A named CSS color:\n            aliceblue, antiquewhite, aqua, aquamarine, azure,\n            beige, bisque, black, blanchedalmond, blue,\n            blueviolet, brown, burlywood, cadetblue,\n            chartreuse, chocolate, coral, cornflowerblue,\n            cornsilk, crimson, cyan, darkblue, darkcyan,\n            darkgoldenrod, darkgray, darkgrey, darkgreen,\n            darkkhaki, darkmagenta, darkolivegreen, darkorange,\n            darkorchid, darkred, darksalmon, darkseagreen,\n            darkslateblue, darkslategray, darkslategrey,\n            darkturquoise, darkviolet, deeppink, deepskyblue,\n            dimgray, dimgrey, dodgerblue, firebrick,\n            floralwhite, forestgreen, fuchsia, gainsboro,\n            ghostwhite, gold, goldenrod, gray, grey, green,\n            greenyellow, honeydew, hotpink, indianred, indigo,\n            ivory, khaki, lavender, lavenderblush, lawngreen,\n            lemonchiffon, lightblue, lightcoral, lightcyan,\n            lightgoldenrodyellow, lightgray, lightgrey,\n            lightgreen, lightpink, lightsalmon, lightseagreen,\n            lightskyblue, lightslategray, lightslategrey,\n            lightsteelblue, lightyellow, lime, limegreen,\n            linen, magenta, maroon, mediumaquamarine,\n            mediumblue, mediumorchid, mediumpurple,\n            mediumseagreen, mediumslateblue, mediumspringgreen,\n            mediumturquoise, mediumvioletred, midnightblue,\n            mintcream, mistyrose, moccasin, navajowhite, navy,\n            oldlace, olive, olivedrab, orange, orangered,\n            orchid, palegoldenrod, palegreen, paleturquoise,\n            palevioletred, papayawhip, peachpuff, peru, pink,\n            plum, powderblue, purple, red, rosybrown,\n            royalblue, rebeccapurple, saddlebrown, salmon,\n            sandybrown, seagreen, seashell, sienna, silver,\n            skyblue, slateblue, slategray, slategrey, snow,\n            springgreen, steelblue, tan, teal, thistle, tomato,\n            turquoise, violet, wheat, white, whitesmoke,\n            yellow, yellowgreen",
     "output_type": "error",
     "traceback": [
      "\u001b[0;31m---------------------------------------------------------------------------\u001b[0m",
      "\u001b[0;31mValueError\u001b[0m                                Traceback (most recent call last)",
      "Cell \u001b[0;32mIn[28], line 26\u001b[0m\n\u001b[1;32m     21\u001b[0m sub_df \u001b[39m=\u001b[39m df[(df[\u001b[39m'\u001b[39m\u001b[39mnum_hidden\u001b[39m\u001b[39m'\u001b[39m] \u001b[39m==\u001b[39m num_hidden) \u001b[39m&\u001b[39m\n\u001b[1;32m     22\u001b[0m             (df[\u001b[39m'\u001b[39m\u001b[39moutputscale\u001b[39m\u001b[39m'\u001b[39m] \u001b[39m==\u001b[39m outputscale) \u001b[39m&\u001b[39m\n\u001b[1;32m     23\u001b[0m             (df[\u001b[39m'\u001b[39m\u001b[39mnum_train\u001b[39m\u001b[39m'\u001b[39m] \u001b[39m==\u001b[39m num_train)]\n\u001b[1;32m     25\u001b[0m \u001b[39m# Create a Box trace for the filtered data\u001b[39;00m\n\u001b[0;32m---> 26\u001b[0m trace \u001b[39m=\u001b[39m go\u001b[39m.\u001b[39;49mBox(\n\u001b[1;32m     27\u001b[0m     y\u001b[39m=\u001b[39;49msub_df[\u001b[39m\"\u001b[39;49m\u001b[39mtest-negative_log_predictive_density\u001b[39;49m\u001b[39m\"\u001b[39;49m],\n\u001b[1;32m     28\u001b[0m     x\u001b[39m=\u001b[39;49m[num_hidden] \u001b[39m*\u001b[39;49m \u001b[39mlen\u001b[39;49m(sub_df),\n\u001b[1;32m     29\u001b[0m     marker\u001b[39m=\u001b[39;49m\u001b[39mdict\u001b[39;49m(color\u001b[39m=\u001b[39;49mcolor_val), \u001b[39m# You can map color_val to specific color names\u001b[39;49;00m\n\u001b[1;32m     30\u001b[0m     name\u001b[39m=\u001b[39;49m\u001b[39mf\u001b[39;49m\u001b[39m\"\u001b[39;49m\u001b[39mOutputscale \u001b[39;49m\u001b[39m{\u001b[39;49;00moutputscale\u001b[39m}\u001b[39;49;00m\u001b[39m\"\u001b[39;49m\n\u001b[1;32m     31\u001b[0m )\n\u001b[1;32m     33\u001b[0m \u001b[39m# Add the trace to the subplot for the current num_train value\u001b[39;00m\n\u001b[1;32m     34\u001b[0m fig\u001b[39m.\u001b[39madd_trace(trace, row\u001b[39m=\u001b[39mrow, col\u001b[39m=\u001b[39m\u001b[39m1\u001b[39m)\n",
      "File \u001b[0;32m~/anaconda3/envs/mdgp/lib/python3.10/site-packages/plotly/graph_objs/_box.py:3252\u001b[0m, in \u001b[0;36mBox.__init__\u001b[0;34m(self, arg, alignmentgroup, boxmean, boxpoints, customdata, customdatasrc, dx, dy, fillcolor, hoverinfo, hoverinfosrc, hoverlabel, hoveron, hovertemplate, hovertemplatesrc, hovertext, hovertextsrc, ids, idssrc, jitter, legend, legendgroup, legendgrouptitle, legendrank, legendwidth, line, lowerfence, lowerfencesrc, marker, mean, meansrc, median, mediansrc, meta, metasrc, name, notched, notchspan, notchspansrc, notchwidth, offsetgroup, opacity, orientation, pointpos, q1, q1src, q3, q3src, quartilemethod, sd, sdsrc, selected, selectedpoints, showlegend, stream, text, textsrc, uid, uirevision, unselected, upperfence, upperfencesrc, visible, whiskerwidth, width, x, x0, xaxis, xcalendar, xhoverformat, xperiod, xperiod0, xperiodalignment, xsrc, y, y0, yaxis, ycalendar, yhoverformat, yperiod, yperiod0, yperiodalignment, ysrc, **kwargs)\u001b[0m\n\u001b[1;32m   3250\u001b[0m _v \u001b[39m=\u001b[39m marker \u001b[39mif\u001b[39;00m marker \u001b[39mis\u001b[39;00m \u001b[39mnot\u001b[39;00m \u001b[39mNone\u001b[39;00m \u001b[39melse\u001b[39;00m _v\n\u001b[1;32m   3251\u001b[0m \u001b[39mif\u001b[39;00m _v \u001b[39mis\u001b[39;00m \u001b[39mnot\u001b[39;00m \u001b[39mNone\u001b[39;00m:\n\u001b[0;32m-> 3252\u001b[0m     \u001b[39mself\u001b[39;49m[\u001b[39m\"\u001b[39;49m\u001b[39mmarker\u001b[39;49m\u001b[39m\"\u001b[39;49m] \u001b[39m=\u001b[39m _v\n\u001b[1;32m   3253\u001b[0m _v \u001b[39m=\u001b[39m arg\u001b[39m.\u001b[39mpop(\u001b[39m\"\u001b[39m\u001b[39mmean\u001b[39m\u001b[39m\"\u001b[39m, \u001b[39mNone\u001b[39;00m)\n\u001b[1;32m   3254\u001b[0m _v \u001b[39m=\u001b[39m mean \u001b[39mif\u001b[39;00m mean \u001b[39mis\u001b[39;00m \u001b[39mnot\u001b[39;00m \u001b[39mNone\u001b[39;00m \u001b[39melse\u001b[39;00m _v\n",
      "File \u001b[0;32m~/anaconda3/envs/mdgp/lib/python3.10/site-packages/plotly/basedatatypes.py:4865\u001b[0m, in \u001b[0;36mBasePlotlyType.__setitem__\u001b[0;34m(self, prop, value)\u001b[0m\n\u001b[1;32m   4863\u001b[0m \u001b[39m# ### Handle compound property ###\u001b[39;00m\n\u001b[1;32m   4864\u001b[0m \u001b[39mif\u001b[39;00m \u001b[39misinstance\u001b[39m(validator, CompoundValidator):\n\u001b[0;32m-> 4865\u001b[0m     \u001b[39mself\u001b[39;49m\u001b[39m.\u001b[39;49m_set_compound_prop(prop, value)\n\u001b[1;32m   4867\u001b[0m \u001b[39m# ### Handle compound array property ###\u001b[39;00m\n\u001b[1;32m   4868\u001b[0m \u001b[39melif\u001b[39;00m \u001b[39misinstance\u001b[39m(validator, (CompoundArrayValidator, BaseDataValidator)):\n",
      "File \u001b[0;32m~/anaconda3/envs/mdgp/lib/python3.10/site-packages/plotly/basedatatypes.py:5276\u001b[0m, in \u001b[0;36mBasePlotlyType._set_compound_prop\u001b[0;34m(self, prop, val)\u001b[0m\n\u001b[1;32m   5273\u001b[0m \u001b[39m# Import value\u001b[39;00m\n\u001b[1;32m   5274\u001b[0m \u001b[39m# ------------\u001b[39;00m\n\u001b[1;32m   5275\u001b[0m validator \u001b[39m=\u001b[39m \u001b[39mself\u001b[39m\u001b[39m.\u001b[39m_get_validator(prop)\n\u001b[0;32m-> 5276\u001b[0m val \u001b[39m=\u001b[39m validator\u001b[39m.\u001b[39;49mvalidate_coerce(val, skip_invalid\u001b[39m=\u001b[39;49m\u001b[39mself\u001b[39;49m\u001b[39m.\u001b[39;49m_skip_invalid)\n\u001b[1;32m   5278\u001b[0m \u001b[39m# Save deep copies of current and new states\u001b[39;00m\n\u001b[1;32m   5279\u001b[0m \u001b[39m# ------------------------------------------\u001b[39;00m\n\u001b[1;32m   5280\u001b[0m curr_val \u001b[39m=\u001b[39m \u001b[39mself\u001b[39m\u001b[39m.\u001b[39m_compound_props\u001b[39m.\u001b[39mget(prop, \u001b[39mNone\u001b[39;00m)\n",
      "File \u001b[0;32m~/anaconda3/envs/mdgp/lib/python3.10/site-packages/_plotly_utils/basevalidators.py:2475\u001b[0m, in \u001b[0;36mCompoundValidator.validate_coerce\u001b[0;34m(self, v, skip_invalid, _validate)\u001b[0m\n\u001b[1;32m   2472\u001b[0m     v \u001b[39m=\u001b[39m \u001b[39mself\u001b[39m\u001b[39m.\u001b[39mdata_class()\n\u001b[1;32m   2474\u001b[0m \u001b[39melif\u001b[39;00m \u001b[39misinstance\u001b[39m(v, \u001b[39mdict\u001b[39m):\n\u001b[0;32m-> 2475\u001b[0m     v \u001b[39m=\u001b[39m \u001b[39mself\u001b[39;49m\u001b[39m.\u001b[39;49mdata_class(v, skip_invalid\u001b[39m=\u001b[39;49mskip_invalid, _validate\u001b[39m=\u001b[39;49m_validate)\n\u001b[1;32m   2477\u001b[0m \u001b[39melif\u001b[39;00m \u001b[39misinstance\u001b[39m(v, \u001b[39mself\u001b[39m\u001b[39m.\u001b[39mdata_class):\n\u001b[1;32m   2478\u001b[0m     \u001b[39m# Copy object\u001b[39;00m\n\u001b[1;32m   2479\u001b[0m     v \u001b[39m=\u001b[39m \u001b[39mself\u001b[39m\u001b[39m.\u001b[39mdata_class(v)\n",
      "File \u001b[0;32m~/anaconda3/envs/mdgp/lib/python3.10/site-packages/plotly/graph_objs/box/_marker.py:470\u001b[0m, in \u001b[0;36mMarker.__init__\u001b[0;34m(self, arg, angle, color, line, opacity, outliercolor, size, symbol, **kwargs)\u001b[0m\n\u001b[1;32m    468\u001b[0m _v \u001b[39m=\u001b[39m color \u001b[39mif\u001b[39;00m color \u001b[39mis\u001b[39;00m \u001b[39mnot\u001b[39;00m \u001b[39mNone\u001b[39;00m \u001b[39melse\u001b[39;00m _v\n\u001b[1;32m    469\u001b[0m \u001b[39mif\u001b[39;00m _v \u001b[39mis\u001b[39;00m \u001b[39mnot\u001b[39;00m \u001b[39mNone\u001b[39;00m:\n\u001b[0;32m--> 470\u001b[0m     \u001b[39mself\u001b[39;49m[\u001b[39m\"\u001b[39;49m\u001b[39mcolor\u001b[39;49m\u001b[39m\"\u001b[39;49m] \u001b[39m=\u001b[39m _v\n\u001b[1;32m    471\u001b[0m _v \u001b[39m=\u001b[39m arg\u001b[39m.\u001b[39mpop(\u001b[39m\"\u001b[39m\u001b[39mline\u001b[39m\u001b[39m\"\u001b[39m, \u001b[39mNone\u001b[39;00m)\n\u001b[1;32m    472\u001b[0m _v \u001b[39m=\u001b[39m line \u001b[39mif\u001b[39;00m line \u001b[39mis\u001b[39;00m \u001b[39mnot\u001b[39;00m \u001b[39mNone\u001b[39;00m \u001b[39melse\u001b[39;00m _v\n",
      "File \u001b[0;32m~/anaconda3/envs/mdgp/lib/python3.10/site-packages/plotly/basedatatypes.py:4873\u001b[0m, in \u001b[0;36mBasePlotlyType.__setitem__\u001b[0;34m(self, prop, value)\u001b[0m\n\u001b[1;32m   4869\u001b[0m         \u001b[39mself\u001b[39m\u001b[39m.\u001b[39m_set_array_prop(prop, value)\n\u001b[1;32m   4871\u001b[0m     \u001b[39m# ### Handle simple property ###\u001b[39;00m\n\u001b[1;32m   4872\u001b[0m     \u001b[39melse\u001b[39;00m:\n\u001b[0;32m-> 4873\u001b[0m         \u001b[39mself\u001b[39;49m\u001b[39m.\u001b[39;49m_set_prop(prop, value)\n\u001b[1;32m   4874\u001b[0m \u001b[39melse\u001b[39;00m:\n\u001b[1;32m   4875\u001b[0m     \u001b[39m# Make sure properties dict is initialized\u001b[39;00m\n\u001b[1;32m   4876\u001b[0m     \u001b[39mself\u001b[39m\u001b[39m.\u001b[39m_init_props()\n",
      "File \u001b[0;32m~/anaconda3/envs/mdgp/lib/python3.10/site-packages/plotly/basedatatypes.py:5217\u001b[0m, in \u001b[0;36mBasePlotlyType._set_prop\u001b[0;34m(self, prop, val)\u001b[0m\n\u001b[1;32m   5215\u001b[0m         \u001b[39mreturn\u001b[39;00m\n\u001b[1;32m   5216\u001b[0m     \u001b[39melse\u001b[39;00m:\n\u001b[0;32m-> 5217\u001b[0m         \u001b[39mraise\u001b[39;00m err\n\u001b[1;32m   5219\u001b[0m \u001b[39m# val is None\u001b[39;00m\n\u001b[1;32m   5220\u001b[0m \u001b[39m# -----------\u001b[39;00m\n\u001b[1;32m   5221\u001b[0m \u001b[39mif\u001b[39;00m val \u001b[39mis\u001b[39;00m \u001b[39mNone\u001b[39;00m:\n\u001b[1;32m   5222\u001b[0m     \u001b[39m# Check if we should send null update\u001b[39;00m\n",
      "File \u001b[0;32m~/anaconda3/envs/mdgp/lib/python3.10/site-packages/plotly/basedatatypes.py:5212\u001b[0m, in \u001b[0;36mBasePlotlyType._set_prop\u001b[0;34m(self, prop, val)\u001b[0m\n\u001b[1;32m   5209\u001b[0m validator \u001b[39m=\u001b[39m \u001b[39mself\u001b[39m\u001b[39m.\u001b[39m_get_validator(prop)\n\u001b[1;32m   5211\u001b[0m \u001b[39mtry\u001b[39;00m:\n\u001b[0;32m-> 5212\u001b[0m     val \u001b[39m=\u001b[39m validator\u001b[39m.\u001b[39;49mvalidate_coerce(val)\n\u001b[1;32m   5213\u001b[0m \u001b[39mexcept\u001b[39;00m \u001b[39mValueError\u001b[39;00m \u001b[39mas\u001b[39;00m err:\n\u001b[1;32m   5214\u001b[0m     \u001b[39mif\u001b[39;00m \u001b[39mself\u001b[39m\u001b[39m.\u001b[39m_skip_invalid:\n",
      "File \u001b[0;32m~/anaconda3/envs/mdgp/lib/python3.10/site-packages/_plotly_utils/basevalidators.py:1374\u001b[0m, in \u001b[0;36mColorValidator.validate_coerce\u001b[0;34m(self, v, should_raise)\u001b[0m\n\u001b[1;32m   1372\u001b[0m     validated_v \u001b[39m=\u001b[39m \u001b[39mself\u001b[39m\u001b[39m.\u001b[39mvc_scalar(v)\n\u001b[1;32m   1373\u001b[0m     \u001b[39mif\u001b[39;00m validated_v \u001b[39mis\u001b[39;00m \u001b[39mNone\u001b[39;00m \u001b[39mand\u001b[39;00m should_raise:\n\u001b[0;32m-> 1374\u001b[0m         \u001b[39mself\u001b[39;49m\u001b[39m.\u001b[39;49mraise_invalid_val(v)\n\u001b[1;32m   1376\u001b[0m     v \u001b[39m=\u001b[39m validated_v\n\u001b[1;32m   1378\u001b[0m \u001b[39mreturn\u001b[39;00m v\n",
      "File \u001b[0;32m~/anaconda3/envs/mdgp/lib/python3.10/site-packages/_plotly_utils/basevalidators.py:287\u001b[0m, in \u001b[0;36mBaseValidator.raise_invalid_val\u001b[0;34m(self, v, inds)\u001b[0m\n\u001b[1;32m    284\u001b[0m             \u001b[39mfor\u001b[39;00m i \u001b[39min\u001b[39;00m inds:\n\u001b[1;32m    285\u001b[0m                 name \u001b[39m+\u001b[39m\u001b[39m=\u001b[39m \u001b[39m\"\u001b[39m\u001b[39m[\u001b[39m\u001b[39m\"\u001b[39m \u001b[39m+\u001b[39m \u001b[39mstr\u001b[39m(i) \u001b[39m+\u001b[39m \u001b[39m\"\u001b[39m\u001b[39m]\u001b[39m\u001b[39m\"\u001b[39m\n\u001b[0;32m--> 287\u001b[0m         \u001b[39mraise\u001b[39;00m \u001b[39mValueError\u001b[39;00m(\n\u001b[1;32m    288\u001b[0m \u001b[39m            \u001b[39m\u001b[39m\"\"\"\u001b[39;00m\n\u001b[1;32m    289\u001b[0m \u001b[39m    Invalid value of type {typ} received for the '{name}' property of {pname}\u001b[39;00m\n\u001b[1;32m    290\u001b[0m \u001b[39m        Received value: {v}\u001b[39;00m\n\u001b[1;32m    291\u001b[0m \n\u001b[1;32m    292\u001b[0m \u001b[39m{valid_clr_desc}\"\"\"\u001b[39;00m\u001b[39m.\u001b[39mformat(\n\u001b[1;32m    293\u001b[0m                 name\u001b[39m=\u001b[39mname,\n\u001b[1;32m    294\u001b[0m                 pname\u001b[39m=\u001b[39m\u001b[39mself\u001b[39m\u001b[39m.\u001b[39mparent_name,\n\u001b[1;32m    295\u001b[0m                 typ\u001b[39m=\u001b[39mtype_str(v),\n\u001b[1;32m    296\u001b[0m                 v\u001b[39m=\u001b[39m\u001b[39mrepr\u001b[39m(v),\n\u001b[1;32m    297\u001b[0m                 valid_clr_desc\u001b[39m=\u001b[39m\u001b[39mself\u001b[39m\u001b[39m.\u001b[39mdescription(),\n\u001b[1;32m    298\u001b[0m             )\n\u001b[1;32m    299\u001b[0m         )\n",
      "\u001b[0;31mValueError\u001b[0m: \n    Invalid value of type 'builtins.int' received for the 'color' property of box.marker\n        Received value: 0\n\n    The 'color' property is a color and may be specified as:\n      - A hex string (e.g. '#ff0000')\n      - An rgb/rgba string (e.g. 'rgb(255,0,0)')\n      - An hsl/hsla string (e.g. 'hsl(0,100%,50%)')\n      - An hsv/hsva string (e.g. 'hsv(0,100%,100%)')\n      - A named CSS color:\n            aliceblue, antiquewhite, aqua, aquamarine, azure,\n            beige, bisque, black, blanchedalmond, blue,\n            blueviolet, brown, burlywood, cadetblue,\n            chartreuse, chocolate, coral, cornflowerblue,\n            cornsilk, crimson, cyan, darkblue, darkcyan,\n            darkgoldenrod, darkgray, darkgrey, darkgreen,\n            darkkhaki, darkmagenta, darkolivegreen, darkorange,\n            darkorchid, darkred, darksalmon, darkseagreen,\n            darkslateblue, darkslategray, darkslategrey,\n            darkturquoise, darkviolet, deeppink, deepskyblue,\n            dimgray, dimgrey, dodgerblue, firebrick,\n            floralwhite, forestgreen, fuchsia, gainsboro,\n            ghostwhite, gold, goldenrod, gray, grey, green,\n            greenyellow, honeydew, hotpink, indianred, indigo,\n            ivory, khaki, lavender, lavenderblush, lawngreen,\n            lemonchiffon, lightblue, lightcoral, lightcyan,\n            lightgoldenrodyellow, lightgray, lightgrey,\n            lightgreen, lightpink, lightsalmon, lightseagreen,\n            lightskyblue, lightslategray, lightslategrey,\n            lightsteelblue, lightyellow, lime, limegreen,\n            linen, magenta, maroon, mediumaquamarine,\n            mediumblue, mediumorchid, mediumpurple,\n            mediumseagreen, mediumslateblue, mediumspringgreen,\n            mediumturquoise, mediumvioletred, midnightblue,\n            mintcream, mistyrose, moccasin, navajowhite, navy,\n            oldlace, olive, olivedrab, orange, orangered,\n            orchid, palegoldenrod, palegreen, paleturquoise,\n            palevioletred, papayawhip, peachpuff, peru, pink,\n            plum, powderblue, purple, red, rosybrown,\n            royalblue, rebeccapurple, saddlebrown, salmon,\n            sandybrown, seagreen, seashell, sienna, silver,\n            skyblue, slateblue, slategray, slategrey, snow,\n            springgreen, steelblue, tan, teal, thistle, tomato,\n            turquoise, violet, wheat, white, whitesmoke,\n            yellow, yellowgreen"
     ]
    }
   ],
   "source": [
    "import plotly.graph_objects as go\n",
    "from plotly.subplots import make_subplots\n",
    "import pandas as pd\n",
    "\n",
    "# Read the data\n",
    "\n",
    "# Get unique values for the facets and categories\n",
    "num_train_values = df['num_train'].unique()\n",
    "num_hidden_values = df['num_hidden'].unique()\n",
    "outputscale_values = df['outputscale'].unique()\n",
    "\n",
    "# Create subplots for different num_train values\n",
    "fig = make_subplots(rows=len(num_train_values), cols=1, shared_xaxes=True, subplot_titles=num_train_values)\n",
    "\n",
    "# Iterate through the unique values to create the box traces\n",
    "for row, num_train in enumerate(num_train_values, start=1):\n",
    "    for x_val, num_hidden in enumerate(num_hidden_values):\n",
    "        for color_val, outputscale in enumerate(outputscale_values):\n",
    "            # Filter the DataFrame for the current combination of values\n",
    "            sub_df = df[(df['num_hidden'] == num_hidden) &\n",
    "                        (df['outputscale'] == outputscale) &\n",
    "                        (df['num_train'] == num_train)]\n",
    "            \n",
    "            # Create a Box trace for the filtered data\n",
    "            trace = go.Box(\n",
    "                y=sub_df[\"test-negative_log_predictive_density\"],\n",
    "                x=[num_hidden] * len(sub_df),\n",
    "                marker=dict(color=color_val), # You can map color_val to specific color names\n",
    "                name=f\"Outputscale {outputscale}\"\n",
    "            )\n",
    "            \n",
    "            # Add the trace to the subplot for the current num_train value\n",
    "            fig.add_trace(trace, row=row, col=1)\n",
    "\n",
    "# Update layout if necessary\n",
    "fig.update_layout(title=\"Your Title\", xaxis_title=\"num_hidden\", yaxis_title=\"test-negative_log_predictive_density\")\n",
    "\n",
    "# Show the plot\n",
    "fig.show()\n"
   ]
  }
 ],
 "metadata": {
  "kernelspec": {
   "display_name": "mdgp",
   "language": "python",
   "name": "python3"
  },
  "language_info": {
   "codemirror_mode": {
    "name": "ipython",
    "version": 3
   },
   "file_extension": ".py",
   "mimetype": "text/x-python",
   "name": "python",
   "nbconvert_exporter": "python",
   "pygments_lexer": "ipython3",
   "version": "3.10.12"
  },
  "orig_nbformat": 4
 },
 "nbformat": 4,
 "nbformat_minor": 2
}
