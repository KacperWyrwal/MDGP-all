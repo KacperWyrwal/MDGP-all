{
 "cells": [
  {
   "cell_type": "code",
   "execution_count": 6,
   "metadata": {},
   "outputs": [],
   "source": [
    "import torch \n",
    "import geometric_kernels.torch \n",
    "from geometric_kernels.spaces import Hypersphere\n",
    "from mdgp.models.deep_gps import GeometricManifoldDeepGP\n",
    "from mdgp.utils import sphere_uniform_grid\n",
    "from mdgp.samplers import sample_naive"
   ]
  },
  {
   "cell_type": "code",
   "execution_count": 2,
   "metadata": {},
   "outputs": [],
   "source": [
    "# Single-output models with 0-3 hidden layers\n",
    "x = sphere_uniform_grid(400)\n",
    "inducing_points = sphere_uniform_grid(60)\n",
    "space = Hypersphere(2)\n",
    "models = [\n",
    "    GeometricManifoldDeepGP(space=space, num_hidden=h, inducing_points=inducing_points)\n",
    "    for h in range(8)\n",
    "]"
   ]
  },
  {
   "cell_type": "markdown",
   "metadata": {},
   "source": [
    "### It seems that every additional layer above 1 adds aroudn 0.51 seconds to the forward pass in inference mode"
   ]
  },
  {
   "cell_type": "code",
   "execution_count": 4,
   "metadata": {},
   "outputs": [
    {
     "name": "stdout",
     "output_type": "stream",
     "text": [
      "Hidden layers: 0\n",
      "14.7 ms ± 4.61 ms per loop (mean ± std. dev. of 7 runs, 10 loops each)\n",
      "Hidden layers: 1\n",
      "149 ms ± 6.44 ms per loop (mean ± std. dev. of 7 runs, 10 loops each)\n",
      "Hidden layers: 2\n",
      "384 ms ± 16.3 ms per loop (mean ± std. dev. of 7 runs, 10 loops each)\n",
      "Hidden layers: 3\n",
      "475 ms ± 10.7 ms per loop (mean ± std. dev. of 7 runs, 10 loops each)\n",
      "Hidden layers: 4\n",
      "664 ms ± 37.6 ms per loop (mean ± std. dev. of 7 runs, 10 loops each)\n",
      "Hidden layers: 5\n",
      "871 ms ± 44.3 ms per loop (mean ± std. dev. of 7 runs, 10 loops each)\n",
      "Hidden layers: 6\n",
      "1.05 s ± 45.7 ms per loop (mean ± std. dev. of 7 runs, 10 loops each)\n",
      "Hidden layers: 7\n",
      "1.26 s ± 52.2 ms per loop (mean ± std. dev. of 7 runs, 10 loops each)\n"
     ]
    }
   ],
   "source": [
    "torch.set_grad_enabled(False)\n",
    "for h, model in enumerate(models): \n",
    "    print(f\"Hidden layers: {h}\")\n",
    "    # time model forward pass via timeit with 10 loops each \n",
    "    %timeit -n 10 model(x)"
   ]
  },
  {
   "cell_type": "markdown",
   "metadata": {},
   "source": [
    "### In training mode each additional layer adds around "
   ]
  },
  {
   "cell_type": "code",
   "execution_count": 3,
   "metadata": {},
   "outputs": [
    {
     "name": "stdout",
     "output_type": "stream",
     "text": [
      "Hidden layers: 0\n",
      "11.1 ms ± 2.08 ms per loop (mean ± std. dev. of 7 runs, 10 loops each)\n",
      "Hidden layers: 1\n",
      "172 ms ± 5.61 ms per loop (mean ± std. dev. of 7 runs, 10 loops each)\n",
      "Hidden layers: 2\n",
      "532 ms ± 19.6 ms per loop (mean ± std. dev. of 7 runs, 10 loops each)\n",
      "Hidden layers: 3\n",
      "919 ms ± 73.2 ms per loop (mean ± std. dev. of 7 runs, 10 loops each)\n"
     ]
    }
   ],
   "source": [
    "torch.set_grad_enabled(True)\n",
    "for h, model in enumerate(models): \n",
    "    if h > 3: \n",
    "        break \n",
    "    print(f\"Hidden layers: {h}\")\n",
    "    # time model forward pass via timeit with 10 loops each \n",
    "    %timeit -n 10 model(x)"
   ]
  },
  {
   "cell_type": "code",
   "execution_count": 8,
   "metadata": {},
   "outputs": [
    {
     "name": "stdout",
     "output_type": "stream",
     "text": [
      "Hidden layers: 0\n",
      "30.2 ms ± 2.15 ms per loop (mean ± std. dev. of 7 runs, 10 loops each)\n",
      "Hidden layers: 1\n",
      "415 ms ± 8.68 ms per loop (mean ± std. dev. of 7 runs, 10 loops each)\n",
      "Hidden layers: 2\n",
      "1.33 s ± 55 ms per loop (mean ± std. dev. of 7 runs, 10 loops each)\n",
      "Hidden layers: 3\n",
      "2.33 s ± 71.8 ms per loop (mean ± std. dev. of 7 runs, 10 loops each)\n",
      "Hidden layers: 4\n",
      "3.52 s ± 217 ms per loop (mean ± std. dev. of 7 runs, 10 loops each)\n"
     ]
    }
   ],
   "source": [
    "torch.set_grad_enabled(True)\n",
    "for h, model in enumerate(models): \n",
    "    if h > 4: \n",
    "        break \n",
    "    print(f\"Hidden layers: {h}\")\n",
    "    # time model forward pass via timeit with 10 loops each \n",
    "    %timeit -n 10 sample_naive(model(x)).mean().backward()"
   ]
  },
  {
   "cell_type": "code",
   "execution_count": null,
   "metadata": {},
   "outputs": [],
   "source": []
  },
  {
   "cell_type": "markdown",
   "metadata": {},
   "source": [
    "# Using vectorisation we speed up computation by around 5 times "
   ]
  }
 ],
 "metadata": {
  "kernelspec": {
   "display_name": "mdgp",
   "language": "python",
   "name": "python3"
  },
  "language_info": {
   "codemirror_mode": {
    "name": "ipython",
    "version": 3
   },
   "file_extension": ".py",
   "mimetype": "text/x-python",
   "name": "python",
   "nbconvert_exporter": "python",
   "pygments_lexer": "ipython3",
   "version": "3.11.4"
  },
  "orig_nbformat": 4
 },
 "nbformat": 4,
 "nbformat_minor": 2
}
