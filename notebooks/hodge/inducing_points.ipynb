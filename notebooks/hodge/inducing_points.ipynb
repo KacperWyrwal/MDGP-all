{
 "cells": [
  {
   "cell_type": "code",
   "execution_count": 25,
   "metadata": {},
   "outputs": [],
   "source": [
    "import torch \n",
    "from torch import nn \n",
    "from torch import Tensor \n",
    "import gpytorch \n",
    "from gpytorch.distributions import MultivariateNormal\n",
    "from gpytorch.variational import _VariationalDistribution, CholeskyVariationalDistribution"
   ]
  },
  {
   "cell_type": "code",
   "execution_count": 26,
   "metadata": {},
   "outputs": [],
   "source": [
    "class HodgeVariationalDistribution(nn.Module): \n",
    "    \"\"\"\n",
    "    TODO Currently only supports CholeskyVariationalDistribution. \n",
    "    \"\"\"\n",
    "    def __init__(\n",
    "        self, \n",
    "        base_variational_distribution: CholeskyVariationalDistribution, \n",
    "        dim: int\n",
    "    ) -> None: \n",
    "        super().__init__()\n",
    "        base_variational_distribution.variational_mean = nn.Parameter(\n",
    "            base_variational_distribution.variational_mean.tile((dim,))\n",
    "        )\n",
    "        base_variational_distribution.chol_variational_covar = nn.Parameter(\n",
    "            base_variational_distribution.chol_variational_covar.tile((dim, dim))\n",
    "        )\n",
    "        self.dim = dim \n",
    "        self.base_variational_distribution = base_variational_distribution\n",
    "\n",
    "    @property \n",
    "    def variational_mean(self) -> Tensor: \n",
    "        return self.base_variational_distribution.variational_mean\n",
    "    \n",
    "    def chol_variational_covar(self) -> Tensor: \n",
    "        return self.base_variational_distribution.chol_variational_covar\n",
    "\n",
    "    def forward(self) -> MultivariateNormal: \n",
    "        return self.base_variational_distribution.forward()\n",
    "\n",
    "    def initialize_variational_distribution(self, prior_dist: MultivariateNormal) -> None:\n",
    "        return self.base_variational_distribution.initialize_variational_distribution(prior_dist)"
   ]
  },
  {
   "cell_type": "code",
   "execution_count": 27,
   "metadata": {},
   "outputs": [],
   "source": [
    "base_var_dist = CholeskyVariationalDistribution(5)\n",
    "var_dist = HodgeVariationalDistribution(base_var_dist, 2)"
   ]
  },
  {
   "cell_type": "code",
   "execution_count": 28,
   "metadata": {},
   "outputs": [],
   "source": [
    "from gpytorch.variational import VariationalStrategy\n",
    "from gpytorch.models import ApproximateGP"
   ]
  },
  {
   "cell_type": "code",
   "execution_count": null,
   "metadata": {},
   "outputs": [],
   "source": []
  },
  {
   "cell_type": "code",
   "execution_count": null,
   "metadata": {},
   "outputs": [],
   "source": [
    "VariationalStrategy(\n",
    "    \n",
    ")"
   ]
  }
 ],
 "metadata": {
  "kernelspec": {
   "display_name": "mdgp_requirements_test1",
   "language": "python",
   "name": "python3"
  },
  "language_info": {
   "codemirror_mode": {
    "name": "ipython",
    "version": 3
   },
   "file_extension": ".py",
   "mimetype": "text/x-python",
   "name": "python",
   "nbconvert_exporter": "python",
   "pygments_lexer": "ipython3",
   "version": "3.11.7"
  }
 },
 "nbformat": 4,
 "nbformat_minor": 2
}
