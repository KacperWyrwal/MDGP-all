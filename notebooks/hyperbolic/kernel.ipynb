{
 "cells": [
  {
   "cell_type": "markdown",
   "metadata": {},
   "source": [
    "# Hyperbolic kernel extension to batch dimensions for implementation in deep GPs"
   ]
  },
  {
   "cell_type": "code",
   "execution_count": 2,
   "metadata": {},
   "outputs": [
    {
     "name": "stderr",
     "output_type": "stream",
     "text": [
      "/home/kacperwyrwal/miniconda3/envs/mdgp_requirements_test7/lib/python3.11/site-packages/tqdm/auto.py:21: TqdmWarning: IProgress not found. Please update jupyter and ipywidgets. See https://ipywidgets.readthedocs.io/en/stable/user_install.html\n",
      "  from .autonotebook import tqdm as notebook_tqdm\n",
      "INFO: Using pytorch backend\n"
     ]
    }
   ],
   "source": [
    "import torch \n",
    "import geometric_kernels.torch\n",
    "from geometric_kernels.frontends.pytorch.gpytorch import GPytorchGeometricKernel\n",
    "from geometric_kernels.kernels.geometric_kernels import MaternFeatureMapKernel\n",
    "from geometric_kernels.spaces import Hyperbolic, SymmetricPositiveDefiniteMatrices, DiscreteSpectrumSpace, Space\n",
    "from geometric_kernels.kernels.feature_maps import deterministic_feature_map_compact, rejection_sampling_feature_map_spd, rejection_sampling_feature_map_hyperbolic\n",
    "\n",
    "\n",
    "def get_feature_map(space, num_random_phases, num_eigenfunctions):\n",
    "    if isinstance(space, Hyperbolic): \n",
    "        return rejection_sampling_feature_map_hyperbolic(space=space, num_random_phases=num_random_phases)\n",
    "    if isinstance(space, SymmetricPositiveDefiniteMatrices):\n",
    "        return rejection_sampling_feature_map_spd(space=space, num_random_phases=num_random_phases)\n",
    "    if isinstance(space, DiscreteSpectrumSpace):\n",
    "        return deterministic_feature_map_compact(space=space, num_eigenfunctions=num_eigenfunctions)\n",
    "    raise NotImplementedError(f\"Feature map for space {space} not implemented\")\n",
    "\n",
    "\n",
    "class GeometricMaternKernel(GPytorchGeometricKernel): \n",
    "    def __init__(\n",
    "            self, \n",
    "            space: Space, \n",
    "            lengthscale=1.0, \n",
    "            nu=2.5, \n",
    "            trainable_nu=True, \n",
    "            num_eigenfunctions=35, \n",
    "            num_random_phases=3000,\n",
    "            **kwargs\n",
    "        ): \n",
    "        feature_map = get_feature_map(space=space, num_eigenfunctions=num_eigenfunctions, num_random_phases=num_random_phases)\n",
    "        key = torch.Generator() # torch random state\n",
    "\n",
    "        geometric_kernel = MaternFeatureMapKernel(\n",
    "            space=space, \n",
    "            feature_map=feature_map,\n",
    "            key=key,\n",
    "            normalize=True, \n",
    "        )\n",
    "        super().__init__(geometric_kernel, lengthscale=lengthscale, nu=nu, trainable_nu=trainable_nu, **kwargs)"
   ]
  },
  {
   "cell_type": "code",
   "execution_count": 3,
   "metadata": {},
   "outputs": [],
   "source": [
    "space = Hyperbolic(dim=2)\n",
    "kernel = GeometricMaternKernel(space=space, num_eigenfunctions=35, num_random_phases=500, ard_num_dims=None)\n",
    "x = torch.randn(100, 3)\n",
    "x = space.projection(x)\n",
    "assert kernel(x, x).evaluate().shape == (100, 100)"
   ]
  },
  {
   "cell_type": "code",
   "execution_count": 4,
   "metadata": {},
   "outputs": [],
   "source": [
    "batch_shape = torch.Size([13, 7])\n",
    "kernel = GeometricMaternKernel(space=space, num_eigenfunctions=35, num_random_phases=500, batch_shape=batch_shape)\n",
    "x = torch.randn(*batch_shape, 100, 3)\n",
    "x = space.projection(x)"
   ]
  },
  {
   "cell_type": "code",
   "execution_count": 5,
   "metadata": {},
   "outputs": [
    {
     "name": "stdout",
     "output_type": "stream",
     "text": [
      "torch.Size([13, 7, 100, 100])\n"
     ]
    }
   ],
   "source": [
    "print(kernel(x, x).evaluate().shape)"
   ]
  }
 ],
 "metadata": {
  "kernelspec": {
   "display_name": "mdgp_requirements_test7",
   "language": "python",
   "name": "python3"
  },
  "language_info": {
   "codemirror_mode": {
    "name": "ipython",
    "version": 3
   },
   "file_extension": ".py",
   "mimetype": "text/x-python",
   "name": "python",
   "nbconvert_exporter": "python",
   "pygments_lexer": "ipython3",
   "version": "3.11.5"
  }
 },
 "nbformat": 4,
 "nbformat_minor": 2
}
