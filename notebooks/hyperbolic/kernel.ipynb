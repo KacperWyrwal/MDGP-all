{
 "cells": [
  {
   "cell_type": "markdown",
   "metadata": {},
   "source": [
    "# Hyperbolic kernel extension to batch dimensions for implementation in deep GPs"
   ]
  },
  {
   "cell_type": "code",
   "execution_count": 1,
   "metadata": {},
   "outputs": [
    {
     "name": "stderr",
     "output_type": "stream",
     "text": [
      "INFO: Using pytorch backend\n",
      "/home/kacperwyrwal/miniconda3/envs/mdgp_requirements_test7/lib/python3.11/site-packages/tqdm/auto.py:21: TqdmWarning: IProgress not found. Please update jupyter and ipywidgets. See https://ipywidgets.readthedocs.io/en/stable/user_install.html\n",
      "  from .autonotebook import tqdm as notebook_tqdm\n"
     ]
    }
   ],
   "source": [
    "import os \n",
    "os.environ['GEOMSTATS_BACKEND'] = 'pytorch'\n",
    "\n",
    "import geomstats._backend as gs \n",
    "import geometric_kernels.torch \n",
    "\n",
    "\n",
    "import torch \n",
    "from mdgp.kernels import GeometricMaternKernel\n",
    "from geometric_kernels.spaces import Hyperbolic\n"
   ]
  },
  {
   "cell_type": "code",
   "execution_count": 2,
   "metadata": {},
   "outputs": [
    {
     "name": "stderr",
     "output_type": "stream",
     "text": [
      "/home/kacperwyrwal/miniconda3/envs/mdgp_requirements_test7/lib/python3.11/site-packages/mdgp/kernels/matern_kernel.py:67: UserWarning: Only one of num_random_phases and num_eigenfunctions will be used. You have passed both. Make sure this is intended.\n",
      "  warn(\"Only one of num_random_phases and num_eigenfunctions will be used. You have passed both. Make sure this is intended.\")\n"
     ]
    }
   ],
   "source": [
    "space = Hyperbolic(dim=2)\n",
    "kernel = GeometricMaternKernel(space=space, num_eigenfunctions=35, num_random_phases=500, ard_num_dims=None, seed=0)\n",
    "x = torch.randn(100, 3)\n",
    "x = space.projection(x)\n",
    "assert kernel(x, x).evaluate().shape == (100, 100)"
   ]
  },
  {
   "cell_type": "code",
   "execution_count": 3,
   "metadata": {},
   "outputs": [],
   "source": [
    "batch_shape = torch.Size([13, 7])\n",
    "kernel = GeometricMaternKernel(space=space, num_eigenfunctions=35, num_random_phases=500, batch_shape=batch_shape, seed=0)\n",
    "x = torch.randn(*batch_shape, 100, 3)\n",
    "x = space.projection(x)\n",
    "assert kernel(x, x).evaluate().shape == (*batch_shape, 100, 100)"
   ]
  }
 ],
 "metadata": {
  "kernelspec": {
   "display_name": "mdgp_requirements_test7",
   "language": "python",
   "name": "python3"
  },
  "language_info": {
   "codemirror_mode": {
    "name": "ipython",
    "version": 3
   },
   "file_extension": ".py",
   "mimetype": "text/x-python",
   "name": "python",
   "nbconvert_exporter": "python",
   "pygments_lexer": "ipython3",
   "version": "3.11.5"
  }
 },
 "nbformat": 4,
 "nbformat_minor": 2
}
