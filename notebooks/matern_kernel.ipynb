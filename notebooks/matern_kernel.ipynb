{
 "cells": [
  {
   "cell_type": "code",
   "execution_count": 1,
   "metadata": {},
   "outputs": [
    {
     "name": "stderr",
     "output_type": "stream",
     "text": [
      "/home/kacperwyrwal/miniconda3/envs/mdgp/lib/python3.11/site-packages/tqdm/auto.py:21: TqdmWarning: IProgress not found. Please update jupyter and ipywidgets. See https://ipywidgets.readthedocs.io/en/stable/user_install.html\n",
      "  from .autonotebook import tqdm as notebook_tqdm\n",
      "INFO: Using numpy backend\n"
     ]
    }
   ],
   "source": [
    "import torch \n",
    "import gpytorch\n",
    "import geometric_kernels.torch\n",
    "from mdgp.kernels import GeometricMaternKernel\n",
    "from geometric_kernels.spaces import Hypersphere"
   ]
  },
  {
   "cell_type": "code",
   "execution_count": 2,
   "metadata": {},
   "outputs": [],
   "source": [
    "DIM = 2\n",
    "SPACE = Hypersphere(DIM)\n",
    "NU = 2.5\n",
    "NUM_EIGENFUNCTIONS = 30\n",
    "BATCH_SHAPE = torch.Size([2])\n",
    "\n",
    "base_kernel = GeometricMaternKernel(space=SPACE, nu=NU, num_eigenfunctions=NUM_EIGENFUNCTIONS, batch_shape=BATCH_SHAPE)\n",
    "kernel = gpytorch.kernels.ScaleKernel(base_kernel, batch_shape=BATCH_SHAPE)\n",
    "rbf = gpytorch.kernels.ScaleKernel(gpytorch.kernels.RBFKernel(batch_shape=BATCH_SHAPE))"
   ]
  },
  {
   "cell_type": "code",
   "execution_count": 3,
   "metadata": {},
   "outputs": [],
   "source": [
    "import pytest\n",
    "\n",
    "\n",
    "def test_kernel_output_shape(kernel):\n",
    "    x1 = torch.randn(13, 3)\n",
    "    x2 = torch.randn(17, 3)\n",
    "    x3 = torch.randn(10, 2, 19, 3)\n",
    "    x4 = torch.randn(10, 2, 11, 3)\n",
    "\n",
    "    # Evaluate is necessary here, since sometimes lazy shape will appear correct in spite of an incorrect evaluated shape \n",
    "    with torch.no_grad():\n",
    "        assert kernel(x1, x2).evaluate().shape == torch.Size([2, 13, 17])\n",
    "        assert kernel(x2, x3).evaluate().shape == torch.Size([10, 2, 17, 19])\n",
    "        assert kernel(x3, x4).evaluate().shape == torch.Size([10, 2, 19, 11])\n",
    "\n",
    "        assert kernel(x1).evaluate().shape == torch.Size([2, 13, 13])\n",
    "        assert kernel(x3).evaluate().shape == torch.Size([10, 2, 19, 19])\n",
    "\n",
    "        assert kernel(x1, diag=True).shape == torch.Size([2, 13])\n",
    "        assert kernel(x3, diag=True).shape == torch.Size([10, 2, 19])\n",
    "\n",
    "test_kernel_output_shape(kernel)"
   ]
  },
  {
   "cell_type": "code",
   "execution_count": 4,
   "metadata": {},
   "outputs": [],
   "source": [
    "def sphere_randn(*size, **kwargs):\n",
    "    x = torch.randn(*size, 3, **kwargs)\n",
    "    return x / x.norm(dim=-1, keepdim=True)\n",
    "\n",
    "\n",
    "def test_kernel_normalization(base_kernel):\n",
    "    x1 = sphere_randn(10, *base_kernel.batch_shape, 19)\n",
    "    x2 = sphere_randn(10, *base_kernel.batch_shape, 17)\n",
    "    with torch.no_grad():\n",
    "        diag = base_kernel(x1, diag=True)\n",
    "        k = base_kernel(x1, x2).evaluate()\n",
    "    \n",
    "    assert torch.allclose(diag, torch.ones_like(diag))\n",
    "    assert torch.all(k <= 1.)\n",
    "\n",
    "\n",
    "test_kernel_normalization(base_kernel)"
   ]
  }
 ],
 "metadata": {
  "kernelspec": {
   "display_name": "mdgp",
   "language": "python",
   "name": "python3"
  },
  "language_info": {
   "codemirror_mode": {
    "name": "ipython",
    "version": 3
   },
   "file_extension": ".py",
   "mimetype": "text/x-python",
   "name": "python",
   "nbconvert_exporter": "python",
   "pygments_lexer": "ipython3",
   "version": "3.11.4"
  },
  "orig_nbformat": 4
 },
 "nbformat": 4,
 "nbformat_minor": 2
}
