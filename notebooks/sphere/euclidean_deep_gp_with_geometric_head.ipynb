{
 "cells": [
  {
   "cell_type": "code",
   "execution_count": 6,
   "metadata": {},
   "outputs": [],
   "source": [
    "import torch \n",
    "import plotly.io as pio\n",
    "from plotly import graph_objects as go\n",
    "from plotly.subplots import make_subplots\n",
    "\n",
    "\n",
    "pio.templates.default = \"plotly_dark\"\n",
    "torch.set_default_dtype(torch.float64)"
   ]
  },
  {
   "cell_type": "code",
   "execution_count": 15,
   "metadata": {},
   "outputs": [],
   "source": [
    "import geometric_kernels.torch \n",
    "\n",
    "from mdgp.models.deep_gps.deep_gps import EuclideanDeepGPWithGeometricHead\n",
    "from mdgp.utils import sphere_uniform_grid, sphere_meshgrid\n",
    "from geometric_kernels.spaces import Hypersphere"
   ]
  },
  {
   "cell_type": "code",
   "execution_count": 16,
   "metadata": {},
   "outputs": [],
   "source": [
    "inducing_points = sphere_uniform_grid(100)\n",
    "space = Hypersphere(2)\n",
    "\n",
    "model = EuclideanDeepGPWithGeometricHead(\n",
    "    space=space, \n",
    "    num_hidden=3, \n",
    "    inducing_points=inducing_points, \n",
    ")"
   ]
  },
  {
   "cell_type": "code",
   "execution_count": 17,
   "metadata": {},
   "outputs": [],
   "source": [
    "test_inputs = sphere_meshgrid(50, 50)"
   ]
  },
  {
   "cell_type": "code",
   "execution_count": 18,
   "metadata": {},
   "outputs": [
    {
     "data": {
      "text/plain": [
       "tensor([[-3.4231e-04,  1.3908e-11, -1.9432e-16,  ..., -4.1397e-11,\n",
       "         -2.2404e-14, -1.4015e-04],\n",
       "        [-8.1217e-21, -2.0141e-07, -5.8591e-14,  ..., -1.4482e-12,\n",
       "         -1.5367e-11,  1.3886e-04],\n",
       "        [-1.3756e-21,  4.2533e-23, -5.8541e-05,  ..., -3.3452e-14,\n",
       "         -3.0274e-05, -2.2237e-12],\n",
       "        ...,\n",
       "        [-2.6741e-06, -6.0136e-11, -3.8476e-05,  ...,  6.8061e-17,\n",
       "         -2.3200e-25, -7.6359e-12],\n",
       "        [-1.8979e-10, -1.0977e-11,  6.9353e-14,  ..., -5.6386e-05,\n",
       "          1.5514e-06, -2.3566e-06],\n",
       "        [-4.3747e-17, -7.4718e-06, -7.0231e-14,  ..., -4.2595e-10,\n",
       "         -5.0180e-05, -1.1233e-09]], grad_fn=<AddBackward0>)"
      ]
     },
     "execution_count": 18,
     "metadata": {},
     "output_type": "execute_result"
    }
   ],
   "source": [
    "model(test_inputs.view(-1, 3)).mean"
   ]
  }
 ],
 "metadata": {
  "kernelspec": {
   "display_name": "mdgp_requirements_test7",
   "language": "python",
   "name": "python3"
  },
  "language_info": {
   "codemirror_mode": {
    "name": "ipython",
    "version": 3
   },
   "file_extension": ".py",
   "mimetype": "text/x-python",
   "name": "python",
   "nbconvert_exporter": "python",
   "pygments_lexer": "ipython3",
   "version": "3.11.5"
  }
 },
 "nbformat": 4,
 "nbformat_minor": 2
}
