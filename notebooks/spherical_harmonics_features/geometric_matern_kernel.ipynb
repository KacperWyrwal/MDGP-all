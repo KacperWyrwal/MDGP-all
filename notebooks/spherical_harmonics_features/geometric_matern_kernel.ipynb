{
 "cells": [
  {
   "cell_type": "code",
   "execution_count": 1,
   "metadata": {},
   "outputs": [
    {
     "name": "stderr",
     "output_type": "stream",
     "text": [
      "INFO: Using numpy backend\n"
     ]
    }
   ],
   "source": [
    "import torch \n",
    "import geometric_kernels.torch \n",
    "from geometric_kernels.spaces import Hypersphere \n",
    "from gpytorch.kernels import ScaleKernel\n",
    "from mdgp.kernels import GeometricMaternKernel\n",
    "from mdgp.utils import sphere_random_uniform"
   ]
  },
  {
   "cell_type": "code",
   "execution_count": 2,
   "metadata": {},
   "outputs": [
    {
     "data": {
      "text/plain": [
       "tensor([[[1.0000]],\n",
       "\n",
       "        [[1.0000]]], grad_fn=<PermuteBackward0>)"
      ]
     },
     "execution_count": 2,
     "metadata": {},
     "output_type": "execute_result"
    }
   ],
   "source": [
    "x = sphere_random_uniform(1, 3)\n",
    "space = Hypersphere(2)\n",
    "batch_shape = torch.Size([2])\n",
    "kernel = GeometricMaternKernel(space=space, batch_shape=batch_shape)\n",
    "kernel.lengthscale = torch.tensor([[[20.0], [1.0]]])\n",
    "kernel(x).evaluate()"
   ]
  },
  {
   "cell_type": "code",
   "execution_count": 3,
   "metadata": {},
   "outputs": [
    {
     "name": "stdout",
     "output_type": "stream",
     "text": [
      "tensor([[[3.5777e+04]],\n",
      "\n",
      "        [[8.5570e-03]]]) tensor([[35777.3359]]) tensor([[0.0086]])\n",
      "tensor([[[1.0000]],\n",
      "\n",
      "        [[1.0000]]]) tensor([[1.0000]]) tensor([[1.0000]])\n"
     ]
    }
   ],
   "source": [
    "from geometric_kernels.frontends.pytorch.gpytorch import GPytorchGeometricKernel\n",
    "from geometric_kernels.kernels import MaternKarhunenLoeveKernel\n",
    "\n",
    "\n",
    "kernel_unnorm = MaternKarhunenLoeveKernel(space=space, num_levels=25, normalize=False)\n",
    "kernel_norm = MaternKarhunenLoeveKernel(space=space, num_levels=25, normalize=True)\n",
    "params = {\n",
    "    \"lengthscale\": torch.tensor([[[10.0]], [[1.0]]]),\n",
    "    \"nu\": torch.tensor([[[2.5]], [[2.5]]]),\n",
    "}\n",
    "params0 = {\n",
    "    \"lengthscale\": torch.tensor([[10.0]]),\n",
    "    \"nu\": torch.tensor([[2.5]]),\n",
    "}\n",
    "params1 = {\n",
    "    \"lengthscale\": torch.tensor([[1.0]]),\n",
    "    \"nu\": torch.tensor([[2.5]]),\n",
    "}\n",
    "\n",
    "print(kernel_unnorm.K(params, x), kernel_unnorm.K(params0, x), kernel_unnorm.K(params1, x))\n",
    "print(kernel_norm.K(params, x), kernel_norm.K(params0, x), kernel_norm.K(params1, x))"
   ]
  },
  {
   "cell_type": "markdown",
   "metadata": {},
   "source": [
    "# RBF kernel "
   ]
  },
  {
   "cell_type": "code",
   "execution_count": 5,
   "metadata": {},
   "outputs": [
    {
     "name": "stdout",
     "output_type": "stream",
     "text": [
      "tensor([[[1.0000]],\n",
      "\n",
      "        [[2.3703]]]) tensor([[1.]]) tensor([[2.3703]])\n",
      "tensor([[[1.]],\n",
      "\n",
      "        [[1.]]]) tensor([[1.]]) tensor([[1.]])\n"
     ]
    }
   ],
   "source": [
    "kernel_unnorm = MaternKarhunenLoeveKernel(space=space, num_levels=25, normalize=False)\n",
    "kernel_norm = MaternKarhunenLoeveKernel(space=space, num_levels=25, normalize=True)\n",
    "params = {\n",
    "    \"lengthscale\": torch.tensor([[[10.0]], [[1.0]]]),\n",
    "    \"nu\": torch.tensor([[[torch.inf]], [[torch.inf]]]),\n",
    "}\n",
    "params0 = {\n",
    "    \"lengthscale\": torch.tensor([[10.0]]),\n",
    "    \"nu\": torch.tensor([[torch.inf]]),\n",
    "}\n",
    "params1 = {\n",
    "    \"lengthscale\": torch.tensor([[1.0]]),\n",
    "    \"nu\": torch.tensor([[torch.inf]]),\n",
    "}\n",
    "\n",
    "print(kernel_unnorm.K(params, x), kernel_unnorm.K(params0, x), kernel_unnorm.K(params1, x))\n",
    "print(kernel_norm.K(params, x), kernel_norm.K(params0, x), kernel_norm.K(params1, x))"
   ]
  },
  {
   "cell_type": "code",
   "execution_count": 10,
   "metadata": {},
   "outputs": [],
   "source": [
    "from mdgp.kernels import GeometricMaternKernel\n",
    "from mdgp.utils import sphere_random_uniform\n",
    "\n",
    "\n",
    "x = sphere_random_uniform(2, 10, 3)\n",
    "space = Hypersphere(2)\n",
    "batch_shape = torch.Size([2])\n",
    "kernel = GeometricMaternKernel(space=space, batch_shape=batch_shape, nu=torch.inf, trainable_nu=False)\n",
    "kernel(x).evaluate();"
   ]
  },
  {
   "cell_type": "markdown",
   "metadata": {},
   "source": [
    "# Projecting a multivariate normal distribution"
   ]
  },
  {
   "cell_type": "code",
   "execution_count": 11,
   "metadata": {},
   "outputs": [],
   "source": [
    "import gpytorch \n",
    "from gpytorch.distributions import MultitaskMultivariateNormal, MultivariateNormal\n",
    "from gpytorch.lazy import LazyEvaluatedKernelTensor"
   ]
  },
  {
   "cell_type": "code",
   "execution_count": 15,
   "metadata": {},
   "outputs": [
    {
     "ename": "RuntimeError",
     "evalue": "mean shape torch.Size([10, 13]) is incompatible with covariance shape torch.Size([10, 13, 13])",
     "output_type": "error",
     "traceback": [
      "\u001b[0;31m---------------------------------------------------------------------------\u001b[0m",
      "\u001b[0;31mRuntimeError\u001b[0m                              Traceback (most recent call last)",
      "Cell \u001b[0;32mIn[15], line 4\u001b[0m\n\u001b[1;32m      2\u001b[0m covar \u001b[38;5;241m=\u001b[39m C \u001b[38;5;241m@\u001b[39m C\u001b[38;5;241m.\u001b[39mmT\n\u001b[1;32m      3\u001b[0m mean \u001b[38;5;241m=\u001b[39m torch\u001b[38;5;241m.\u001b[39mrandn(\u001b[38;5;241m10\u001b[39m, \u001b[38;5;241m13\u001b[39m)\n\u001b[0;32m----> 4\u001b[0m mvn \u001b[38;5;241m=\u001b[39m \u001b[43mMultitaskMultivariateNormal\u001b[49m\u001b[43m(\u001b[49m\u001b[43mmean\u001b[49m\u001b[43m,\u001b[49m\u001b[43m \u001b[49m\u001b[43mcovar\u001b[49m\u001b[43m)\u001b[49m\n",
      "File \u001b[0;32m~/miniconda3/envs/mdgp_requirements_test1/lib/python3.11/site-packages/gpytorch/distributions/multitask_multivariate_normal.py:42\u001b[0m, in \u001b[0;36mMultitaskMultivariateNormal.__init__\u001b[0;34m(self, mean, covariance_matrix, validate_args, interleaved)\u001b[0m\n\u001b[1;32m     40\u001b[0m \u001b[38;5;28;01mif\u001b[39;00m mean\u001b[38;5;241m.\u001b[39mshape[\u001b[38;5;241m-\u001b[39m\u001b[38;5;241m2\u001b[39m:]\u001b[38;5;241m.\u001b[39mnumel() \u001b[38;5;241m!=\u001b[39m covariance_matrix\u001b[38;5;241m.\u001b[39msize(\u001b[38;5;241m-\u001b[39m\u001b[38;5;241m1\u001b[39m):\n\u001b[1;32m     41\u001b[0m     \u001b[38;5;28;01mif\u001b[39;00m covariance_matrix\u001b[38;5;241m.\u001b[39msize(\u001b[38;5;241m-\u001b[39m\u001b[38;5;241m1\u001b[39m) \u001b[38;5;241m%\u001b[39m mean\u001b[38;5;241m.\u001b[39mshape[\u001b[38;5;241m-\u001b[39m\u001b[38;5;241m2\u001b[39m:]\u001b[38;5;241m.\u001b[39mnumel():\n\u001b[0;32m---> 42\u001b[0m         \u001b[38;5;28;01mraise\u001b[39;00m \u001b[38;5;167;01mRuntimeError\u001b[39;00m(\n\u001b[1;32m     43\u001b[0m             \u001b[38;5;124mf\u001b[39m\u001b[38;5;124m\"\u001b[39m\u001b[38;5;124mmean shape \u001b[39m\u001b[38;5;132;01m{\u001b[39;00mmean\u001b[38;5;241m.\u001b[39mshape\u001b[38;5;132;01m}\u001b[39;00m\u001b[38;5;124m is incompatible with covariance shape \u001b[39m\u001b[38;5;132;01m{\u001b[39;00mcovariance_matrix\u001b[38;5;241m.\u001b[39mshape\u001b[38;5;132;01m}\u001b[39;00m\u001b[38;5;124m\"\u001b[39m\n\u001b[1;32m     44\u001b[0m         )\n\u001b[1;32m     45\u001b[0m     \u001b[38;5;28;01melif\u001b[39;00m mean\u001b[38;5;241m.\u001b[39msize(\u001b[38;5;241m-\u001b[39m\u001b[38;5;241m2\u001b[39m) \u001b[38;5;241m==\u001b[39m \u001b[38;5;241m1\u001b[39m:\n\u001b[1;32m     46\u001b[0m         mean \u001b[38;5;241m=\u001b[39m mean\u001b[38;5;241m.\u001b[39mexpand(\u001b[38;5;241m*\u001b[39mbatch_shape, covariance_matrix\u001b[38;5;241m.\u001b[39msize(\u001b[38;5;241m-\u001b[39m\u001b[38;5;241m1\u001b[39m) \u001b[38;5;241m/\u001b[39m\u001b[38;5;241m/\u001b[39m mean\u001b[38;5;241m.\u001b[39msize(\u001b[38;5;241m-\u001b[39m\u001b[38;5;241m1\u001b[39m), mean\u001b[38;5;241m.\u001b[39msize(\u001b[38;5;241m-\u001b[39m\u001b[38;5;241m1\u001b[39m))\n",
      "\u001b[0;31mRuntimeError\u001b[0m: mean shape torch.Size([10, 13]) is incompatible with covariance shape torch.Size([10, 13, 13])"
     ]
    }
   ],
   "source": [
    "C = torch.randn(10, 13, 13)\n",
    "covar = C @ C.mT\n",
    "mean = torch.randn(10, 13)\n",
    "mvn = MultitaskMultivariateNormal(mean, covar)"
   ]
  },
  {
   "cell_type": "code",
   "execution_count": 14,
   "metadata": {},
   "outputs": [
    {
     "data": {
      "text/plain": [
       "MultivariateNormal(loc: torch.Size([10, 13]), covariance_matrix: torch.Size([10, 13, 13]))"
      ]
     },
     "execution_count": 14,
     "metadata": {},
     "output_type": "execute_result"
    }
   ],
   "source": [
    "mvn"
   ]
  }
 ],
 "metadata": {
  "kernelspec": {
   "display_name": "mdgp_requirements_test1",
   "language": "python",
   "name": "python3"
  },
  "language_info": {
   "codemirror_mode": {
    "name": "ipython",
    "version": 3
   },
   "file_extension": ".py",
   "mimetype": "text/x-python",
   "name": "python",
   "nbconvert_exporter": "python",
   "pygments_lexer": "ipython3",
   "version": "3.11.7"
  }
 },
 "nbformat": 4,
 "nbformat_minor": 2
}
