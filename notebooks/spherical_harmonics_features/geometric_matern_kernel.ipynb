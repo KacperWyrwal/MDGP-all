{
 "cells": [
  {
   "cell_type": "code",
   "execution_count": 1,
   "metadata": {},
   "outputs": [
    {
     "name": "stderr",
     "output_type": "stream",
     "text": [
      "INFO: Using numpy backend\n"
     ]
    }
   ],
   "source": [
    "import torch \n",
    "import geometric_kernels.torch \n",
    "from geometric_kernels.spaces import Hypersphere \n",
    "from gpytorch.kernels import ScaleKernel\n",
    "from mdgp.kernels import GeometricMaternKernel\n",
    "from mdgp.utils import sphere_random_uniform"
   ]
  },
  {
   "cell_type": "code",
   "execution_count": 2,
   "metadata": {},
   "outputs": [
    {
     "data": {
      "text/plain": [
       "tensor([[[1.0000]],\n",
       "\n",
       "        [[1.0000]]], grad_fn=<PermuteBackward0>)"
      ]
     },
     "execution_count": 2,
     "metadata": {},
     "output_type": "execute_result"
    }
   ],
   "source": [
    "x = sphere_random_uniform(1, 3)\n",
    "space = Hypersphere(2)\n",
    "batch_shape = torch.Size([2])\n",
    "kernel = GeometricMaternKernel(space=space, batch_shape=batch_shape)\n",
    "kernel.lengthscale = torch.tensor([[[20.0], [1.0]]])\n",
    "kernel(x).evaluate()"
   ]
  },
  {
   "cell_type": "code",
   "execution_count": 3,
   "metadata": {},
   "outputs": [
    {
     "name": "stdout",
     "output_type": "stream",
     "text": [
      "tensor([[[3.5777e+04]],\n",
      "\n",
      "        [[8.5570e-03]]]) tensor([[35777.3359]]) tensor([[0.0086]])\n",
      "tensor([[[1.0000]],\n",
      "\n",
      "        [[1.0000]]]) tensor([[1.0000]]) tensor([[1.0000]])\n"
     ]
    }
   ],
   "source": [
    "from geometric_kernels.frontends.pytorch.gpytorch import GPytorchGeometricKernel\n",
    "from geometric_kernels.kernels import MaternKarhunenLoeveKernel\n",
    "\n",
    "\n",
    "kernel_unnorm = MaternKarhunenLoeveKernel(space=space, num_levels=25, normalize=False)\n",
    "kernel_norm = MaternKarhunenLoeveKernel(space=space, num_levels=25, normalize=True)\n",
    "params = {\n",
    "    \"lengthscale\": torch.tensor([[[10.0]], [[1.0]]]),\n",
    "    \"nu\": torch.tensor([[[2.5]], [[2.5]]]),\n",
    "}\n",
    "params0 = {\n",
    "    \"lengthscale\": torch.tensor([[10.0]]),\n",
    "    \"nu\": torch.tensor([[2.5]]),\n",
    "}\n",
    "params1 = {\n",
    "    \"lengthscale\": torch.tensor([[1.0]]),\n",
    "    \"nu\": torch.tensor([[2.5]]),\n",
    "}\n",
    "\n",
    "print(kernel_unnorm.K(params, x), kernel_unnorm.K(params0, x), kernel_unnorm.K(params1, x))\n",
    "print(kernel_norm.K(params, x), kernel_norm.K(params0, x), kernel_norm.K(params1, x))"
   ]
  },
  {
   "cell_type": "code",
   "execution_count": 4,
   "metadata": {},
   "outputs": [
    {
     "data": {
      "text/plain": [
       "tensor([3.5777e+04, 4.9610e-03])"
      ]
     },
     "execution_count": 4,
     "metadata": {},
     "output_type": "execute_result"
    }
   ],
   "source": [
    "import lab as B \n",
    "from geometric_kernels.lab_extras import from_numpy\n",
    "\n",
    "\n",
    "spectral_values = kernel_norm._spectrum(kernel_norm.eigenvalues_laplacian, nu=params['nu'], lengthscale=params['lengthscale'])\n",
    "normalizer = B.sum(\n",
    "                spectral_values\n",
    "                * B.cast(\n",
    "                    B.dtype(spectral_values),\n",
    "                    from_numpy(\n",
    "                        spectral_values,\n",
    "                        kernel_unnorm.eigenfunctions.num_eigenfunctions_per_level,\n",
    "                    )[:, None],\n",
    "                ), # [..., num_levels, 1]\n",
    "                axis=-2\n",
    "            )[:, 0]\n",
    "normalizer"
   ]
  }
 ],
 "metadata": {
  "kernelspec": {
   "display_name": "mdgp_requirements_test1",
   "language": "python",
   "name": "python3"
  },
  "language_info": {
   "codemirror_mode": {
    "name": "ipython",
    "version": 3
   },
   "file_extension": ".py",
   "mimetype": "text/x-python",
   "name": "python",
   "nbconvert_exporter": "python",
   "pygments_lexer": "ipython3",
   "version": "3.11.7"
  }
 },
 "nbformat": 4,
 "nbformat_minor": 2
}
