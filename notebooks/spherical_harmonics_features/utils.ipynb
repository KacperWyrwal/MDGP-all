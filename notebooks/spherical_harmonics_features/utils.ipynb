{
 "cells": [
  {
   "cell_type": "code",
   "execution_count": 4,
   "metadata": {},
   "outputs": [],
   "source": [
    "from torch import Tensor \n",
    "\n",
    "\n",
    "import geometric_kernels.torch\n",
    "import torch \n",
    "from math import comb \n",
    "from spherical_harmonics import SphericalHarmonics\n",
    "from gpytorch.kernels import Kernel, ScaleKernel\n",
    "from mdgp.variational.spherical_harmonic_features.utils import *"
   ]
  },
  {
   "cell_type": "markdown",
   "metadata": {},
   "source": [
    "# Test if utils functions can build a Matern kernel correctly"
   ]
  },
  {
   "cell_type": "code",
   "execution_count": 5,
   "metadata": {},
   "outputs": [
    {
     "name": "stderr",
     "output_type": "stream",
     "text": [
      "/home/kacperwyrwal/miniconda3/envs/mdgp_requirements_test1/lib/python3.11/site-packages/beartype/_util/hint/pep/utilpeptest.py:311: BeartypeDecorHintPep585DeprecationWarning: PEP 484 type hint typing.List deprecated by PEP 585. This hint is scheduled for removal in the first Python version released after October 5th, 2025. To resolve this, import this hint from \"beartype.typing\" rather than \"typing\". For further commentary and alternatives, see also:\n",
      "    https://beartype.readthedocs.io/en/latest/api_roar/#pep-585-deprecations\n",
      "  warn(\n"
     ]
    }
   ],
   "source": [
    "from geometric_kernels.kernels import MaternKarhunenLoeveKernel\n",
    "from geometric_kernels.spaces import Hypersphere \n",
    "\n",
    "\n",
    "def matern_kernel(x: Tensor, y: Tensor, max_ell: int, max_ell_prior: int, d: int, kappa: float, nu: float, sigma: float = 1.0) -> Tensor:\n",
    "    \"\"\"\n",
    "    Returns the kernel matrix for the Matern kernel on S^{d-1}\n",
    "    x: [..., O, N, D]\n",
    "    max_ell: []\n",
    "    d: []\n",
    "    kappa: [O, 1, 1]\n",
    "    nu: [O, 1, 1]\n",
    "    sigma: [O, 1, 1]\n",
    "    \"\"\"\n",
    "    Kux = matern_Kux(x, max_ell=max_ell, d=d) # [..., O, num_harmonics, N]\n",
    "    Kuy = matern_Kux(y, max_ell=max_ell, d=d) # [..., O, num_harmonics, M]\n",
    "    ahat = matern_repeated_ahat(max_ell=max_ell, max_ell_prior=max_ell_prior, d=d, kappa=kappa, nu=nu, sigma=sigma) # [O, num_harmonics, 1]\n",
    "    return (ahat * Kux).mT @ Kuy\n",
    "\n",
    "\n",
    "def geometric_kernels_matern_kernel(x: Tensor, y: Tensor, max_ell: int, d: int, kappa: float, nu: float, sigma: float = 1.0) -> Tensor:\n",
    "    \"\"\"\n",
    "    Returns the kernel matrix for the Matern kernel on S^{d-1}\n",
    "    x: [..., O, N, D]\n",
    "    max_ell: []\n",
    "    d: []\n",
    "    kappa: [O, 1, 1]\n",
    "    nu: [O, 1, 1]\n",
    "    sigma: [O, 1, 1]\n",
    "    \"\"\"\n",
    "    params = {\n",
    "        'lengthscale': kappa,\n",
    "        'nu': nu,\n",
    "    }\n",
    "    kernel = MaternKarhunenLoeveKernel(\n",
    "        space=Hypersphere(d),\n",
    "        num_levels=max_ell,\n",
    "        normalize=True,\n",
    "    )\n",
    "    return kernel.K(params, x, y) * sigma ** 2\n",
    "\n",
    "\n",
    "x = torch.tensor([[0.0, 0.0, 1.0], [0.0, 1.0, 0.0]])\n",
    "y = torch.tensor([[1.0, 0.0, 0.0], [0.0, 1.0, 0.0], [0.0, 0.0, 1.0]])\n",
    "nu = torch.tensor([[2.5]])\n",
    "kappa = torch.tensor([[1.0]])\n",
    "max_ell = 5\n",
    "d = 2\n",
    "sigma = torch.tensor(1.0)\n",
    "\n",
    "\n",
    "K_mine = matern_kernel(x, y, max_ell, max_ell, d, kappa, nu, sigma)\n",
    "K_theirs = geometric_kernels_matern_kernel(x, y, max_ell, d, kappa, nu, sigma)\n",
    "\n",
    "assert torch.allclose(K_mine, K_theirs)"
   ]
  },
  {
   "cell_type": "markdown",
   "metadata": {},
   "source": [
    "# Test calculation of minimal level containing the desired number of harmonics"
   ]
  },
  {
   "cell_type": "code",
   "execution_count": 6,
   "metadata": {},
   "outputs": [],
   "source": [
    "num_spherical_harmonics = 100\n",
    "level, least_upper_bound = num_spherical_harmonics_to_num_levels(num_spherical_harmonics, d)\n",
    "assert least_upper_bound >= num_spherical_harmonics\n",
    "assert least_upper_bound == total_num_harmonics(level, d), (\n",
    "    f\"The least upper bound {least_upper_bound} is not equal to the number of spherical harmonics {total_num_harmonics(level, d)}\"\n",
    ")"
   ]
  }
 ],
 "metadata": {
  "kernelspec": {
   "display_name": "mdgp_requirements_test1",
   "language": "python",
   "name": "python3"
  },
  "language_info": {
   "codemirror_mode": {
    "name": "ipython",
    "version": 3
   },
   "file_extension": ".py",
   "mimetype": "text/x-python",
   "name": "python",
   "nbconvert_exporter": "python",
   "pygments_lexer": "ipython3",
   "version": "3.11.7"
  }
 },
 "nbformat": 4,
 "nbformat_minor": 2
}
